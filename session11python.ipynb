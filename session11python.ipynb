{
  "nbformat": 4,
  "nbformat_minor": 0,
  "metadata": {
    "colab": {
      "provenance": [],
      "authorship_tag": "ABX9TyP18WuFsEZC2chrFYR1cnz6",
      "include_colab_link": true
    },
    "kernelspec": {
      "name": "python3",
      "display_name": "Python 3"
    },
    "language_info": {
      "name": "python"
    }
  },
  "cells": [
    {
      "cell_type": "markdown",
      "metadata": {
        "id": "view-in-github",
        "colab_type": "text"
      },
      "source": [
        "<a href=\"https://colab.research.google.com/github/priyatanwar018/python-practicals/blob/main/session11python.ipynb\" target=\"_parent\"><img src=\"https://colab.research.google.com/assets/colab-badge.svg\" alt=\"Open In Colab\"/></a>"
      ]
    },
    {
      "cell_type": "code",
      "execution_count": null,
      "metadata": {
        "id": "nrWSJlNqP5TB"
      },
      "outputs": [],
      "source": [
        "#loop questions"
      ]
    },
    {
      "cell_type": "code",
      "source": [
        "#calculate the factorial of a number given by the user\n",
        "\n",
        "num = int(input(\"Enter a number: \"))\n",
        "\n",
        "factorial = 1\n",
        "\n",
        "if num < 0:\n",
        "  print(\"Factorial of negative number do not exist\")\n",
        "elif num == 0:\n",
        "  print(\"Factorial of 0 is 1\")\n",
        "else:\n",
        "  for i in range(1,num+1):\n",
        "    factorial = factorial*i\n",
        "  print(f\"factorial of {num} is {factorial}\")\n"
      ],
      "metadata": {
        "colab": {
          "base_uri": "https://localhost:8080/"
        },
        "id": "FzvlfupSSVIG",
        "outputId": "5933b5d6-7496-4186-f43b-0e91bec55024"
      },
      "execution_count": 3,
      "outputs": [
        {
          "output_type": "stream",
          "name": "stdout",
          "text": [
            "Enter a number: 4\n",
            "factorial of 4 is 24\n"
          ]
        }
      ]
    },
    {
      "cell_type": "code",
      "source": [
        "#while loop that asks the user to enter a number and stops when the number is 0\n",
        "\n",
        "num = int(input(\"Enter a number:\"))\n",
        "\n",
        "while num != 0:\n",
        "  num = int(input(\"Enter a number: \"))\n",
        "  if num == 0:\n",
        "    print(\"Loop finish\")\n",
        "    break\n",
        "  else:\n",
        "    print(f\"You entered {num}\")"
      ],
      "metadata": {
        "colab": {
          "base_uri": "https://localhost:8080/"
        },
        "id": "idKbYoyaToIK",
        "outputId": "a3b659fe-be43-42b2-bb6e-47a200aaef9c"
      },
      "execution_count": 11,
      "outputs": [
        {
          "output_type": "stream",
          "name": "stdout",
          "text": [
            "Enter a number:5\n",
            "Enter a number: 7\n",
            "You entered 7\n",
            "Enter a number: 6\n",
            "You entered 6\n",
            "Enter a number: 0\n",
            "Loop finish\n"
          ]
        }
      ]
    },
    {
      "cell_type": "code",
      "source": [
        "#for loop to iterate over a list of strings and print each string in uppercase\n",
        "\n",
        "string_list = [\"apple\", \"banana\", \"cherry\"]\n",
        "\n",
        "for string in string_list:\n",
        "  print(string.upper())\n"
      ],
      "metadata": {
        "colab": {
          "base_uri": "https://localhost:8080/"
        },
        "id": "EhLaRK4pUdO7",
        "outputId": "d7fc7d8d-72ce-41d9-b7a0-f62129107cac"
      },
      "execution_count": 12,
      "outputs": [
        {
          "output_type": "stream",
          "name": "stdout",
          "text": [
            "APPLE\n",
            "BANANA\n",
            "CHERRY\n"
          ]
        }
      ]
    },
    {
      "cell_type": "code",
      "source": [
        "#while loop to reverse a number provided by the user\n",
        "\n",
        "num = int(input(\"Enter a number: \"))\n",
        "rev_num = 0\n",
        "\n",
        "while num > 0:\n",
        "  rev_num = rev_num*10 + num%10\n",
        "  num = num//10\n",
        "print(f\"Reversed number is {rev_num}\")\n"
      ],
      "metadata": {
        "colab": {
          "base_uri": "https://localhost:8080/"
        },
        "id": "4uj7XBacV7-3",
        "outputId": "c9d57e3f-5513-445f-c41c-fb366781ab3f"
      },
      "execution_count": 14,
      "outputs": [
        {
          "output_type": "stream",
          "name": "stdout",
          "text": [
            "Enter a number: 206\n",
            "Reversed number is 602\n"
          ]
        }
      ]
    },
    {
      "cell_type": "code",
      "source": [
        "#provide an example where you use a for loop inside a while loop\n",
        "\n",
        "count = 0\n",
        "while count < 5:\n",
        "  print(\"Inside while loop\")\n",
        "  for i in range(3):\n",
        "    print(\"Inside for loop\")\n",
        "  count += 1\n",
        "  print(\"For loop completed\")\n",
        "print(\"While loop completed\")"
      ],
      "metadata": {
        "colab": {
          "base_uri": "https://localhost:8080/"
        },
        "id": "A8Oop0gKXZTb",
        "outputId": "41aa5af8-2e26-4a0c-d3d0-a62317590950"
      },
      "execution_count": 13,
      "outputs": [
        {
          "output_type": "stream",
          "name": "stdout",
          "text": [
            "Inside while loop\n",
            "Inside for loop\n",
            "Inside for loop\n",
            "Inside for loop\n",
            "For loop completed\n",
            "Inside while loop\n",
            "Inside for loop\n",
            "Inside for loop\n",
            "Inside for loop\n",
            "For loop completed\n",
            "Inside while loop\n",
            "Inside for loop\n",
            "Inside for loop\n",
            "Inside for loop\n",
            "For loop completed\n",
            "Inside while loop\n",
            "Inside for loop\n",
            "Inside for loop\n",
            "Inside for loop\n",
            "For loop completed\n",
            "Inside while loop\n",
            "Inside for loop\n",
            "Inside for loop\n",
            "Inside for loop\n",
            "For loop completed\n",
            "While loop completed\n"
          ]
        }
      ]
    },
    {
      "cell_type": "code",
      "source": [
        "#for loop to print the fibonacci series upto n terms where n is provided by the user\n",
        "\n",
        "n = int(input(\"Enter the number of terms: \"))\n",
        "a,b = 0,1\n",
        "for i in range(n):\n",
        "  print(a, end=\" \")\n",
        "  a,b = b,a+b\n",
        "\n"
      ],
      "metadata": {
        "colab": {
          "base_uri": "https://localhost:8080/"
        },
        "id": "6rFaseXkYWze",
        "outputId": "ea40f516-b8af-438a-aff9-06a7bd23cd84"
      },
      "execution_count": 21,
      "outputs": [
        {
          "output_type": "stream",
          "name": "stdout",
          "text": [
            "Enter the number of terms: 10\n",
            "0 1 1 2 3 5 8 13 21 34 "
          ]
        }
      ]
    },
    {
      "cell_type": "code",
      "source": [
        "#for loop that iterates over a dictionary and prints the key value pairs in the format key:value\n",
        "\n",
        "my_dict = {\"A\":\"Apple\",\"B\":\"Ball\",\"C\":\"Cat\",\"D\":\"Dog\",\"E\":\"Elephant\",\"F\":\"Fish\"}\n",
        "for key,value in my_dict.items():\n",
        "  print(f\"{key}:{value}\")"
      ],
      "metadata": {
        "colab": {
          "base_uri": "https://localhost:8080/"
        },
        "id": "mLZ3YZ2iZKFr",
        "outputId": "f81d7ee9-82cb-45d6-f410-d94fbf28a851"
      },
      "execution_count": 22,
      "outputs": [
        {
          "output_type": "stream",
          "name": "stdout",
          "text": [
            "A:Apple\n",
            "B:Ball\n",
            "C:Cat\n",
            "D:Dog\n",
            "E:Elephant\n",
            "F:Fish\n"
          ]
        }
      ]
    },
    {
      "cell_type": "code",
      "source": [
        "#while loop to sum the digits of a positive integer provided by the user\n",
        "\n",
        "num = int(input(\"Enter a number:\"))\n",
        "num_copy = num\n",
        "sum = 0\n",
        "while num_copy > 0:\n",
        "  sum = sum + num_copy%10\n",
        "  num_copy = num_copy//10\n",
        "print(f\"Sum of the digits of {num} is {sum}\")"
      ],
      "metadata": {
        "colab": {
          "base_uri": "https://localhost:8080/"
        },
        "id": "kv16Iuf5b0r1",
        "outputId": "24f2ad07-4871-4ae9-d6f2-73bddea24c61"
      },
      "execution_count": 24,
      "outputs": [
        {
          "output_type": "stream",
          "name": "stdout",
          "text": [
            "Enter a number:24\n",
            "Sum of the digits of 24 is 6\n"
          ]
        }
      ]
    },
    {
      "cell_type": "code",
      "source": [
        "#for loop to print all prime numbers between 2 and 50\n",
        "\n",
        "for num in range(2,50):\n",
        "  i = 2\n",
        "  while i <= num/2:\n",
        "    if num % i == 0:\n",
        "      break\n",
        "    i += 1\n",
        "  if i > num/2:\n",
        "    print(num, end=\" \")"
      ],
      "metadata": {
        "colab": {
          "base_uri": "https://localhost:8080/"
        },
        "id": "5BtL0r-qchZ8",
        "outputId": "2cf3dcca-9fdc-47f4-b706-cc5b282acdaf"
      },
      "execution_count": 12,
      "outputs": [
        {
          "output_type": "stream",
          "name": "stdout",
          "text": [
            "2 3 5 7 11 13 17 19 23 29 31 37 41 43 47 "
          ]
        }
      ]
    },
    {
      "cell_type": "code",
      "source": [
        "#for loop to reverse a string provided by the user\n",
        "\n",
        "string =input(\"Enter a string:\")\n",
        "rev_string = \"\"\n",
        "for char in string:\n",
        "  rev_string = char + rev_string\n",
        "print(f\"Reversed string is {rev_string}\")"
      ],
      "metadata": {
        "colab": {
          "base_uri": "https://localhost:8080/"
        },
        "id": "MT1IlQ_cdxRI",
        "outputId": "1fbc0032-3dca-46b4-9e6a-f9e696189378"
      },
      "execution_count": 30,
      "outputs": [
        {
          "output_type": "stream",
          "name": "stdout",
          "text": [
            "Enter a string:hello\n",
            "Reversed string is olleh\n"
          ]
        }
      ]
    },
    {
      "cell_type": "code",
      "source": [
        "#given a list of words write a for loop to find the longest word and it's length\n",
        "\n",
        "word_list = [\"apple\",\"banana\",\"cherry\",\"date\",\"elderberry\",\"fig\"]\n",
        "longest_word = \"\"\n",
        "longest_length = 0\n",
        "for word in word_list:\n",
        "  if len(word) > longest_length:\n",
        "    longest_word = word\n",
        "    longest_length = len(word)\n",
        "print(f\"Longest word is {longest_word}\")\n",
        "print(f\"Length of longest word is {longest_length}\")"
      ],
      "metadata": {
        "colab": {
          "base_uri": "https://localhost:8080/"
        },
        "id": "Jn9idwvlgaSj",
        "outputId": "9c1b6dbd-27b3-42a5-aac7-7bef82b7ca86"
      },
      "execution_count": 38,
      "outputs": [
        {
          "output_type": "stream",
          "name": "stdout",
          "text": [
            "Longest word is elderberry\n",
            "Length of longest word is 10\n"
          ]
        }
      ]
    },
    {
      "cell_type": "code",
      "source": [],
      "metadata": {
        "id": "Oa5VVnSAhOHu"
      },
      "execution_count": null,
      "outputs": []
    }
  ]
}