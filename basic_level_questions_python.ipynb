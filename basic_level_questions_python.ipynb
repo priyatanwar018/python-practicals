{
  "nbformat": 4,
  "nbformat_minor": 0,
  "metadata": {
    "colab": {
      "provenance": [],
      "authorship_tag": "ABX9TyPr8xINVqDLSvAzvLE+2qbY",
      "include_colab_link": true
    },
    "kernelspec": {
      "name": "python3",
      "display_name": "Python 3"
    },
    "language_info": {
      "name": "python"
    }
  },
  "cells": [
    {
      "cell_type": "markdown",
      "metadata": {
        "id": "view-in-github",
        "colab_type": "text"
      },
      "source": [
        "<a href=\"https://colab.research.google.com/github/priyatanwar018/python-practicals/blob/main/basic_level_questions_python.ipynb\" target=\"_parent\"><img src=\"https://colab.research.google.com/assets/colab-badge.svg\" alt=\"Open In Colab\"/></a>"
      ]
    },
    {
      "cell_type": "code",
      "execution_count": null,
      "metadata": {
        "colab": {
          "base_uri": "https://localhost:8080/"
        },
        "id": "Z2e7jt2MYb9r",
        "outputId": "03876d91-2385-41d1-f538-c6fbef66a037"
      },
      "outputs": [
        {
          "output_type": "stream",
          "name": "stdout",
          "text": [
            "8.2\n",
            "HelloWorld\n"
          ]
        }
      ],
      "source": [
        "#ques 1\n",
        "x = 5\n",
        "y = 3.2\n",
        "z = \"Hello\"\n",
        "print(x+y)\n",
        "print(z+ \"World\")"
      ]
    },
    {
      "cell_type": "code",
      "source": [
        "#ques 3\n",
        "result = 10 % 3\n",
        "print(result)"
      ],
      "metadata": {
        "colab": {
          "base_uri": "https://localhost:8080/"
        },
        "id": "e2fEWpfNY_nc",
        "outputId": "c300e870-d4e5-4b96-9979-16d2e32b7747"
      },
      "execution_count": null,
      "outputs": [
        {
          "output_type": "stream",
          "name": "stdout",
          "text": [
            "1\n"
          ]
        }
      ]
    },
    {
      "cell_type": "code",
      "source": [
        "#ques 4\n",
        "x = 7\n",
        "y = 5\n",
        "result = 7 != 5\n",
        "print(result)\n"
      ],
      "metadata": {
        "colab": {
          "base_uri": "https://localhost:8080/"
        },
        "id": "utyVY8H2Z1FQ",
        "outputId": "876b7154-d05a-448e-ca4c-1670d561f986"
      },
      "execution_count": null,
      "outputs": [
        {
          "output_type": "stream",
          "name": "stdout",
          "text": [
            "True\n"
          ]
        }
      ]
    },
    {
      "cell_type": "code",
      "source": [
        "#ques 5\n",
        "x = True\n",
        "y = False\n",
        "result = x and y\n",
        "print(result)"
      ],
      "metadata": {
        "colab": {
          "base_uri": "https://localhost:8080/"
        },
        "id": "SWsMGm-xZpNW",
        "outputId": "018be487-215f-4fcb-973d-c97c7f884506"
      },
      "execution_count": null,
      "outputs": [
        {
          "output_type": "stream",
          "name": "stdout",
          "text": [
            "False\n"
          ]
        }
      ]
    },
    {
      "cell_type": "code",
      "source": [
        "#ques 6\n",
        "a = 5\n",
        "a += 3\n",
        "print(a)"
      ],
      "metadata": {
        "colab": {
          "base_uri": "https://localhost:8080/"
        },
        "id": "u-bLFvdxaOjH",
        "outputId": "ef20a98f-667f-4513-ff69-c5d8176367b8"
      },
      "execution_count": null,
      "outputs": [
        {
          "output_type": "stream",
          "name": "stdout",
          "text": [
            "8\n"
          ]
        }
      ]
    },
    {
      "cell_type": "code",
      "source": [
        "#ques 7\n",
        "greeting = \"Hello, \" + \"World!\"\n",
        "print(greeting)\n"
      ],
      "metadata": {
        "colab": {
          "base_uri": "https://localhost:8080/"
        },
        "id": "qTlFMtdNaWlF",
        "outputId": "91a6613e-032b-4eef-83b7-05e45fe1bfb7"
      },
      "execution_count": null,
      "outputs": [
        {
          "output_type": "stream",
          "name": "stdout",
          "text": [
            "Hello, World!\n"
          ]
        }
      ]
    },
    {
      "cell_type": "code",
      "source": [
        "#ques 8\n",
        "repeated = \"Python\" * 3\n",
        "print(repeated)\n"
      ],
      "metadata": {
        "colab": {
          "base_uri": "https://localhost:8080/"
        },
        "id": "lcQ2LpfhaoJb",
        "outputId": "c55d1175-3e89-4af1-faf9-4acead91a19c"
      },
      "execution_count": null,
      "outputs": [
        {
          "output_type": "stream",
          "name": "stdout",
          "text": [
            "PythonPythonPython\n"
          ]
        }
      ]
    },
    {
      "cell_type": "code",
      "source": [
        "#ques 9\n",
        "number = int(\"42\") + 8\n",
        "print(number)"
      ],
      "metadata": {
        "colab": {
          "base_uri": "https://localhost:8080/"
        },
        "id": "sk3WYbupa8rB",
        "outputId": "42d4d70e-9662-4060-f043-a04c19961375"
      },
      "execution_count": null,
      "outputs": [
        {
          "output_type": "stream",
          "name": "stdout",
          "text": [
            "50\n"
          ]
        }
      ]
    },
    {
      "cell_type": "code",
      "source": [
        "#ques 10\n",
        "result = 17 // 4\n",
        "print(result)"
      ],
      "metadata": {
        "colab": {
          "base_uri": "https://localhost:8080/"
        },
        "id": "5xgyILFjbNzK",
        "outputId": "4ee435b0-40f4-40ac-8fe4-140d8d86beb3"
      },
      "execution_count": null,
      "outputs": [
        {
          "output_type": "stream",
          "name": "stdout",
          "text": [
            "4\n"
          ]
        }
      ]
    },
    {
      "cell_type": "code",
      "source": [],
      "metadata": {
        "id": "k-qvphKKbV2c"
      },
      "execution_count": null,
      "outputs": []
    }
  ]
}