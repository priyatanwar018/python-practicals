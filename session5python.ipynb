{
  "nbformat": 4,
  "nbformat_minor": 0,
  "metadata": {
    "colab": {
      "provenance": [],
      "authorship_tag": "ABX9TyMPu20TSxdAjU/yhCUkm981",
      "include_colab_link": true
    },
    "kernelspec": {
      "name": "python3",
      "display_name": "Python 3"
    },
    "language_info": {
      "name": "python"
    }
  },
  "cells": [
    {
      "cell_type": "markdown",
      "metadata": {
        "id": "view-in-github",
        "colab_type": "text"
      },
      "source": [
        "<a href=\"https://colab.research.google.com/github/priyatanwar018/python-practicals/blob/main/session5python.ipynb\" target=\"_parent\"><img src=\"https://colab.research.google.com/assets/colab-badge.svg\" alt=\"Open In Colab\"/></a>"
      ]
    },
    {
      "cell_type": "code",
      "execution_count": 6,
      "metadata": {
        "colab": {
          "base_uri": "https://localhost:8080/",
          "height": 265
        },
        "id": "RAhelRfHK3E9",
        "outputId": "0f1cd8f0-663e-4bed-be72-0194fd50bf4e"
      },
      "outputs": [
        {
          "output_type": "stream",
          "name": "stdout",
          "text": [
            "h\n",
            "l\n",
            "o\n",
            "l\n"
          ]
        },
        {
          "output_type": "error",
          "ename": "IndexError",
          "evalue": "string index out of range",
          "traceback": [
            "\u001b[0;31m---------------------------------------------------------------------------\u001b[0m",
            "\u001b[0;31mIndexError\u001b[0m                                Traceback (most recent call last)",
            "\u001b[0;32m<ipython-input-6-776fec77b88e>\u001b[0m in \u001b[0;36m<cell line: 7>\u001b[0;34m()\u001b[0m\n\u001b[1;32m      5\u001b[0m \u001b[0mprint\u001b[0m\u001b[0;34m(\u001b[0m\u001b[0mmy_str\u001b[0m\u001b[0;34m[\u001b[0m\u001b[0;36m4\u001b[0m\u001b[0;34m]\u001b[0m\u001b[0;34m)\u001b[0m\u001b[0;34m\u001b[0m\u001b[0;34m\u001b[0m\u001b[0m\n\u001b[1;32m      6\u001b[0m \u001b[0mprint\u001b[0m\u001b[0;34m(\u001b[0m\u001b[0mmy_str\u001b[0m\u001b[0;34m[\u001b[0m\u001b[0;34m-\u001b[0m\u001b[0;36m2\u001b[0m\u001b[0;34m]\u001b[0m\u001b[0;34m)\u001b[0m\u001b[0;34m\u001b[0m\u001b[0;34m\u001b[0m\u001b[0m\n\u001b[0;32m----> 7\u001b[0;31m \u001b[0mprint\u001b[0m\u001b[0;34m(\u001b[0m\u001b[0mmy_str\u001b[0m\u001b[0;34m[\u001b[0m\u001b[0;34m-\u001b[0m\u001b[0;36m8\u001b[0m\u001b[0;34m]\u001b[0m\u001b[0;34m)\u001b[0m\u001b[0;34m\u001b[0m\u001b[0;34m\u001b[0m\u001b[0m\n\u001b[0m",
            "\u001b[0;31mIndexError\u001b[0m: string index out of range"
          ]
        }
      ],
      "source": [
        "#string indexing\n",
        "my_str = \"hello\"\n",
        "print(my_str[0])\n",
        "print(my_str[3])\n",
        "print(my_str[4])\n",
        "print(my_str[-2])\n",
        "print(my_str[-8])"
      ]
    },
    {
      "cell_type": "code",
      "source": [
        "#string slicing\n",
        "print(my_str[1:4])\n",
        "print(my_str[:3])\n",
        "print(my_str[2:])\n",
        "print(my_str[0:])\n",
        "print(my_str[0:4:2])\n",
        "print(my_str[::-1])"
      ],
      "metadata": {
        "colab": {
          "base_uri": "https://localhost:8080/"
        },
        "id": "Y4CBwQXuOWK9",
        "outputId": "82c38040-04d2-4680-929e-f61f294b7228"
      },
      "execution_count": 13,
      "outputs": [
        {
          "output_type": "stream",
          "name": "stdout",
          "text": [
            "ell\n",
            "hel\n",
            "llo\n",
            "hello\n",
            "hl\n",
            "olleh\n"
          ]
        }
      ]
    },
    {
      "cell_type": "code",
      "source": [
        "print(my_str[2:4:3])\n",
        "print(my_str[0:3:2])\n",
        "print(my_str[1:4:3])\n",
        "print(my_str[0:2:2])\n",
        "print(my_str[-1:-5:-2])\n",
        "print(my_str[-1:-4:2])"
      ],
      "metadata": {
        "colab": {
          "base_uri": "https://localhost:8080/"
        },
        "id": "t6ZUZW2YQJxs",
        "outputId": "0abc9648-5ab9-4d0d-8af1-f74993cd1b9c"
      },
      "execution_count": 16,
      "outputs": [
        {
          "output_type": "stream",
          "name": "stdout",
          "text": [
            "l\n",
            "hl\n",
            "e\n",
            "h\n",
            "ol\n",
            "\n"
          ]
        }
      ]
    },
    {
      "cell_type": "code",
      "source": [
        "print(my_str[-1:-5:-2])"
      ],
      "metadata": {
        "colab": {
          "base_uri": "https://localhost:8080/"
        },
        "id": "ZCpYxWwoSXdr",
        "outputId": "25bdbeb6-ff15-4213-f2af-07ae016ba811"
      },
      "execution_count": 17,
      "outputs": [
        {
          "output_type": "stream",
          "name": "stdout",
          "text": [
            "ol\n"
          ]
        }
      ]
    },
    {
      "cell_type": "code",
      "source": [
        "print(my_str[-1:-4:2]) #interpreter will start looking for the value on right because of positive step index but start and stop index are negative so won't retrieve anything"
      ],
      "metadata": {
        "colab": {
          "base_uri": "https://localhost:8080/"
        },
        "id": "CWLhUfhhT2Rm",
        "outputId": "397aeed2-142a-4f11-ff8f-9234add04920"
      },
      "execution_count": 18,
      "outputs": [
        {
          "output_type": "stream",
          "name": "stdout",
          "text": [
            "\n"
          ]
        }
      ]
    },
    {
      "cell_type": "code",
      "source": [
        "#Dictionary\n",
        "my_dict = {'Name':'Priya','City':'Bhiwani','Age':20,'State':'Haryana','Course':'Data Science','Pin':127021}\n",
        "#Unordered set of Key-value pairs\n",
        "#mapping datatype\n",
        "#enclosed in curly braces{}\n",
        "#key must be unique and mutable\n",
        "#value is mutable and can be repeated\n",
        "#syntax: dict = {'key1':'value1','key2':'value2','key3':'value3',......}"
      ],
      "metadata": {
        "id": "NpqwocpQT7ba"
      },
      "execution_count": null,
      "outputs": []
    },
    {
      "cell_type": "code",
      "source": [
        "#dict() constructor\n",
        "my_dict = dict(Name='Priya',City='Bhiwani',Age=20,State='Haryana',Course='Data Science',Pin=127021)\n",
        "print(my_dict)"
      ],
      "metadata": {
        "colab": {
          "base_uri": "https://localhost:8080/"
        },
        "id": "_zPUn9z2YWxz",
        "outputId": "b607c2c8-98e8-42d9-8ea8-651458f14c9a"
      },
      "execution_count": 19,
      "outputs": [
        {
          "output_type": "stream",
          "name": "stdout",
          "text": [
            "{'Name': 'Priya', 'City': 'Bhiwani', 'Age': 20, 'State': 'Haryana', 'Course': 'Data Science', 'Pin': 127021}\n"
          ]
        }
      ]
    },
    {
      "cell_type": "code",
      "source": [
        "#accessing dictionary elements\n",
        "print(my_dict['Name'])\n",
        "print(my_dict.get('City'))\n",
        "print(my_dict.get('Last_Name')) #if parsed don't exist in dictionary it returns None\n",
        "\n",
        "print(my_dict.get('LastName','Key not available')) #prints the given message\n",
        "print(my_dict['lastname']) #returns nameerror"
      ],
      "metadata": {
        "colab": {
          "base_uri": "https://localhost:8080/",
          "height": 265
        },
        "id": "Y6W_WXXcYmyv",
        "outputId": "4ef4cc2f-986d-44b8-cefb-4634ef246826"
      },
      "execution_count": 29,
      "outputs": [
        {
          "output_type": "stream",
          "name": "stdout",
          "text": [
            "Priya\n",
            "Bhiwani\n",
            "None\n",
            "Key not available\n"
          ]
        },
        {
          "output_type": "error",
          "ename": "KeyError",
          "evalue": "'lastname'",
          "traceback": [
            "\u001b[0;31m---------------------------------------------------------------------------\u001b[0m",
            "\u001b[0;31mKeyError\u001b[0m                                  Traceback (most recent call last)",
            "\u001b[0;32m<ipython-input-29-b234a3735477>\u001b[0m in \u001b[0;36m<cell line: 7>\u001b[0;34m()\u001b[0m\n\u001b[1;32m      5\u001b[0m \u001b[0;34m\u001b[0m\u001b[0m\n\u001b[1;32m      6\u001b[0m \u001b[0mprint\u001b[0m\u001b[0;34m(\u001b[0m\u001b[0mmy_dict\u001b[0m\u001b[0;34m.\u001b[0m\u001b[0mget\u001b[0m\u001b[0;34m(\u001b[0m\u001b[0;34m'LastName'\u001b[0m\u001b[0;34m,\u001b[0m\u001b[0;34m'Key not available'\u001b[0m\u001b[0;34m)\u001b[0m\u001b[0;34m)\u001b[0m \u001b[0;31m#prints the given message\u001b[0m\u001b[0;34m\u001b[0m\u001b[0;34m\u001b[0m\u001b[0m\n\u001b[0;32m----> 7\u001b[0;31m \u001b[0mprint\u001b[0m\u001b[0;34m(\u001b[0m\u001b[0mmy_dict\u001b[0m\u001b[0;34m[\u001b[0m\u001b[0;34m'lastname'\u001b[0m\u001b[0;34m]\u001b[0m\u001b[0;34m)\u001b[0m \u001b[0;31m#returns nameerror\u001b[0m\u001b[0;34m\u001b[0m\u001b[0;34m\u001b[0m\u001b[0m\n\u001b[0m",
            "\u001b[0;31mKeyError\u001b[0m: 'lastname'"
          ]
        }
      ]
    },
    {
      "cell_type": "code",
      "source": [
        "my_dict['Age']=21 #updates the value of the key\n",
        "print(my_dict)"
      ],
      "metadata": {
        "colab": {
          "base_uri": "https://localhost:8080/"
        },
        "id": "oP4PoG-vYzP-",
        "outputId": "033a3a68-9cf7-40fb-baba-fa80d654861a"
      },
      "execution_count": 30,
      "outputs": [
        {
          "output_type": "stream",
          "name": "stdout",
          "text": [
            "{'Name': 'Priya', 'City': 'Bhiwani', 'Age': 21, 'State': 'Haryana', 'Course': 'Data Science', 'Pin': 127021}\n"
          ]
        }
      ]
    },
    {
      "cell_type": "code",
      "source": [
        "my_dict['Last Name']= 'Tanwar' #adds new key-value pair at the end of the dictionary\n",
        "print(my_dict)"
      ],
      "metadata": {
        "colab": {
          "base_uri": "https://localhost:8080/"
        },
        "id": "KvtIZSjNah56",
        "outputId": "b60133e2-4da5-421a-ff99-7628acefee49"
      },
      "execution_count": 31,
      "outputs": [
        {
          "output_type": "stream",
          "name": "stdout",
          "text": [
            "{'Name': 'Priya', 'City': 'Bhiwani', 'Age': 21, 'State': 'Haryana', 'Course': 'Data Science', 'Pin': 127021, 'Last Name': 'Tanwar'}\n"
          ]
        }
      ]
    },
    {
      "cell_type": "code",
      "source": [],
      "metadata": {
        "id": "u7X7AFmVa2JB"
      },
      "execution_count": null,
      "outputs": []
    }
  ]
}