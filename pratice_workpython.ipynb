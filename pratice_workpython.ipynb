{
  "nbformat": 4,
  "nbformat_minor": 0,
  "metadata": {
    "colab": {
      "provenance": [],
      "authorship_tag": "ABX9TyNr7GIaEMahopaISd9RNvhU",
      "include_colab_link": true
    },
    "kernelspec": {
      "name": "python3",
      "display_name": "Python 3"
    },
    "language_info": {
      "name": "python"
    }
  },
  "cells": [
    {
      "cell_type": "markdown",
      "metadata": {
        "id": "view-in-github",
        "colab_type": "text"
      },
      "source": [
        "<a href=\"https://colab.research.google.com/github/priyatanwar018/python-practicals/blob/main/pratice_workpython.ipynb\" target=\"_parent\"><img src=\"https://colab.research.google.com/assets/colab-badge.svg\" alt=\"Open In Colab\"/></a>"
      ]
    },
    {
      "cell_type": "markdown",
      "source": [
        "String Indexing and Slicing"
      ],
      "metadata": {
        "id": "GIq9qprvGYEs"
      }
    },
    {
      "cell_type": "code",
      "execution_count": 3,
      "metadata": {
        "colab": {
          "base_uri": "https://localhost:8080/"
        },
        "id": "It_3mCLZGQLW",
        "outputId": "b2116a8d-6fc2-46f6-e161-27965765077c"
      },
      "outputs": [
        {
          "output_type": "stream",
          "name": "stdout",
          "text": [
            "index 0: H\n",
            "index 1: e\n",
            "index 2: y\n",
            "index 3:  \n",
            "index 4: T\n",
            "index 5: h\n",
            "index 6: e\n",
            "index 7: r\n",
            "index 8: e\n"
          ]
        }
      ],
      "source": [
        "#string indexing\n",
        "#using positive index\n",
        "\n",
        "str1 = \"Hey There\"\n",
        "print('index 0:',str1[0])\n",
        "print('index 1:',str1[1])\n",
        "print('index 2:',str1[2])\n",
        "print('index 3:',str1[3])\n",
        "print('index 4:',str1[4])\n",
        "print('index 5:',str1[5])\n",
        "print('index 6:',str1[6])\n",
        "print('index 7:',str1[7])\n",
        "print('index 8:',str1[8])"
      ]
    },
    {
      "cell_type": "code",
      "source": [
        "#string indexing\n",
        "#using negative index\n",
        "\n",
        "print('index -1:',str1[-1])\n",
        "print('index -2:',str1[-2])\n",
        "print('index -3:',str1[-3])\n",
        "print('index -4:',str1[-4])\n",
        "print('index -5:',str1[-5])\n",
        "print('index -6:',str1[-6])\n",
        "print('index -7:',str1[-7])\n",
        "print('index -8:',str1[-8])\n",
        "print('index -9:',str1[-9])"
      ],
      "metadata": {
        "colab": {
          "base_uri": "https://localhost:8080/"
        },
        "id": "kIRYCoLIG_nD",
        "outputId": "52d7a1d0-b186-4856-80ca-954e398f929a"
      },
      "execution_count": 4,
      "outputs": [
        {
          "output_type": "stream",
          "name": "stdout",
          "text": [
            "index -1: e\n",
            "index -2: r\n",
            "index -3: e\n",
            "index -4: h\n",
            "index -5: T\n",
            "index -6:  \n",
            "index -7: y\n",
            "index -8: e\n",
            "index -9: H\n"
          ]
        }
      ]
    },
    {
      "cell_type": "code",
      "source": [
        "#string slicing\n",
        "\n",
        "print(str1[2:])\n",
        "print(str1[::5])\n",
        "print(str1[2:7:2])\n",
        "print(str1[::-1])\n",
        "print(str1[-3::])\n",
        "print(str1[:5])\n",
        "print(str1[-3:-8:-3])"
      ],
      "metadata": {
        "colab": {
          "base_uri": "https://localhost:8080/"
        },
        "id": "paDYOo3wIOTK",
        "outputId": "2a854272-6d32-4cda-f880-e3551ddcd827"
      },
      "execution_count": 5,
      "outputs": [
        {
          "output_type": "stream",
          "name": "stdout",
          "text": [
            "y There\n",
            "Hh\n",
            "yTe\n",
            "erehT yeH\n",
            "ere\n",
            "Hey T\n",
            "e \n"
          ]
        }
      ]
    },
    {
      "cell_type": "code",
      "source": [
        "#constructing a dictionary\n",
        "\n",
        "continents = dict([[1,'Asia'],[2,'Africa'],[3,'Europe'],[4,'North America'],[5,'South America'],[6,'Australia'],[7,'Antarctica']])\n",
        "print(continents)\n",
        "\n"
      ],
      "metadata": {
        "colab": {
          "base_uri": "https://localhost:8080/"
        },
        "id": "XiEulXs1I7mc",
        "outputId": "bb5f2c0a-ae71-4b5f-81d3-d56646ac0a80"
      },
      "execution_count": 12,
      "outputs": [
        {
          "output_type": "stream",
          "name": "stdout",
          "text": [
            "{1: 'Asia', 2: 'Africa', 3: 'Europe', 4: 'North America', 5: 'South America', 6: 'Australia', 7: 'Antarctica'}\n"
          ]
        }
      ]
    },
    {
      "cell_type": "code",
      "source": [
        "#accessing the elements of a dictionary\n",
        "\n",
        "print(continents[1])\n",
        "print(continents[6])"
      ],
      "metadata": {
        "colab": {
          "base_uri": "https://localhost:8080/"
        },
        "id": "2lUdXFM3OXLT",
        "outputId": "60926c1a-59e1-46d2-ffd5-bdfa9b746ed9"
      },
      "execution_count": 14,
      "outputs": [
        {
          "output_type": "stream",
          "name": "stdout",
          "text": [
            "Asia\n",
            "Australia\n"
          ]
        }
      ]
    },
    {
      "cell_type": "code",
      "source": [
        "#removing a key:value pair\n",
        "del continents[3]\n",
        "print(continents)"
      ],
      "metadata": {
        "colab": {
          "base_uri": "https://localhost:8080/"
        },
        "id": "RA542JbPP2OO",
        "outputId": "ccb09f16-d481-4c31-a0c2-0990abefec2c"
      },
      "execution_count": 15,
      "outputs": [
        {
          "output_type": "stream",
          "name": "stdout",
          "text": [
            "{1: 'Asia', 2: 'Africa', 4: 'North America', 5: 'South America', 6: 'Australia', 7: 'Antarctica'}\n"
          ]
        }
      ]
    },
    {
      "cell_type": "code",
      "source": [
        "#adding a new key:value pair\n",
        "\n",
        "continents[3] = 'Europe'\n",
        "print(continents)"
      ],
      "metadata": {
        "colab": {
          "base_uri": "https://localhost:8080/"
        },
        "id": "d5PPj4BlQK7E",
        "outputId": "6fa781b1-1c08-4513-f740-43a3ee631f83"
      },
      "execution_count": 16,
      "outputs": [
        {
          "output_type": "stream",
          "name": "stdout",
          "text": [
            "{1: 'Asia', 2: 'Africa', 4: 'North America', 5: 'South America', 6: 'Australia', 7: 'Antarctica', 3: 'Europe'}\n"
          ]
        }
      ]
    },
    {
      "cell_type": "code",
      "source": [
        "#extracting all the keys\n",
        "continents.keys()"
      ],
      "metadata": {
        "colab": {
          "base_uri": "https://localhost:8080/"
        },
        "id": "DdqvMTF6QWa_",
        "outputId": "16a9ec20-62f7-4c50-930e-724fcf451b6a"
      },
      "execution_count": 17,
      "outputs": [
        {
          "output_type": "execute_result",
          "data": {
            "text/plain": [
              "dict_keys([1, 2, 4, 5, 6, 7, 3])"
            ]
          },
          "metadata": {},
          "execution_count": 17
        }
      ]
    },
    {
      "cell_type": "code",
      "source": [
        "#extracting all the values\n",
        "continents.values()"
      ],
      "metadata": {
        "colab": {
          "base_uri": "https://localhost:8080/"
        },
        "id": "FEUaVvv5QkTc",
        "outputId": "8e3a6e49-3ea2-47cb-d771-57c2e206aa48"
      },
      "execution_count": 18,
      "outputs": [
        {
          "output_type": "execute_result",
          "data": {
            "text/plain": [
              "dict_values(['Asia', 'Africa', 'North America', 'South America', 'Australia', 'Antarctica', 'Europe'])"
            ]
          },
          "metadata": {},
          "execution_count": 18
        }
      ]
    },
    {
      "cell_type": "code",
      "source": [
        "#extracting all the items\n",
        "continents.items()"
      ],
      "metadata": {
        "colab": {
          "base_uri": "https://localhost:8080/"
        },
        "id": "W-yE1ZyoQpK0",
        "outputId": "072f7f6e-5582-45fa-d8c0-4190500633d4"
      },
      "execution_count": 19,
      "outputs": [
        {
          "output_type": "execute_result",
          "data": {
            "text/plain": [
              "dict_items([(1, 'Asia'), (2, 'Africa'), (4, 'North America'), (5, 'South America'), (6, 'Australia'), (7, 'Antarctica'), (3, 'Europe')])"
            ]
          },
          "metadata": {},
          "execution_count": 19
        }
      ]
    },
    {
      "cell_type": "code",
      "source": [
        "#removing key:value pair using pop\n",
        "continents.pop(4)"
      ],
      "metadata": {
        "colab": {
          "base_uri": "https://localhost:8080/",
          "height": 35
        },
        "id": "YsBoa3HIQxjT",
        "outputId": "ee7aba77-f33a-43b9-a0fa-e489db0f765e"
      },
      "execution_count": 20,
      "outputs": [
        {
          "output_type": "execute_result",
          "data": {
            "text/plain": [
              "'North America'"
            ],
            "application/vnd.google.colaboratory.intrinsic+json": {
              "type": "string"
            }
          },
          "metadata": {},
          "execution_count": 20
        }
      ]
    },
    {
      "cell_type": "code",
      "source": [
        "#deleting all the key:value pairs\n",
        "continents.clear()\n",
        "print(continents)"
      ],
      "metadata": {
        "colab": {
          "base_uri": "https://localhost:8080/"
        },
        "id": "30l-Wq0-RO_N",
        "outputId": "936cf247-7d3b-4798-8efb-362b56160afc"
      },
      "execution_count": 21,
      "outputs": [
        {
          "output_type": "stream",
          "name": "stdout",
          "text": [
            "{}\n"
          ]
        }
      ]
    },
    {
      "cell_type": "markdown",
      "source": [
        "None"
      ],
      "metadata": {
        "id": "pCWtAqcdRz-J"
      }
    },
    {
      "cell_type": "code",
      "source": [
        "\n",
        "continents['c1'] = 'Asia'\n",
        "continents['c2'] = 'Africa'\n",
        "continents['c3'] = 'Europe'\n",
        "continents['c4'] = 'North America'\n",
        "continents['c5'] = 'South America'\n",
        "continents['c6'] = 'Australia'\n",
        "continents['c7'] = 'Antarctica'\n",
        "continents['c8'] =None\n",
        "print(continents)"
      ],
      "metadata": {
        "colab": {
          "base_uri": "https://localhost:8080/"
        },
        "id": "j5BJj-6KRY7G",
        "outputId": "dfe9f68c-2f68-4841-aac4-3559cac6b754"
      },
      "execution_count": 30,
      "outputs": [
        {
          "output_type": "stream",
          "name": "stdout",
          "text": [
            "{'c1': 'Asia', 'c2': 'Africa', 'c3': 'Europe', 'c4': 'North America', 'c5': 'South America', 'c6': 'Australia', 'c7': 'Antarctica', 'c8': None}\n"
          ]
        }
      ]
    },
    {
      "cell_type": "markdown",
      "source": [
        "Boolean"
      ],
      "metadata": {
        "id": "SKWvbwEVUPQA"
      }
    },
    {
      "cell_type": "code",
      "source": [
        "can_use_chopsticks = False\n",
        "have_pancard = True"
      ],
      "metadata": {
        "id": "tcjR4k78R_og"
      },
      "execution_count": null,
      "outputs": []
    }
  ]
}