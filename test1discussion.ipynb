{
  "nbformat": 4,
  "nbformat_minor": 0,
  "metadata": {
    "colab": {
      "provenance": [],
      "authorship_tag": "ABX9TyMeCJmbqrJUMU6iStWHnx+z",
      "include_colab_link": true
    },
    "kernelspec": {
      "name": "python3",
      "display_name": "Python 3"
    },
    "language_info": {
      "name": "python"
    }
  },
  "cells": [
    {
      "cell_type": "markdown",
      "metadata": {
        "id": "view-in-github",
        "colab_type": "text"
      },
      "source": [
        "<a href=\"https://colab.research.google.com/github/priyatanwar018/python-practicals/blob/main/test1discussion.ipynb\" target=\"_parent\"><img src=\"https://colab.research.google.com/assets/colab-badge.svg\" alt=\"Open In Colab\"/></a>"
      ]
    },
    {
      "cell_type": "markdown",
      "source": [
        "August 12,2024 Monday"
      ],
      "metadata": {
        "id": "MBGLpuOY-WfK"
      }
    },
    {
      "cell_type": "markdown",
      "source": [
        "Test Discussion"
      ],
      "metadata": {
        "id": "LH2aWptMEpD6"
      }
    },
    {
      "cell_type": "code",
      "execution_count": 3,
      "metadata": {
        "colab": {
          "base_uri": "https://localhost:8080/"
        },
        "id": "QjrcvZOM-Gws",
        "outputId": "5ce3a58a-432c-42e5-8e7d-b00d8fef2026"
      },
      "outputs": [
        {
          "output_type": "stream",
          "name": "stdout",
          "text": [
            "True\n"
          ]
        }
      ],
      "source": [
        "#concept: comparison operator\n",
        "a = 10\n",
        "b = 15\n",
        "print(a<b)"
      ]
    },
    {
      "cell_type": "code",
      "source": [
        "#concept:comparison operator,Logical and\n",
        "x = 12\n",
        "print(x>5 and x<20)"
      ],
      "metadata": {
        "colab": {
          "base_uri": "https://localhost:8080/"
        },
        "id": "G23UaHkrFViY",
        "outputId": "e1b108d4-b3ce-4b5a-df95-8e7d1fab6872"
      },
      "execution_count": 4,
      "outputs": [
        {
          "output_type": "stream",
          "name": "stdout",
          "text": [
            "True\n"
          ]
        }
      ]
    },
    {
      "cell_type": "code",
      "source": [
        "#concept:assignment operator(works on unary operands)\n",
        "n = 5\n",
        "n  *= 3\n",
        "print(n)"
      ],
      "metadata": {
        "colab": {
          "base_uri": "https://localhost:8080/"
        },
        "id": "ZwCjZs8GGGlH",
        "outputId": "1b69993e-daf4-4b74-9540-02884e9beb83"
      },
      "execution_count": 6,
      "outputs": [
        {
          "output_type": "stream",
          "name": "stdout",
          "text": [
            "15\n"
          ]
        }
      ]
    },
    {
      "cell_type": "code",
      "source": [
        "#concept:Bitwise AND\n",
        "a = 6\n",
        "b = 3\n",
        "print(a & b)"
      ],
      "metadata": {
        "colab": {
          "base_uri": "https://localhost:8080/"
        },
        "id": "xTkLu9y7G5eU",
        "outputId": "30293848-b564-459a-e750-f93c09a7ac0a"
      },
      "execution_count": 7,
      "outputs": [
        {
          "output_type": "stream",
          "name": "stdout",
          "text": [
            "2\n"
          ]
        }
      ]
    },
    {
      "cell_type": "code",
      "source": [
        "#concept:identity operators\n",
        "a = 10\n",
        "b = 10\n",
        "print(a is b)\n",
        "print(id(a))\n",
        "print(id(b))"
      ],
      "metadata": {
        "colab": {
          "base_uri": "https://localhost:8080/"
        },
        "id": "7xftQm9lHhuY",
        "outputId": "10f34e03-9c9c-49a4-b7fa-eed505a8cae9"
      },
      "execution_count": 14,
      "outputs": [
        {
          "output_type": "stream",
          "name": "stdout",
          "text": [
            "True\n",
            "133547187520016\n",
            "133547187520016\n"
          ]
        }
      ]
    },
    {
      "cell_type": "code",
      "source": [
        "#concept:membership operator\n",
        "string = 'apple'\n",
        "print('a' in string)"
      ],
      "metadata": {
        "colab": {
          "base_uri": "https://localhost:8080/"
        },
        "id": "YH7E29O-H9Yk",
        "outputId": "3c397e30-8097-4626-ebd6-36f05e7b37ad"
      },
      "execution_count": 15,
      "outputs": [
        {
          "output_type": "stream",
          "name": "stdout",
          "text": [
            "True\n"
          ]
        }
      ]
    },
    {
      "cell_type": "code",
      "source": [
        "#concept:list operations\n",
        "even_num = [2,4,6,8,10]\n",
        "print(even_num)"
      ],
      "metadata": {
        "colab": {
          "base_uri": "https://localhost:8080/"
        },
        "id": "Y_zdG3SzI3yE",
        "outputId": "24cdcd56-30f1-4b84-9133-f7d0a3476eea"
      },
      "execution_count": 16,
      "outputs": [
        {
          "output_type": "stream",
          "name": "stdout",
          "text": [
            "[2, 4, 6, 8, 10]\n"
          ]
        }
      ]
    },
    {
      "cell_type": "code",
      "source": [
        "#concept:list operations (indexing)\n",
        "fruits = ['apple','banana','cherry','date']\n",
        "fruits[2]"
      ],
      "metadata": {
        "colab": {
          "base_uri": "https://localhost:8080/",
          "height": 55
        },
        "id": "-32INMnWJYN5",
        "outputId": "b63761b4-bc1c-45b2-bef2-806b0790f1e9"
      },
      "execution_count": 17,
      "outputs": [
        {
          "output_type": "execute_result",
          "data": {
            "text/plain": [
              "'cherry'"
            ],
            "application/vnd.google.colaboratory.intrinsic+json": {
              "type": "string"
            }
          },
          "metadata": {},
          "execution_count": 17
        }
      ]
    },
    {
      "cell_type": "code",
      "source": [
        "#concept:slicing\n",
        "numbers = [1,2,3,4,5,6,7,8,9]\n",
        "print(numbers[-3::])"
      ],
      "metadata": {
        "colab": {
          "base_uri": "https://localhost:8080/"
        },
        "id": "AwE2bPITJomF",
        "outputId": "9358a7e5-0368-4f0f-a09c-69970e9b5b57"
      },
      "execution_count": 22,
      "outputs": [
        {
          "output_type": "stream",
          "name": "stdout",
          "text": [
            "[7, 8, 9]\n"
          ]
        }
      ]
    },
    {
      "cell_type": "code",
      "source": [
        "#concept:concatenation\n",
        "list1 = [1,2,3]\n",
        "list2 = [4,5,6]\n",
        "lst = list1 + list2\n",
        "print(lst)"
      ],
      "metadata": {
        "colab": {
          "base_uri": "https://localhost:8080/"
        },
        "id": "qOhz5UX3KbEU",
        "outputId": "559bf49a-0265-4d54-9d84-eb7a7900c0f4"
      },
      "execution_count": 23,
      "outputs": [
        {
          "output_type": "stream",
          "name": "stdout",
          "text": [
            "[1, 2, 3, 4, 5, 6]\n"
          ]
        }
      ]
    },
    {
      "cell_type": "code",
      "source": [
        "#concept:list multiplication\n",
        "list3 = [0,1,2]\n",
        "print(list3*3)"
      ],
      "metadata": {
        "colab": {
          "base_uri": "https://localhost:8080/"
        },
        "id": "o3Zh-8iIMkEQ",
        "outputId": "fbee7495-ecbd-45b8-f9f7-ba9323e8196b"
      },
      "execution_count": 24,
      "outputs": [
        {
          "output_type": "stream",
          "name": "stdout",
          "text": [
            "[0, 1, 2, 0, 1, 2, 0, 1, 2]\n"
          ]
        }
      ]
    },
    {
      "cell_type": "code",
      "source": [
        "#concept: append()\n",
        "numbers = [1,2,3,4,5,6]\n",
        "numbers.append(7)\n",
        "print(numbers)"
      ],
      "metadata": {
        "colab": {
          "base_uri": "https://localhost:8080/"
        },
        "id": "qoUrBPDkNEmY",
        "outputId": "c3be068e-9c86-43fe-ac63-b61dd521fc8e"
      },
      "execution_count": 25,
      "outputs": [
        {
          "output_type": "stream",
          "name": "stdout",
          "text": [
            "[1, 2, 3, 4, 5, 6, 7]\n"
          ]
        }
      ]
    },
    {
      "cell_type": "code",
      "source": [
        "#concept:pop ()\n",
        "colors = ['red','green','blue','yellow']\n",
        "print(colors.pop(-1))\n",
        "print(colors)"
      ],
      "metadata": {
        "colab": {
          "base_uri": "https://localhost:8080/"
        },
        "id": "JPxhbxtvNg69",
        "outputId": "35d71ab8-2302-4b91-a6a5-9beebf0979ec"
      },
      "execution_count": 29,
      "outputs": [
        {
          "output_type": "stream",
          "name": "stdout",
          "text": [
            "yellow\n",
            "['red', 'green', 'blue']\n"
          ]
        }
      ]
    },
    {
      "cell_type": "code",
      "source": [
        "#concept:remove()\n",
        "num = [1,2,3,4,4,5,6]\n",
        "num.remove(4)\n",
        "print(num)"
      ],
      "metadata": {
        "colab": {
          "base_uri": "https://localhost:8080/"
        },
        "id": "pkVwXO8SN33e",
        "outputId": "c628a979-e948-4a75-b672-1d77824a3894"
      },
      "execution_count": 31,
      "outputs": [
        {
          "output_type": "stream",
          "name": "stdout",
          "text": [
            "[1, 2, 3, 4, 5, 6]\n"
          ]
        }
      ]
    },
    {
      "cell_type": "code",
      "source": [
        "#concept:sort()\n",
        "numbers = [5,2,9,1,7]\n",
        "numbers.sort()\n",
        "print(numbers)"
      ],
      "metadata": {
        "colab": {
          "base_uri": "https://localhost:8080/"
        },
        "id": "4Ck8R878OaSP",
        "outputId": "80f3b41a-4d7c-4bd1-a90e-8d480ff8a488"
      },
      "execution_count": 32,
      "outputs": [
        {
          "output_type": "stream",
          "name": "stdout",
          "text": [
            "[1, 2, 5, 7, 9]\n"
          ]
        }
      ]
    },
    {
      "cell_type": "code",
      "source": [
        "#concept:tuple\n",
        "t = ('apple','banana','cherry')\n",
        "print(t)"
      ],
      "metadata": {
        "colab": {
          "base_uri": "https://localhost:8080/"
        },
        "id": "aTlCE_ufPM4e",
        "outputId": "411a07ab-ca80-4c7f-f822-88b676639a43"
      },
      "execution_count": 34,
      "outputs": [
        {
          "output_type": "stream",
          "name": "stdout",
          "text": [
            "('apple', 'banana', 'cherry')\n"
          ]
        }
      ]
    },
    {
      "cell_type": "code",
      "source": [
        "#concept:accessing tuple element\n",
        "colors = ('red','green','blue')\n",
        "print(colors[1])"
      ],
      "metadata": {
        "colab": {
          "base_uri": "https://localhost:8080/"
        },
        "id": "dlkB5QFyPm0K",
        "outputId": "4478bcb3-502f-469e-8130-740f8ac94e01"
      },
      "execution_count": 35,
      "outputs": [
        {
          "output_type": "stream",
          "name": "stdout",
          "text": [
            "green\n"
          ]
        }
      ]
    },
    {
      "cell_type": "code",
      "source": [
        ""
      ],
      "metadata": {
        "id": "aWGn8fc8QAFG"
      },
      "execution_count": null,
      "outputs": []
    }
  ]
}