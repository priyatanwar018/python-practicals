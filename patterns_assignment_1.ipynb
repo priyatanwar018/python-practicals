{
  "nbformat": 4,
  "nbformat_minor": 0,
  "metadata": {
    "colab": {
      "provenance": [],
      "authorship_tag": "ABX9TyPAIiuTiZdgZsJCofDO3o8c",
      "include_colab_link": true
    },
    "kernelspec": {
      "name": "python3",
      "display_name": "Python 3"
    },
    "language_info": {
      "name": "python"
    }
  },
  "cells": [
    {
      "cell_type": "markdown",
      "metadata": {
        "id": "view-in-github",
        "colab_type": "text"
      },
      "source": [
        "<a href=\"https://colab.research.google.com/github/priyatanwar018/python-practicals/blob/main/patterns_assignment_1.ipynb\" target=\"_parent\"><img src=\"https://colab.research.google.com/assets/colab-badge.svg\" alt=\"Open In Colab\"/></a>"
      ]
    },
    {
      "cell_type": "code",
      "source": [
        "#1. Right-Angle Triangle"
      ],
      "metadata": {
        "id": "xdPUrv-JZev9"
      },
      "execution_count": null,
      "outputs": []
    },
    {
      "cell_type": "code",
      "source": [
        "#How can you print a right-angle triangle using asterisks (*) in Python?\n",
        "\n",
        "#You can print a right-angle triangle using asterisks (*) in Python by using a simple loop to control the number of stars printed on each line.\n",
        "\n",
        "n = int(input(\"Enter the number of rows: \"))\n",
        "\n",
        "for i in range(1,n+1):\n",
        "  print(\"*\" *i) #print i no. of asterisk for each row i"
      ],
      "metadata": {
        "colab": {
          "base_uri": "https://localhost:8080/"
        },
        "id": "caUYHINOZi7A",
        "outputId": "f784218c-e978-404f-a2a5-6d124017781d"
      },
      "execution_count": null,
      "outputs": [
        {
          "output_type": "stream",
          "name": "stdout",
          "text": [
            "Enter the number of rows: 4\n",
            "*\n",
            "**\n",
            "***\n",
            "****\n"
          ]
        }
      ]
    },
    {
      "cell_type": "code",
      "source": [
        "#What would be the output of printing a right-angle triangle with a height of 5?\n",
        "\n",
        "for i in range(1,6):\n",
        "  print(\"*\" *i)"
      ],
      "metadata": {
        "colab": {
          "base_uri": "https://localhost:8080/"
        },
        "id": "u56TNgv3aQUh",
        "outputId": "864f7ae6-13c6-4487-e679-756ae4412255"
      },
      "execution_count": null,
      "outputs": [
        {
          "output_type": "stream",
          "name": "stdout",
          "text": [
            "*\n",
            "**\n",
            "***\n",
            "****\n",
            "*****\n"
          ]
        }
      ]
    },
    {
      "cell_type": "code",
      "source": [
        "#How can you modify your triangle to align to the right instead of the left?\n",
        "\n",
        "#To align the triangle to the right, you can modify the loop to include spaces before the asterisks.\n",
        "#For a triangle with height n, the number of spaces in each row will decrease as the number of asterisks increases.\n",
        "\n",
        "n = int(input(\"Enter the number of rows: \"))\n",
        "\n",
        "for i in range(1,n+1):\n",
        "  print(\" \"*(n-i),\"*\"*i)\n"
      ],
      "metadata": {
        "colab": {
          "base_uri": "https://localhost:8080/"
        },
        "id": "YfU7C2xPazLY",
        "outputId": "54996889-e8d8-40b4-9865-9b7e31630197"
      },
      "execution_count": null,
      "outputs": [
        {
          "output_type": "stream",
          "name": "stdout",
          "text": [
            "Enter the number of rows: 5\n",
            "     *\n",
            "    **\n",
            "   ***\n",
            "  ****\n",
            " *****\n"
          ]
        }
      ]
    },
    {
      "cell_type": "code",
      "source": [
        "#2. Equilateral Triangle"
      ],
      "metadata": {
        "id": "QsVOVr3Obuj1"
      },
      "execution_count": null,
      "outputs": []
    },
    {
      "cell_type": "code",
      "source": [
        "#How can you create an equilateral triangle pattern using asterisks in Python?\n",
        "\n",
        "#To create an equilateral triangle using asterisks (*) in Python, the number of spaces decreases, and the number of asterisks increases symmetrically as you move down the rows.\n",
        "\n",
        "n = int(input(\"Enter number of rows: \"))\n",
        "\n",
        "for i in range(1,n+1):\n",
        "  print(\" \"*(n-i),\"*\" *(2*i))\n",
        "print()\n",
        "print()\n",
        "for i in range(1,n+1):\n",
        "  print(\" \"*(n-i),\"*\"*(2*i-1))"
      ],
      "metadata": {
        "colab": {
          "base_uri": "https://localhost:8080/"
        },
        "id": "QMyL8WY5b77c",
        "outputId": "7c96725a-f106-419a-c101-d34a813d9708"
      },
      "execution_count": null,
      "outputs": [
        {
          "output_type": "stream",
          "name": "stdout",
          "text": [
            "Enter number of rows: 5\n",
            "     **\n",
            "    ****\n",
            "   ******\n",
            "  ********\n",
            " **********\n",
            "\n",
            "\n",
            "     *\n",
            "    ***\n",
            "   *****\n",
            "  *******\n",
            " *********\n"
          ]
        }
      ]
    },
    {
      "cell_type": "code",
      "source": [
        "#What algorithm would you use to center the asterisks in the triangle?\n",
        "\n",
        "'''\n",
        "Input: n (number of rows)\n",
        "For each row i from 1 to n:\n",
        "    1. Calculate the number of spaces: spaces = n - i\n",
        "    2. Calculate the number of asterisks: asterisks = 2 * i (to print even number of asterisks in each row), or 2 * i - 1 (to print odd number of asterisks in each row)\n",
        "    3. Print 'spaces' followed by 'asterisks'\n",
        "End For\n",
        "'''\n"
      ],
      "metadata": {
        "id": "nmV6iwfodRWu"
      },
      "execution_count": null,
      "outputs": []
    },
    {
      "cell_type": "code",
      "source": [
        "#3. Square"
      ],
      "metadata": {
        "id": "MU73-VEafZ_C"
      },
      "execution_count": null,
      "outputs": []
    },
    {
      "cell_type": "code",
      "source": [
        "#Write a Python function to print a square of asterisks with a given side length.\n",
        "\n",
        "def print_square(side):\n",
        "  for i in range(1,side+1):\n",
        "    print(\"*\"*side)\n",
        "\n",
        "print_square(5)"
      ],
      "metadata": {
        "colab": {
          "base_uri": "https://localhost:8080/"
        },
        "id": "TmHWZBCefjDw",
        "outputId": "38f06ae2-f3fa-4ffc-cf71-17494c81d788"
      },
      "execution_count": null,
      "outputs": [
        {
          "output_type": "stream",
          "name": "stdout",
          "text": [
            "*****\n",
            "*****\n",
            "*****\n",
            "*****\n",
            "*****\n"
          ]
        }
      ]
    },
    {
      "cell_type": "code",
      "source": [
        "#How would you modify the function to fill the square with a different character?\n",
        "\n",
        "#You can modify the function to accept a second parameter for the character you want to fill the square with.\n",
        "\n",
        "def print_square(side,char):\n",
        "  for i in range(1, side+1):\n",
        "    print(char*side,)\n",
        "\n",
        "print_square(5,\"#\")"
      ],
      "metadata": {
        "colab": {
          "base_uri": "https://localhost:8080/"
        },
        "id": "SikZeqJzgFq2",
        "outputId": "e55576b2-18d3-4bcf-e663-ed4454585bbc"
      },
      "execution_count": null,
      "outputs": [
        {
          "output_type": "stream",
          "name": "stdout",
          "text": [
            "#####\n",
            "#####\n",
            "#####\n",
            "#####\n",
            "#####\n"
          ]
        }
      ]
    },
    {
      "cell_type": "code",
      "source": [
        "#4. Hollow Square"
      ],
      "metadata": {
        "id": "hhAOvNiIg9rJ"
      },
      "execution_count": null,
      "outputs": []
    },
    {
      "cell_type": "code",
      "source": [
        "#How can you create a hollow square using asterisks in Python?\n",
        "\n",
        "#To create a hollow square using asterisks in Python, you'll need to modify the logic so that only the borders of the square are filled with asterisks (*),\n",
        "#while the inside is left hollow (i.e., filled with spaces).\n",
        "\n",
        "def hollow_square(side):\n",
        "  for i in range(1,side+1):\n",
        "    if i == 1 or i == side:\n",
        "      print(\"*\"*side)\n",
        "    else:\n",
        "      print(\"*\"+\" \"*(side-2)+\"*\")\n",
        "\n",
        "hollow_square(5)"
      ],
      "metadata": {
        "colab": {
          "base_uri": "https://localhost:8080/"
        },
        "id": "dagaZjnYiGZW",
        "outputId": "adcb16d0-25b6-4ebf-ede6-ab74bff5c1ee"
      },
      "execution_count": null,
      "outputs": [
        {
          "output_type": "stream",
          "name": "stdout",
          "text": [
            "*****\n",
            "*   *\n",
            "*   *\n",
            "*   *\n",
            "*****\n"
          ]
        }
      ]
    },
    {
      "cell_type": "code",
      "source": [
        "#What changes would you need to make to handle even and odd side lengths differently?\n",
        "\n",
        "'''\n",
        "Generally, there's no need to handle even and odd side lengths differently in Python, unless you have a specific formatting requirement.\n",
        "'''"
      ],
      "metadata": {
        "id": "U1MvVKREjJ_i"
      },
      "execution_count": null,
      "outputs": []
    },
    {
      "cell_type": "code",
      "source": [
        "#5. Pyramid"
      ],
      "metadata": {
        "id": "l-VxTkSQkTZy"
      },
      "execution_count": null,
      "outputs": []
    },
    {
      "cell_type": "code",
      "source": [
        "#How can you print a pyramid pattern of asterisks in Python?\n",
        "\n",
        "n = int(input(\"Enter the height of pyramid: \"))\n",
        "for i in range(1,n+1):\n",
        "  print(\" \"*(n-i),\"*\"*(2*i-1))"
      ],
      "metadata": {
        "colab": {
          "base_uri": "https://localhost:8080/"
        },
        "id": "V8HXDnFulpJS",
        "outputId": "ead33b66-c561-4628-be9b-23b34ebfcac0"
      },
      "execution_count": null,
      "outputs": [
        {
          "output_type": "stream",
          "name": "stdout",
          "text": [
            "Enter the height of pyramid: 6\n",
            "      *\n",
            "     ***\n",
            "    *****\n",
            "   *******\n",
            "  *********\n",
            " ***********\n"
          ]
        }
      ]
    },
    {
      "cell_type": "code",
      "source": [
        "#How would you adapt your pyramid code to accept the number of layers as input?\n",
        "\n",
        "'''\n",
        "To accept the number of layers as input, you can use nested loops. Outer for loop will iterate through each layer, and inner loop will iterrate through each row in the layer.\n",
        "You can also use print() after the inner loop to print a new line after each layer.\n",
        "'''\n",
        "\n",
        "layers = int(input(\"Enter the number of layers: \"))\n",
        "layer_height = int(input(\"Enter the height of each layer: \"))\n",
        "\n",
        "for layer in range(1,layers+1):\n",
        "  for i in range(1,layer_height+1):\n",
        "    print(\" \"*(layer_height-i),\"*\"*(2*i-1))\n",
        "  print()"
      ],
      "metadata": {
        "colab": {
          "base_uri": "https://localhost:8080/"
        },
        "id": "HwXQMupvmLDF",
        "outputId": "c9014fa3-4e4d-40a9-ff89-196de46e85fe"
      },
      "execution_count": 1,
      "outputs": [
        {
          "output_type": "stream",
          "name": "stdout",
          "text": [
            "Enter the number of layers: 3\n",
            "Enter the height of each layer: 5\n",
            "     *\n",
            "    ***\n",
            "   *****\n",
            "  *******\n",
            " *********\n",
            "\n",
            "     *\n",
            "    ***\n",
            "   *****\n",
            "  *******\n",
            " *********\n",
            "\n",
            "     *\n",
            "    ***\n",
            "   *****\n",
            "  *******\n",
            " *********\n",
            "\n"
          ]
        }
      ]
    },
    {
      "cell_type": "code",
      "source": [
        "#6. Diamond Shape"
      ],
      "metadata": {
        "id": "fsV61rgTqQ52"
      },
      "execution_count": null,
      "outputs": []
    },
    {
      "cell_type": "code",
      "source": [
        "#Write a Python program to print a diamond shape using asterisks.\n",
        "\n",
        "n = int(input(\"Enter the height of the diamond: \"))\n",
        "\n",
        "for i in range(1,n+1):\n",
        "  print(\" \"*(n-i),\"*\"*(2*i-1)) #for the top half of the diamond\n",
        "for i in range(n-1,0,-1):\n",
        "  print(\" \"*(n-i),\"*\"*(2*i-1)) #for the bottom half of the diamond\n"
      ],
      "metadata": {
        "id": "5oRxd0p-qiPR",
        "colab": {
          "base_uri": "https://localhost:8080/"
        },
        "outputId": "ba66df67-7ef9-4b66-8405-d62a30c39c96"
      },
      "execution_count": 7,
      "outputs": [
        {
          "output_type": "stream",
          "name": "stdout",
          "text": [
            "Enter the height of the diamond: 5\n",
            "     *\n",
            "    ***\n",
            "   *****\n",
            "  *******\n",
            " *********\n",
            "  *******\n",
            "   *****\n",
            "    ***\n",
            "     *\n"
          ]
        }
      ]
    },
    {
      "cell_type": "code",
      "source": [
        "#How can you adjust the program to change the width of the diamond?\n",
        "\n",
        "#To adjust the width of the diamond independently from its height (i.e., making the diamond wider or narrower), you can introduce a multiplier for the number of asterisks.\n",
        "#This allows you to control the horizontal stretch of the diamond.\n",
        "\n",
        "n = int(input(\"Enter the height of the diamond: \"))\n",
        "m = int(input(\"Enter the multiplier for the number of asterisks: \"))\n",
        "\n",
        "for i in range(1,n+1):\n",
        "  print(\" \"*(n-i),\"*\"*m*(2*i-1)) #for the top half of the diamond\n",
        "for i in range(n,0,-1):\n",
        "  print(\" \"*(n-i),\"*\"*m*(2*i-1))\n",
        "\n"
      ],
      "metadata": {
        "colab": {
          "base_uri": "https://localhost:8080/"
        },
        "id": "xZthw-SwXzGS",
        "outputId": "ad2d01c6-2099-4265-a768-08d0168ea378"
      },
      "execution_count": 6,
      "outputs": [
        {
          "output_type": "stream",
          "name": "stdout",
          "text": [
            "Enter the height of the diamond: 5\n",
            "Enter the multiplier for the number of asterisks: 3\n",
            "     ***\n",
            "    *********\n",
            "   ***************\n",
            "  *********************\n",
            " ***************************\n",
            " ***************************\n",
            "  *********************\n",
            "   ***************\n",
            "    *********\n",
            "     ***\n"
          ]
        }
      ]
    },
    {
      "cell_type": "code",
      "source": [
        "#7. Number Patterns"
      ],
      "metadata": {
        "id": "UuqIUf5xZb79"
      },
      "execution_count": null,
      "outputs": []
    },
    {
      "cell_type": "code",
      "source": [
        "#How can you print a right-angle triangle using numbers instead of asterisks?\n",
        "\n",
        "n = int(input(\"Enter the number of rows: \"))\n",
        "\n",
        "for i in range(1,n+1):\n",
        "  for j in range(1,i+1):\n",
        "    print(j,end=\" \")\n",
        "  print()"
      ],
      "metadata": {
        "colab": {
          "base_uri": "https://localhost:8080/"
        },
        "id": "khLU1V2bZgVF",
        "outputId": "5b47111f-41f7-41f0-e997-ae02ea1de297"
      },
      "execution_count": 7,
      "outputs": [
        {
          "output_type": "stream",
          "name": "stdout",
          "text": [
            "Enter the number of rows: 5\n",
            "1 \n",
            "1 2 \n",
            "1 2 3 \n",
            "1 2 3 4 \n",
            "1 2 3 4 5 \n"
          ]
        }
      ]
    },
    {
      "cell_type": "code",
      "source": [
        "#Create a pattern where each row contains the same number repeated.\n",
        "\n",
        "n = int(input(\"Enter the number of rows: \"))\n",
        "\n",
        "for i in range(1,n+1):\n",
        "  for j in range(1,i+1):\n",
        "    print(i,end=\" \")\n",
        "  print()"
      ],
      "metadata": {
        "colab": {
          "base_uri": "https://localhost:8080/"
        },
        "id": "FeFLnFmTaJWw",
        "outputId": "7c7e1288-1493-4168-bc1e-4efc388ef88c"
      },
      "execution_count": 8,
      "outputs": [
        {
          "output_type": "stream",
          "name": "stdout",
          "text": [
            "Enter the number of rows: 4\n",
            "1 \n",
            "2 2 \n",
            "3 3 3 \n",
            "4 4 4 4 \n"
          ]
        }
      ]
    },
    {
      "cell_type": "code",
      "source": [
        "#8. Fibonacci Traingle"
      ],
      "metadata": {
        "id": "Ksm9hZXVbb2X"
      },
      "execution_count": null,
      "outputs": []
    },
    {
      "cell_type": "code",
      "source": [
        "#How can you create a triangle pattern where each row represents the Fibonacci sequence?\n",
        "\n",
        "'''\n",
        "To create a triangle pattern where each row represents the Fibonacci sequence, we need to follow these steps:\n",
        "\n",
        "    Generate the Fibonacci sequence.\n",
        "    Print each row with an increasing number of Fibonacci numbers.\n",
        "        The first row will contain 1 Fibonacci number.\n",
        "        The second row will contain 2 Fibonacci numbers, and so on.\n",
        "'''"
      ],
      "metadata": {
        "id": "_Fe3iFlgbmE8"
      },
      "execution_count": null,
      "outputs": []
    },
    {
      "cell_type": "code",
      "source": [
        "#What would the output look like for the first five rows?\n",
        "\n",
        "n = int(input(\"Enter the number of rows: \"))\n",
        "\n",
        "#initialize the first two fibonacci numbers and append the rest in the list to store them\n",
        "fib = [0,1]\n",
        "\n",
        "#Generate the fibonacci sequence upto the required amount of numbers\n",
        "for i in range(2,n*(n+1)//2):\n",
        "  fib.append(fib[i-1] + fib[i-2])\n",
        "\n",
        "#initialize index to keep track of where we are in the fibonacci sequence\n",
        "index = 0\n",
        "\n",
        "#print the triangle pattern\n",
        "for row in range(1,n+1):\n",
        "  for col in range(1,row+1):\n",
        "    print(fib[index],end=\" \")\n",
        "    index += 1\n",
        "  print()        #Move to the next line of the row"
      ],
      "metadata": {
        "colab": {
          "base_uri": "https://localhost:8080/"
        },
        "id": "LIs-_KVJcwGC",
        "outputId": "9e2fd293-1ebf-4640-f9bc-a52b6e5cfcb5"
      },
      "execution_count": 8,
      "outputs": [
        {
          "output_type": "stream",
          "name": "stdout",
          "text": [
            "Enter the number of rows: 5\n",
            "0 \n",
            "1 1 \n",
            "2 3 5 \n",
            "8 13 21 34 \n",
            "55 89 144 233 377 \n"
          ]
        }
      ]
    },
    {
      "cell_type": "code",
      "source": [
        "#9. Inverted Triangle"
      ],
      "metadata": {
        "id": "k5gRpA5Mcwbu"
      },
      "execution_count": null,
      "outputs": []
    },
    {
      "cell_type": "code",
      "source": [
        "#How can you print an inverted right-angle triangle using asterisks in Python?\n",
        "\n",
        "n = int(input(\"Enter the number of rows: \"))\n",
        "\n",
        "for i in range(n,0,-1):\n",
        "  print(\"*\"*i)"
      ],
      "metadata": {
        "colab": {
          "base_uri": "https://localhost:8080/"
        },
        "id": "uZ7eDkM0c11m",
        "outputId": "2ee1ed82-9b4f-4428-ccd4-9af5b40efd3a"
      },
      "execution_count": 11,
      "outputs": [
        {
          "output_type": "stream",
          "name": "stdout",
          "text": [
            "Enter the number of rows: 5\n",
            "*****\n",
            "****\n",
            "***\n",
            "**\n",
            "*\n"
          ]
        }
      ]
    },
    {
      "cell_type": "code",
      "source": [
        "#What adjustments would you need to make to print an inverted pyramid?\n",
        "\n",
        "'''\n",
        "To print an inverted pyramid, you'll need to adjust the range function in the loop to print the correct number of asterisks in each row.\n",
        "Rather than initialising the loop variable with 1 and incrementing it by 1(default step value) in each iteration untill it reaches n+1(loop varaible will take the values upto n),\n",
        "you'll need to initialise it with n and decrement it by 1 (step value: -1) untill it reaches 0(loop variable will take the values upto 1).\n",
        "'''"
      ],
      "metadata": {
        "id": "AJut5-JZdd9o"
      },
      "execution_count": null,
      "outputs": []
    },
    {
      "cell_type": "code",
      "source": [
        "#10. Custom Patterns"
      ],
      "metadata": {
        "id": "0Jz2fSnWfqwk"
      },
      "execution_count": null,
      "outputs": []
    },
    {
      "cell_type": "code",
      "source": [
        "#How can you create a custom pattern, such as a checkerboard or zigzag, in Python?\n",
        "\n",
        "rows = int(input(\"Enter the number of rows: \"))\n",
        "cols = int(input(\"Enter the number of columns: \"))\n",
        "\n",
        "#For checkerboard pattern\n",
        "for i in range(rows):\n",
        "  for j in range(cols):\n",
        "    if (i+j)%2 == 0:\n",
        "      print(\"*\",end= \" \")\n",
        "    else:\n",
        "      print(\" \",end= \" \")\n",
        "  print()"
      ],
      "metadata": {
        "colab": {
          "base_uri": "https://localhost:8080/"
        },
        "id": "eKOe9HAYHRn_",
        "outputId": "2ce4ea6c-cea3-4809-bf01-c48ef65cad88"
      },
      "execution_count": 10,
      "outputs": [
        {
          "output_type": "stream",
          "name": "stdout",
          "text": [
            "Enter the number of rows: 5\n",
            "Enter the number of columns: 8\n",
            "*   *   *   *   \n",
            "  *   *   *   * \n",
            "*   *   *   *   \n",
            "  *   *   *   * \n",
            "*   *   *   *   \n"
          ]
        }
      ]
    },
    {
      "cell_type": "code",
      "source": [
        "#What logic would you apply to alternate characters in a checkerboard pattern?\n",
        "\n",
        "'''\n",
        "To characters in a checkerboard pattern, the is based on whether the sum if the row index(i) and column index(j) is even or odd.\n",
        "Imagine the checkerboard as a grid with rows and columns.Every cell will have a row index(i) and a column index(j).The sum of indices of rows and columns\n",
        "will keep alternating between even and odd values.For example, if you start at position (0,0), the sum 0 + 0 = 0 is even, so you print *.At position (0,1),\n",
        "the sum 0 + 1 = 1 is odd, so you print the space. It gives the appearence of a checkerboard.To iterate through the rows and columns, you can use nested for loop.\n",
        "'''"
      ],
      "metadata": {
        "id": "CfNUdn5Ef3bz"
      },
      "execution_count": null,
      "outputs": []
    }
  ]
}