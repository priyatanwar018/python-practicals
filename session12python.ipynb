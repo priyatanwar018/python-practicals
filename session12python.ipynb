{
  "nbformat": 4,
  "nbformat_minor": 0,
  "metadata": {
    "colab": {
      "provenance": [],
      "authorship_tag": "ABX9TyN6z1BcJK8kbhpzmQ3Qyen5",
      "include_colab_link": true
    },
    "kernelspec": {
      "name": "python3",
      "display_name": "Python 3"
    },
    "language_info": {
      "name": "python"
    }
  },
  "cells": [
    {
      "cell_type": "markdown",
      "metadata": {
        "id": "view-in-github",
        "colab_type": "text"
      },
      "source": [
        "<a href=\"https://colab.research.google.com/github/priyatanwar018/python-practicals/blob/main/session12python.ipynb\" target=\"_parent\"><img src=\"https://colab.research.google.com/assets/colab-badge.svg\" alt=\"Open In Colab\"/></a>"
      ]
    },
    {
      "cell_type": "code",
      "execution_count": null,
      "metadata": {
        "id": "2Vnb5_ZRbBSK"
      },
      "outputs": [],
      "source": [
        "#functions\n",
        "'''To reduce code length\n",
        "To reuse the code'''"
      ]
    },
    {
      "cell_type": "code",
      "source": [
        "'''def keyword is used to define a function'''"
      ],
      "metadata": {
        "id": "ex41veoGciu6"
      },
      "execution_count": null,
      "outputs": []
    },
    {
      "cell_type": "code",
      "source": [
        "'''def <function_name>(<arguments>):\n",
        "code_to_execute\n",
        "\n",
        "example usage\n",
        "\n",
        "function call'''"
      ],
      "metadata": {
        "id": "YFQcE4Jpcpnt"
      },
      "execution_count": null,
      "outputs": []
    },
    {
      "cell_type": "code",
      "source": [
        "def print_name(name):\n",
        "  print(f\"Hii, my name is {name}\")\n",
        "\n",
        "name = input(\"Enter your name: \")\n",
        "print_name(name)"
      ],
      "metadata": {
        "colab": {
          "base_uri": "https://localhost:8080/"
        },
        "id": "l02hEjQqdO7O",
        "outputId": "b0830314-2b6b-4db2-d783-58244f624f63"
      },
      "execution_count": null,
      "outputs": [
        {
          "output_type": "stream",
          "name": "stdout",
          "text": [
            "Enter your name: Priya\n",
            "Hii, my name is Priya\n"
          ]
        }
      ]
    },
    {
      "cell_type": "code",
      "execution_count": null,
      "metadata": {
        "colab": {
          "base_uri": "https://localhost:8080/"
        },
        "id": "NyLllKSXeQRa",
        "outputId": "afb34363-bbb9-489b-f699-31c1d0dddfd0"
      },
      "outputs": [
        {
          "output_type": "stream",
          "name": "stdout",
          "text": [
            "Enter first number: 3\n",
            "Enter second number: 5\n",
            "Enter operation(1.+ 2.- 3.* 4./): -\n",
            "-2\n"
          ]
        }
      ],
      "source": [
        "def calculator(num1,num2,operation):\n",
        "  if operation == \"+\":\n",
        "    sum = num1 + num2\n",
        "    return sum\n",
        "  elif operation == \"-\":\n",
        "    difference = num1 - num2\n",
        "    return difference\n",
        "  elif operation == \"*\":\n",
        "      product = num1 * num2\n",
        "      return product\n",
        "  elif operation == \"/\":\n",
        "    quotient = num1 / num2\n",
        "    return quotient\n",
        "  else:\n",
        "    print(\"Invalid Operator!!\")\n",
        "    return None\n",
        "\n",
        "num1 = int(input(\"Enter first number: \"))\n",
        "num2 = int(input(\"Enter second number: \"))\n",
        "operation = input(\"Enter operation(1.+ 2.- 3.* 4./): \")\n",
        "result = calculator(num1,num2,operation)\n",
        "print(result)"
      ]
    },
    {
      "cell_type": "code",
      "source": [
        "#return\n",
        "'''will return the value specified after it\n",
        "can only be used inside a function\n",
        "will send the cursor back to the place where the function was called'''\n"
      ],
      "metadata": {
        "id": "LsfTxsPsduYK"
      },
      "execution_count": null,
      "outputs": []
    },
    {
      "cell_type": "code",
      "source": [
        "'''types of arguments\n",
        "1.positional\n",
        "2.keyword\n",
        "3.default\n",
        "4.variable length\n",
        "  4.1 positional variable length\n",
        "  4.2 keyword variable length'''"
      ],
      "metadata": {
        "id": "LCwRNE4shooM"
      },
      "execution_count": null,
      "outputs": []
    },
    {
      "cell_type": "code",
      "source": [
        "'''positional argument\n",
        "we do not need to give the variable\n",
        "only the value is passed\n",
        "example:\n",
        "def add(a,b):\n",
        "  return add\n",
        "\n",
        "add(4,5)     #output 9\n",
        "'''"
      ],
      "metadata": {
        "id": "Pi_kBtpCh_Q-"
      },
      "execution_count": null,
      "outputs": []
    },
    {
      "cell_type": "code",
      "source": [
        "'''keyword argument\n",
        "the name of the variable is passed along with the value\n",
        "Example:\n",
        "def greet(greetings,name):\n",
        "  print(f\"{greetings},{name}\")\n",
        "\n",
        "greet(greetings = \"Hello\",name = \"Priya\")   #output Hello,Priya\n",
        "  '''"
      ],
      "metadata": {
        "id": "wPV3II10jWmR"
      },
      "execution_count": null,
      "outputs": []
    },
    {
      "cell_type": "code",
      "source": [
        "'''default argument\n",
        "when the value of a function is set when the functin is defined\n",
        "Example:\n",
        "def greet(name,greetings= \"hey\"):        #default value of greetings is hey, it's a default argument,it should be the last\n",
        "  print(f\"{greetings},{name}\")\n",
        "\n",
        "greet(name = \"Priya\")   #output hey,Priya\n",
        "'''"
      ],
      "metadata": {
        "id": "Ymy92rMpnjh9"
      },
      "execution_count": null,
      "outputs": []
    },
    {
      "cell_type": "code",
      "source": [
        "def greet(name,greetings=\"Hey\"):\n",
        "  print(f\"{greetings},{name}\")\n",
        "greet(greetings =\"Hello\",name=\"Priya\")"
      ],
      "metadata": {
        "colab": {
          "base_uri": "https://localhost:8080/"
        },
        "id": "wMIy_lLnoHwM",
        "outputId": "a9360e65-c58f-464c-f518-df9d667f7f8b"
      },
      "execution_count": null,
      "outputs": [
        {
          "output_type": "stream",
          "name": "stdout",
          "text": [
            "Hello,Priya\n"
          ]
        }
      ]
    },
    {
      "cell_type": "code",
      "source": [
        "'''variable length arguments\n",
        "no fixed length of variables\n",
        "\n",
        "#positional variable length\n",
        "def addition(*numbers):\n",
        "  return sum(numbers)\n",
        "\n",
        "\n",
        "addition(1,2,34)  #output 37\n",
        "'''"
      ],
      "metadata": {
        "id": "95iFjt7qobg2"
      },
      "execution_count": null,
      "outputs": []
    },
    {
      "cell_type": "code",
      "source": [
        "def addition(*numbers):\n",
        "  return sum(numbers)\n",
        "\n",
        "addition(1,2,34)"
      ],
      "metadata": {
        "colab": {
          "base_uri": "https://localhost:8080/"
        },
        "id": "a45-Hxkbp9yn",
        "outputId": "f2895551-baa3-45b4-ca70-32bc10845341"
      },
      "execution_count": null,
      "outputs": [
        {
          "output_type": "execute_result",
          "data": {
            "text/plain": [
              "37"
            ]
          },
          "metadata": {},
          "execution_count": 11
        }
      ]
    },
    {
      "cell_type": "code",
      "source": [
        "'''keyword variable length'''\n",
        "\n",
        "\n",
        "def information(**info):\n",
        "  for key,value in info.items():\n",
        "    print(f\"{key}:{value}\",end=\" \")\n",
        "\n",
        "information(name=\"Priya\",age = 20, city=\"Bhiwani\")"
      ],
      "metadata": {
        "id": "tqMdoZbrruc5",
        "colab": {
          "base_uri": "https://localhost:8080/"
        },
        "outputId": "7763d467-58ec-4e5c-e955-b237466988b5"
      },
      "execution_count": 15,
      "outputs": [
        {
          "output_type": "stream",
          "name": "stdout",
          "text": [
            "name:Priya age:20 city:Bhiwani "
          ]
        }
      ]
    },
    {
      "cell_type": "code",
      "source": [
        "#positional variable length\n",
        "def multiply(*numbers):\n",
        "  product = 1\n",
        "  for num in numbers:\n",
        "    product *= num\n",
        "  return product\n",
        "\n",
        "multiply(4,3,7)"
      ],
      "metadata": {
        "colab": {
          "base_uri": "https://localhost:8080/"
        },
        "id": "kSqU2zG-mUOs",
        "outputId": "01d083fe-cad1-4b3e-98ed-ec079490fcd1"
      },
      "execution_count": 8,
      "outputs": [
        {
          "output_type": "execute_result",
          "data": {
            "text/plain": [
              "84"
            ]
          },
          "metadata": {},
          "execution_count": 8
        }
      ]
    },
    {
      "cell_type": "code",
      "source": [
        "#keyword variable length\n",
        "def employee_data(**data):\n",
        "  for key,value in data.items():\n",
        "    print(f\"{key}:{value}\")\n",
        "\n",
        "employee_data(Employee_ID= 101,Name=\"Aditi\",Job_Role=\"Python Developer\")"
      ],
      "metadata": {
        "colab": {
          "base_uri": "https://localhost:8080/"
        },
        "id": "20eDYM8LnYCH",
        "outputId": "faf43fcb-c6c2-4e24-ed14-b8496463942b"
      },
      "execution_count": 13,
      "outputs": [
        {
          "output_type": "stream",
          "name": "stdout",
          "text": [
            "Employee_ID:101\n",
            "Name:Aditi\n",
            "Job_Role:Python Developer\n"
          ]
        }
      ]
    },
    {
      "cell_type": "code",
      "source": [
        "#types of functions\n",
        "'''1. Built-in functions\n",
        "2. User-defined functions'''"
      ],
      "metadata": {
        "id": "wTAwIxA7pAku"
      },
      "execution_count": null,
      "outputs": []
    },
    {
      "cell_type": "code",
      "source": [
        "'''Built-in functions\n",
        "Those functins that are predefined in the Python and can be used anytime\n",
        "Example: print() len() max() min() sum() type() id() value()'''"
      ],
      "metadata": {
        "id": "cVI04REOq_YA"
      },
      "execution_count": null,
      "outputs": []
    },
    {
      "cell_type": "code",
      "source": [
        "'''User-defined functions\n",
        "Those functins that are defined by the user using the def keyword\n",
        "we form these functions to reuse them anytime'''"
      ],
      "metadata": {
        "id": "yLgtakQirc10"
      },
      "execution_count": null,
      "outputs": []
    },
    {
      "cell_type": "code",
      "source": [
        "#scope of variable\n",
        "'''1.Local Variable\n",
        "2.Global Variable'''"
      ],
      "metadata": {
        "id": "OVlKAMG6r0ld"
      },
      "execution_count": null,
      "outputs": []
    },
    {
      "cell_type": "code",
      "source": [
        "'''Local Variables\n",
        "Those variables that are defined inside a function\n",
        "cannot be accessed or called outside the function\n",
        "Example:\n",
        "def hello():\n",
        "  x = 5  #here x is a local variable\n",
        "'''"
      ],
      "metadata": {
        "id": "6FQ8W3m3sG6g"
      },
      "execution_count": null,
      "outputs": []
    },
    {
      "cell_type": "code",
      "source": [
        "'''Global Variables\n",
        "Those variables that are defined outside a function\n",
        "Can be accessed or called inside and outside the function\n",
        "Example:\n",
        "y = 10   #here y is a global variable\n",
        "def hello():\n",
        "  x = 5\n",
        "'''"
      ],
      "metadata": {
        "id": "saUkGUPmsWil"
      },
      "execution_count": null,
      "outputs": []
    },
    {
      "cell_type": "code",
      "source": [
        "y = 10\n",
        "def addition(a,b):\n",
        "  x = 5\n",
        "  print(a,b,x)\n",
        "  print(x,y)\n",
        "#print(x) #throw name error\n",
        "\n",
        "addition(2,3)"
      ],
      "metadata": {
        "colab": {
          "base_uri": "https://localhost:8080/"
        },
        "id": "iFk92rKQtdcj",
        "outputId": "6d9ffff5-c9d9-4cf5-9a7f-e88e6663a843"
      },
      "execution_count": 22,
      "outputs": [
        {
          "output_type": "stream",
          "name": "stdout",
          "text": [
            "2 3 5\n",
            "5 10\n"
          ]
        }
      ]
    },
    {
      "cell_type": "code",
      "source": [
        "#conversion of variables\n",
        "#global keyword\n",
        "def my_function3():\n",
        "  global x\n",
        "  x = 5\n",
        "print(x)\n"
      ],
      "metadata": {
        "colab": {
          "base_uri": "https://localhost:8080/"
        },
        "id": "Gut8zZsix9ua",
        "outputId": "3a6b55be-e9fc-4710-e72b-97082a6bf6f5"
      },
      "execution_count": 29,
      "outputs": [
        {
          "output_type": "stream",
          "name": "stdout",
          "text": [
            "5\n"
          ]
        }
      ]
    },
    {
      "cell_type": "code",
      "source": [],
      "metadata": {
        "id": "ZCCcdGc1z7r6"
      },
      "execution_count": null,
      "outputs": []
    }
  ]
}