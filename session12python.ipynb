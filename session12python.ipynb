{
  "nbformat": 4,
  "nbformat_minor": 0,
  "metadata": {
    "colab": {
      "provenance": [],
      "authorship_tag": "ABX9TyM8M3YgT4Zp2+sHHpMWCNbY",
      "include_colab_link": true
    },
    "kernelspec": {
      "name": "python3",
      "display_name": "Python 3"
    },
    "language_info": {
      "name": "python"
    }
  },
  "cells": [
    {
      "cell_type": "markdown",
      "metadata": {
        "id": "view-in-github",
        "colab_type": "text"
      },
      "source": [
        "<a href=\"https://colab.research.google.com/github/priyatanwar018/python-practicals/blob/main/session12python.ipynb\" target=\"_parent\"><img src=\"https://colab.research.google.com/assets/colab-badge.svg\" alt=\"Open In Colab\"/></a>"
      ]
    },
    {
      "cell_type": "code",
      "execution_count": null,
      "metadata": {
        "id": "2Vnb5_ZRbBSK"
      },
      "outputs": [],
      "source": [
        "#functions\n",
        "'''To reduce code length\n",
        "To reuse the code'''"
      ]
    },
    {
      "cell_type": "code",
      "source": [
        "'''def keyword is used to define a function'''"
      ],
      "metadata": {
        "id": "ex41veoGciu6"
      },
      "execution_count": null,
      "outputs": []
    },
    {
      "cell_type": "code",
      "source": [
        "'''def <function_name>(<arguments>):\n",
        "code_to_execute\n",
        "\n",
        "example usage\n",
        "\n",
        "function call'''"
      ],
      "metadata": {
        "id": "YFQcE4Jpcpnt"
      },
      "execution_count": null,
      "outputs": []
    },
    {
      "cell_type": "code",
      "source": [
        "def print_name(name):\n",
        "  print(f\"Hii, my name is {name}\")\n",
        "\n",
        "name = input(\"Enter your name: \")\n",
        "print_name(name)"
      ],
      "metadata": {
        "colab": {
          "base_uri": "https://localhost:8080/"
        },
        "id": "l02hEjQqdO7O",
        "outputId": "b0830314-2b6b-4db2-d783-58244f624f63"
      },
      "execution_count": 4,
      "outputs": [
        {
          "output_type": "stream",
          "name": "stdout",
          "text": [
            "Enter your name: Priya\n",
            "Hii, my name is Priya\n"
          ]
        }
      ]
    },
    {
      "cell_type": "code",
      "execution_count": null,
      "metadata": {
        "colab": {
          "base_uri": "https://localhost:8080/"
        },
        "id": "NyLllKSXeQRa",
        "outputId": "afb34363-bbb9-489b-f699-31c1d0dddfd0"
      },
      "outputs": [
        {
          "output_type": "stream",
          "name": "stdout",
          "text": [
            "Enter first number: 3\n",
            "Enter second number: 5\n",
            "Enter operation(1.+ 2.- 3.* 4./): -\n",
            "-2\n"
          ]
        }
      ],
      "source": [
        "def calculator(num1,num2,operation):\n",
        "  if operation == \"+\":\n",
        "    sum = num1 + num2\n",
        "    return sum\n",
        "  elif operation == \"-\":\n",
        "    difference = num1 - num2\n",
        "    return difference\n",
        "  elif operation == \"*\":\n",
        "      product = num1 * num2\n",
        "      return product\n",
        "  elif operation == \"/\":\n",
        "    quotient = num1 / num2\n",
        "    return quotient\n",
        "  else:\n",
        "    print(\"Invalid Operator!!\")\n",
        "    return None\n",
        "\n",
        "num1 = int(input(\"Enter first number: \"))\n",
        "num2 = int(input(\"Enter second number: \"))\n",
        "operation = input(\"Enter operation(1.+ 2.- 3.* 4./): \")\n",
        "result = calculator(num1,num2,operation)\n",
        "print(result)"
      ]
    },
    {
      "cell_type": "code",
      "source": [
        "#return\n",
        "'''will return the value specified after it\n",
        "can only be used inside a function\n",
        "will send the cursor back to the place where the function was called'''\n"
      ],
      "metadata": {
        "id": "LsfTxsPsduYK"
      },
      "execution_count": null,
      "outputs": []
    },
    {
      "cell_type": "code",
      "source": [
        "'''types of arguments\n",
        "1.positional\n",
        "2.keyword\n",
        "3.default\n",
        "4.variable length\n",
        "  4.1 positional variable length\n",
        "  4.2 keyword variable length'''"
      ],
      "metadata": {
        "id": "LCwRNE4shooM"
      },
      "execution_count": null,
      "outputs": []
    },
    {
      "cell_type": "code",
      "source": [
        "'''positional argument\n",
        "we do not need to give the variable\n",
        "only the value is passed\n",
        "example:\n",
        "def add(a,b):\n",
        "  return add\n",
        "\n",
        "add(4,5)     #output 9\n",
        "'''"
      ],
      "metadata": {
        "id": "Pi_kBtpCh_Q-"
      },
      "execution_count": null,
      "outputs": []
    },
    {
      "cell_type": "code",
      "source": [
        "'''keyword argument\n",
        "the name of the variable is passed along with the value\n",
        "Example:\n",
        "def greet(greetings,name):\n",
        "  print(f\"{greetings},{name}\")\n",
        "\n",
        "greet(greetings = \"Hello\",name = \"Priya\")   #output Hello,Priya\n",
        "  '''"
      ],
      "metadata": {
        "id": "wPV3II10jWmR"
      },
      "execution_count": null,
      "outputs": []
    },
    {
      "cell_type": "code",
      "source": [
        "'''default argument\n",
        "when the value of a function is set when the functin is defined\n",
        "Example:\n",
        "def greet(name,greetings= \"hey\"):        #default value of greetings is hey, it's a default argument,it should be the last\n",
        "  print(f\"{greetings},{name}\")\n",
        "\n",
        "greet(name = \"Priya\")   #output hey,Priya\n",
        "'''"
      ],
      "metadata": {
        "id": "Ymy92rMpnjh9"
      },
      "execution_count": null,
      "outputs": []
    },
    {
      "cell_type": "code",
      "source": [
        "def greet(name,greetings=\"Hey\"):\n",
        "  print(f\"{greetings},{name}\")\n",
        "greet(greetings =\"Hello\",name=\"Priya\")"
      ],
      "metadata": {
        "colab": {
          "base_uri": "https://localhost:8080/"
        },
        "id": "wMIy_lLnoHwM",
        "outputId": "a9360e65-c58f-464c-f518-df9d667f7f8b"
      },
      "execution_count": 8,
      "outputs": [
        {
          "output_type": "stream",
          "name": "stdout",
          "text": [
            "Hello,Priya\n"
          ]
        }
      ]
    },
    {
      "cell_type": "code",
      "source": [
        "'''variable length arguments\n",
        "no fixed length of variables\n",
        "\n",
        "#positional variable length\n",
        "def addition(*numbers):\n",
        "  return sum(numbers)\n",
        "\n",
        "\n",
        "addition(1,2,34)  #output 37\n",
        "'''"
      ],
      "metadata": {
        "id": "95iFjt7qobg2"
      },
      "execution_count": null,
      "outputs": []
    },
    {
      "cell_type": "code",
      "source": [
        "def addition(*numbers):\n",
        "  return sum(numbers)\n",
        "\n",
        "addition(1,2,34)"
      ],
      "metadata": {
        "colab": {
          "base_uri": "https://localhost:8080/"
        },
        "id": "a45-Hxkbp9yn",
        "outputId": "f2895551-baa3-45b4-ca70-32bc10845341"
      },
      "execution_count": 11,
      "outputs": [
        {
          "output_type": "execute_result",
          "data": {
            "text/plain": [
              "37"
            ]
          },
          "metadata": {},
          "execution_count": 11
        }
      ]
    },
    {
      "cell_type": "code",
      "source": [],
      "metadata": {
        "id": "tqMdoZbrruc5"
      },
      "execution_count": null,
      "outputs": []
    }
  ]
}