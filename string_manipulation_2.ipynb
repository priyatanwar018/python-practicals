{
  "nbformat": 4,
  "nbformat_minor": 0,
  "metadata": {
    "colab": {
      "provenance": [],
      "authorship_tag": "ABX9TyOKEIIPMNxZoZ0IWe9z0htQ",
      "include_colab_link": true
    },
    "kernelspec": {
      "name": "python3",
      "display_name": "Python 3"
    },
    "language_info": {
      "name": "python"
    }
  },
  "cells": [
    {
      "cell_type": "markdown",
      "metadata": {
        "id": "view-in-github",
        "colab_type": "text"
      },
      "source": [
        "<a href=\"https://colab.research.google.com/github/priyatanwar018/python-practicals/blob/main/string_manipulation_2.ipynb\" target=\"_parent\"><img src=\"https://colab.research.google.com/assets/colab-badge.svg\" alt=\"Open In Colab\"/></a>"
      ]
    },
    {
      "cell_type": "code",
      "source": [
        "# 1. How do you check if a string is empty?\n",
        "\n",
        "#To check if a string is empty you can simply use if statement.\n",
        "\n",
        "string = input(\"Enter a string: \")\n",
        "\n",
        "if string == \"\":\n",
        "  print(\"String is empty\")\n",
        "else:\n",
        "  print(\"String is not empty\")"
      ],
      "metadata": {
        "id": "5YMG77beQtQY",
        "colab": {
          "base_uri": "https://localhost:8080/"
        },
        "outputId": "7f869372-c87a-4504-cfb6-c49c22665a20"
      },
      "execution_count": 1,
      "outputs": [
        {
          "output_type": "stream",
          "name": "stdout",
          "text": [
            "Enter a string: \n",
            "String is empty\n"
          ]
        }
      ]
    },
    {
      "cell_type": "code",
      "source": [
        "# 2. Write a function to convert a string into a list of its characters.\n",
        "\n",
        "def string_to_list(string):\n",
        "  string_list = []\n",
        "  for char in string:\n",
        "    string_list.append(char)\n",
        "  return string_list\n",
        "\n",
        "string_to_list(\"Hello World\")"
      ],
      "metadata": {
        "colab": {
          "base_uri": "https://localhost:8080/"
        },
        "id": "8s3XnFLxMSrX",
        "outputId": "d5fa6253-7b96-4791-f80c-e35afa73a99d"
      },
      "execution_count": 4,
      "outputs": [
        {
          "output_type": "execute_result",
          "data": {
            "text/plain": [
              "['H', 'e', 'l', 'l', 'o', ' ', 'W', 'o', 'r', 'l', 'd']"
            ]
          },
          "metadata": {},
          "execution_count": 4
        }
      ]
    },
    {
      "cell_type": "code",
      "source": [
        "# 3. How can you find the longest common suffix among an array of strings?\n",
        "\n",
        "def longest_common_suffix(strings):\n",
        "  if not strings:\n",
        "    return \"\"\n",
        "\n",
        "  min_length = min(len(string) for string in strings)\n",
        "  suffix = \"\"\n",
        "\n",
        "  for i in range(1,min_length+1):\n",
        "    char = strings[0][-i]\n",
        "    if all(string[-i] == char for string in strings):\n",
        "      suffix = char + suffix\n",
        "    else:\n",
        "      break\n",
        "\n",
        "  return suffix\n",
        "\n",
        "print(longest_common_suffix([\"running\",\"flying\",\"hiking\"]))"
      ],
      "metadata": {
        "colab": {
          "base_uri": "https://localhost:8080/"
        },
        "id": "8gIaMgloNJ9i",
        "outputId": "292a3f1b-cef7-449a-bc53-440d879231b3"
      },
      "execution_count": 9,
      "outputs": [
        {
          "output_type": "stream",
          "name": "stdout",
          "text": [
            "ing\n"
          ]
        }
      ]
    },
    {
      "cell_type": "code",
      "source": [
        "# 4. Write a function to check if a string contains only digits.\n",
        "\n",
        "def contains_only_digits(string):\n",
        "  for char in string:\n",
        "    if not char.isdigit():\n",
        "      return False\n",
        "    else:\n",
        "      return True\n",
        "\n",
        "contains_only_digits(\"1234567\")"
      ],
      "metadata": {
        "colab": {
          "base_uri": "https://localhost:8080/"
        },
        "id": "6UqIQnT3OP97",
        "outputId": "a999d79c-aacb-4ce5-875e-d7cc3cc72d7e"
      },
      "execution_count": 7,
      "outputs": [
        {
          "output_type": "execute_result",
          "data": {
            "text/plain": [
              "True"
            ]
          },
          "metadata": {},
          "execution_count": 7
        }
      ]
    },
    {
      "cell_type": "code",
      "source": [
        "# 5. How do you count the number of words in a string?\n",
        "\n",
        "def count_words(string):\n",
        "  words = string.split()\n",
        "  return len(words)\n",
        "\n",
        "count_words(\"Hello World\")"
      ],
      "metadata": {
        "colab": {
          "base_uri": "https://localhost:8080/"
        },
        "id": "RxzIK58tf6KV",
        "outputId": "ea54b37d-d147-4fac-f91f-75460094f14e"
      },
      "execution_count": 56,
      "outputs": [
        {
          "output_type": "execute_result",
          "data": {
            "text/plain": [
              "2"
            ]
          },
          "metadata": {},
          "execution_count": 56
        }
      ]
    },
    {
      "cell_type": "code",
      "source": [
        "# 6. Write a function to truncate a string to a specified length.\n",
        "\n",
        "def truncate_string(string,length):\n",
        "  if len(string) > length:\n",
        "    return string[:length]\n",
        "  else:\n",
        "    return string\n",
        "\n",
        "truncate_string(\"Hello World\",5)"
      ],
      "metadata": {
        "colab": {
          "base_uri": "https://localhost:8080/",
          "height": 55
        },
        "id": "qtHRkP_hPm46",
        "outputId": "46ff93f3-22c3-41fd-944f-d9899635c37d"
      },
      "execution_count": 13,
      "outputs": [
        {
          "output_type": "execute_result",
          "data": {
            "text/plain": [
              "'Hello'"
            ],
            "application/vnd.google.colaboratory.intrinsic+json": {
              "type": "string"
            }
          },
          "metadata": {},
          "execution_count": 13
        }
      ]
    },
    {
      "cell_type": "code",
      "source": [
        "# 7. How can you remove punctuation from a string?\n",
        "\n",
        "# You can remove punctuation from a string by using replace()\n",
        "import string\n",
        "def remove_punctuation(s):\n",
        "  for char in string.punctuation:\n",
        "      s = s.replace(char,\"\")\n",
        "  return s\n",
        "\n",
        "remove_punctuation(\"Hello World!\")\n"
      ],
      "metadata": {
        "colab": {
          "base_uri": "https://localhost:8080/",
          "height": 55
        },
        "id": "QZJb_WlZQ3Cq",
        "outputId": "32079581-0179-4022-c243-4ca438339882"
      },
      "execution_count": 19,
      "outputs": [
        {
          "output_type": "execute_result",
          "data": {
            "text/plain": [
              "'Hello World'"
            ],
            "application/vnd.google.colaboratory.intrinsic+json": {
              "type": "string"
            }
          },
          "metadata": {},
          "execution_count": 19
        }
      ]
    },
    {
      "cell_type": "code",
      "source": [
        "# 8. Write a function to replace the first occurrence of a character in a string.\n",
        "\n",
        "def replace_first_occurrence(string,char,new_char):\n",
        "  string = string.replace(char,new_char,1)\n",
        "  return string\n",
        "\n",
        "result = replace_first_occurrence(\"Hello Hey There\",\"e\",\"E\")\n",
        "print(result)"
      ],
      "metadata": {
        "colab": {
          "base_uri": "https://localhost:8080/"
        },
        "id": "7Eyo5rYmR-R6",
        "outputId": "ea4a2782-8bfc-45a1-c35b-ca5520502f2b"
      },
      "execution_count": 23,
      "outputs": [
        {
          "output_type": "stream",
          "name": "stdout",
          "text": [
            "HEllo Hey There\n"
          ]
        }
      ]
    },
    {
      "cell_type": "code",
      "source": [
        "# 9. How do you check if a string is a valid URL?\n",
        "\n",
        "import re\n",
        "\n",
        "def is_valid_url(url):\n",
        "  pattern = re.compile(r'^(https?|ftp)://'\n",
        "        r'(?:(?:[A-Z0-9](?:[A-Z0-9-]{0,61}[A-Z0-9])?\\.)+[A-Z]{2,6}\\.?|'\n",
        "        r'localhost|'\n",
        "        r'\\d{1,3}\\.\\d{1,3}\\.\\d{1,3}\\.\\d{1,3}'\n",
        "        r'\\[?[A-F0-9]*:[A-F0-9:]+\\]?)'\n",
        "        r'(?::\\d+)?'\n",
        "        r'(?:/?|[/?]\\S+)$', re.IGNORECASE)\n",
        "\n",
        "  return re.match(pattern, url) is not None\n",
        "\n",
        "url = \"https://www.example.com\"\n",
        "print(is_valid_url(url))\n",
        "\n",
        "invalid_url = \"htp://not-a-valid-url\"\n",
        "print(is_valid_url(invalid_url))"
      ],
      "metadata": {
        "colab": {
          "base_uri": "https://localhost:8080/"
        },
        "id": "ke3QoLDgT0KC",
        "outputId": "c142e3cc-fab5-4c45-9be9-0a520cde7ce9"
      },
      "execution_count": 10,
      "outputs": [
        {
          "output_type": "stream",
          "name": "stdout",
          "text": [
            "True\n",
            "False\n"
          ]
        }
      ]
    },
    {
      "cell_type": "code",
      "source": [
        "# 10. Write a function to rotate a string left by a specified number of positions.\n",
        "\n",
        "def rotate_left(string,n):\n",
        "  return string[n:] + string[:n]\n",
        "\n",
        "rotate_left(\"Hello World\",5)"
      ],
      "metadata": {
        "colab": {
          "base_uri": "https://localhost:8080/",
          "height": 55
        },
        "id": "DFVHwepDUYaS",
        "outputId": "2aa0e8e9-3953-4cce-caad-bb15619c8b61"
      },
      "execution_count": 25,
      "outputs": [
        {
          "output_type": "execute_result",
          "data": {
            "text/plain": [
              "' WorldHello'"
            ],
            "application/vnd.google.colaboratory.intrinsic+json": {
              "type": "string"
            }
          },
          "metadata": {},
          "execution_count": 25
        }
      ]
    },
    {
      "cell_type": "code",
      "source": [
        "# 11. How can you convert a string into a dictionary of character counts?\n",
        "\n",
        "from collections import Counter\n",
        "\n",
        "def char_count(string):\n",
        "    return dict(Counter(string))\n",
        "\n",
        "\n",
        "input_string = \"hello world\"\n",
        "print(char_count(input_string))\n"
      ],
      "metadata": {
        "colab": {
          "base_uri": "https://localhost:8080/"
        },
        "id": "NL1jixZKUygs",
        "outputId": "7e467e04-6a2f-430a-c63d-bc97b45f863f"
      },
      "execution_count": 11,
      "outputs": [
        {
          "output_type": "stream",
          "name": "stdout",
          "text": [
            "{'h': 1, 'e': 1, 'l': 3, 'o': 2, ' ': 1, 'w': 1, 'r': 1, 'd': 1}\n"
          ]
        }
      ]
    },
    {
      "cell_type": "code",
      "source": [
        "# 12. Write a function to find the second largest word in a string.\n",
        "\n",
        "def second_largest_word(string):\n",
        "  words = string.split()\n",
        "\n",
        "  unique_words = (list(set(words)))\n",
        "\n",
        "  unique_words.sort(key=len,reverse=True)\n",
        "\n",
        "  if len(unique_words) < 2:\n",
        "    return None\n",
        "  else:\n",
        "    return unique_words[1]\n",
        "\n",
        "second_largest_word(\"Hey There How are you doing?\")"
      ],
      "metadata": {
        "colab": {
          "base_uri": "https://localhost:8080/",
          "height": 55
        },
        "id": "vDQpJzv4V1Z0",
        "outputId": "7259b810-5b97-4df3-9065-654d9847ccb1"
      },
      "execution_count": 30,
      "outputs": [
        {
          "output_type": "execute_result",
          "data": {
            "text/plain": [
              "'There'"
            ],
            "application/vnd.google.colaboratory.intrinsic+json": {
              "type": "string"
            }
          },
          "metadata": {},
          "execution_count": 30
        }
      ]
    },
    {
      "cell_type": "code",
      "source": [
        "# 13. How do you sort the characters in a string alphabetically?\n",
        "\n",
        "# To sort the characters in a string alphabetically in Python, you can use the sorted() function,\n",
        "#which returns a sorted list of the characters. You can then use the join() method to convert that list back into a string.\n",
        "\n",
        "def sort_string(string):\n",
        "  return \"\".join(sorted(string))\n",
        "\n",
        "sort_string(\"Hello World\")"
      ],
      "metadata": {
        "colab": {
          "base_uri": "https://localhost:8080/",
          "height": 55
        },
        "id": "JiSXGwufW6S-",
        "outputId": "9152485b-5fac-46af-bb4d-74c06685dc8d"
      },
      "execution_count": 31,
      "outputs": [
        {
          "output_type": "execute_result",
          "data": {
            "text/plain": [
              "' HWdellloor'"
            ],
            "application/vnd.google.colaboratory.intrinsic+json": {
              "type": "string"
            }
          },
          "metadata": {},
          "execution_count": 31
        }
      ]
    },
    {
      "cell_type": "code",
      "source": [
        "# 14. Write a function to create a string of alternating characters from two strings.\n",
        "\n",
        "def alternating_characters(string1,string2):\n",
        "\n",
        "  min_length = min(len(string1),len(string2))\n",
        "  result = \"\"\n",
        "\n",
        "  for i in range(min_length):\n",
        "    result += string1[i] + string2[i]\n",
        "\n",
        "  if len(string1) > min_length:\n",
        "    result += string1[min_length:]\n",
        "  elif len(string2) > min_length:\n",
        "    result += string2[min_length:]\n",
        "\n",
        "  return result\n",
        "\n",
        "\n",
        "alternating_characters(\"Hello\",\"World\")"
      ],
      "metadata": {
        "colab": {
          "base_uri": "https://localhost:8080/",
          "height": 55
        },
        "id": "PPPGtlcjX3Rt",
        "outputId": "17cbc25a-8486-4c0d-981f-4696243d8eb3"
      },
      "execution_count": 36,
      "outputs": [
        {
          "output_type": "execute_result",
          "data": {
            "text/plain": [
              "'HWeolrllod'"
            ],
            "application/vnd.google.colaboratory.intrinsic+json": {
              "type": "string"
            }
          },
          "metadata": {},
          "execution_count": 36
        }
      ]
    },
    {
      "cell_type": "code",
      "source": [
        "# 15. How can you format a string with placeholders?\n",
        "\n",
        "def greet(name):\n",
        "  return (f\"Hello {name}!\")\n",
        "\n",
        "greet(\"Priya\")"
      ],
      "metadata": {
        "colab": {
          "base_uri": "https://localhost:8080/",
          "height": 55
        },
        "id": "_LkNVKKpYQwn",
        "outputId": "9adbc611-242e-4cf4-f53f-562482550305"
      },
      "execution_count": 37,
      "outputs": [
        {
          "output_type": "execute_result",
          "data": {
            "text/plain": [
              "'Hello Priya!'"
            ],
            "application/vnd.google.colaboratory.intrinsic+json": {
              "type": "string"
            }
          },
          "metadata": {},
          "execution_count": 37
        }
      ]
    },
    {
      "cell_type": "code",
      "source": [
        "# 16. Write a function to find all the indices of a character in a string.\n",
        "\n",
        "def find_indices(string,char):\n",
        "  indices = []\n",
        "  for i in range(len(string)):\n",
        "    if string[i] == char:\n",
        "      indices.append(i)\n",
        "  return indices\n",
        "\n",
        "\n",
        "find_indices(\"Hello world\",\"l\")"
      ],
      "metadata": {
        "colab": {
          "base_uri": "https://localhost:8080/"
        },
        "id": "vCXELQViaERG",
        "outputId": "a6e19fb7-c965-4b9e-d2ce-a5e8b131b5d6"
      },
      "execution_count": 40,
      "outputs": [
        {
          "output_type": "execute_result",
          "data": {
            "text/plain": [
              "[2, 3, 9]"
            ]
          },
          "metadata": {},
          "execution_count": 40
        }
      ]
    },
    {
      "cell_type": "code",
      "source": [
        "# 17. How do you remove all occurrences of a specific character from a string?\n",
        "\n",
        "def remove_char(string,char):\n",
        "  return string.replace(char,\"\")\n",
        "\n",
        "remove_char(\"Hello World\",\"l\")"
      ],
      "metadata": {
        "colab": {
          "base_uri": "https://localhost:8080/",
          "height": 55
        },
        "id": "mh21FwNfaZTk",
        "outputId": "8e5243ac-d021-4ad1-a31a-cf3fcb515670"
      },
      "execution_count": 42,
      "outputs": [
        {
          "output_type": "execute_result",
          "data": {
            "text/plain": [
              "'Heo Word'"
            ],
            "application/vnd.google.colaboratory.intrinsic+json": {
              "type": "string"
            }
          },
          "metadata": {},
          "execution_count": 42
        }
      ]
    },
    {
      "cell_type": "code",
      "source": [
        "# 18. Write a function to generate a string from a list of integers.\n",
        "\n",
        "def generate_string(list):\n",
        "  return \"\".join(map(str,list))\n",
        "\n",
        "generate_string([1,2,3,4,5])"
      ],
      "metadata": {
        "colab": {
          "base_uri": "https://localhost:8080/",
          "height": 55
        },
        "id": "TDCJtV0va_bv",
        "outputId": "88a11f48-1731-4b0e-e7d7-fb05eb5c3e25"
      },
      "execution_count": 43,
      "outputs": [
        {
          "output_type": "execute_result",
          "data": {
            "text/plain": [
              "'12345'"
            ],
            "application/vnd.google.colaboratory.intrinsic+json": {
              "type": "string"
            }
          },
          "metadata": {},
          "execution_count": 43
        }
      ]
    },
    {
      "cell_type": "code",
      "source": [
        "# 19. How can you check if a string contains special characters?\n",
        "\n",
        "import string\n",
        "def contains_special_characters(s):\n",
        "  for char in string.punctuation:\n",
        "    if char in s:\n",
        "      return True\n",
        "  return False\n",
        "\n",
        "contains_special_characters(\"Hello_World\")"
      ],
      "metadata": {
        "colab": {
          "base_uri": "https://localhost:8080/"
        },
        "id": "Hct6Q_R-bhO-",
        "outputId": "6bf6647a-5aa7-4add-84e6-33badac74f52"
      },
      "execution_count": 47,
      "outputs": [
        {
          "output_type": "execute_result",
          "data": {
            "text/plain": [
              "True"
            ]
          },
          "metadata": {},
          "execution_count": 47
        }
      ]
    },
    {
      "cell_type": "code",
      "source": [
        "# 20. Write a function to compress a string by replacing consecutive duplicates with a count\n",
        "\n",
        "def compress_string(string):\n",
        "  if string == \"\":\n",
        "    return None\n",
        "\n",
        "  compressed = \"\"\n",
        "  count = 1\n",
        "\n",
        "  for i in range(1,len(string)):\n",
        "    if string[i] == string[i-1]:\n",
        "      count += 1\n",
        "    else:\n",
        "      compressed += string[i-1] + (str(count) if count > 1 else \"\")\n",
        "      count = 1\n",
        "\n",
        "  compressed += string[-1] + (str(count) if count > 1 else \"\")\n",
        "\n",
        "  return compressed\n",
        "\n",
        "compress_string(\"Hello World\")\n",
        "\n"
      ],
      "metadata": {
        "colab": {
          "base_uri": "https://localhost:8080/",
          "height": 55
        },
        "id": "18NxKBK2cAjw",
        "outputId": "59aec09e-f4f5-4520-989e-a26f0c1b6be3"
      },
      "execution_count": 54,
      "outputs": [
        {
          "output_type": "execute_result",
          "data": {
            "text/plain": [
              "'Hel2o World'"
            ],
            "application/vnd.google.colaboratory.intrinsic+json": {
              "type": "string"
            }
          },
          "metadata": {},
          "execution_count": 54
        }
      ]
    }
  ]
}