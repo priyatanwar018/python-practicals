{
  "nbformat": 4,
  "nbformat_minor": 0,
  "metadata": {
    "colab": {
      "provenance": [],
      "authorship_tag": "ABX9TyMH56dFrvSwIMxZyIKXEI2m",
      "include_colab_link": true
    },
    "kernelspec": {
      "name": "python3",
      "display_name": "Python 3"
    },
    "language_info": {
      "name": "python"
    }
  },
  "cells": [
    {
      "cell_type": "markdown",
      "metadata": {
        "id": "view-in-github",
        "colab_type": "text"
      },
      "source": [
        "<a href=\"https://colab.research.google.com/github/priyatanwar018/python-practicals/blob/main/Variables%26Data_Types.ipynb\" target=\"_parent\"><img src=\"https://colab.research.google.com/assets/colab-badge.svg\" alt=\"Open In Colab\"/></a>"
      ]
    },
    {
      "cell_type": "code",
      "execution_count": null,
      "metadata": {
        "id": "4bQA1JFrvW8C"
      },
      "outputs": [],
      "source": [
        "#Practice questions on variables and data types"
      ]
    },
    {
      "cell_type": "code",
      "source": [
        "# Question 1 Write a program to assign values of different data types to variables and print them.\n",
        "\n",
        "num1 =  int(-4)\n",
        "print (num1)\n",
        "\n",
        "num2 = float(-4)\n",
        "print (num2)\n",
        "\n",
        "string = str(10)\n",
        "print (string)\n",
        "\n",
        "boolean = bool(True)\n",
        "print(boolean)\n",
        "\n",
        "_list = [1,2,3,4,5]\n",
        "print(_list)\n",
        "\n",
        "_tuple = (1,2,3,4)\n",
        "print(_tuple)\n",
        "\n",
        "_set = {1,2,3,4,4,3,2,1}\n",
        "print(_set)"
      ],
      "metadata": {
        "colab": {
          "base_uri": "https://localhost:8080/"
        },
        "id": "8dd-yuqkBS20",
        "outputId": "059c30cf-2714-44fe-b153-14866d5fbec9"
      },
      "execution_count": null,
      "outputs": [
        {
          "output_type": "stream",
          "name": "stdout",
          "text": [
            "-4\n",
            "-4.0\n",
            "10\n",
            "True\n",
            "[1, 2, 3, 4, 5]\n",
            "(1, 2, 3, 4)\n",
            "{1, 2, 3, 4}\n"
          ]
        }
      ]
    },
    {
      "cell_type": "code",
      "source": [
        "# Question 2 Swap two variables using a temporary variable\n",
        "\n",
        "a = 10\n",
        "b = 20\n",
        "\n",
        "temp = a\n",
        "a = b\n",
        "b = temp\n",
        "\n",
        "print(a)\n",
        "print(b)"
      ],
      "metadata": {
        "colab": {
          "base_uri": "https://localhost:8080/"
        },
        "id": "-TULnrH6HX6L",
        "outputId": "145578b8-11ca-430c-8641-0673ffba211a"
      },
      "execution_count": null,
      "outputs": [
        {
          "output_type": "stream",
          "name": "stdout",
          "text": [
            "20\n",
            "10\n"
          ]
        }
      ]
    },
    {
      "cell_type": "code",
      "source": [
        "# Question 3 Write a Python program to determie the type of variable after performing type conversion multiple times.\n",
        "\n",
        "num = 10\n",
        "print(type(num))\n",
        "\n",
        "num_float = float(num)\n",
        "print(type(num_float))\n",
        "\n",
        "num_str = str(num)\n",
        "print(type(num_str))"
      ],
      "metadata": {
        "colab": {
          "base_uri": "https://localhost:8080/"
        },
        "id": "q7uP4VcXcN0N",
        "outputId": "4c3c474c-e30b-4fdd-dcf7-8394ea3bd926"
      },
      "execution_count": null,
      "outputs": [
        {
          "output_type": "stream",
          "name": "stdout",
          "text": [
            "<class 'int'>\n",
            "<class 'float'>\n",
            "<class 'str'>\n"
          ]
        }
      ]
    },
    {
      "cell_type": "code",
      "source": [
        "# Question 4 convert an integer to a string and concatenate it with another string\n",
        "\n",
        "num = 10\n",
        "string = str(num)\n",
        "print(string + \" is a string\")"
      ],
      "metadata": {
        "colab": {
          "base_uri": "https://localhost:8080/"
        },
        "id": "cGUpIzBBc7jz",
        "outputId": "048bfd63-b734-4158-ad2b-d05d3012ca25"
      },
      "execution_count": null,
      "outputs": [
        {
          "output_type": "stream",
          "name": "stdout",
          "text": [
            "10 is a string\n"
          ]
        }
      ]
    },
    {
      "cell_type": "code",
      "source": [
        "# Question 5 Write a Python program to check if a variable is an instance of a specific data type (e.g., check if it's an integer or a string).\n",
        "\n",
        "num = 10\n",
        "string = \"10\"\n",
        "print(isinstance(num, int))\n",
        "print(isinstance(string, str))"
      ],
      "metadata": {
        "colab": {
          "base_uri": "https://localhost:8080/"
        },
        "id": "2Z40wQeVdpI-",
        "outputId": "1c7737a9-365a-4bab-f98c-f0c98335185a"
      },
      "execution_count": null,
      "outputs": [
        {
          "output_type": "stream",
          "name": "stdout",
          "text": [
            "True\n",
            "True\n"
          ]
        }
      ]
    },
    {
      "cell_type": "code",
      "source": [
        "# Question 6 Take two inputs from the user and perform arithmetic operations(add,subtract,multiply,divide)\n",
        "\n",
        "num1 = int(input(\"Enter first number: \"))\n",
        "num2 = int(input(\"Enter second number: \"))\n",
        "\n",
        "add = num1 + num2\n",
        "print(\"Sum is \",add)\n",
        "\n",
        "subtract = num1 - num2\n",
        "print(\"Difference is \",subtract)\n",
        "\n",
        "multiply = num1 * num2\n",
        "print(\"Product is \",multiply)\n",
        "\n",
        "divide = num1 / num2\n",
        "print(\"Quotient is \",divide)"
      ],
      "metadata": {
        "colab": {
          "base_uri": "https://localhost:8080/"
        },
        "id": "wvy7RCkGe3lK",
        "outputId": "0e678bc4-f879-47b7-f37e-e8a837728da7"
      },
      "execution_count": null,
      "outputs": [
        {
          "output_type": "stream",
          "name": "stdout",
          "text": [
            "Enter first number: 10\n",
            "Enter second number: 4\n",
            "Sum is  14\n",
            "Difference is  6\n",
            "Product is  40\n",
            "Quotient is  2.5\n"
          ]
        }
      ]
    },
    {
      "cell_type": "code",
      "source": [
        "# Question 7 write a program to take a float input and round it to 2 decimal places\n",
        "\n",
        "num = float(input(\"Enter a number: \"))\n",
        "print(round(num, 2))"
      ],
      "metadata": {
        "colab": {
          "base_uri": "https://localhost:8080/"
        },
        "id": "Qh8cB6JYgJ53",
        "outputId": "6ab6de44-c326-4d36-a116-17152a64d859"
      },
      "execution_count": null,
      "outputs": [
        {
          "output_type": "stream",
          "name": "stdout",
          "text": [
            "Enter a number: 3.14267\n",
            "3.14\n"
          ]
        }
      ]
    },
    {
      "cell_type": "code",
      "source": [
        "# Question 8 Write a python program to convert a float to an integer and an integer to a float\n",
        "\n",
        "num1 = float(input(\"Enter a number: \"))\n",
        "print(int(num1))\n",
        "\n",
        "num2 = int(input(\"Enter a number: \"))\n",
        "print(float(num2))\n"
      ],
      "metadata": {
        "colab": {
          "base_uri": "https://localhost:8080/"
        },
        "id": "cHs04WLQhXVW",
        "outputId": "2c69e7f5-f800-4b3a-f4c7-a69c2669779f"
      },
      "execution_count": null,
      "outputs": [
        {
          "output_type": "stream",
          "name": "stdout",
          "text": [
            "Enter a number: 3.14\n",
            "3\n",
            "Enter a number: 4\n",
            "4.0\n"
          ]
        }
      ]
    },
    {
      "cell_type": "code",
      "source": [
        "# Question 9 Write a Python program to check the type of a variable and perform a type-specific operation.\n",
        "#For example, if the variable is a list, print its length; if it's a string, print its uppercased version; if it's a number, print its square.\n",
        "\n",
        "var1 = [1,2,3,4]\n",
        "print(type(var1))\n",
        "print(len(var1))\n",
        "\n",
        "var2 = \"hello\"\n",
        "print(type(var2))\n",
        "print(var2.upper())\n",
        "\n",
        "var3 = 5\n",
        "print(type(var3))\n",
        "print(var3 ** 2)\n",
        "\n"
      ],
      "metadata": {
        "colab": {
          "base_uri": "https://localhost:8080/"
        },
        "id": "lfgfUUaWje5M",
        "outputId": "750f09fe-5525-40e5-9138-ccc235b422a3"
      },
      "execution_count": null,
      "outputs": [
        {
          "output_type": "stream",
          "name": "stdout",
          "text": [
            "<class 'list'>\n",
            "4\n",
            "<class 'str'>\n",
            "HELLO\n",
            "<class 'int'>\n",
            "25\n"
          ]
        }
      ]
    },
    {
      "cell_type": "code",
      "source": [
        "# Question 10 Create a constant variable and print it's value (using convention)\n",
        "\n",
        "PI = 3.14  #PI is written in uppercase to indicate that it's a constant, this is known as using convention\n",
        "print(\"The value of Pi is\",PI)"
      ],
      "metadata": {
        "colab": {
          "base_uri": "https://localhost:8080/"
        },
        "id": "lbMpECxMonT0",
        "outputId": "41490a0e-4e63-4dc7-f51d-5625be01fe58"
      },
      "execution_count": null,
      "outputs": [
        {
          "output_type": "stream",
          "name": "stdout",
          "text": [
            "The value of Pi is 3.14\n"
          ]
        }
      ]
    },
    {
      "cell_type": "code",
      "source": [
        "# Question 11 Write a Python program to calculate the area of a triangle given base and height\n",
        "\n",
        "base = int(input(\"Enter the base of the triangle: \"))\n",
        "height = int(input(\"Enter the height of the triangle: \"))\n",
        "area = 0.5 * base * height\n",
        "print(f\"The area of triangle is {area} sq. units\")"
      ],
      "metadata": {
        "colab": {
          "base_uri": "https://localhost:8080/"
        },
        "id": "_fONyhWrpgKP",
        "outputId": "5f7aa63a-923f-4b0f-d78b-25d4d78f87fe"
      },
      "execution_count": null,
      "outputs": [
        {
          "output_type": "stream",
          "name": "stdout",
          "text": [
            "Enter the base of the triangle: 10\n",
            "Enter the height of the triangle: 5\n",
            "The area of triangle is 25.0 sq. units\n"
          ]
        }
      ]
    },
    {
      "cell_type": "code",
      "source": [
        "# Question 12 Write a Python program that takes a floating-point number and converts it to an integer by truncating the decimal part.\n",
        "#Then, demonstrate how truncation differs from rounding by comparing the results\n",
        "\n",
        "num = 3.75\n",
        "\n",
        "truncated_num = int(num)\n",
        "\n",
        "rounded_num = round(num)\n",
        "\n",
        "print(f\"This is original number: {num}\")\n",
        "print(f\"This is truncated number: {truncated_num}\")  #Truncate's the decimal part completely\n",
        "print(f\"This is rounded number: {rounded_num}\")     # Round off the number to the nearest digit"
      ],
      "metadata": {
        "colab": {
          "base_uri": "https://localhost:8080/"
        },
        "id": "geP28PK9qLJA",
        "outputId": "64ef69cd-4c13-41a8-c05c-155bd4a4a655"
      },
      "execution_count": null,
      "outputs": [
        {
          "output_type": "stream",
          "name": "stdout",
          "text": [
            "This is original number: 3.75\n",
            "This is truncated number: 3\n",
            "This is rounded number: 4\n"
          ]
        }
      ]
    },
    {
      "cell_type": "code",
      "source": [
        "# Question 13 Write a program that performs type casting between int, float, and string.\n",
        "\n",
        "int_value = 44\n",
        "float_value = 3.14\n",
        "string_value = \"10.67\"\n",
        "\n",
        "int_to_float = float(int_value)\n",
        "print(int_to_float)\n",
        "\n",
        "int_to_string = str(int_value)\n",
        "print(int_to_string)\n",
        "\n",
        "float_to_int = int(float_value)\n",
        "print(float_to_int)\n",
        "\n",
        "float_to_string = str(float_value)\n",
        "print(float_to_string)\n",
        "\n",
        "string_to_int = int(float(string_value))\n",
        "print(string_to_int)\n",
        "\n",
        "string_to_float = float(string_value)\n",
        "print(string_to_float)\n"
      ],
      "metadata": {
        "id": "_2EuztaKsHRE",
        "colab": {
          "base_uri": "https://localhost:8080/"
        },
        "outputId": "19973f3b-c53a-4e88-ce12-6f8c66ec5eae"
      },
      "execution_count": 4,
      "outputs": [
        {
          "output_type": "stream",
          "name": "stdout",
          "text": [
            "44.0\n",
            "44\n",
            "3\n",
            "3.14\n",
            "10\n",
            "10.67\n"
          ]
        }
      ]
    },
    {
      "cell_type": "code",
      "source": [
        "# Question 14 Create a program that swaps two variables without using any additional variables.\n",
        "\n",
        "num1 = 10\n",
        "num2 = 20\n",
        "\n",
        "num1 = num1 + num2\n",
        "num2 = num1 - num2\n",
        "num1 = num1- num2\n",
        "\n",
        "print(num1)\n",
        "print(num2)"
      ],
      "metadata": {
        "colab": {
          "base_uri": "https://localhost:8080/"
        },
        "id": "QIpp1-JhLx4E",
        "outputId": "c4b3b1db-166c-47e7-dcbe-c6755228cb0d"
      },
      "execution_count": 5,
      "outputs": [
        {
          "output_type": "stream",
          "name": "stdout",
          "text": [
            "20\n",
            "10\n"
          ]
        }
      ]
    },
    {
      "cell_type": "code",
      "source": [
        "# Question 15 Write a program to calculate the compound interest.\n",
        "\n",
        "p = float(input(\"Enter the principal amount: \"))\n",
        "r = float(input(\"Enter the rate of interest(in %): \")) /100\n",
        "n = float(input(\"Enter the number of times interest is compounded per year: \"))\n",
        "t = float(input(\"Enter the time period in years: \"))\n",
        "\n",
        "a = p * (1 + (r/n) ** (n*t))\n",
        "\n",
        "print(f\"The compound interest is {a}\")"
      ],
      "metadata": {
        "colab": {
          "base_uri": "https://localhost:8080/"
        },
        "id": "97Se3fFHMk3O",
        "outputId": "7a3b6a4c-600a-4abe-842f-e625da735f0d"
      },
      "execution_count": 6,
      "outputs": [
        {
          "output_type": "stream",
          "name": "stdout",
          "text": [
            "Enter the principal amount: 15000\n",
            "Enter the rate of interest(in %): 5\n",
            "Enter the number of times interest is compounded per year: 1\n",
            "Enter the time period in years: 1\n",
            "The compound interest is 15750.0\n"
          ]
        }
      ]
    },
    {
      "cell_type": "code",
      "source": [
        "# Question 16 Write a python script to check if a variable contains a number\n",
        "\n",
        "var = 10\n",
        "print(isinstance(var, (int, float)))"
      ],
      "metadata": {
        "colab": {
          "base_uri": "https://localhost:8080/"
        },
        "id": "azoNDeG0Pbwt",
        "outputId": "c7ff9e33-9ac0-4ef8-f4a2-a50d46d6c74d"
      },
      "execution_count": 9,
      "outputs": [
        {
          "output_type": "stream",
          "name": "stdout",
          "text": [
            "True\n"
          ]
        }
      ]
    },
    {
      "cell_type": "code",
      "source": [
        "# Question 17 Create a program that takes input of two numbers and checks which one is greater.\n",
        "\n",
        "num1 = int(input(\"Enter first number: \"))\n",
        "num2 = int(input(\"Enter second number: \"))\n",
        "\n",
        "if num1 > num2:\n",
        "  print(f\"{num1} is greater than {num2}\")\n",
        "elif num2 > num1:\n",
        "  print(f\"{num2} is greater than {num1}\")\n",
        "else:\n",
        "  print(f\"{num1} is equal to {num2}\")"
      ],
      "metadata": {
        "colab": {
          "base_uri": "https://localhost:8080/"
        },
        "id": "xH2aidJqP4nx",
        "outputId": "16b215fb-cd5b-4fd2-997d-709d2265b8a9"
      },
      "execution_count": 10,
      "outputs": [
        {
          "output_type": "stream",
          "name": "stdout",
          "text": [
            "Enter first number: 10\n",
            "Enter second number: 20\n",
            "20 is greater than 10\n"
          ]
        }
      ]
    },
    {
      "cell_type": "code",
      "source": [
        "# Question 18 Write a program that stores a Boolean value and checks its truth value\n",
        "\n",
        "user_input = input(\"Enter a boolean value(True/False): \")\n",
        "\n",
        "if user_input == \"True\":\n",
        "  boolean_value = True\n",
        "elif user_input == \"False\":\n",
        "  boolean_value = False\n",
        "else:\n",
        "  print(\"Invalid input! Please enter True or False\")\n",
        "  boolean_value = None\n",
        "\n",
        "\n",
        "if boolean_value is not None:\n",
        "  if boolean_value:\n",
        "    print(\"The value is True\")\n",
        "  else:\n",
        "    print(\"The value is False\")"
      ],
      "metadata": {
        "colab": {
          "base_uri": "https://localhost:8080/"
        },
        "id": "-_PkHkFBSYWZ",
        "outputId": "63e92a78-a6af-46be-b7e8-84f51fc650c7"
      },
      "execution_count": 15,
      "outputs": [
        {
          "output_type": "stream",
          "name": "stdout",
          "text": [
            "Enter a boolean value(True/False): True\n",
            "The value is True\n"
          ]
        }
      ]
    },
    {
      "cell_type": "code",
      "source": [
        "# Question 19 Write a program to get the ASCII value of a character\n",
        "\n",
        "char = input(\"Enter a character: \")\n",
        "\n",
        "if len(char) == 1:\n",
        "  ascii_value = ord(char)\n",
        "  print(f\"The ascii value of {char} is {ascii_value}\")\n",
        "else:\n",
        "  print(\"Please enter a single character\")\n",
        "\n"
      ],
      "metadata": {
        "colab": {
          "base_uri": "https://localhost:8080/"
        },
        "id": "AebKykPGTNuL",
        "outputId": "83d64019-22b1-4acc-f43e-6a12f32be983"
      },
      "execution_count": 16,
      "outputs": [
        {
          "output_type": "stream",
          "name": "stdout",
          "text": [
            "Enter a character: d\n",
            "The ascii value of d is 100\n"
          ]
        }
      ]
    },
    {
      "cell_type": "code",
      "source": [
        "# Question 20 Take a year as input and check if it's a leap year or not\n",
        "\n",
        "year = int(input(\"Enter a year: \"))\n",
        "\n",
        "if len(year) == 4:\n",
        "  if (year % 4 == 0 and year % 100 != 0) or (year % 400 == 0):\n",
        "    print(f\"{year} is a leap year\")\n",
        "  else:\n",
        "    print(f\"{year} is not a leap year\")\n",
        "else:\n",
        "  print(\"Please enter a valid year\")\n"
      ],
      "metadata": {
        "colab": {
          "base_uri": "https://localhost:8080/"
        },
        "id": "rSZMhb5se-i2",
        "outputId": "20e6053d-9a1f-4208-b7d4-cf21fcdf045d"
      },
      "execution_count": 17,
      "outputs": [
        {
          "output_type": "stream",
          "name": "stdout",
          "text": [
            "Enter a year: 2025\n",
            "2025 is not a leap year\n"
          ]
        }
      ]
    },
    {
      "cell_type": "code",
      "source": [],
      "metadata": {
        "id": "rrdu96BpgPoq"
      },
      "execution_count": null,
      "outputs": []
    }
  ]
}