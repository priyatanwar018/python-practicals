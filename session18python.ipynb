{
  "nbformat": 4,
  "nbformat_minor": 0,
  "metadata": {
    "colab": {
      "provenance": [],
      "authorship_tag": "ABX9TyOfo9IC0bGIac8Fg4zYgwwW",
      "include_colab_link": true
    },
    "kernelspec": {
      "name": "python3",
      "display_name": "Python 3"
    },
    "language_info": {
      "name": "python"
    }
  },
  "cells": [
    {
      "cell_type": "markdown",
      "metadata": {
        "id": "view-in-github",
        "colab_type": "text"
      },
      "source": [
        "<a href=\"https://colab.research.google.com/github/priyatanwar018/python-practicals/blob/main/session18python.ipynb\" target=\"_parent\"><img src=\"https://colab.research.google.com/assets/colab-badge.svg\" alt=\"Open In Colab\"/></a>"
      ]
    },
    {
      "cell_type": "code",
      "execution_count": 3,
      "metadata": {
        "colab": {
          "base_uri": "https://localhost:8080/"
        },
        "id": "2BgZUgx0p3-k",
        "outputId": "7419938d-a1ef-42ad-af1c-0f9e70ba982f"
      },
      "outputs": [
        {
          "output_type": "stream",
          "name": "stdout",
          "text": [
            "Enter a number0\n",
            "Can not divide by zero\n",
            "Code done\n"
          ]
        }
      ],
      "source": [
        "#Error Handling\n",
        "\n",
        "try:\n",
        "  integer = int(input(\"Enter a number\"))\n",
        "  result = 10/0\n",
        "except ZeroDivisionError:\n",
        "  print(\"Can not divide by zero\")\n",
        "else:\n",
        "  result = 10/0\n",
        "  print(result)\n",
        "finally:\n",
        "  print(\"Code done\")"
      ]
    },
    {
      "cell_type": "code",
      "source": [
        "try:\n",
        "  c = input(\"Enter input: \")\n",
        "  int(c)\n",
        "except ValueError:\n",
        "  print(\"Cannot be converted into an integer\")\n",
        "else:\n",
        "  print(c)\n",
        "finally:\n",
        "  print(\"Execution complete\")"
      ],
      "metadata": {
        "colab": {
          "base_uri": "https://localhost:8080/"
        },
        "id": "xriiIqihtayL",
        "outputId": "d060406b-c21c-4c3d-8fcb-d274bafcdaf8"
      },
      "execution_count": 6,
      "outputs": [
        {
          "output_type": "stream",
          "name": "stdout",
          "text": [
            "Enter input: 10\n",
            "10\n",
            "Execution complete\n"
          ]
        }
      ]
    },
    {
      "cell_type": "code",
      "source": [
        "try:\n",
        "  integer = int(input(\"Enter a number: \"))\n",
        "  result = 10/integer\n",
        "except (ZeroDivisionError, ValueError) as e:\n",
        "  print(f\"An error occurred: {e} \")\n",
        "else:\n",
        "  result = 10/integer\n",
        "  print(result)\n",
        "finally:\n",
        "  print(\"Code done\")"
      ],
      "metadata": {
        "colab": {
          "base_uri": "https://localhost:8080/"
        },
        "id": "7HqYwAzOxNbJ",
        "outputId": "adea02fc-08d6-41e3-939d-bba82e57eb10"
      },
      "execution_count": 9,
      "outputs": [
        {
          "output_type": "stream",
          "name": "stdout",
          "text": [
            "Enter a number: ten\n",
            "An error occurred: invalid literal for int() with base 10: 'ten' \n",
            "Code done\n"
          ]
        }
      ]
    },
    {
      "cell_type": "code",
      "source": [
        "numbers = [10,20,0,30,0,40,50]\n",
        "for num in numbers:\n",
        "  try:\n",
        "    a = 100/num\n",
        "    print(a)\n",
        "  except ZeroDivisionError:\n",
        "    print(\"Cannot divide by zero\")"
      ],
      "metadata": {
        "colab": {
          "base_uri": "https://localhost:8080/"
        },
        "id": "m1rUomLfyqYY",
        "outputId": "314071a1-5b6e-40e9-dafa-023c0b1da411"
      },
      "execution_count": 20,
      "outputs": [
        {
          "output_type": "stream",
          "name": "stdout",
          "text": [
            "10.0\n",
            "5.0\n",
            "Cannot divide by zero\n",
            "3.3333333333333335\n",
            "Cannot divide by zero\n",
            "2.5\n",
            "2.0\n"
          ]
        }
      ]
    },
    {
      "cell_type": "code",
      "source": [
        "numbers = [10,20,0,30,40,0,50,60]\n",
        "for num in numbers:\n",
        "  try:\n",
        "    a = 100/num\n",
        "    print(a)\n",
        "  except ZeroDivisionError:\n",
        "    print(\"Cannot divide by zero\")"
      ],
      "metadata": {
        "colab": {
          "base_uri": "https://localhost:8080/"
        },
        "id": "bfxSiJF21EYc",
        "outputId": "c93e739b-98e6-4e3c-9196-9a441588c807"
      },
      "execution_count": 21,
      "outputs": [
        {
          "output_type": "stream",
          "name": "stdout",
          "text": [
            "10.0\n",
            "5.0\n",
            "Cannot divide y zero\n",
            "3.3333333333333335\n",
            "2.5\n",
            "Cannot divide y zero\n",
            "2.0\n",
            "1.6666666666666667\n"
          ]
        }
      ]
    },
    {
      "cell_type": "code",
      "source": [
        "num = int(input(\"Enter a number: \"))\n",
        "try:\n",
        "  a = 100/num\n",
        "  print(a)\n",
        "except (ZeroDivisionError, ValueError) as e:\n",
        "  print(f\"An error occurred: {e}\")"
      ],
      "metadata": {
        "colab": {
          "base_uri": "https://localhost:8080/"
        },
        "id": "8teqDt1k7Zuu",
        "outputId": "d70d7462-6b83-4310-da8a-6cb18fde3392"
      },
      "execution_count": 24,
      "outputs": [
        {
          "output_type": "stream",
          "name": "stdout",
          "text": [
            "Enter a number: 0\n",
            "An error occurred: division by zero\n"
          ]
        }
      ]
    },
    {
      "cell_type": "code",
      "source": [],
      "metadata": {
        "id": "gliVssQA72Rc"
      },
      "execution_count": null,
      "outputs": []
    }
  ]
}