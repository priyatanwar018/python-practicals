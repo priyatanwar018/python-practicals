{
  "nbformat": 4,
  "nbformat_minor": 0,
  "metadata": {
    "colab": {
      "provenance": [],
      "authorship_tag": "ABX9TyPIBzWw3geY2l+KnfErRxTm",
      "include_colab_link": true
    },
    "kernelspec": {
      "name": "python3",
      "display_name": "Python 3"
    },
    "language_info": {
      "name": "python"
    }
  },
  "cells": [
    {
      "cell_type": "markdown",
      "metadata": {
        "id": "view-in-github",
        "colab_type": "text"
      },
      "source": [
        "<a href=\"https://colab.research.google.com/github/priyatanwar018/python-practicals/blob/main/strings.ipynb\" target=\"_parent\"><img src=\"https://colab.research.google.com/assets/colab-badge.svg\" alt=\"Open In Colab\"/></a>"
      ]
    },
    {
      "cell_type": "code",
      "execution_count": null,
      "metadata": {
        "id": "eZGotpbxhxbD"
      },
      "outputs": [],
      "source": [
        "# Practice questions on strings"
      ]
    },
    {
      "cell_type": "code",
      "source": [
        "# Question 1 Write a Python program to count the number of characters (including spaces) in a string\n",
        "\n",
        "string = \"Hello World!\"\n",
        "print(len(string))"
      ],
      "metadata": {
        "colab": {
          "base_uri": "https://localhost:8080/"
        },
        "id": "7YHB-MQ8mntL",
        "outputId": "3cb3edd9-ee62-4e08-faf0-1e429ba567e4"
      },
      "execution_count": 1,
      "outputs": [
        {
          "output_type": "stream",
          "name": "stdout",
          "text": [
            "12\n"
          ]
        }
      ]
    },
    {
      "cell_type": "code",
      "source": [
        "# Question 2 Write a Python program to check if a given string starts with a specific substring\n",
        "\n",
        "main_string = input(\"Enter the mian string: \")\n",
        "substring = input(\"Enter the substring: \")\n",
        "\n",
        "if main_string.startswith(substring):\n",
        "  print(f\"{main_string} starts with {substring}\")\n",
        "else:\n",
        "  print(f\"{main_string} does not start with the {substring}\")"
      ],
      "metadata": {
        "colab": {
          "base_uri": "https://localhost:8080/"
        },
        "id": "RKJE2Mm9nhzC",
        "outputId": "ddfadbe9-69ab-47fd-e25f-9cd93ecccea0"
      },
      "execution_count": 2,
      "outputs": [
        {
          "output_type": "stream",
          "name": "stdout",
          "text": [
            "Enter the mian string: hello, my name is Priya Tanwar\n",
            "Enter the substring: hello\n",
            "hello, my name is Priya Tanwar starts with hello\n"
          ]
        }
      ]
    },
    {
      "cell_type": "code",
      "source": [
        "# Question 3 Write a Python program to convert a string to uppercase\n",
        "\n",
        "string = \"hello world!\"\n",
        "string = string.upper()\n",
        "print(string)"
      ],
      "metadata": {
        "colab": {
          "base_uri": "https://localhost:8080/"
        },
        "id": "Qb1w4-d1qYif",
        "outputId": "ef7dd05e-de02-4f0e-d05e-f413568086ba"
      },
      "execution_count": 3,
      "outputs": [
        {
          "output_type": "stream",
          "name": "stdout",
          "text": [
            "HELLO WORLD!\n"
          ]
        }
      ]
    },
    {
      "cell_type": "code",
      "source": [
        "# Question 4 Write a Python program to replace all occurrences of a specific character in a string with another character.\n",
        "\n",
        "string = \"hello world!\"\n",
        "string = string.replace(\"o\", \"O\")\n",
        "print(string)"
      ],
      "metadata": {
        "colab": {
          "base_uri": "https://localhost:8080/"
        },
        "id": "-ZTe5j1qscP4",
        "outputId": "3b34797e-bfca-4fd3-9646-cb18d66bbf35"
      },
      "execution_count": 4,
      "outputs": [
        {
          "output_type": "stream",
          "name": "stdout",
          "text": [
            "hellO wOrld!\n"
          ]
        }
      ]
    },
    {
      "cell_type": "code",
      "source": [
        "# Question 5 Write a Python program to check if a string contains only digits using isdigit()\n",
        "\n",
        "string = \"12345\"\n",
        "print(string.isdigit())"
      ],
      "metadata": {
        "colab": {
          "base_uri": "https://localhost:8080/"
        },
        "id": "iGjs9_U_tUOO",
        "outputId": "9502408d-e0b3-4bcd-93ad-194c641ba28b"
      },
      "execution_count": 5,
      "outputs": [
        {
          "output_type": "stream",
          "name": "stdout",
          "text": [
            "True\n"
          ]
        }
      ]
    },
    {
      "cell_type": "code",
      "source": [
        "# Question 6 Write a Python program to convert a string to lowercase\n",
        "\n",
        "string = \"HELLO WORLD!\"\n",
        "print(string.lower())"
      ],
      "metadata": {
        "colab": {
          "base_uri": "https://localhost:8080/"
        },
        "id": "I-bcF6KGtrII",
        "outputId": "ee73b2a3-9e32-441f-c5fe-8b8a6bcee543"
      },
      "execution_count": 6,
      "outputs": [
        {
          "output_type": "stream",
          "name": "stdout",
          "text": [
            "hello world!\n"
          ]
        }
      ]
    },
    {
      "cell_type": "code",
      "source": [
        "# Question 7 Write a Python program to check if a string ends with a specific substring\n",
        "\n",
        "main_string = input(\"Enter the main string: \")\n",
        "substring = input(\"Enter the substring: \")\n",
        "\n",
        "if main_string.endswith(substring):\n",
        "  print(f\"{main_string} ends with {substring}\")\n",
        "else:\n",
        "  print(f\"{main_string} does not end {substring}\")"
      ],
      "metadata": {
        "colab": {
          "base_uri": "https://localhost:8080/"
        },
        "id": "yPPQ_nGst7Pe",
        "outputId": "39c56d2c-6604-4355-da19-39db414ba919"
      },
      "execution_count": 8,
      "outputs": [
        {
          "output_type": "stream",
          "name": "stdout",
          "text": [
            "Enter the main string: hello world!\n",
            "Enter the substring: ld!\n",
            "hello world! ends with ld!\n"
          ]
        }
      ]
    },
    {
      "cell_type": "code",
      "source": [
        "# Question 8 Write a Python program to count the number of times a specific character appears in a string using count()\n",
        "\n",
        "string = \"hello world!\"\n",
        "print(string.count(\"l\"))"
      ],
      "metadata": {
        "colab": {
          "base_uri": "https://localhost:8080/"
        },
        "id": "FxoksEUZuaXr",
        "outputId": "dec5ac8b-f50a-4d7a-8692-741fa83b2e4d"
      },
      "execution_count": 10,
      "outputs": [
        {
          "output_type": "stream",
          "name": "stdout",
          "text": [
            "3\n"
          ]
        }
      ]
    },
    {
      "cell_type": "code",
      "source": [
        "# Question 9 Write a Python program to remove leading and trailing spaces from a string using strip()\n",
        "\n",
        "string = \"    hello world!    \"\n",
        "print(string.strip())"
      ],
      "metadata": {
        "colab": {
          "base_uri": "https://localhost:8080/"
        },
        "id": "c-3DvoMUvcdh",
        "outputId": "ae1473d3-4b72-48ff-a643-2bd5a05fb2fc"
      },
      "execution_count": 11,
      "outputs": [
        {
          "output_type": "stream",
          "name": "stdout",
          "text": [
            "hello world!\n"
          ]
        }
      ]
    },
    {
      "cell_type": "code",
      "source": [
        "# Question 10 Write a Python program to check if a string is a valid alphanumeric string using isalnum()\n",
        "\n",
        "string1 = \"Hello123\"\n",
        "string2 = \"Hello\"\n",
        "string3 = \"123\"\n",
        "string4 = \"Hello World\"\n",
        "string5 = \"Hello_world\"\n",
        "print(string1.isalnum())\n",
        "print(string2.isalnum())\n",
        "print(string3.isalnum())\n",
        "print(string4.isalnum())\n",
        "print(string5.isalnum())"
      ],
      "metadata": {
        "colab": {
          "base_uri": "https://localhost:8080/"
        },
        "id": "mdAiauVLvyQn",
        "outputId": "63b00edd-fc2d-412e-ffba-023924d4b42e"
      },
      "execution_count": 16,
      "outputs": [
        {
          "output_type": "stream",
          "name": "stdout",
          "text": [
            "True\n",
            "True\n",
            "True\n",
            "False\n",
            "False\n"
          ]
        }
      ]
    },
    {
      "cell_type": "code",
      "source": [
        "# Question 11 Write a Python program to check if a string is in all uppercase using isupper()\n",
        "\n",
        "string = \"Hello World!\"\n",
        "print(string.isupper())"
      ],
      "metadata": {
        "colab": {
          "base_uri": "https://localhost:8080/"
        },
        "id": "3YK1xAzRwEJ8",
        "outputId": "162ce61a-24bb-417a-c1fb-2e5d7898e3cc"
      },
      "execution_count": 17,
      "outputs": [
        {
          "output_type": "stream",
          "name": "stdout",
          "text": [
            "False\n"
          ]
        }
      ]
    },
    {
      "cell_type": "code",
      "source": [
        "# Question 12 Write a Python program to check if a string is in all lowercase using islower()\n",
        "\n",
        "string = \"Hello World\"\n",
        "print(string.islower())"
      ],
      "metadata": {
        "colab": {
          "base_uri": "https://localhost:8080/"
        },
        "id": "2xBF2eUwxAOC",
        "outputId": "3668292d-8ae3-4143-ae43-ddb74447c0a0"
      },
      "execution_count": 18,
      "outputs": [
        {
          "output_type": "stream",
          "name": "stdout",
          "text": [
            "False\n"
          ]
        }
      ]
    },
    {
      "cell_type": "code",
      "source": [
        "# Question 13 Write a Python program to join a list of words into a single string using join()\n",
        "\n",
        "_list = [\"Hello\", \"World\", \"!\"]\n",
        "print(\" \".join(_list))"
      ],
      "metadata": {
        "colab": {
          "base_uri": "https://localhost:8080/"
        },
        "id": "WV-9XnBxxQGS",
        "outputId": "fa0a4180-afc7-4c33-e912-714bdfcc5aa6"
      },
      "execution_count": 19,
      "outputs": [
        {
          "output_type": "stream",
          "name": "stdout",
          "text": [
            "Hello World !\n"
          ]
        }
      ]
    },
    {
      "cell_type": "code",
      "source": [
        "# Question 14 Write a Python program to split a string into a list of words using split()\n",
        "\n",
        "string = \"Hello World!\"\n",
        "print(string.split())"
      ],
      "metadata": {
        "colab": {
          "base_uri": "https://localhost:8080/"
        },
        "id": "LLrM-dq0x-hy",
        "outputId": "4bf57794-162d-468c-8809-4048b58e056e"
      },
      "execution_count": 20,
      "outputs": [
        {
          "output_type": "stream",
          "name": "stdout",
          "text": [
            "['Hello', 'World!']\n"
          ]
        }
      ]
    },
    {
      "cell_type": "code",
      "source": [
        "# Question 15 Write a Python program to find the first occurrence of a substring in a string using find()\n",
        "\n",
        "main_string = input(\"Enter the main string: \")\n",
        "substring = input(\"Enter the substring: \")\n",
        "\n",
        "print(main_string.find(substring))"
      ],
      "metadata": {
        "colab": {
          "base_uri": "https://localhost:8080/"
        },
        "id": "By64F5KhyOgV",
        "outputId": "80ce8b1a-494d-4455-cb6f-d8fd4e308992"
      },
      "execution_count": 21,
      "outputs": [
        {
          "output_type": "stream",
          "name": "stdout",
          "text": [
            "Enter the main string: Hey There Have a nice day\n",
            "Enter the substring: ice\n",
            "18\n"
          ]
        }
      ]
    },
    {
      "cell_type": "code",
      "source": [
        "# Question 16 Write a Python program to capitalize the first letter of a string using capitalize()\n",
        "\n",
        "string = \"hello world!\"\n",
        "print(string.capitalize())"
      ],
      "metadata": {
        "colab": {
          "base_uri": "https://localhost:8080/"
        },
        "id": "nEbACdcTyySb",
        "outputId": "7e7a8492-0cd5-477d-c0df-b3ba50878e37"
      },
      "execution_count": 22,
      "outputs": [
        {
          "output_type": "stream",
          "name": "stdout",
          "text": [
            "Hello world!\n"
          ]
        }
      ]
    },
    {
      "cell_type": "code",
      "source": [
        "# Question 17 Write a Python program to swap the case of all characters in a string using swapcase()\n",
        "\n",
        "string = \"Hello World!\"\n",
        "print(string.swapcase())"
      ],
      "metadata": {
        "colab": {
          "base_uri": "https://localhost:8080/"
        },
        "id": "o7TA-T3TzPop",
        "outputId": "60a4ca2a-402e-4a96-ec0d-1add4e7319db"
      },
      "execution_count": 23,
      "outputs": [
        {
          "output_type": "stream",
          "name": "stdout",
          "text": [
            "hELLO wORLD!\n"
          ]
        }
      ]
    },
    {
      "cell_type": "code",
      "source": [
        "# Question 18 Write a Python program to check if a string contains only alphabetic characters using isalpha()\n",
        "\n",
        "string1 = \"Hello\"\n",
        "string2 = \"Hello!\"\n",
        "print(string1.isalpha())\n",
        "print(string2.isalpha())\n"
      ],
      "metadata": {
        "colab": {
          "base_uri": "https://localhost:8080/"
        },
        "id": "RcgD5z5jzgkD",
        "outputId": "3e672966-9fef-4278-a634-0b32286820de"
      },
      "execution_count": 27,
      "outputs": [
        {
          "output_type": "stream",
          "name": "stdout",
          "text": [
            "True\n",
            "False\n"
          ]
        }
      ]
    },
    {
      "cell_type": "code",
      "source": [
        "# Question 19 Write a Python program to check if a string contains only spaces using isspace()\n",
        "\n",
        "string1 = \"  \"\n",
        "string2 = \"  hello  \"\n",
        "print(string1.isspace())\n",
        "print(string2.isspace())"
      ],
      "metadata": {
        "colab": {
          "base_uri": "https://localhost:8080/"
        },
        "id": "GVhq1z490AK-",
        "outputId": "f44f433a-4697-46df-d1a0-6187481b55a6"
      },
      "execution_count": 28,
      "outputs": [
        {
          "output_type": "stream",
          "name": "stdout",
          "text": [
            "True\n",
            "False\n"
          ]
        }
      ]
    },
    {
      "cell_type": "code",
      "source": [
        "# Question 20 Write a Python program to check if a string is a valid title (each word starts with a capital letter) using istitle()\n",
        "\n",
        "string1 = \"Hello world!\"\n",
        "string2 = \"Hello World!\"\n",
        "print(string1.istitle())\n",
        "print(string2.istitle())"
      ],
      "metadata": {
        "colab": {
          "base_uri": "https://localhost:8080/"
        },
        "id": "Ln7ibU2X0Zo5",
        "outputId": "1021383a-7339-4834-fd57-7430676fa812"
      },
      "execution_count": 29,
      "outputs": [
        {
          "output_type": "stream",
          "name": "stdout",
          "text": [
            "False\n",
            "True\n"
          ]
        }
      ]
    },
    {
      "cell_type": "code",
      "source": [
        "# Question 21 Write a Python program to extract the first three characters of a string\n",
        "\n",
        "string = \"Hello World!\"\n",
        "print(string[:3])"
      ],
      "metadata": {
        "colab": {
          "base_uri": "https://localhost:8080/"
        },
        "id": "MGKQZgR01RUy",
        "outputId": "14748553-820e-4fe3-8799-a9e3715df4d4"
      },
      "execution_count": 30,
      "outputs": [
        {
          "output_type": "stream",
          "name": "stdout",
          "text": [
            "Hel\n"
          ]
        }
      ]
    },
    {
      "cell_type": "code",
      "source": [
        "# Question 22 Write a Python program to get the last four characters of a string\n",
        "\n",
        "string = \"Hello World!\"\n",
        "print(string[-4:])"
      ],
      "metadata": {
        "colab": {
          "base_uri": "https://localhost:8080/"
        },
        "id": "zieD3yrW2H6T",
        "outputId": "79a70d39-52a1-4559-e6ec-03f4821831a4"
      },
      "execution_count": 3,
      "outputs": [
        {
          "output_type": "stream",
          "name": "stdout",
          "text": [
            "rld!\n"
          ]
        }
      ]
    },
    {
      "cell_type": "code",
      "source": [
        "# Question 23 Write a Python program to reverse a string using slicing\n",
        "\n",
        "string = \"Hello World!\"\n",
        "print(string[::-1])"
      ],
      "metadata": {
        "colab": {
          "base_uri": "https://localhost:8080/"
        },
        "id": "dHYECSNJHFG0",
        "outputId": "f4fb22b5-3221-43b1-a9c3-26ff4c8c9060"
      },
      "execution_count": 4,
      "outputs": [
        {
          "output_type": "stream",
          "name": "stdout",
          "text": [
            "!dlroW olleH\n"
          ]
        }
      ]
    },
    {
      "cell_type": "code",
      "source": [
        "# Question 24 Write a Python program to get every second character of a string\n",
        "\n",
        "string = \"Hello World!\"\n",
        "print(string[::2])"
      ],
      "metadata": {
        "colab": {
          "base_uri": "https://localhost:8080/"
        },
        "id": "qOpNAobVHb-X",
        "outputId": "e4fbf82a-6d0a-4a52-89e3-6cd70a785a0b"
      },
      "execution_count": 5,
      "outputs": [
        {
          "output_type": "stream",
          "name": "stdout",
          "text": [
            "HloWrd\n"
          ]
        }
      ]
    },
    {
      "cell_type": "code",
      "source": [
        "# Question 25 Write a Python program to check if the substring \"Python\" exists in a given string and print its starting index\n",
        "\n",
        "string = \"I am learning Python programming language.\"\n",
        "print(string.find(\"Python\"))"
      ],
      "metadata": {
        "colab": {
          "base_uri": "https://localhost:8080/"
        },
        "id": "4YFY_XDbIJO-",
        "outputId": "832c8e78-9195-4fbc-b063-63983a87a2b8"
      },
      "execution_count": 6,
      "outputs": [
        {
          "output_type": "stream",
          "name": "stdout",
          "text": [
            "14\n"
          ]
        }
      ]
    },
    {
      "cell_type": "code",
      "source": [
        "# Question 26 Write a Python program to replace the first occurrence of a substring in a string with another substring using slicing\n",
        "\n",
        "string = \"I am learning Python programming language.\"\n",
        "print(string.replace(\"Python\", \"Java\", 1))"
      ],
      "metadata": {
        "colab": {
          "base_uri": "https://localhost:8080/"
        },
        "id": "5qBkF5TCITqc",
        "outputId": "1dfc625d-088d-404d-9a45-17a491bb0429"
      },
      "execution_count": 7,
      "outputs": [
        {
          "output_type": "stream",
          "name": "stdout",
          "text": [
            "I am learning Java programming language.\n"
          ]
        }
      ]
    },
    {
      "cell_type": "code",
      "source": [
        "# Question 27 Write a Python program to extract a substring from the middle of a string\n",
        "\n",
        "string = \"Hello World!\"\n",
        "print(string[4:9])"
      ],
      "metadata": {
        "colab": {
          "base_uri": "https://localhost:8080/"
        },
        "id": "W8vCmOneIdSZ",
        "outputId": "56b530b7-8d12-4375-f196-10737139c417"
      },
      "execution_count": 9,
      "outputs": [
        {
          "output_type": "stream",
          "name": "stdout",
          "text": [
            "o Wor\n"
          ]
        }
      ]
    },
    {
      "cell_type": "code",
      "source": [
        "# Question 28 Write a Python program to create a new string that contains the first half of a string\n",
        "\n",
        "string = \"I am Learning Python Programming Language.\"\n",
        "print(string[:len(string)//2])"
      ],
      "metadata": {
        "colab": {
          "base_uri": "https://localhost:8080/"
        },
        "id": "BUbV0-FuIslU",
        "outputId": "b3e57dfe-8a4d-4c91-b512-7a7f4d814be6"
      },
      "execution_count": 10,
      "outputs": [
        {
          "output_type": "stream",
          "name": "stdout",
          "text": [
            "I am Learning Python \n"
          ]
        }
      ]
    },
    {
      "cell_type": "code",
      "source": [
        "# Question 29 Write a Python program to create a new string that contains the last half of a string\n",
        "\n",
        "string = \"I am Learning Python Programming Language.\"\n",
        "print(string[len(string)//2:])"
      ],
      "metadata": {
        "colab": {
          "base_uri": "https://localhost:8080/"
        },
        "id": "SbFc9R9YJC9o",
        "outputId": "c4d7b670-6e58-4435-fce1-11bbcb8e2a31"
      },
      "execution_count": 11,
      "outputs": [
        {
          "output_type": "stream",
          "name": "stdout",
          "text": [
            "Programming Language.\n"
          ]
        }
      ]
    },
    {
      "cell_type": "code",
      "source": [
        "# Question 30 Write a Python program to concatenate two strings using slicing\n",
        "\n",
        "string1 = \"Hello\"\n",
        "string2 = \"World!\"\n",
        "print(string1[:] + string2[:])"
      ],
      "metadata": {
        "colab": {
          "base_uri": "https://localhost:8080/"
        },
        "id": "sd7stedFJOeO",
        "outputId": "acdd9fb3-c9df-40a3-a6e2-9c9b5e2fff2d"
      },
      "execution_count": 13,
      "outputs": [
        {
          "output_type": "stream",
          "name": "stdout",
          "text": [
            "HelloWorld!\n"
          ]
        }
      ]
    },
    {
      "cell_type": "code",
      "source": [],
      "metadata": {
        "id": "btHwQU5eJehm"
      },
      "execution_count": null,
      "outputs": []
    }
  ]
}