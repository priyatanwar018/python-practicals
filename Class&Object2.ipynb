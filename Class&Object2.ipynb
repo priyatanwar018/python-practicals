{
  "nbformat": 4,
  "nbformat_minor": 0,
  "metadata": {
    "colab": {
      "provenance": [],
      "authorship_tag": "ABX9TyPRqRZTGpBwiEt5jWpt9q8w",
      "include_colab_link": true
    },
    "kernelspec": {
      "name": "python3",
      "display_name": "Python 3"
    },
    "language_info": {
      "name": "python"
    }
  },
  "cells": [
    {
      "cell_type": "markdown",
      "metadata": {
        "id": "view-in-github",
        "colab_type": "text"
      },
      "source": [
        "<a href=\"https://colab.research.google.com/github/priyatanwar018/python-practicals/blob/main/Class%26Object2.ipynb\" target=\"_parent\"><img src=\"https://colab.research.google.com/assets/colab-badge.svg\" alt=\"Open In Colab\"/></a>"
      ]
    },
    {
      "cell_type": "code",
      "execution_count": 51,
      "metadata": {
        "id": "MxoOONH4gGOw"
      },
      "outputs": [],
      "source": [
        "#Inheritance"
      ]
    },
    {
      "cell_type": "code",
      "source": [
        "#Create a base class Vehicle with attributes make and model. Derive a class Car from Vehicle and ad an attribute num_doors. Implement a method in Car to display its details.\n",
        "\n",
        "class Vehicle:\n",
        "  def __init__(self,make,model):\n",
        "    self.make = make\n",
        "    self.model = model\n",
        "\n",
        "class Car(Vehicle):\n",
        "  def __init__(self,make,model,num_doors):\n",
        "    super().__init__(make,model)\n",
        "    self.num_doors = num_doors\n",
        "\n",
        "  def display_details(self):\n",
        "    print(f\"Make: {self.make}\")\n",
        "    print(f\"Model: {self.model}\")\n",
        "    print(f\"Number of doors: {self.num_doors}\")\n",
        "\n",
        "car = Car(\"Toyota\",\"Camry\",4)\n",
        "car.display_details()\n"
      ],
      "metadata": {
        "colab": {
          "base_uri": "https://localhost:8080/"
        },
        "id": "ORUdpBwLzesy",
        "outputId": "9044773d-c3a3-46ea-e8a0-cfc20f7bad23"
      },
      "execution_count": 52,
      "outputs": [
        {
          "output_type": "stream",
          "name": "stdout",
          "text": [
            "Make: Toyota\n",
            "Model: Camry\n",
            "Number of doors: 4\n"
          ]
        }
      ]
    },
    {
      "cell_type": "code",
      "source": [
        "#Define a base class Shape with a method area. Create two derived classes Circle and Rectangle that override the area method to calculate the area of the respective shapes.\n",
        "\n",
        "class Shape:\n",
        "  def area(self):\n",
        "    raise NotImplementedError(\"Subclass must implement this method\")\n",
        "\n",
        "\n",
        "class Circle(Shape):\n",
        "  def __init__ (self,radius):\n",
        "    self.radius = radius\n",
        "\n",
        "  def area(self):\n",
        "    area = 3.14 * self.radius**2\n",
        "    return (f\"Area of the Circle is: {area}\")\n",
        "\n",
        "class Rectangle(Shape):\n",
        "  def __init__(self,width,height):\n",
        "    self.width = width\n",
        "    self.height = height\n",
        "\n",
        "  def area(self):\n",
        "    area = self.width * self.height\n",
        "    return (f\"Area of the rectangle is: {area}\")\n",
        "\n",
        "\n",
        "circle = Circle(5)\n",
        "print(circle.area())\n",
        "rectangle = Rectangle(4,6)\n",
        "print(rectangle.area())\n"
      ],
      "metadata": {
        "colab": {
          "base_uri": "https://localhost:8080/"
        },
        "id": "1jFQ2JH30zVq",
        "outputId": "948073d7-c7b7-4918-8849-415140276bf6"
      },
      "execution_count": 53,
      "outputs": [
        {
          "output_type": "stream",
          "name": "stdout",
          "text": [
            "Area of the Circle is: 78.5\n",
            "Area of the rectangle is: 24\n"
          ]
        }
      ]
    },
    {
      "cell_type": "code",
      "source": [
        "#Design a class Employee with attributes name and salary. Derive a class Manager from Employee and add an attribute department. Implement a method in Manager to display the employee’s name,\n",
        "#salary, and department.\n",
        "\n",
        "class Employee:\n",
        "  def __init__(self,name,salary):\n",
        "    self.name = name\n",
        "    self.salary = salary\n",
        "\n",
        "class Manager(Employee):\n",
        "  def __init__(self,name,salary,department):\n",
        "    super().__init__(name,salary)\n",
        "    self.department = department\n",
        "\n",
        "  def display_details(self):\n",
        "    print(f\"Name: {self.name}\")\n",
        "    print(f\"Salary: {self.salary}\")\n",
        "    print(f\"Department: {self.department}\")\n",
        "\n",
        "manager = Manager(\"John Doe\",50000,\"HR\")\n",
        "manager.display_details()\n"
      ],
      "metadata": {
        "colab": {
          "base_uri": "https://localhost:8080/"
        },
        "id": "3Kwqr8IU1Oft",
        "outputId": "90c7b997-53db-47f0-8a93-7f005c1c2cc7"
      },
      "execution_count": 54,
      "outputs": [
        {
          "output_type": "stream",
          "name": "stdout",
          "text": [
            "Name: John Doe\n",
            "Salary: 50000\n",
            "Department: HR\n"
          ]
        }
      ]
    },
    {
      "cell_type": "code",
      "source": [
        "#Create a base class Animal with a method speak. Derive classes Dog and Cat from Animal, each implementing their own version of speak to output a specific sound.\n",
        "\n",
        "class Animal:\n",
        "  def speak(self):\n",
        "    raise NotImplementedError(\"Subclass must implement this method\")\n",
        "\n",
        "class Dog(Animal):\n",
        "  def speak(self):\n",
        "    return \"Woof!\"\n",
        "\n",
        "class Cat(Animal):\n",
        "  def speak(self):\n",
        "    return \"Meow!\"\n",
        "\n",
        "\n",
        "dog = Dog()\n",
        "print(dog.speak())\n",
        "\n",
        "cat = Cat()\n",
        "print(cat.speak())"
      ],
      "metadata": {
        "colab": {
          "base_uri": "https://localhost:8080/"
        },
        "id": "AW4YjZjf5x34",
        "outputId": "0529f0e6-3008-46c7-8f9a-9bf9779386aa"
      },
      "execution_count": 55,
      "outputs": [
        {
          "output_type": "stream",
          "name": "stdout",
          "text": [
            "Woof!\n",
            "Meow!\n"
          ]
        }
      ]
    },
    {
      "cell_type": "code",
      "source": [
        "#Implement a class Person with a method introduce. Derive a class Student from Person and override introduce to include additional information specific to students, like their grade.\n",
        "\n",
        "class Person:\n",
        "  def introduce(self):\n",
        "    raise NotImplementedError(\"subclass must implement this method\")\n",
        "\n",
        "class Student(Person):\n",
        "  def __init__(self,name,grade):\n",
        "    self.name = name\n",
        "    self.grade = grade\n",
        "\n",
        "  def introduce(self):\n",
        "    return(f\"My name is {self.name} and I am in grade {self.grade}\")\n",
        "\n",
        "student = Student(\"John Doe\",10)\n",
        "print(student.introduce())"
      ],
      "metadata": {
        "colab": {
          "base_uri": "https://localhost:8080/"
        },
        "id": "-hWuAW1J6rSD",
        "outputId": "d98fa92e-8f75-464f-fdef-e0748c625f89"
      },
      "execution_count": 56,
      "outputs": [
        {
          "output_type": "stream",
          "name": "stdout",
          "text": [
            "My name is John Doe and I am in grade 10\n"
          ]
        }
      ]
    },
    {
      "cell_type": "code",
      "source": [
        "#Encapsulation"
      ],
      "metadata": {
        "id": "9fagXu7g71Om"
      },
      "execution_count": 57,
      "outputs": []
    },
    {
      "cell_type": "code",
      "source": [
        "#Define a class Account with private attributes _balance and a public method deposit to add money. Implement a public method get_balance to retrieve the current balance.\n",
        "\n",
        "class Account:\n",
        "  def __init__(self):\n",
        "    self._balance = 0\n",
        "\n",
        "  def deposit(self,amount):\n",
        "    self._balance += amount\n",
        "\n",
        "  def get_balance(self):\n",
        "    return self._balance\n",
        "\n",
        "\n",
        "account = Account()\n",
        "account.deposit(1000)\n",
        "print(account.get_balance())"
      ],
      "metadata": {
        "colab": {
          "base_uri": "https://localhost:8080/"
        },
        "id": "UfJEeC7x76_Y",
        "outputId": "fc07bd9c-4190-4f87-e82d-2225c208c77d"
      },
      "execution_count": 58,
      "outputs": [
        {
          "output_type": "stream",
          "name": "stdout",
          "text": [
            "1000\n"
          ]
        }
      ]
    },
    {
      "cell_type": "code",
      "source": [
        "#Create a class Book with private attributes _title and _author. Provide public getter and setter methods to access and modify these attributes.\n",
        "\n",
        "class Book:\n",
        "  def __init__(self,title,author):\n",
        "    self.title = title\n",
        "    self.author = author\n",
        "\n",
        "  def get_title(self):\n",
        "    return self.title\n",
        "\n",
        "  def set_title(self,title):\n",
        "    self.title = title\n",
        "\n",
        "  def get_author(self):\n",
        "    return self.author\n",
        "\n",
        "  def set_author(self,author):\n",
        "    self.author = author\n",
        "\n",
        "\n",
        "book = Book(\"The Great Gatsby\",\"F. Scott Fitzgerald\")\n",
        "print(book.get_title())\n",
        "print(book.get_author())"
      ],
      "metadata": {
        "colab": {
          "base_uri": "https://localhost:8080/"
        },
        "id": "w2ds8mmM9kfk",
        "outputId": "63b4d073-b3b1-4990-a3d0-bb49390cdc78"
      },
      "execution_count": 59,
      "outputs": [
        {
          "output_type": "stream",
          "name": "stdout",
          "text": [
            "The Great Gatsby\n",
            "F. Scott Fitzgerald\n"
          ]
        }
      ]
    },
    {
      "cell_type": "code",
      "source": [
        "#Design a class Circle with a private attribute _radius. Implement a public method set_radius to set the radius and another method get_area to compute the area of the circle.\n",
        "\n",
        "class Circle:\n",
        "  def __init__(self):\n",
        "    self._radius = 0\n",
        "\n",
        "  def set_radius(self,radius):\n",
        "    self._radius = radius\n",
        "\n",
        "  def get_area(self):\n",
        "    area = 3.14 * self._radius**2\n",
        "    return area\n",
        "\n",
        "circle = Circle()\n",
        "circle.set_radius(5)\n",
        "print(circle.get_area())\n"
      ],
      "metadata": {
        "colab": {
          "base_uri": "https://localhost:8080/"
        },
        "id": "KA76Nmjm_Vdt",
        "outputId": "4749a9c9-2b43-4222-8942-22904f59d440"
      },
      "execution_count": 60,
      "outputs": [
        {
          "output_type": "stream",
          "name": "stdout",
          "text": [
            "78.5\n"
          ]
        }
      ]
    },
    {
      "cell_type": "code",
      "source": [
        "#Implement a class Rectangle with private attributes _width and _height. Provide public methods to set the width and height and to compute the perimeter and area.\n",
        "\n",
        "class Rectangle:\n",
        "  def __init__(self):\n",
        "    self._width = 0\n",
        "    self._height = 0\n",
        "\n",
        "  def set_width(self,width):\n",
        "    self._width = width\n",
        "\n",
        "  def set_height(self,height):\n",
        "    self._height = height\n",
        "\n",
        "  def get_perimeter(self):\n",
        "    perimeter = 2 * (self._width + self._height)\n",
        "    return perimeter\n",
        "\n",
        "  def get_area(self):\n",
        "    area = self._width * self._height\n",
        "    return area\n",
        "\n",
        "rectangle = Rectangle()\n",
        "rectangle.set_width(4)\n",
        "rectangle.set_height(6)\n",
        "print(rectangle.get_perimeter())\n",
        "print(rectangle.get_area())"
      ],
      "metadata": {
        "colab": {
          "base_uri": "https://localhost:8080/"
        },
        "id": "0R0z-oKoAqCF",
        "outputId": "fb5351f3-4385-41f0-8012-05032155a0b8"
      },
      "execution_count": 61,
      "outputs": [
        {
          "output_type": "stream",
          "name": "stdout",
          "text": [
            "20\n",
            "24\n"
          ]
        }
      ]
    },
    {
      "cell_type": "code",
      "source": [
        "#Create a class Library with a private attribute _books. Implement public methods to add a book, remove a book, and list all books.\n",
        "\n",
        "class Library:\n",
        "  def __init__(self):\n",
        "    self.books = []\n",
        "\n",
        "  def add_book(self,book):\n",
        "    self.books.append(book)\n",
        "    print(f\"{book} has been added to the library.\")\n",
        "\n",
        "  def remove_book(self,book):\n",
        "    if book in self.books:\n",
        "      self.books.remove(book)\n",
        "      print(f\"{book} has been removed from the library.\")\n",
        "    else:\n",
        "      print(f\"{book} is not available in the library\")\n",
        "\n",
        "  def list_books(self):\n",
        "    print(\"Books in the library:\")\n",
        "    for book in self.books:\n",
        "      print(book)\n",
        "\n",
        "library = Library()\n",
        "library.add_book(\"The Great Gatsby\")\n",
        "library.add_book(\"To Kill a Mockingbird\")\n",
        "library.add_book(\"1984\")\n",
        "library.add_book(\"Gulliver's Travel\")"
      ],
      "metadata": {
        "colab": {
          "base_uri": "https://localhost:8080/"
        },
        "id": "xBFbbiQZCN1e",
        "outputId": "e781a1e7-dbc8-4e5f-ff32-98188e5134a4"
      },
      "execution_count": 62,
      "outputs": [
        {
          "output_type": "stream",
          "name": "stdout",
          "text": [
            "The Great Gatsby has been added to the library.\n",
            "To Kill a Mockingbird has been added to the library.\n",
            "1984 has been added to the library.\n",
            "Gulliver's Travel has been added to the library.\n"
          ]
        }
      ]
    },
    {
      "cell_type": "code",
      "source": [
        "library.list_books()\n",
        "library.remove_book(\"The Great Gatsby\")"
      ],
      "metadata": {
        "colab": {
          "base_uri": "https://localhost:8080/"
        },
        "id": "LBTXIfz5Gpej",
        "outputId": "2820f961-72a9-4b89-d098-2b90c8673373"
      },
      "execution_count": 63,
      "outputs": [
        {
          "output_type": "stream",
          "name": "stdout",
          "text": [
            "Books in the library:\n",
            "The Great Gatsby\n",
            "To Kill a Mockingbird\n",
            "1984\n",
            "Gulliver's Travel\n",
            "The Great Gatsby has been removed from the library.\n"
          ]
        }
      ]
    },
    {
      "cell_type": "code",
      "source": [
        "library.list_books()"
      ],
      "metadata": {
        "colab": {
          "base_uri": "https://localhost:8080/"
        },
        "id": "oOUvC4VGG0b9",
        "outputId": "6c197a4f-dbca-4cf9-f4e4-f5e6f60b7bc1"
      },
      "execution_count": 64,
      "outputs": [
        {
          "output_type": "stream",
          "name": "stdout",
          "text": [
            "Books in the library:\n",
            "To Kill a Mockingbird\n",
            "1984\n",
            "Gulliver's Travel\n"
          ]
        }
      ]
    },
    {
      "cell_type": "code",
      "source": [
        "#Polymorphism"
      ],
      "metadata": {
        "id": "-PHGA-vzG8p-"
      },
      "execution_count": 65,
      "outputs": []
    },
    {
      "cell_type": "code",
      "source": [
        "#Define a base class Animal with a method make_sound. Create subclasses Dog and Cat that override make_sound. Write a function that takes an Animal object and calls make_sound,\n",
        "#demonstrating polymorphism.\n",
        "\n",
        "class Animal:\n",
        "  def make_sound(self):\n",
        "    raise NotImplementedError(\"Subclass must implement this method\")\n",
        "\n",
        "class Dog(Animal):\n",
        "  def make_sound(self):\n",
        "    return \"Woof!\"\n",
        "\n",
        "class Cat(Animal):\n",
        "  def make_sound(self):\n",
        "    return \"Meow!\"\n",
        "\n",
        "def animal_sound(animal):\n",
        "  print(animal.make_sound())\n",
        "\n",
        "dog = Dog()\n",
        "cat = Cat()\n",
        "\n",
        "animal_sound(dog)\n",
        "animal_sound(cat)\n"
      ],
      "metadata": {
        "colab": {
          "base_uri": "https://localhost:8080/"
        },
        "id": "CVIvCKClHGF7",
        "outputId": "d408229b-3bcd-4c58-9a45-34a01bad75f4"
      },
      "execution_count": 66,
      "outputs": [
        {
          "output_type": "stream",
          "name": "stdout",
          "text": [
            "Woof!\n",
            "Meow!\n"
          ]
        }
      ]
    },
    {
      "cell_type": "code",
      "source": [
        "#Create a base class Shape with a method draw. Derive classes Circle and Square from Shape, each implementing the draw method in a way specific to the shape.\n",
        "\n",
        "class Shape:\n",
        "  def draw(self):\n",
        "    raise NotImplementedError(\"Subclasss must implement this method\")\n",
        "\n",
        "class Circle(Shape):\n",
        "  def draw(self):\n",
        "    return \"Drawing a circle\"\n",
        "\n",
        "class Square(Shape):\n",
        "  def draw(self):\n",
        "    return \"Drawing a Square\"\n",
        "\n",
        "def shape_draw(shape):\n",
        "  print(shape.draw())\n",
        "\n",
        "circle = Circle()\n",
        "square = Square()\n",
        "\n",
        "shape_draw(circle)\n",
        "shape_draw(square)"
      ],
      "metadata": {
        "colab": {
          "base_uri": "https://localhost:8080/"
        },
        "id": "I_0vE9ZsSEdE",
        "outputId": "54397b1e-3400-4cb3-8a1b-48c78899297f"
      },
      "execution_count": 67,
      "outputs": [
        {
          "output_type": "stream",
          "name": "stdout",
          "text": [
            "Drawing a circle\n",
            "Drawing a Square\n"
          ]
        }
      ]
    },
    {
      "cell_type": "code",
      "source": [
        "#Design a class Payment with a method process. Derive classes CreditCardPayment and PayPalPayment from Payment, each implementing process to handle payment differently.\n",
        "\n",
        "class Payment:\n",
        "  def process(self):\n",
        "    raise NotImplementedError(\"Subclass must implement this method\")\n",
        "\n",
        "class CreditCardPayment(Payment):\n",
        "  def process(self):\n",
        "    return \"Processing Credit Card payment\"\n",
        "\n",
        "class PayPalPayment(Payment):\n",
        "  def process(self):\n",
        "    return \"Processing PayPal payment\"\n",
        "\n",
        "credit_card_paymnet = CreditCardPayment()\n",
        "paypal_payment = PayPalPayment()\n",
        "\n",
        "print(credit_card_paymnet.process())\n",
        "print(paypal_payment.process())"
      ],
      "metadata": {
        "colab": {
          "base_uri": "https://localhost:8080/"
        },
        "id": "Qlobi-z4S5QR",
        "outputId": "911d6beb-ad7c-46d7-d4a7-67ce345176cc"
      },
      "execution_count": 68,
      "outputs": [
        {
          "output_type": "stream",
          "name": "stdout",
          "text": [
            "Processing Credit Card payment\n",
            "Processing PayPal payment\n"
          ]
        }
      ]
    },
    {
      "cell_type": "code",
      "source": [
        "#Implement a base class Employee with a method calculate_salary. Derive classes FullTimeEmployee and PartTimeEmployee from Employee,\n",
        "#each providing their own implementation of calculate_salary.\n",
        "\n",
        "class Employee:\n",
        "  def calculate_salary(self):\n",
        "    raise NotImplementedError(\"Subclass must implement this method\")\n",
        "\n",
        "class FullTimeEmployee(Employee):\n",
        "  def calculate_salary(self):\n",
        "    return \"Calculating Full Time Employee's salary\"\n",
        "\n",
        "class PartTimeEmployee(Employee):\n",
        "  def calculate_salary(self):\n",
        "    return \"Calculating Part Time Employee's salary\"\n",
        "\n",
        "\n",
        "full_time_employee = FullTimeEmployee()\n",
        "part_time_salary = PartTimeEmployee()\n",
        "\n",
        "print(full_time_employee.calculate_salary())\n",
        "print(part_time_salary.calculate_salary())\n"
      ],
      "metadata": {
        "colab": {
          "base_uri": "https://localhost:8080/"
        },
        "id": "BPQ35DftcyMo",
        "outputId": "ac0bf272-fa30-4a98-e4b5-647a0d8a3bf9"
      },
      "execution_count": 69,
      "outputs": [
        {
          "output_type": "stream",
          "name": "stdout",
          "text": [
            "Calculating Full Time Employee's salary\n",
            "Calculating Part Time Employee's salary\n"
          ]
        }
      ]
    },
    {
      "cell_type": "code",
      "source": [
        "#Create a base class Transport with a method travel. Derive classes Car, Bicycle, and Bus from Transport, each providing a specific implementation of travel.\n",
        "\n",
        "class Transport:\n",
        "  def travel(self):\n",
        "    raise NotImplementedError(\"Subclass must implement this method\")\n",
        "\n",
        "class Car(Transport):\n",
        "  def travel(self):\n",
        "    return \"Travelling by Car\"\n",
        "\n",
        "class Bicycle(Transport):\n",
        "  def travel(self):\n",
        "    return \"Travelling by Bicycle\"\n",
        "\n",
        "class Bus(Transport):\n",
        "  def travel(self):\n",
        "    return \"Travelling by Bus\"\n",
        "\n",
        "car = Car()\n",
        "bicycle = Bicycle()\n",
        "bus = Bus()\n",
        "\n",
        "print(car.travel())\n",
        "print(bicycle.travel())\n",
        "print(bus.travel())"
      ],
      "metadata": {
        "colab": {
          "base_uri": "https://localhost:8080/"
        },
        "id": "PJnTC3Q8eNDg",
        "outputId": "e3ec144e-7a54-4a91-f04b-42246378298e"
      },
      "execution_count": 70,
      "outputs": [
        {
          "output_type": "stream",
          "name": "stdout",
          "text": [
            "Travelling by Car\n",
            "Travelling by Bicycle\n",
            "Travelling by Bus\n"
          ]
        }
      ]
    },
    {
      "cell_type": "code",
      "source": [
        "#Combined Concepts"
      ],
      "metadata": {
        "id": "HHdPPiw1f3tb"
      },
      "execution_count": 71,
      "outputs": []
    },
    {
      "cell_type": "code",
      "source": [
        "#Define a base class Account with methods to deposit and withdraw funds, and a derived class SavingsAccount that overrides the deposit method to apply a bonus interest rate.\n",
        "\n",
        "class Account:\n",
        "  def __init__(self):\n",
        "    self.balance = 0\n",
        "\n",
        "  def deposit(self,amount):\n",
        "    self.balance += amount\n",
        "    return self.balance\n",
        "\n",
        "  def withdraw(self,amount):\n",
        "    if amount <= self.balance:\n",
        "      self.balance -= amount\n",
        "      return self.balance\n",
        "    else:\n",
        "      print(\"Insufficient balance\")\n",
        "\n",
        "\n",
        "class SavingsAccount(Account):\n",
        "  def deposit(self, amount):\n",
        "    self.balance += amount * 1.05  # Bonus interest rate of 5%\n",
        "    return self.balance\n",
        "\n",
        "savings_account = SavingsAccount()\n",
        "print(savings_account.deposit(2000))\n",
        "print(savings_account.withdraw(1000))\n"
      ],
      "metadata": {
        "colab": {
          "base_uri": "https://localhost:8080/"
        },
        "id": "seIJApnhgbtm",
        "outputId": "a8ea2e44-b9e5-4edf-a1bb-bdf2ab87d173"
      },
      "execution_count": 72,
      "outputs": [
        {
          "output_type": "stream",
          "name": "stdout",
          "text": [
            "2100.0\n",
            "1100.0\n"
          ]
        }
      ]
    },
    {
      "cell_type": "code",
      "source": [
        "#Create a base class Shape with a method area. Derive classes Triangle and Ellipse from Shape, and each class should implement area with its specific formula.\n",
        "#Use encapsulation to manage private attributes in these classes.\n",
        "\n",
        "class Shape:\n",
        "  def area(self):\n",
        "    raise NotImplementedError(\"Subclass must implement this method\")\n",
        "\n",
        "class Triangle(Shape):\n",
        "  def __init__(self,base,height):\n",
        "    self.base = base\n",
        "    self.height = height\n",
        "\n",
        "  def area(self):\n",
        "    area = 0.5 * self.base * self.height\n",
        "    return (f\"Area of Circle is: {area}\")\n",
        "\n",
        "class Ellipse(Shape):\n",
        "  def __init__(self,semi_major_axis,semi_minor_axis):\n",
        "    self.semi_major_axis = semi_major_axis\n",
        "    self.semi_minor_axis = semi_minor_axis\n",
        "\n",
        "  def area(self):\n",
        "    area = 3.14 * self.semi_major_axis * self.semi_minor_axis\n",
        "    return (f\"Area of circle is: {area}\")\n",
        "\n",
        "\n",
        "triangle = Triangle(5,8)\n",
        "print(triangle.area())\n",
        "\n",
        "ellipse = Ellipse(4,6)\n",
        "print(ellipse.area())"
      ],
      "metadata": {
        "colab": {
          "base_uri": "https://localhost:8080/"
        },
        "id": "ai2nbo3piH9a",
        "outputId": "7ce4a60e-f829-447e-c4ef-2e6425b756da"
      },
      "execution_count": 73,
      "outputs": [
        {
          "output_type": "stream",
          "name": "stdout",
          "text": [
            "Area of Circle is: 20.0\n",
            "Area of circle is: 75.36\n"
          ]
        }
      ]
    },
    {
      "cell_type": "code",
      "source": [
        "#Implement a class Employee with a private attribute _salary. Derive classes Manager and Intern from Employee.\n",
        "#Override a method to provide specific salary calculations and use encapsulation to access _salary.\n",
        "\n",
        "class Employee:\n",
        "    def __init__(self, name, base_salary):\n",
        "        self.name = name\n",
        "        self._salary = base_salary\n",
        "\n",
        "    # Getter for salary\n",
        "    def get_salary(self):\n",
        "        return self._salary\n",
        "\n",
        "    # Setter for salary\n",
        "    def set_salary(self, salary):\n",
        "        self._salary = salary\n",
        "\n",
        "    # Method to be overridden by derived classes\n",
        "    def calculate_salary(self):\n",
        "        raise NotImplementedError(\"Subclass must implement this method\")\n",
        "\n",
        "# Derived class Manager\n",
        "class Manager(Employee):\n",
        "    def __init__(self, name, base_salary, bonus):\n",
        "        super().__init__(name, base_salary)  # Initialize base class with name and base_salary\n",
        "        self.bonus = bonus\n",
        "\n",
        "    # Override the calculate_salary method\n",
        "    def calculate_salary(self):\n",
        "        total_salary = self.get_salary() + self.bonus\n",
        "        return total_salary\n",
        "\n",
        "# Derived class Intern\n",
        "class Intern(Employee):\n",
        "    def __init__(self, name, hourly_rate, hours_worked):\n",
        "        super().__init__(name, 0)  # Base salary is set to 0, as it's not used for Intern\n",
        "        self.hourly_rate = hourly_rate\n",
        "        self.hours_worked = hours_worked\n",
        "\n",
        "    # Override the calculate_salary method\n",
        "    def calculate_salary(self):\n",
        "        total_salary = self.hourly_rate * self.hours_worked\n",
        "        self.set_salary(total_salary)  # Set the calculated salary\n",
        "        return total_salary\n",
        "\n",
        "# Example usage\n",
        "manager = Manager(\"Alice\", 50000, 10000)\n",
        "print(f\"Manager {manager.name}'s total salary: {manager.calculate_salary()}\")  # Output: Manager Alice's total salary: 60000\n",
        "\n",
        "intern = Intern(\"Bob\", 20, 100)\n",
        "print(f\"Intern {intern.name}'s total salary: {intern.calculate_salary()}\")  # Output: Intern Bob's total salary: 2000\n",
        "\n",
        "\n"
      ],
      "metadata": {
        "colab": {
          "base_uri": "https://localhost:8080/"
        },
        "id": "c2OTWn3YjYrw",
        "outputId": "5b29b2c5-68de-48b9-c07e-9708358d9f39"
      },
      "execution_count": 79,
      "outputs": [
        {
          "output_type": "stream",
          "name": "stdout",
          "text": [
            "Manager Alice's total salary: 60000\n",
            "Intern Bob's total salary: 2000\n"
          ]
        }
      ]
    },
    {
      "cell_type": "code",
      "source": [
        "#Create a base class Bird with a method fly. Derive classes Sparrow and Eagle from Bird, each implementing fly differently.\n",
        "#Demonstrate polymorphism by calling fly on a list of Bird objects.\n",
        "\n",
        "class Bird:\n",
        "  def fly(self):\n",
        "    raise NotImplementedError(\"Subclass must implement this method\")\n",
        "\n",
        "class Sparrow(Bird):\n",
        "  def fly(self):\n",
        "    return \"Sparrow is flying\"\n",
        "\n",
        "class Eagle(Bird):\n",
        "  def fly(self):\n",
        "    return \"Eagle is flying\"\n",
        "\n",
        "birds = [Sparrow(), Eagle()]\n",
        "\n",
        "for bird in birds:\n",
        "  print(bird.fly())"
      ],
      "metadata": {
        "colab": {
          "base_uri": "https://localhost:8080/"
        },
        "id": "yhuD4SBzoerJ",
        "outputId": "2ff7bf97-ac9e-46f9-a098-373a4d6c7d86"
      },
      "execution_count": 76,
      "outputs": [
        {
          "output_type": "stream",
          "name": "stdout",
          "text": [
            "Sparrow is flying\n",
            "Eagle is flying\n"
          ]
        }
      ]
    },
    {
      "cell_type": "code",
      "source": [
        "#Design a class Vehicle with a method start_engine. Derive classes Car, Motorcycle, and Truck from Vehicle, each providing a different implementation of start_engine.\n",
        "#Use encapsulation to hide implementation details.\n",
        "\n",
        "class Vehicle:\n",
        "  def start_engine(self):\n",
        "    raise NotImplementedError(\"Subclass must implement this method\")\n",
        "\n",
        "class Car(Vehicle):\n",
        "  def start_engine(self):\n",
        "    return \"Car engine started\"\n",
        "\n",
        "class Motorcycle(Vehicle):\n",
        "  def start_engine(self):\n",
        "    return \"Motorcycle engine started\"\n",
        "\n",
        "class Truck(Vehicle):\n",
        "  def start_engine(self):\n",
        "    return \"Truck engine started\"\n",
        "\n",
        "car = Car()\n",
        "print(car.start_engine())\n",
        "\n",
        "motorcycle = Motorcycle()\n",
        "print(motorcycle.start_engine())\n",
        "\n",
        "truck = Truck()\n",
        "print(truck.start_engine())"
      ],
      "metadata": {
        "colab": {
          "base_uri": "https://localhost:8080/"
        },
        "id": "ytWkcGN90Wx6",
        "outputId": "748acaab-09c8-41e6-a2f6-21c8da201602"
      },
      "execution_count": 78,
      "outputs": [
        {
          "output_type": "stream",
          "name": "stdout",
          "text": [
            "Car engine started\n",
            "Motorcycle engine started\n",
            "Truck engine started\n"
          ]
        }
      ]
    },
    {
      "cell_type": "code",
      "source": [],
      "metadata": {
        "id": "zLCnRUy81La-"
      },
      "execution_count": null,
      "outputs": []
    }
  ]
}