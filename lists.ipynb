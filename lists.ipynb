{
  "nbformat": 4,
  "nbformat_minor": 0,
  "metadata": {
    "colab": {
      "provenance": [],
      "authorship_tag": "ABX9TyPaQWx5z5AVCP1vVrYYM7lL",
      "include_colab_link": true
    },
    "kernelspec": {
      "name": "python3",
      "display_name": "Python 3"
    },
    "language_info": {
      "name": "python"
    }
  },
  "cells": [
    {
      "cell_type": "markdown",
      "metadata": {
        "id": "view-in-github",
        "colab_type": "text"
      },
      "source": [
        "<a href=\"https://colab.research.google.com/github/priyatanwar018/python-practicals/blob/main/lists.ipynb\" target=\"_parent\"><img src=\"https://colab.research.google.com/assets/colab-badge.svg\" alt=\"Open In Colab\"/></a>"
      ]
    },
    {
      "cell_type": "code",
      "execution_count": null,
      "metadata": {
        "id": "sPpTG6nNJ8hN"
      },
      "outputs": [],
      "source": [
        "# Practice Questions on Lists"
      ]
    },
    {
      "cell_type": "code",
      "source": [
        "# Question 1 Write a Python program to create a list of integers and print the list\n",
        "\n",
        "list1 = [1,2,3,4,5]\n",
        "print(list1)"
      ],
      "metadata": {
        "colab": {
          "base_uri": "https://localhost:8080/"
        },
        "id": "msecjhnyKFb0",
        "outputId": "cc61a929-07fd-4315-8036-0bbc19c6bb2f"
      },
      "execution_count": 3,
      "outputs": [
        {
          "output_type": "stream",
          "name": "stdout",
          "text": [
            "[1, 2, 3, 4, 5]\n"
          ]
        }
      ]
    },
    {
      "cell_type": "code",
      "source": [
        "# Question 2 Write a Python program to add an element at the end of a list using append()\n",
        "\n",
        "list1.append(6)\n",
        "print(list1)"
      ],
      "metadata": {
        "colab": {
          "base_uri": "https://localhost:8080/"
        },
        "id": "uFtwK4f7dn8p",
        "outputId": "d83fb8f6-e35d-43e7-c9ba-880184edc906"
      },
      "execution_count": 4,
      "outputs": [
        {
          "output_type": "stream",
          "name": "stdout",
          "text": [
            "[1, 2, 3, 4, 5, 6]\n"
          ]
        }
      ]
    },
    {
      "cell_type": "code",
      "source": [
        "# Question 3 Write a Python program to insert an element at a specific position in a list using insert()\n",
        "\n",
        "list1.insert(0,0)\n",
        "print(list1)"
      ],
      "metadata": {
        "colab": {
          "base_uri": "https://localhost:8080/"
        },
        "id": "LRKJuWrTeIoj",
        "outputId": "9dc43371-1a20-4985-9bd1-6515ee5b7509"
      },
      "execution_count": 5,
      "outputs": [
        {
          "output_type": "stream",
          "name": "stdout",
          "text": [
            "[0, 1, 2, 3, 4, 5, 6]\n"
          ]
        }
      ]
    },
    {
      "cell_type": "code",
      "source": [
        "# Question 4 Write a Python program to remove the first occurrence of a specific element from a list using remove()\n",
        "\n",
        "list2 = [1,2,2,3,4,5]\n",
        "list2.remove(2)\n",
        "print(list2)"
      ],
      "metadata": {
        "colab": {
          "base_uri": "https://localhost:8080/"
        },
        "id": "3yjc8JaLeU5W",
        "outputId": "100c733c-accf-4ac3-81b4-e800afd20e9f"
      },
      "execution_count": 6,
      "outputs": [
        {
          "output_type": "stream",
          "name": "stdout",
          "text": [
            "[1, 2, 3, 4, 5]\n"
          ]
        }
      ]
    },
    {
      "cell_type": "code",
      "source": [
        "# Question 5 Write a Python program to get the index of a specific element in a list using index()\n",
        "\n",
        "list2.index(4)"
      ],
      "metadata": {
        "colab": {
          "base_uri": "https://localhost:8080/"
        },
        "id": "coSHFDc9eqDv",
        "outputId": "07d52896-e90e-4036-94a0-29d3f4665c7d"
      },
      "execution_count": 7,
      "outputs": [
        {
          "output_type": "execute_result",
          "data": {
            "text/plain": [
              "3"
            ]
          },
          "metadata": {},
          "execution_count": 7
        }
      ]
    },
    {
      "cell_type": "code",
      "source": [
        "# Question 6 Write a Python program to sort a list in ascending order using sort()\n",
        "\n",
        "list3 = [5,3,9,2,4,1,0,8,6,7]\n",
        "list3.sort()\n",
        "print(list3)\n"
      ],
      "metadata": {
        "colab": {
          "base_uri": "https://localhost:8080/"
        },
        "id": "nCGKuV9ie3qu",
        "outputId": "9612b9fb-92c2-4096-b089-b0775374bc6c"
      },
      "execution_count": 12,
      "outputs": [
        {
          "output_type": "stream",
          "name": "stdout",
          "text": [
            "[0, 1, 2, 3, 4, 5, 6, 7, 8, 9]\n"
          ]
        }
      ]
    },
    {
      "cell_type": "code",
      "source": [
        "'''sort modifies the original list. It sorts the original list in place and return None. It's available for lists only.\n",
        "sorted creates a new list and returns it. It doesn't modify the original list. It works for all iterables.'''"
      ],
      "metadata": {
        "id": "cn5ELtuPfPWp"
      },
      "execution_count": null,
      "outputs": []
    },
    {
      "cell_type": "code",
      "source": [
        "# Question 7 Write a Python program to sort a list in descending order without using sort() method (use slicing or loops)\n",
        "\n",
        "list3[::-1]"
      ],
      "metadata": {
        "colab": {
          "base_uri": "https://localhost:8080/"
        },
        "id": "1zcp79Segbn1",
        "outputId": "59a55a14-a961-477e-f362-2c75b787b4c6"
      },
      "execution_count": 13,
      "outputs": [
        {
          "output_type": "execute_result",
          "data": {
            "text/plain": [
              "[9, 8, 7, 6, 5, 4, 3, 2, 1, 0]"
            ]
          },
          "metadata": {},
          "execution_count": 13
        }
      ]
    },
    {
      "cell_type": "code",
      "source": [
        "# Question 8 Write a Python program to reverse a list using reverse()\n",
        "\n",
        "list3.reverse()\n",
        "print(list3)"
      ],
      "metadata": {
        "colab": {
          "base_uri": "https://localhost:8080/"
        },
        "id": "t9fsdnX9iVTp",
        "outputId": "3ee26533-114e-420a-9fed-b38abc76b322"
      },
      "execution_count": 14,
      "outputs": [
        {
          "output_type": "stream",
          "name": "stdout",
          "text": [
            "[9, 8, 7, 6, 5, 4, 3, 2, 1, 0]\n"
          ]
        }
      ]
    },
    {
      "cell_type": "code",
      "source": [
        "# Question 9 Write a Python program to count the occurrences of a specific element in a list using count()\n",
        "\n",
        "list4 = [1,2,3,4,4,3,3,4,4,5]\n",
        "list4.count(4)"
      ],
      "metadata": {
        "colab": {
          "base_uri": "https://localhost:8080/"
        },
        "id": "rpZEDvwOii41",
        "outputId": "9b7d05ce-cfb7-4b4f-d910-a9d281ad56d6"
      },
      "execution_count": 15,
      "outputs": [
        {
          "output_type": "execute_result",
          "data": {
            "text/plain": [
              "4"
            ]
          },
          "metadata": {},
          "execution_count": 15
        }
      ]
    },
    {
      "cell_type": "code",
      "source": [
        "# Question 10 Write a Python program to concatenate two lists using the + operator\n",
        "\n",
        "list5 = [1,2,3,4,5]\n",
        "list6 = [6,7,8,9,10]\n",
        "list5 + list6"
      ],
      "metadata": {
        "colab": {
          "base_uri": "https://localhost:8080/"
        },
        "id": "-OLetpvfi3PS",
        "outputId": "a75e05ba-fb97-46dc-ce01-74c5ffd661e1"
      },
      "execution_count": 16,
      "outputs": [
        {
          "output_type": "execute_result",
          "data": {
            "text/plain": [
              "[1, 2, 3, 4, 5, 6, 7, 8, 9, 10]"
            ]
          },
          "metadata": {},
          "execution_count": 16
        }
      ]
    },
    {
      "cell_type": "code",
      "source": [
        "# Question 11 Write a Python program to remove an element from a list using the pop() method and display the updated list\n",
        "\n",
        "list7 = [1,2,3,4,5]\n",
        "list7.pop(2) # element at index 2 will be removed\n",
        "print(list7)"
      ],
      "metadata": {
        "colab": {
          "base_uri": "https://localhost:8080/"
        },
        "id": "BKWEt2GYjOsP",
        "outputId": "7f5079a0-5d13-4306-9b3b-c37b5c0b6406"
      },
      "execution_count": 17,
      "outputs": [
        {
          "output_type": "stream",
          "name": "stdout",
          "text": [
            "[1, 2, 4, 5]\n"
          ]
        }
      ]
    },
    {
      "cell_type": "code",
      "source": [
        "# Question 12 Write a Python program to create a copy of a list using the copy() method\n",
        "\n",
        "list8 = list5.copy()\n",
        "print(list8)"
      ],
      "metadata": {
        "colab": {
          "base_uri": "https://localhost:8080/"
        },
        "id": "x2FZ0OEhjdBO",
        "outputId": "a1ca15c6-bbbf-48b2-e2ac-3d93a39e5fb6"
      },
      "execution_count": 18,
      "outputs": [
        {
          "output_type": "stream",
          "name": "stdout",
          "text": [
            "[1, 2, 3, 4, 5]\n"
          ]
        }
      ]
    },
    {
      "cell_type": "code",
      "source": [
        "# Question 13 Write a Python program to slice a list and print the first three elements of the list\n",
        "\n",
        "list8[:3]"
      ],
      "metadata": {
        "colab": {
          "base_uri": "https://localhost:8080/"
        },
        "id": "Yu_YvK4ljy3P",
        "outputId": "fcf309c7-2ed6-4895-d42e-155be518d806"
      },
      "execution_count": 19,
      "outputs": [
        {
          "output_type": "execute_result",
          "data": {
            "text/plain": [
              "[1, 2, 3]"
            ]
          },
          "metadata": {},
          "execution_count": 19
        }
      ]
    },
    {
      "cell_type": "code",
      "source": [
        "# Question 14 Write a Python program to merge two lists into one by extending the first list using extend()\n",
        "\n",
        "list7.extend(list8)\n",
        "print(list7)"
      ],
      "metadata": {
        "colab": {
          "base_uri": "https://localhost:8080/"
        },
        "id": "JWHEMGXuj-KK",
        "outputId": "e73bc5c5-8324-4ce3-f40d-8f7aa6070fa2"
      },
      "execution_count": 22,
      "outputs": [
        {
          "output_type": "stream",
          "name": "stdout",
          "text": [
            "[1, 2, 4, 5, 1, 2, 3, 4, 5, 1, 2, 3, 4, 5, 1, 2, 3, 4, 5]\n"
          ]
        }
      ]
    },
    {
      "cell_type": "code",
      "source": [
        "# Question 15 Write a Python program to find the maximum and minimum values in a list of integers\n",
        "\n",
        "print(max(list7))\n",
        "print(min(list7))"
      ],
      "metadata": {
        "colab": {
          "base_uri": "https://localhost:8080/"
        },
        "id": "TkzzB1A1kPPS",
        "outputId": "d7ffe892-1ba5-4922-ff61-af99e8eb8bf7"
      },
      "execution_count": 24,
      "outputs": [
        {
          "output_type": "stream",
          "name": "stdout",
          "text": [
            "5\n",
            "1\n"
          ]
        }
      ]
    },
    {
      "cell_type": "code",
      "source": [
        "# Question 16 Write a Python program to check if a specific element exists in a list using the in operator\n",
        "\n",
        "print(2 in list7)\n",
        "print(7 in list7)"
      ],
      "metadata": {
        "colab": {
          "base_uri": "https://localhost:8080/"
        },
        "id": "7ppIbYHUk4pB",
        "outputId": "1fcc5c73-4261-4db4-90ac-106cfae4a25a"
      },
      "execution_count": 25,
      "outputs": [
        {
          "output_type": "stream",
          "name": "stdout",
          "text": [
            "True\n",
            "False\n"
          ]
        }
      ]
    },
    {
      "cell_type": "code",
      "source": [
        "# Question 17 Write a Python program to clear all elements from a list using clear()\n",
        "\n",
        "list7.clear()\n",
        "print(list7) # will return an empty list"
      ],
      "metadata": {
        "colab": {
          "base_uri": "https://localhost:8080/"
        },
        "id": "04Q_i90clVuW",
        "outputId": "aba95de3-1ed5-4cd4-c8bb-d37022ac0a69"
      },
      "execution_count": 26,
      "outputs": [
        {
          "output_type": "stream",
          "name": "stdout",
          "text": [
            "[]\n"
          ]
        }
      ]
    },
    {
      "cell_type": "code",
      "source": [
        "# Question 18 Write a Python program to multiply all elements in a list by a specific number (without using list comprehension)\n",
        "\n",
        "my_list = input(\"Enter a list of integers: \")\n",
        "\n",
        "my_list = list(map(int,my_list.split(\",\")))\n",
        "\n",
        "multiplier = int(input(\"Enter the number with which you want to multiply the list: \"))\n",
        "\n",
        "for i in range(len(my_list)):\n",
        "  my_list[i] = my_list[i] * multiplier\n",
        "\n",
        "print(\"Updated list after multiplication: \", my_list)"
      ],
      "metadata": {
        "colab": {
          "base_uri": "https://localhost:8080/"
        },
        "id": "yL0qOGLglgtA",
        "outputId": "4baf1af6-a5f5-4130-dfc6-f37a06272b54"
      },
      "execution_count": 30,
      "outputs": [
        {
          "output_type": "stream",
          "name": "stdout",
          "text": [
            "Enter a list of integers: 1,2,3,4,5\n",
            "Enter the number with which you want to multiply the list: 5\n",
            "Updated list after multiplication:  [5, 10, 15, 20, 25]\n"
          ]
        }
      ]
    },
    {
      "cell_type": "code",
      "source": [
        "# Qustion 19 Write a Python program to find the length of a list using len()\n",
        "\n",
        "len(my_list)"
      ],
      "metadata": {
        "colab": {
          "base_uri": "https://localhost:8080/"
        },
        "id": "JHEOEQheml9C",
        "outputId": "31f189b5-3f26-475b-f32b-f60f6c32bda2"
      },
      "execution_count": 31,
      "outputs": [
        {
          "output_type": "execute_result",
          "data": {
            "text/plain": [
              "5"
            ]
          },
          "metadata": {},
          "execution_count": 31
        }
      ]
    },
    {
      "cell_type": "code",
      "source": [
        "# Question 20 Write a Python program to remove all duplicate elements from a list (without using sets)\n",
        "\n",
        "original_list = input(\"Enter a list of comma seperated integers:  \")\n",
        "\n",
        "original_list = list(map(int,original_list.split(\",\")))\n",
        "\n",
        "updated_list = []\n",
        "\n",
        "for i in original_list:\n",
        "  if i in updated_list:\n",
        "    continue\n",
        "  else:\n",
        "    updated_list.append(i)\n",
        "\n",
        "print(updated_list)\n"
      ],
      "metadata": {
        "colab": {
          "base_uri": "https://localhost:8080/"
        },
        "id": "j_Agh1abnWiS",
        "outputId": "dac9b135-7773-4581-c6b6-37822fa924ed"
      },
      "execution_count": 33,
      "outputs": [
        {
          "output_type": "stream",
          "name": "stdout",
          "text": [
            "Enter a list of comma seperated integers:  1,2,3,2,3,4,5,1,3,4\n",
            "[1, 2, 3, 4, 5]\n"
          ]
        }
      ]
    },
    {
      "cell_type": "code",
      "source": [],
      "metadata": {
        "id": "9MR6Fgq6oTdm"
      },
      "execution_count": null,
      "outputs": []
    }
  ]
}