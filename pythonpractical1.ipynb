{
  "nbformat": 4,
  "nbformat_minor": 0,
  "metadata": {
    "colab": {
      "provenance": [],
      "authorship_tag": "ABX9TyMNVkJobth9DLdVfK2o04Sq",
      "include_colab_link": true
    },
    "kernelspec": {
      "name": "python3",
      "display_name": "Python 3"
    },
    "language_info": {
      "name": "python"
    }
  },
  "cells": [
    {
      "cell_type": "markdown",
      "metadata": {
        "id": "view-in-github",
        "colab_type": "text"
      },
      "source": [
        "<a href=\"https://colab.research.google.com/github/priyatanwar018/python-practicals/blob/main/pythonpractical1.ipynb\" target=\"_parent\"><img src=\"https://colab.research.google.com/assets/colab-badge.svg\" alt=\"Open In Colab\"/></a>"
      ]
    },
    {
      "cell_type": "code",
      "execution_count": 1,
      "metadata": {
        "colab": {
          "base_uri": "https://localhost:8080/"
        },
        "id": "pNgiyJ7bEf5y",
        "outputId": "c1cf83b7-866f-4f88-fd17-0f2d763703e2"
      },
      "outputs": [
        {
          "output_type": "stream",
          "name": "stdout",
          "text": [
            "Enter number 1: 10\n",
            "Enter number 2: 15\n",
            "Enter number 3: 20\n",
            "Three numbers are:  10 15 20\n",
            "Sum is:  45\n"
          ]
        }
      ],
      "source": [
        "#to input three numbers and print their sum\n",
        "\n",
        "num1 = int(input(\"Enter number 1: \"))\n",
        "num2 = int(input(\"Enter number 2: \"))\n",
        "num3 = int(input(\"Enter number 3: \"))\n",
        "\n",
        "sum = num1 + num2 + num3\n",
        "print(\"Three numbers are: \",num1,num2,num3)\n",
        "print(\"Sum is: \",sum)"
      ]
    },
    {
      "cell_type": "code",
      "source": [
        "#to input length and breadth of a rectangle and calculate its area\n",
        "\n",
        "length = float(input(\"Enter length of the rectangle: \"))\n",
        "breadth = float(input(\"Enter breadth of the rectangle: \"))\n",
        "\n",
        "area = length * breadth\n",
        "\n",
        "print(\"Rectangle specifications\")\n",
        "print(\"Length: \",length)\n",
        "print(\"Breadth: \",breadth)\n",
        "\n",
        "print(\"Area of rectangle is: \",area)\n"
      ],
      "metadata": {
        "colab": {
          "base_uri": "https://localhost:8080/"
        },
        "id": "_kPaEUh5FGoE",
        "outputId": "5cd4c9b2-d303-4afe-885a-e9e0fb6852c7"
      },
      "execution_count": 2,
      "outputs": [
        {
          "output_type": "stream",
          "name": "stdout",
          "text": [
            "Enter length of the rectangle: 2\n",
            "Enter breadth of the rectangle: 3\n",
            "Rectangle specifications\n",
            "Length:  2.0\n",
            "Breadth:  3.0\n",
            "Area of rectangle is:  6.0\n"
          ]
        }
      ]
    },
    {
      "cell_type": "code",
      "source": [
        "#to calcultae BMI of a person\n",
        "\n",
        "weight_in_kg = float(input(\"Enter weight in kg: \"))\n",
        "height_in_meter = float(input(\"Enter height in meters: \"))\n",
        "\n",
        "bmi = weight_in_kg/(height_in_meter**2)\n",
        "\n",
        "print(\"BMI is: \",bmi)"
      ],
      "metadata": {
        "colab": {
          "base_uri": "https://localhost:8080/"
        },
        "id": "4Su6CSAfGY_Y",
        "outputId": "393dc5b5-8bee-4bf1-d492-cea47fe1dde5"
      },
      "execution_count": 3,
      "outputs": [
        {
          "output_type": "stream",
          "name": "stdout",
          "text": [
            "Enter weight in kg: 56\n",
            "Enter height in meters: 1.8\n",
            "BMI is:  17.28395061728395\n"
          ]
        }
      ]
    },
    {
      "cell_type": "code",
      "source": [],
      "metadata": {
        "id": "IIRuNVx0HgYC"
      },
      "execution_count": null,
      "outputs": []
    }
  ]
}