{
  "nbformat": 4,
  "nbformat_minor": 0,
  "metadata": {
    "colab": {
      "provenance": [],
      "authorship_tag": "ABX9TyPrSLDmdPNgyP9H0a35055e",
      "include_colab_link": true
    },
    "kernelspec": {
      "name": "python3",
      "display_name": "Python 3"
    },
    "language_info": {
      "name": "python"
    }
  },
  "cells": [
    {
      "cell_type": "markdown",
      "metadata": {
        "id": "view-in-github",
        "colab_type": "text"
      },
      "source": [
        "<a href=\"https://colab.research.google.com/github/priyatanwar018/python-practicals/blob/main/session15python.ipynb\" target=\"_parent\"><img src=\"https://colab.research.google.com/assets/colab-badge.svg\" alt=\"Open In Colab\"/></a>"
      ]
    },
    {
      "cell_type": "code",
      "execution_count": null,
      "metadata": {
        "id": "UE3xMevK1hqO"
      },
      "outputs": [],
      "source": [
        "#Object Oriented Programming"
      ]
    },
    {
      "cell_type": "code",
      "source": [
        "class classname:\n",
        "  def __init__(self,name):\n",
        "    self.name = name\n",
        "\n",
        "  def greet(self):\n",
        "    print (f\"Hello {self.name}\")\n",
        "\n"
      ],
      "metadata": {
        "id": "j9ESzFvn6H7L"
      },
      "execution_count": 8,
      "outputs": []
    },
    {
      "cell_type": "code",
      "source": [
        "'''class ----- keyword is used to create a class\n",
        "init ---- allows to initialize an object's attributes and perform any necessary setup or initialization tasks\n",
        "self ---- keyword is used to access instance variables and methods in a class'''\n"
      ],
      "metadata": {
        "id": "uTqfDZlv7BSa"
      },
      "execution_count": null,
      "outputs": []
    },
    {
      "cell_type": "code",
      "source": [
        "class Person:\n",
        "  def __init__(self,name,age):\n",
        "    self.name = name\n",
        "    self.age = age\n",
        "\n",
        "  def info(self):\n",
        "    print(f\"My name is {self.name} and my age is {self.age}\")\n",
        "\n",
        "\n",
        "#calling\n",
        "obj1 = Person(\"Jyoti\",10)\n",
        "obj2 = Person(\"Priya\",20)\n",
        "\n",
        "obj1.info()\n",
        "obj2.info()"
      ],
      "metadata": {
        "colab": {
          "base_uri": "https://localhost:8080/"
        },
        "id": "PxRzCUe2_fNf",
        "outputId": "45f9f20e-14a7-4cd9-a639-5a07c9ddaafa"
      },
      "execution_count": 11,
      "outputs": [
        {
          "output_type": "stream",
          "name": "stdout",
          "text": [
            "My name is Jyoti and my age is 10\n",
            "My name is Priya and my age is 20\n"
          ]
        }
      ]
    },
    {
      "cell_type": "code",
      "source": [
        "Person.info(obj1)\n",
        "Person.info(obj2)"
      ],
      "metadata": {
        "colab": {
          "base_uri": "https://localhost:8080/"
        },
        "id": "Af2S8x5UARfO",
        "outputId": "60cd5c72-67d2-4136-a7dc-b3d32de189ed"
      },
      "execution_count": 13,
      "outputs": [
        {
          "output_type": "stream",
          "name": "stdout",
          "text": [
            "My name is Jyoti and my age is 10\n",
            "My name is Priya and my age is 20\n"
          ]
        }
      ]
    },
    {
      "cell_type": "code",
      "source": [
        "class Teacher:\n",
        "  def __init__(self,name, subject, grade):\n",
        "    self.name = name\n",
        "    self.subject = subject\n",
        "    self.grade = grade\n",
        "\n",
        "  def info(self):\n",
        "    print(f\"{self.name} teaches {self.subject} to the class {self.grade}\")\n",
        "\n",
        "\n",
        "\n",
        "teacher1 = Teacher(\"Jyoti\", \"Maths\", \"10th\")\n",
        "teacher2 = Teacher(\"Harsh\", \"Science\", \"9th\")\n",
        "\n",
        "\n",
        "teacher1.info()\n",
        "teacher2.info()"
      ],
      "metadata": {
        "colab": {
          "base_uri": "https://localhost:8080/"
        },
        "id": "Pp-barg5CDbn",
        "outputId": "7e7b440a-7bea-4e34-dfbd-9f8f1dbf381b"
      },
      "execution_count": 16,
      "outputs": [
        {
          "output_type": "stream",
          "name": "stdout",
          "text": [
            "Jyoti teaches Maths to the class 10th\n",
            "Harsh teaches Science to the class 9th\n"
          ]
        }
      ]
    },
    {
      "cell_type": "code",
      "source": [],
      "metadata": {
        "id": "nd15x7keEQuD"
      },
      "execution_count": null,
      "outputs": []
    }
  ]
}