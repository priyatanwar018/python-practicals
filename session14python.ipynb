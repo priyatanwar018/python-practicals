{
  "nbformat": 4,
  "nbformat_minor": 0,
  "metadata": {
    "colab": {
      "provenance": [],
      "authorship_tag": "ABX9TyN45RXpGIUQHty9NhASVXLN",
      "include_colab_link": true
    },
    "kernelspec": {
      "name": "python3",
      "display_name": "Python 3"
    },
    "language_info": {
      "name": "python"
    }
  },
  "cells": [
    {
      "cell_type": "markdown",
      "metadata": {
        "id": "view-in-github",
        "colab_type": "text"
      },
      "source": [
        "<a href=\"https://colab.research.google.com/github/priyatanwar018/python-practicals/blob/main/session14python.ipynb\" target=\"_parent\"><img src=\"https://colab.research.google.com/assets/colab-badge.svg\" alt=\"Open In Colab\"/></a>"
      ]
    },
    {
      "cell_type": "code",
      "execution_count": null,
      "metadata": {
        "id": "ENGWPL4pgdYy"
      },
      "outputs": [],
      "source": [
        "#closures and decorators\n",
        "\n",
        "'''closures:\n",
        "nested(inner) function retain access to the outer function after the outer function has finished'''"
      ]
    },
    {
      "cell_type": "code",
      "source": [
        "def outer_function(x):\n",
        "  def inner_function(y):\n",
        "    return x+y\n",
        "  return inner_function\n",
        "\n",
        "  closure = outer_function(10)\n",
        "  print(closure(5))\n"
      ],
      "metadata": {
        "id": "pjXSac_SiCpN"
      },
      "execution_count": 4,
      "outputs": []
    },
    {
      "cell_type": "code",
      "source": [
        "def outer_function(txt1):\n",
        "  def inner_function(txt2):\n",
        "    return (\"inner function\")\n",
        "  return inner_function\n",
        "\n",
        "closure = outer_function(\"Outer function\")\n",
        "print(closure(\"inner function\"))"
      ],
      "metadata": {
        "colab": {
          "base_uri": "https://localhost:8080/"
        },
        "id": "uXUxOGhhioav",
        "outputId": "ff6cdb11-1751-419e-931c-9527adff1b32"
      },
      "execution_count": 6,
      "outputs": [
        {
          "output_type": "stream",
          "name": "stdout",
          "text": [
            "inner function\n"
          ]
        }
      ]
    },
    {
      "cell_type": "code",
      "source": [
        "'''decorators\n",
        "function----------further add--decorator\n",
        "modify---------decorator(additions)\n",
        "'''\n",
        "\n",
        "def say_hello(name):\n",
        "  return f\"hello {name}\""
      ],
      "metadata": {
        "id": "OQXap9zEknSZ"
      },
      "execution_count": null,
      "outputs": []
    },
    {
      "cell_type": "code",
      "source": [
        "def decorator_function(func):\n",
        "  def wrapper(message):\n",
        "    print(\"before function\")\n",
        "    result = func(message)\n",
        "    print(result)\n",
        "    print(\"After function\")\n",
        "  return wrapper\n",
        "\n",
        "\n",
        "@decorator_function\n",
        "def say_hello(name):\n",
        "  return f\"hello {name}\"\n",
        "\n",
        "\n",
        "say_hello('Priya')"
      ],
      "metadata": {
        "colab": {
          "base_uri": "https://localhost:8080/"
        },
        "id": "x9va5mJwmwN3",
        "outputId": "6a3c29ea-f6a7-4cf4-b212-551e3982470e"
      },
      "execution_count": 2,
      "outputs": [
        {
          "output_type": "stream",
          "name": "stdout",
          "text": [
            "before function\n",
            "hello Priya\n",
            "After function\n"
          ]
        }
      ]
    },
    {
      "cell_type": "code",
      "source": [
        "def greet(name):\n",
        "  return f\"{name}\"\n"
      ],
      "metadata": {
        "id": "hQ15xV0ln9WD"
      },
      "execution_count": 13,
      "outputs": []
    },
    {
      "cell_type": "code",
      "source": [
        "def decorator_function(func):\n",
        "  def wrapper(message):\n",
        "    print(\"hello\")\n",
        "    result = func(message)\n",
        "    print(result)\n",
        "    print(\"Good Morning\")\n",
        "  return wrapper\n",
        "\n",
        "\n",
        "@decorator_function\n",
        "def greet(name):\n",
        "  return f\"{name}\"\n",
        "\n",
        "\n",
        "greet(\"Priya\")"
      ],
      "metadata": {
        "colab": {
          "base_uri": "https://localhost:8080/"
        },
        "id": "seHh8OIMpBUx",
        "outputId": "aa6a8194-1648-408b-9b58-85ad7b9d78dd"
      },
      "execution_count": 3,
      "outputs": [
        {
          "output_type": "stream",
          "name": "stdout",
          "text": [
            "hello\n",
            "Priya\n",
            "Good Morning\n"
          ]
        }
      ]
    }
  ]
}