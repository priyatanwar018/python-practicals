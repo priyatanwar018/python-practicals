{
  "nbformat": 4,
  "nbformat_minor": 0,
  "metadata": {
    "colab": {
      "provenance": [],
      "authorship_tag": "ABX9TyMJg+akx6omalur6cGkOKp+",
      "include_colab_link": true
    },
    "kernelspec": {
      "name": "python3",
      "display_name": "Python 3"
    },
    "language_info": {
      "name": "python"
    }
  },
  "cells": [
    {
      "cell_type": "markdown",
      "metadata": {
        "id": "view-in-github",
        "colab_type": "text"
      },
      "source": [
        "<a href=\"https://colab.research.google.com/github/priyatanwar018/python-practicals/blob/main/session16python.ipynb\" target=\"_parent\"><img src=\"https://colab.research.google.com/assets/colab-badge.svg\" alt=\"Open In Colab\"/></a>"
      ]
    },
    {
      "cell_type": "code",
      "execution_count": 17,
      "metadata": {
        "id": "IancSJJH6Pga"
      },
      "outputs": [],
      "source": [
        "#class and objects\n",
        "\n",
        "\n",
        "class Dog:\n",
        "  def __init__(self,name,age):\n",
        "    self.name = name\n",
        "    self.age = age\n",
        "\n",
        "  def bark(self):\n",
        "      return (\"woof!\")\n",
        "\n",
        "  def describe(self):\n",
        "      return (f\"{self.name} is {self.age} years old.\")\n",
        "\n",
        "\n",
        "#Dog --- class\n",
        "#__init__ ---- constructor that initializes the attributes\n",
        "#name,age --- attributes\n",
        "#bark ------ method1\n",
        "#describe --- method2\n",
        "#self ---- allows access to my attributes\n",
        "\n",
        "my_dog = Dog(name =\"Daisy\", age =2)  #instantiation ------- creating an object"
      ]
    },
    {
      "cell_type": "code",
      "source": [
        "#calling the methods and attributes inside the class\n",
        "#attributes\n",
        "print(my_dog.name)\n",
        "print(my_dog.age)"
      ],
      "metadata": {
        "colab": {
          "base_uri": "https://localhost:8080/"
        },
        "id": "EBDghMlo7o41",
        "outputId": "3e7c24c8-1465-4e40-cfe6-4f0cc4a1fec6"
      },
      "execution_count": 10,
      "outputs": [
        {
          "output_type": "stream",
          "name": "stdout",
          "text": [
            "Daisy\n",
            "2\n"
          ]
        }
      ]
    },
    {
      "cell_type": "code",
      "source": [
        "#methods\n",
        "print(my_dog.bark())\n",
        "print(my_dog.describe())"
      ],
      "metadata": {
        "colab": {
          "base_uri": "https://localhost:8080/"
        },
        "id": "c1kCtGva99ev",
        "outputId": "14df9f3b-766b-4ca5-c460-7b7c50300139"
      },
      "execution_count": 18,
      "outputs": [
        {
          "output_type": "stream",
          "name": "stdout",
          "text": [
            "woof!\n",
            "Daisy is 2 years old.\n"
          ]
        }
      ]
    },
    {
      "cell_type": "code",
      "source": [
        "#Inheritance\n",
        "#Inheritance allows us to inherit the attributes and methods from another class\n",
        "\n",
        "#Base class\n",
        "class Animal:\n",
        "  def __init__(self,name):\n",
        "    self.name = name\n",
        "\n",
        "\n",
        "  def speak(self):\n",
        "    return \"Animal\"\n",
        "\n",
        "#Derived class\n",
        "class Cat(Animal):\n",
        "  def __init__(self,name,color):\n",
        "    super().__init__(name)     #super() method is used to inherit the attribute from the base class; inherit the attribute name from Animal class\n",
        "    self.color = color\n",
        "  def meow(self):\n",
        "    return \"Meow!\"\n",
        "\n",
        "#Cat inherit Animal class\n",
        "#inherits or takes the methods or attributes of Animal class"
      ],
      "metadata": {
        "id": "yfGAgNjn-FhU"
      },
      "execution_count": 22,
      "outputs": []
    },
    {
      "cell_type": "code",
      "source": [
        "print (Cat().meow())\n",
        "print (Cat().speak())"
      ],
      "metadata": {
        "colab": {
          "base_uri": "https://localhost:8080/"
        },
        "id": "COGykxvb_0t-",
        "outputId": "c764da9c-275a-442c-9264-7da4652910f9"
      },
      "execution_count": 21,
      "outputs": [
        {
          "output_type": "stream",
          "name": "stdout",
          "text": [
            "Meow!\n",
            "Animal\n"
          ]
        }
      ]
    },
    {
      "cell_type": "code",
      "source": [
        "my_cat = Cat(\"daisy\",\"white\")\n"
      ],
      "metadata": {
        "id": "dRmS_X3PAeQN"
      },
      "execution_count": 23,
      "outputs": []
    },
    {
      "cell_type": "code",
      "source": [
        "print(my_cat.name)\n",
        "print(my_cat.color)\n",
        "print(my_cat.meow())\n",
        "print(my_cat.speak())"
      ],
      "metadata": {
        "colab": {
          "base_uri": "https://localhost:8080/"
        },
        "id": "2_yMyttSDD-5",
        "outputId": "30fb672b-6159-48b2-c9db-0e51fbbcaca8"
      },
      "execution_count": 24,
      "outputs": [
        {
          "output_type": "stream",
          "name": "stdout",
          "text": [
            "daisy\n",
            "white\n",
            "Meow!\n",
            "Animal\n"
          ]
        }
      ]
    },
    {
      "cell_type": "code",
      "source": [
        "class Student:\n",
        "  def __init__(self,name):\n",
        "    self.name = name\n",
        "\n",
        "  def school(self):\n",
        "    return \"ABC School\"\n",
        "\n",
        "  def year(self):\n",
        "    return 2024\n",
        "\n",
        "\n",
        "\n",
        "class info(Student):\n",
        "  def __init__(self,name,roll_no,standard):\n",
        "    super().__init__(name)\n",
        "    self.roll_no = roll_no\n",
        "    self.standard = standard"
      ],
      "metadata": {
        "id": "B_-DnjU-DQ7S"
      },
      "execution_count": 28,
      "outputs": []
    },
    {
      "cell_type": "code",
      "source": [
        "student1 = info(name=\"Harsh\",roll_no=1, standard=10)"
      ],
      "metadata": {
        "id": "O3Jj-9MWFK-1"
      },
      "execution_count": 29,
      "outputs": []
    },
    {
      "cell_type": "code",
      "source": [
        "print(student1.name)\n",
        "print(student1.roll_no)\n",
        "print(student1.standard)\n",
        "print(student1.school())\n",
        "print(student1.year())"
      ],
      "metadata": {
        "colab": {
          "base_uri": "https://localhost:8080/"
        },
        "id": "QyP6zD4hGaOo",
        "outputId": "ea5ad76c-7fdf-44f1-b7d6-fc5fe6bb636d"
      },
      "execution_count": 30,
      "outputs": [
        {
          "output_type": "stream",
          "name": "stdout",
          "text": [
            "Harsh\n",
            "1\n",
            "10\n",
            "ABC School\n",
            "2024\n"
          ]
        }
      ]
    }
  ]
}