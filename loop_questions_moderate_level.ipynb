{
  "nbformat": 4,
  "nbformat_minor": 0,
  "metadata": {
    "colab": {
      "provenance": [],
      "authorship_tag": "ABX9TyO0lK5AeA+Dj3QswAocZrxJ",
      "include_colab_link": true
    },
    "kernelspec": {
      "name": "python3",
      "display_name": "Python 3"
    },
    "language_info": {
      "name": "python"
    }
  },
  "cells": [
    {
      "cell_type": "markdown",
      "metadata": {
        "id": "view-in-github",
        "colab_type": "text"
      },
      "source": [
        "<a href=\"https://colab.research.google.com/github/priyatanwar018/python-practicals/blob/main/loop_questions_moderate_level.ipynb\" target=\"_parent\"><img src=\"https://colab.research.google.com/assets/colab-badge.svg\" alt=\"Open In Colab\"/></a>"
      ]
    },
    {
      "cell_type": "code",
      "source": [
        "#1. Using a for loop to iterate over a list of strings and print only those that start with a vowel\n",
        "\n",
        "lst = input(\"Enter a list of strings: \")\n",
        "lst = lst.split()\n",
        "\n",
        "for char in lst:\n",
        "  if char[0] in \"aeiouAEIOU\":\n",
        "    print(char)\n"
      ],
      "metadata": {
        "colab": {
          "base_uri": "https://localhost:8080/"
        },
        "id": "auZxl4PpwKcz",
        "outputId": "6b9d25aa-6142-45b3-dd8d-1520da704025"
      },
      "execution_count": 52,
      "outputs": [
        {
          "output_type": "stream",
          "name": "stdout",
          "text": [
            "Enter a list of strings: earth wind fire air it exit apple uno\n",
            "earth\n",
            "air\n",
            "it\n",
            "exit\n",
            "apple\n",
            "uno\n"
          ]
        }
      ]
    },
    {
      "cell_type": "code",
      "source": [
        "#2. Write a while loop that calculates the product of all even numbers between 1 and 20\n",
        "\n",
        "num = 1\n",
        "product = 1\n",
        "\n",
        "while num <= 20:\n",
        "  if num % 2 == 0:\n",
        "    product *= num\n",
        "  num += 1\n",
        "print(product)"
      ],
      "metadata": {
        "colab": {
          "base_uri": "https://localhost:8080/"
        },
        "id": "P4isQYuvw8pv",
        "outputId": "d26c4d8c-cc2c-45a0-b791-744f5b677d8e"
      },
      "execution_count": 7,
      "outputs": [
        {
          "output_type": "stream",
          "name": "stdout",
          "text": [
            "3715891200\n"
          ]
        }
      ]
    },
    {
      "cell_type": "code",
      "source": [
        "#3. Using a for loop to print the multiplication table of 7\n",
        "\n",
        "for i in range(1,11):\n",
        "  print(f\"7 x {i} = {7*i}\")\n"
      ],
      "metadata": {
        "colab": {
          "base_uri": "https://localhost:8080/"
        },
        "id": "XqmGK2FOx6bp",
        "outputId": "37ec7cc0-2c3f-4354-ff8b-6d4ad6ceb453"
      },
      "execution_count": 53,
      "outputs": [
        {
          "output_type": "stream",
          "name": "stdout",
          "text": [
            "7 x 1 = 7\n",
            "7 x 2 = 14\n",
            "7 x 3 = 21\n",
            "7 x 4 = 28\n",
            "7 x 5 = 35\n",
            "7 x 6 = 42\n",
            "7 x 7 = 49\n",
            "7 x 8 = 56\n",
            "7 x 9 = 63\n",
            "7 x 10 = 70\n"
          ]
        }
      ]
    },
    {
      "cell_type": "code",
      "source": [
        "#4. Write a while loop that continuously takes user input and adds it to list until the user enters stop\n",
        "lst = list()\n",
        "while True:\n",
        "  user_input = input(\"Enter a string: \")\n",
        "  if user_input == \"stop\":\n",
        "    break\n",
        "  lst.append(user_input)\n",
        "  print(lst)"
      ],
      "metadata": {
        "colab": {
          "base_uri": "https://localhost:8080/"
        },
        "id": "tbq78VCfy59o",
        "outputId": "7446d124-cbc2-4f22-eb4b-3f0240569c37"
      },
      "execution_count": 9,
      "outputs": [
        {
          "name": "stdout",
          "output_type": "stream",
          "text": [
            "Enter a string: hello\n",
            "['hello']\n",
            "Enter a string: hii\n",
            "['hello', 'hii']\n",
            "Enter a string: how\n",
            "['hello', 'hii', 'how']\n",
            "Enter a string: are\n",
            "['hello', 'hii', 'how', 'are']\n",
            "Enter a string: you\n",
            "['hello', 'hii', 'how', 'are', 'you']\n",
            "Enter a string: well\n",
            "['hello', 'hii', 'how', 'are', 'you', 'well']\n",
            "Enter a string: it\n",
            "['hello', 'hii', 'how', 'are', 'you', 'well', 'it']\n",
            "Enter a string: s\n",
            "['hello', 'hii', 'how', 'are', 'you', 'well', 'it', 's']\n",
            "Enter a string:  working\n",
            "['hello', 'hii', 'how', 'are', 'you', 'well', 'it', 's', ' working']\n",
            "Enter a string: fine\n",
            "['hello', 'hii', 'how', 'are', 'you', 'well', 'it', 's', ' working', 'fine']\n",
            "Enter a string: stop\n"
          ]
        }
      ]
    },
    {
      "cell_type": "code",
      "source": [
        "#5. Create a for loop that iterates over a list of numbers and print the sum of squares of even numbers\n",
        "\n",
        "original_list = input(\"Enter a list of numbers separated by space: \")\n",
        "lst = list(map(int, original_list.split()))\n",
        "\n",
        "sum_of_squares = 0\n",
        "for num in lst:\n",
        "  if num % 2 == 0:\n",
        "    sum_of_squares += num**2\n",
        "\n",
        "print(sum_of_squares)"
      ],
      "metadata": {
        "colab": {
          "base_uri": "https://localhost:8080/"
        },
        "id": "RG3W--nCztzB",
        "outputId": "1936edbe-c253-4073-ce00-27fc8ab056c0"
      },
      "execution_count": 11,
      "outputs": [
        {
          "output_type": "stream",
          "name": "stdout",
          "text": [
            "Enter a list of numbers separated by space: 2 3 4 5\n",
            "20\n"
          ]
        }
      ]
    },
    {
      "cell_type": "code",
      "source": [
        "#6. Using a while loop calculate the factorial of a number provided by the user\n",
        "\n",
        "num = int(input(\"Enter a number: \"))\n",
        "factorial = 1\n",
        "\n",
        "while True:\n",
        "  if num < 0:\n",
        "    print(\"Factorial of negative numbers doesn't exist\")\n",
        "    num = int(input(\"Enter a number: \"))\n",
        "  elif num == 0:\n",
        "    print(\"Factorial of 0 is 1\")\n",
        "    num = int(input(\"Enter a number: \"))\n",
        "  else:\n",
        "    for i in range(1, num+1):\n",
        "      factorial *= i\n",
        "    print(f\"Factorial of {num} is {factorial}\")\n",
        "    break\n"
      ],
      "metadata": {
        "colab": {
          "base_uri": "https://localhost:8080/"
        },
        "id": "Lhvn5Zho1EPl",
        "outputId": "4848ef9d-4292-4770-a1d0-831a531809c4"
      },
      "execution_count": 15,
      "outputs": [
        {
          "output_type": "stream",
          "name": "stdout",
          "text": [
            "Enter a number: 0\n",
            "Factorial of 0 is 1\n",
            "Enter a number: -4\n",
            "Factorial of negative numbers doesn't exist\n",
            "Enter a number: 4\n",
            "Factorial of 4 is 24\n"
          ]
        }
      ]
    },
    {
      "cell_type": "code",
      "source": [
        "#7. Write a for loop that iterates over two lists simultaneously and prints the sum of corresponding elements\n",
        "\n",
        "original_lst1 = input(\"Enter first list of numbers separated by space: \")\n",
        "original_lst2 = input(\"Enter second list of numbers separated by space: \")\n",
        "\n",
        "lst1 = list(map(int, original_lst1.split()))\n",
        "lst2 = list(map(int, original_lst2.split()))\n",
        "\n",
        "for num1, num2 in zip(lst1, lst2):\n",
        "  print(num1 + num2)"
      ],
      "metadata": {
        "colab": {
          "base_uri": "https://localhost:8080/"
        },
        "id": "qyM8CZ0S2jyY",
        "outputId": "bf2b6629-54a6-4b8b-f719-eecc90697136"
      },
      "execution_count": 33,
      "outputs": [
        {
          "output_type": "stream",
          "name": "stdout",
          "text": [
            "Enter first list of numbers separated by space: 2 4 6\n",
            "Enter second list of numbers separated by space: 1 3 5 7\n",
            "3\n",
            "7\n",
            "11\n"
          ]
        }
      ]
    },
    {
      "cell_type": "code",
      "source": [
        "#8. Create a while loop that reverses the digit of a number provided by the user\n",
        "\n",
        "num = int(input(\"Enter a number: \"))\n",
        "reversed_num = 0\n",
        "\n",
        "while num > 0:\n",
        "  digit = num % 10\n",
        "  reversed_num = reversed_num * 10 + digit\n",
        "  num //= 10\n",
        "\n",
        "print(reversed_num)"
      ],
      "metadata": {
        "colab": {
          "base_uri": "https://localhost:8080/"
        },
        "id": "ZYCIoy9D4ZYc",
        "outputId": "7a3ee2f0-5310-435f-bae7-3eedcb9c2d1a"
      },
      "execution_count": 19,
      "outputs": [
        {
          "output_type": "stream",
          "name": "stdout",
          "text": [
            "Enter a number: 45\n",
            "54\n"
          ]
        }
      ]
    },
    {
      "cell_type": "code",
      "source": [
        "#9. Using a for loop iterate through a list and create a new list containing the squares of only the odd numbers\n",
        "\n",
        "original_list = input(\"Enter a list of numbers: \")\n",
        "lst = list(map(int, original_list.split()))\n",
        "\n",
        "list_of_squares = list()\n",
        "\n",
        "for num in lst:\n",
        "  if num % 2 != 0:\n",
        "    list_of_squares.append(num**2)\n",
        "\n",
        "print(list_of_squares)"
      ],
      "metadata": {
        "colab": {
          "base_uri": "https://localhost:8080/"
        },
        "id": "e1hg1fGj6Gq6",
        "outputId": "e49f9ae8-04fd-4b66-c773-1810b18db64a"
      },
      "execution_count": 54,
      "outputs": [
        {
          "output_type": "stream",
          "name": "stdout",
          "text": [
            "Enter a list of numbers: 2 3 4 5 6 7\n",
            "[9, 25, 49]\n"
          ]
        }
      ]
    },
    {
      "cell_type": "code",
      "source": [
        "#10. Write a while loop to find the smallest prime number greater than a given number n\n",
        "\n",
        "num = int(input(\"Enter a number: \"))\n",
        "a = num\n",
        "while True:\n",
        "  a += 1\n",
        "  is_prime = True\n",
        "  for i in range(2, a):\n",
        "    if a % i == 0:\n",
        "      is_prime = False\n",
        "      break\n",
        "  if is_prime:\n",
        "      print(f\"Smallest prime number greater than {num} is {a}\")\n",
        "      break\n"
      ],
      "metadata": {
        "colab": {
          "base_uri": "https://localhost:8080/"
        },
        "id": "VBCXwfkW7C9Z",
        "outputId": "68caf82f-162d-4918-9806-4de7b336ef19"
      },
      "execution_count": 55,
      "outputs": [
        {
          "output_type": "stream",
          "name": "stdout",
          "text": [
            "Enter a number: 14\n",
            "Smallest prime number greater than 14 is 17\n"
          ]
        }
      ]
    },
    {
      "cell_type": "code",
      "source": [
        "#11. Using a for loop count how many words in a list of strings have more than 5 characters\n",
        "\n",
        "lst = input(\"Enter a list of strings: \")\n",
        "lst = lst.split()\n",
        "count = 0\n",
        "for char in lst:\n",
        "  if len(char) > 5:\n",
        "    count += 1\n",
        "print(count)"
      ],
      "metadata": {
        "colab": {
          "base_uri": "https://localhost:8080/"
        },
        "id": "jM6iICJj93Pb",
        "outputId": "b569dd9f-70a3-4f15-af34-eaa8d9fe9de6"
      },
      "execution_count": 56,
      "outputs": [
        {
          "output_type": "stream",
          "name": "stdout",
          "text": [
            "Enter a list of strings: subject english mathematics hello This that or is and my yourself\n",
            "4\n"
          ]
        }
      ]
    },
    {
      "cell_type": "code",
      "source": [
        "#12. Create a while loop that generates and prints a random number between 1 and 10 until the number 7 is generated\n",
        "\n",
        "import random\n",
        "\n",
        "while True:\n",
        "  num = random.randint(1,10)\n",
        "  print(num)\n",
        "  if num == 7:\n",
        "    break"
      ],
      "metadata": {
        "colab": {
          "base_uri": "https://localhost:8080/"
        },
        "id": "m6gkBrM__tlo",
        "outputId": "a10f9f82-32cd-404c-9b89-2c871f8fd802"
      },
      "execution_count": 32,
      "outputs": [
        {
          "output_type": "stream",
          "name": "stdout",
          "text": [
            "6\n",
            "1\n",
            "4\n",
            "5\n",
            "2\n",
            "4\n",
            "5\n",
            "7\n"
          ]
        }
      ]
    },
    {
      "cell_type": "code",
      "source": [
        "#13. Write a for loop to iterate over a list of tuples and  print the tuple where both elements are even numbers\n",
        "\n",
        "original_tuple = input(\"Enter a list of tuples: \")\n",
        "tple = tuple(map(int,original_tuple.split()))\n",
        "\n",
        "for num in tple:\n",
        "  if num % 2 == 0:\n",
        "    print(num)\n",
        ""
      ],
      "metadata": {
        "colab": {
          "base_uri": "https://localhost:8080/"
        },
        "id": "wu_7aHnmAkNl",
        "outputId": "ebf9399d-45f3-4a03-de7f-7a11f8adb73e"
      },
      "execution_count": 25,
      "outputs": [
        {
          "output_type": "stream",
          "name": "stdout",
          "text": [
            "Enter a list of tuples: 2 3 4 5 6 7 78 90\n",
            "2\n",
            "4\n",
            "6\n",
            "78\n",
            "90\n"
          ]
        }
      ]
    },
    {
      "cell_type": "code",
      "source": [
        "#14. Using a while loop continuously prompt the user to input their age and validate that it's a number between 1 and 120\n",
        "\n",
        "age = int(input(\"Enter your age: \"))\n",
        "\n",
        "while True:\n",
        "  if age < 1 or  age > 120:\n",
        "    print(\"Invalid age\")\n",
        "    age = int(input(\"Enter your age: \"))\n",
        "  else:\n",
        "    print(\"Valid age\")\n",
        "    break\n"
      ],
      "metadata": {
        "colab": {
          "base_uri": "https://localhost:8080/"
        },
        "id": "2LHlSfIZfPaO",
        "outputId": "3ad44219-628a-459d-c45d-86917e9d292e"
      },
      "execution_count": 28,
      "outputs": [
        {
          "output_type": "stream",
          "name": "stdout",
          "text": [
            "Enter your age: -4\n",
            "Invalid age\n",
            "Enter your age: 121\n",
            "Invalid age\n",
            "Enter your age: 20\n",
            "Valid age\n"
          ]
        }
      ]
    },
    {
      "cell_type": "code",
      "source": [
        "#15. Create a for loop that iterates over a list of integers and finds the index of the maximum value\n",
        "\n",
        "original_list = input(\"Enter a list of integers: \")\n",
        "lst = list(map(int,original_list.split()))\n",
        "\n",
        "max_value = lst[0]\n",
        "max_index = 0\n",
        "\n",
        "for i in range(lst[0], len(lst)):\n",
        "  if lst[i] > max_value:\n",
        "    max_value = lst[i]\n",
        "    max_index = i\n",
        "\n",
        "print(f\"Index of maximum value in the given list is {max_index}\")"
      ],
      "metadata": {
        "colab": {
          "base_uri": "https://localhost:8080/"
        },
        "id": "yjiRbeRvggnP",
        "outputId": "3ab23bd8-ad19-487d-d414-e47fe9c29355"
      },
      "execution_count": 57,
      "outputs": [
        {
          "output_type": "stream",
          "name": "stdout",
          "text": [
            "Enter a list of integers: 2 45 67 456 4783 35 56\n",
            "Index of maximum value in the given list is 4\n"
          ]
        }
      ]
    },
    {
      "cell_type": "code",
      "source": [
        "#16. Write a while loop that keeps having a number provided by the user until it becomes less than 1\n",
        "\n",
        "num = int(input(\"Enter a number: \"))\n",
        "\n",
        "while True:\n",
        "  if num >= 1:\n",
        "    num = int(input(\"Enter a number: \"))\n",
        "  else:\n",
        "    print(\"Number is less than 1\")\n",
        "    break"
      ],
      "metadata": {
        "colab": {
          "base_uri": "https://localhost:8080/"
        },
        "id": "LfaoO5y-iSwm",
        "outputId": "a69c4457-bba1-46ea-ff1b-f3be8e6dedb6"
      },
      "execution_count": 36,
      "outputs": [
        {
          "output_type": "stream",
          "name": "stdout",
          "text": [
            "Enter a number: 45463\n",
            "Enter a number: 5647\n",
            "Enter a number: 4839\n",
            "Enter a number: -327\n",
            "Number is less than 1\n"
          ]
        }
      ]
    },
    {
      "cell_type": "code",
      "source": [
        "#17. Using a for loop write a program that checks if a number is a palindrome\n",
        "\n",
        "num = int(input(\"Enter a number: \"))\n",
        "temp = num\n",
        "reversed_num = 0\n",
        "\n",
        "while temp > 0:\n",
        "  digit = temp % 10\n",
        "  reversed_num = reversed_num * 10 + digit\n",
        "  temp //= 10\n",
        "\n",
        "if num == reversed_num:\n",
        "  print(f\"{num} is a palindrome\")\n",
        "else:\n",
        "  print(f\"{num} is not a palindrome\")"
      ],
      "metadata": {
        "colab": {
          "base_uri": "https://localhost:8080/"
        },
        "id": "_5FxEnIAjf7Z",
        "outputId": "2d3e2183-eadb-43fc-e3ea-3e6f9bc0e4fc"
      },
      "execution_count": 44,
      "outputs": [
        {
          "output_type": "stream",
          "name": "stdout",
          "text": [
            "Enter a number: 7654567\n",
            "7654567 is a palindrome\n"
          ]
        }
      ]
    },
    {
      "cell_type": "code",
      "source": [
        "#18. Create a while loop that finds the largest number that divides two given numbers\n",
        "\n",
        "num1 = int(input(\"Enter first number: \"))\n",
        "num2 = int(input(\"Enter second number: \"))\n",
        "\n",
        "a = num1\n",
        "b = num2\n",
        "\n",
        "while b != 0:\n",
        "  a, b =b, a%b\n",
        "\n",
        "print(f\"The largest number that divides both {num1} and {num2} is {a}\")\n"
      ],
      "metadata": {
        "colab": {
          "base_uri": "https://localhost:8080/"
        },
        "id": "tzFPS8uRlrQT",
        "outputId": "085f0e31-5123-4d21-a0d2-dc66704249be"
      },
      "execution_count": 46,
      "outputs": [
        {
          "output_type": "stream",
          "name": "stdout",
          "text": [
            "Enter first number: 153\n",
            "Enter second number: 81\n",
            "The largest number that divides both 153 and 81 is 9\n"
          ]
        }
      ]
    },
    {
      "cell_type": "code",
      "source": [
        "#19. Write a for loop that converts all the elements of a list of strings to uppercase\n",
        "\n",
        "lst = input(\"Enter a list of strings: \")\n",
        "lst = lst.split()\n",
        "\n",
        "for char in lst:\n",
        "  print(char.upper())"
      ],
      "metadata": {
        "colab": {
          "base_uri": "https://localhost:8080/"
        },
        "id": "Mru31ughnQ9Q",
        "outputId": "58f5b179-6fbd-4505-85e6-d0ed71f209f9"
      },
      "execution_count": 47,
      "outputs": [
        {
          "output_type": "stream",
          "name": "stdout",
          "text": [
            "Enter a list of strings: earth apple women rain wind fire both one\n",
            "EARTH\n",
            "APPLE\n",
            "WOMEN\n",
            "RAIN\n",
            "WIND\n",
            "FIRE\n",
            "BOTH\n",
            "ONE\n"
          ]
        }
      ]
    },
    {
      "cell_type": "code",
      "source": [
        "#20. Using a while loop implement a countdown that displays the remaining time in seconds and stops when the time reaches zero\n",
        "\n",
        "import time\n",
        "\n",
        "countdown_time = int(input(\"Enter the time in seconds: \"))\n",
        "\n",
        "while countdown_time > 0:\n",
        "  print(f\"Time remaining: {countdown_time}\")\n",
        "  time.sleep(1)\n",
        "  countdown_time -= 1\n",
        "\n",
        "print(\"Time's Up!\")"
      ],
      "metadata": {
        "colab": {
          "base_uri": "https://localhost:8080/"
        },
        "id": "5gv7iyS_nzdK",
        "outputId": "dbd513c8-e7a5-4be1-cc09-4b910319e5ca"
      },
      "execution_count": 51,
      "outputs": [
        {
          "output_type": "stream",
          "name": "stdout",
          "text": [
            "Enter the time in seconds: 20\n",
            "Time remaining: 20\n",
            "Time remaining: 19\n",
            "Time remaining: 18\n",
            "Time remaining: 17\n",
            "Time remaining: 16\n",
            "Time remaining: 15\n",
            "Time remaining: 14\n",
            "Time remaining: 13\n",
            "Time remaining: 12\n",
            "Time remaining: 11\n",
            "Time remaining: 10\n",
            "Time remaining: 9\n",
            "Time remaining: 8\n",
            "Time remaining: 7\n",
            "Time remaining: 6\n",
            "Time remaining: 5\n",
            "Time remaining: 4\n",
            "Time remaining: 3\n",
            "Time remaining: 2\n",
            "Time remaining: 1\n",
            "Time's Up!\n"
          ]
        }
      ]
    },
    {
      "cell_type": "code",
      "source": [],
      "metadata": {
        "id": "FcRsGsKmtPKA"
      },
      "execution_count": null,
      "outputs": []
    }
  ]
}