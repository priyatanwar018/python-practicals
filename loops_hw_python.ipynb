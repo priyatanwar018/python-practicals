{
  "nbformat": 4,
  "nbformat_minor": 0,
  "metadata": {
    "colab": {
      "provenance": [],
      "authorship_tag": "ABX9TyO2Hu/at8QPn5i/1YIEPceB",
      "include_colab_link": true
    },
    "kernelspec": {
      "name": "python3",
      "display_name": "Python 3"
    },
    "language_info": {
      "name": "python"
    }
  },
  "cells": [
    {
      "cell_type": "markdown",
      "metadata": {
        "id": "view-in-github",
        "colab_type": "text"
      },
      "source": [
        "<a href=\"https://colab.research.google.com/github/priyatanwar018/python-practicals/blob/main/loops_hw_python.ipynb\" target=\"_parent\"><img src=\"https://colab.research.google.com/assets/colab-badge.svg\" alt=\"Open In Colab\"/></a>"
      ]
    },
    {
      "cell_type": "code",
      "source": [
        "#1. for loop that prints all the even numbers from 1 to 50\n",
        "\n",
        "for num in range(1,51):\n",
        "  if num % 2 == 0:\n",
        "    print(num, end=\" \")\n"
      ],
      "metadata": {
        "colab": {
          "base_uri": "https://localhost:8080/"
        },
        "id": "Xf7uD1HOf_Rd",
        "outputId": "cec426a0-b66f-4e4c-8234-de0b8d50e805"
      },
      "execution_count": null,
      "outputs": [
        {
          "output_type": "stream",
          "name": "stdout",
          "text": [
            "2 4 6 8 10 12 14 16 18 20 22 24 26 28 30 32 34 36 38 40 42 44 46 48 50 "
          ]
        }
      ]
    },
    {
      "cell_type": "code",
      "source": [
        "#2. using a while to loop calculate the sum of all odd numbers betweeen 1 and 100\n",
        "\n",
        "sum = 0\n",
        "num = 1\n",
        "while num <= 100:\n",
        "  if num % 2 != 0:\n",
        "    sum += num\n",
        "  num += 1\n",
        "print(f\"Sum of all odd numbers between 1 and 100 is {sum}\")"
      ],
      "metadata": {
        "colab": {
          "base_uri": "https://localhost:8080/"
        },
        "id": "gfeUKszRaSSf",
        "outputId": "f8e2d127-c1e5-4882-e3ee-e7bcba2f8cd5"
      },
      "execution_count": 90,
      "outputs": [
        {
          "output_type": "stream",
          "name": "stdout",
          "text": [
            "Sum of all odd numbers between 1 and 100 is 2500\n"
          ]
        }
      ]
    },
    {
      "cell_type": "code",
      "source": [
        "#3. Write a for loop to reverse a string without using slicing\n",
        "\n",
        "string = input(\"Enter a string: \")\n",
        "reversed_string = \"\"\n",
        "for char in string:\n",
        "  reversed_string = char + reversed_string\n",
        "print(f\"Reversed string is: {reversed_string}\")\n"
      ],
      "metadata": {
        "colab": {
          "base_uri": "https://localhost:8080/"
        },
        "id": "91rJ08RFa9Q3",
        "outputId": "02f48abe-30d9-4d29-8c71-c88b4748f286"
      },
      "execution_count": 91,
      "outputs": [
        {
          "output_type": "stream",
          "name": "stdout",
          "text": [
            "Enter a string: Hey, there!\n",
            "Reversed string is: !ereht ,yeH\n"
          ]
        }
      ]
    },
    {
      "cell_type": "code",
      "source": [
        "#4. Using a while loop to implement a basic countdown timer that counts down from 10 to 0\n",
        "\n",
        "num = 10\n",
        "while num >= 0:\n",
        "  print(num)\n",
        "  num -= 1"
      ],
      "metadata": {
        "colab": {
          "base_uri": "https://localhost:8080/"
        },
        "id": "IyPEJfFBbpYW",
        "outputId": "f80e64c9-1ae5-47d0-db93-b31e53dcca18"
      },
      "execution_count": 92,
      "outputs": [
        {
          "output_type": "stream",
          "name": "stdout",
          "text": [
            "10\n",
            "9\n",
            "8\n",
            "7\n",
            "6\n",
            "5\n",
            "4\n",
            "3\n",
            "2\n",
            "1\n",
            "0\n"
          ]
        }
      ]
    },
    {
      "cell_type": "code",
      "source": [
        "#5. Write a for loop to iterate over a list and print the elements that are prime number\n",
        "\n",
        "lst = [2,3,4,5,67,45,23,27,16,85,89]\n",
        "for num in lst:\n",
        "  i = 2\n",
        "  while i <= num/2:\n",
        "    if num % i == 0:\n",
        "      break\n",
        "    i += 1\n",
        "  if i > num/2:\n",
        "    print(num, end=\" \")"
      ],
      "metadata": {
        "colab": {
          "base_uri": "https://localhost:8080/"
        },
        "id": "5BtL0r-qchZ8",
        "outputId": "8e604a60-0c49-49d3-be61-c26f77bd6165"
      },
      "execution_count": 16,
      "outputs": [
        {
          "output_type": "stream",
          "name": "stdout",
          "text": [
            "2 3 5 67 23 89 "
          ]
        }
      ]
    },
    {
      "cell_type": "code",
      "source": [
        "#6. Use a while loop to find the first number that is both divisible by 7 and greater than 100\n",
        "\n",
        "num = 100\n",
        "while True:\n",
        "  if num % 7 == 0:\n",
        "    print(f\"First number that is both divisible by 7 and greater than 100 is {num}\")\n",
        "    break\n",
        "  num += 1"
      ],
      "metadata": {
        "id": "koeBHT8zdExp",
        "colab": {
          "base_uri": "https://localhost:8080/"
        },
        "outputId": "d2fa262e-211f-4add-8417-b7fea6e6f4b9"
      },
      "execution_count": 93,
      "outputs": [
        {
          "output_type": "stream",
          "name": "stdout",
          "text": [
            "First number that is both divisible by 7 and greater than 100 is 105\n"
          ]
        }
      ]
    },
    {
      "cell_type": "code",
      "source": [
        "#7. Create a for loop that iterates through a list of numbers and print the square of each number\n",
        "\n",
        "original_list = input(\"Enter a list of numbers seperated by space: \")\n",
        "lst = list(map(int, original_list.split()))\n",
        "for num in lst:\n",
        "  print(f\"Square of {num} is {num**2}\")"
      ],
      "metadata": {
        "colab": {
          "base_uri": "https://localhost:8080/"
        },
        "id": "LHYKsNg9iTnP",
        "outputId": "07521850-08c4-4407-d6f7-a800da0794cc"
      },
      "execution_count": 94,
      "outputs": [
        {
          "output_type": "stream",
          "name": "stdout",
          "text": [
            "Enter a list of numbers seperated by space: 2 3 4 6 8 11 12\n",
            "Square of 2 is 4\n",
            "Square of 3 is 9\n",
            "Square of 4 is 16\n",
            "Square of 6 is 36\n",
            "Square of 8 is 64\n",
            "Square of 11 is 121\n",
            "Square of 12 is 144\n"
          ]
        }
      ]
    },
    {
      "cell_type": "code",
      "source": [
        "#8. Write a while loop that keep asking the user to enter a  number until they enter a negative number\n",
        "\n",
        "while True:\n",
        "  num = int(input(\"Enter a number:\"))\n",
        "  if num < 0:\n",
        "    break"
      ],
      "metadata": {
        "colab": {
          "base_uri": "https://localhost:8080/"
        },
        "id": "tmkWoFatmUhg",
        "outputId": "a1dce6a1-c4a3-4abd-f163-d0e62f833109"
      },
      "execution_count": 96,
      "outputs": [
        {
          "name": "stdout",
          "output_type": "stream",
          "text": [
            "Enter a number:4\n",
            "Enter a number:6\n",
            "Enter a number:7\n",
            "Enter a number:3\n",
            "Enter a number:2\n",
            "Enter a number:0\n",
            "Enter a number:-10\n"
          ]
        }
      ]
    },
    {
      "cell_type": "code",
      "source": [
        "#9. Using a for loop, write a program that calculates the factorial of given number\n",
        "\n",
        "num = int(input(\"Enter a number: \"))\n",
        "factorial = 1\n",
        "for i in range(1, num+1):\n",
        "  factorial *= i\n",
        "print(f\"Factorial of {num} is {factorial}\")"
      ],
      "metadata": {
        "colab": {
          "base_uri": "https://localhost:8080/"
        },
        "id": "IiUP-AienEar",
        "outputId": "5c982bf6-17b1-46ca-c0b0-64ef2a2970b4"
      },
      "execution_count": 28,
      "outputs": [
        {
          "output_type": "stream",
          "name": "stdout",
          "text": [
            "Enter a number: 6\n",
            "Factorial of 6 is 720\n"
          ]
        }
      ]
    },
    {
      "cell_type": "code",
      "source": [
        "#10. Use a while loop to print the fibonacci sequence until the value exceeds 1000\n",
        "\n",
        "a,b = 0,1\n",
        "while  True:\n",
        "  if b > 1000:\n",
        "    print(b, end=\" \")\n",
        "    break\n",
        "  print(a, end = \" \")\n",
        "  a,b = b, a+b\n",
        "\n"
      ],
      "metadata": {
        "colab": {
          "base_uri": "https://localhost:8080/"
        },
        "id": "vh-wxr0hnzfV",
        "outputId": "be2a7238-182d-4713-ef42-803266d4d194"
      },
      "execution_count": 87,
      "outputs": [
        {
          "output_type": "stream",
          "name": "stdout",
          "text": [
            "0 1 1 2 3 5 8 13 21 34 55 89 144 233 377 610 1597 "
          ]
        }
      ]
    },
    {
      "cell_type": "code",
      "source": [
        "#11. Write a for loop to find the smallest number in a list of integers without using min() function\n",
        "\n",
        "original_list= input(\"Enter a list of numbers seperated by space:\")\n",
        "lst = list(map(int, original_list.split()))\n",
        "smallest = lst[0]\n",
        "for num in lst:\n",
        "  if num < smallest:\n",
        "    smallest = num\n",
        "print(f\"Smallest number in the list is {smallest}\")"
      ],
      "metadata": {
        "colab": {
          "base_uri": "https://localhost:8080/"
        },
        "id": "yJlkSx0ToZtP",
        "outputId": "842c3c23-e2e7-4e74-d72b-735f6834d6e2"
      },
      "execution_count": 97,
      "outputs": [
        {
          "output_type": "stream",
          "name": "stdout",
          "text": [
            "Enter a list of numbers seperated by space:99 1023 456 4637 378 72 365 4 34\n",
            "Smallest number in the list is 4\n"
          ]
        }
      ]
    },
    {
      "cell_type": "code",
      "source": [
        "#12. Using a while loop, implement a guessing game where the user has to guess a secret number between 1 and 100\n",
        "\n",
        "import random\n",
        "secret_number = random.randint(1,100)\n",
        "guess  = None\n",
        "while guess != secret_number:\n",
        "  guess = int(input(\"Guess a number between 1 and 100: \"))\n",
        "  if guess < secret_number:\n",
        "    print(\"Too low!, try again\")\n",
        "  elif guess > secret_number:\n",
        "    print(\"Too high!, try again\")\n",
        "  else:\n",
        "    print(\"Congratulations!! You guessed the secret number\")\n",
        "\n"
      ],
      "metadata": {
        "colab": {
          "base_uri": "https://localhost:8080/"
        },
        "id": "uCsQnNR_qhhU",
        "outputId": "c7015295-4085-426f-a209-a8a11cf2ba00"
      },
      "execution_count": 98,
      "outputs": [
        {
          "output_type": "stream",
          "name": "stdout",
          "text": [
            "Guess a number between 1 and 100: 34\n",
            "Too low!, try again\n",
            "Guess a number between 1 and 100: 67\n",
            "Too high!, try again\n",
            "Guess a number between 1 and 100: 89\n",
            "Too high!, try again\n",
            "Guess a number between 1 and 100: 78\n",
            "Too high!, try again\n",
            "Guess a number between 1 and 100: 56\n",
            "Congratulations!! You guessed the secret number\n"
          ]
        }
      ]
    },
    {
      "cell_type": "code",
      "source": [
        "#13. Write a for loop to count the number of vowels in a given string\n",
        "\n",
        "string = input(\"Enter a string: \")\n",
        "vowels = \"aeiouAEIOU\"\n",
        "count = 0\n",
        "for char in string:\n",
        "  if char in vowels:\n",
        "    count += 1\n",
        "print(f\"Number of vowels in the string is {count}\")"
      ],
      "metadata": {
        "colab": {
          "base_uri": "https://localhost:8080/"
        },
        "id": "x8lNcWvQxuTn",
        "outputId": "bdb0fc0f-b667-4de9-da5b-c5be06b8fa02"
      },
      "execution_count": 47,
      "outputs": [
        {
          "output_type": "stream",
          "name": "stdout",
          "text": [
            "Enter a string: Hello, my name is Priya TANWAR\n",
            "Number of vowels in the string is 9\n"
          ]
        }
      ]
    },
    {
      "cell_type": "code",
      "source": [
        "#14. Use a while loop to simulate a simple ATM that continues to prompt for a pin until the correct one is entered\n",
        "\n",
        "set_pin = int(input(\"Enter a pin: \"))\n",
        "pin = None\n",
        "\n",
        "while pin != set_pin:\n",
        "  pin = int(input(\"Enter your pin: \"))\n",
        "  if pin != set_pin:\n",
        "    print(\"Incorrect pin, try again!!\")\n",
        "  else:\n",
        "    print(\"Pin accepted!!\")"
      ],
      "metadata": {
        "colab": {
          "base_uri": "https://localhost:8080/"
        },
        "id": "1jsKNLgRyvhE",
        "outputId": "0b430fd2-3329-4151-a39b-2bcfd3b2b7de"
      },
      "execution_count": 48,
      "outputs": [
        {
          "output_type": "stream",
          "name": "stdout",
          "text": [
            "Enter a pin: 4538\n",
            "Enter your pin: 6745\n",
            "Incorrect pin, try again!!\n",
            "Enter your pin: 4537\n",
            "Incorrect pin, try again!!\n",
            "Enter your pin: 4578\n",
            "Incorrect pin, try again!!\n",
            "Enter your pin: 4583\n",
            "Incorrect pin, try again!!\n",
            "Enter your pin: 4538\n",
            "Pin accepted!!\n"
          ]
        }
      ]
    },
    {
      "cell_type": "code",
      "source": [
        "#15. Create a for loop that iterates over a dictionary and prints each key value pair\n",
        "\n",
        "dictionary = {\"Name\":\"Priya\", \"Age\":20, \"City\":\"Bhiwani\"}\n",
        "\n",
        "for key,value in dictionary.items():\n",
        "  print(f\"{key}:{value}\")"
      ],
      "metadata": {
        "colab": {
          "base_uri": "https://localhost:8080/"
        },
        "id": "6A58a26R0EU3",
        "outputId": "60005cde-98ac-4f17-a717-dae0c2685af3"
      },
      "execution_count": 56,
      "outputs": [
        {
          "output_type": "stream",
          "name": "stdout",
          "text": [
            "Name:Priya\n",
            "Age:20\n",
            "City:Bhiwani\n"
          ]
        }
      ]
    },
    {
      "cell_type": "code",
      "source": [
        "#16. Write a while loop that generates a multiplication table for a number provided by the user\n",
        "\n",
        "num = int(input(\"Enter a number: \"))\n",
        "\n",
        "i = 1\n",
        "while i <= 10:\n",
        "  print(f\"{num} X {i} = {num*i}\")\n",
        "  i += 1"
      ],
      "metadata": {
        "colab": {
          "base_uri": "https://localhost:8080/"
        },
        "id": "m_yCgRc21N2B",
        "outputId": "71e3b25f-eafb-4d35-9994-41cdaa96b3e6"
      },
      "execution_count": 99,
      "outputs": [
        {
          "output_type": "stream",
          "name": "stdout",
          "text": [
            "Enter a number: 15\n",
            "15 X 1 = 15\n",
            "15 X 2 = 30\n",
            "15 X 3 = 45\n",
            "15 X 4 = 60\n",
            "15 X 5 = 75\n",
            "15 X 6 = 90\n",
            "15 X 7 = 105\n",
            "15 X 8 = 120\n",
            "15 X 9 = 135\n",
            "15 X 10 = 150\n"
          ]
        }
      ]
    },
    {
      "cell_type": "code",
      "source": [
        "#17. Using a for loop write a program that checks if a list is sorted in ascending order\n",
        "\n",
        "original_list = input(\"Enter a list of numbers seperated by spaces: \")\n",
        "lst = list(map(int, original_list.split()))\n",
        "\n",
        "is_sorted = True\n",
        "for i in range(len(lst)-1):\n",
        "  if lst[i] > lst[i+1]:\n",
        "    is_sorted = False\n",
        "    break\n",
        "\n",
        "if is_sorted:\n",
        "    print(\"List is sorted in ascending order\")\n",
        "else:\n",
        "  print(\"List is not sorted in ascending order\")\n"
      ],
      "metadata": {
        "colab": {
          "base_uri": "https://localhost:8080/"
        },
        "id": "e9RvEK9q4Ku9",
        "outputId": "918722fa-b0fb-4161-fc7d-c9cd0141c524"
      },
      "execution_count": 67,
      "outputs": [
        {
          "output_type": "stream",
          "name": "stdout",
          "text": [
            "Enter a list of numbers seperated by spaces: 2 4 3 5\n",
            "List is not sorted in ascending order\n"
          ]
        }
      ]
    },
    {
      "cell_type": "code",
      "source": [
        "#18. Write a while loop that find the greatest common divisor(GCD) of two numbers\n",
        "\n",
        "num1 = int(input(\"Enter first number: \"))\n",
        "num2 = int(input(\"Enter second number: \"))\n",
        "a = num1\n",
        "b = num2\n",
        "\n",
        "while b != 0:\n",
        "  a,b = b,a%b\n",
        "print(f\"GCD of {num1} and {num2} is {a}\")"
      ],
      "metadata": {
        "colab": {
          "base_uri": "https://localhost:8080/"
        },
        "id": "8HZ2fKbz55gw",
        "outputId": "fe8981f4-afb9-4f72-f215-172f617dcae6"
      },
      "execution_count": 100,
      "outputs": [
        {
          "output_type": "stream",
          "name": "stdout",
          "text": [
            "Enter first number: 153\n",
            "Enter second number: 81\n",
            "GCD of 153 and 81 is 9\n"
          ]
        }
      ]
    },
    {
      "cell_type": "code",
      "source": [
        "#19. Use a for loop to create a pattern that prints a right angeled triangle of stars with 5 rows\n",
        "\n",
        "for i in range(1,6):\n",
        "  for j in range(i):\n",
        "    print(\"*\", end=\" \")\n",
        "  print()\n",
        "\n"
      ],
      "metadata": {
        "colab": {
          "base_uri": "https://localhost:8080/"
        },
        "id": "zEjxa2Pr-6eN",
        "outputId": "edb42906-3c98-4b72-8733-f6aef5d80e22"
      },
      "execution_count": 78,
      "outputs": [
        {
          "output_type": "stream",
          "name": "stdout",
          "text": [
            "* \n",
            "* * \n",
            "* * * \n",
            "* * * * \n",
            "* * * * * \n"
          ]
        }
      ]
    },
    {
      "cell_type": "code",
      "source": [
        "#20. Create a while loop that reads numbers from the users and stops when the sum of the entered numbers exceeds 100\n",
        "\n",
        "num = int(input(\"Enter a number: \"))\n",
        "sum = 0\n",
        "while True:\n",
        "  if sum < 100:\n",
        "    num = int(input(\"Enter a number: \"))\n",
        "    sum += num\n",
        "  else:\n",
        "    break\n",
        "\n",
        "print(f\"Sum of entered numbers is {sum}\")"
      ],
      "metadata": {
        "colab": {
          "base_uri": "https://localhost:8080/"
        },
        "id": "OhQkNMTCBpsX",
        "outputId": "62754d0e-641f-4349-89f4-4f9bf8239262"
      },
      "execution_count": 101,
      "outputs": [
        {
          "output_type": "stream",
          "name": "stdout",
          "text": [
            "Enter a number: 10\n",
            "Enter a number: 43\n",
            "Enter a number: 24\n",
            "Enter a number: 32\n",
            "Enter a number: 6\n",
            "Sum of entered numbers is 105\n"
          ]
        }
      ]
    },
    {
      "cell_type": "code",
      "source": [],
      "metadata": {
        "id": "RpRwNlMnDK1H"
      },
      "execution_count": null,
      "outputs": []
    }
  ]
}