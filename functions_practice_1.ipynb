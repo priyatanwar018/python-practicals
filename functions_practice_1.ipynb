{
  "nbformat": 4,
  "nbformat_minor": 0,
  "metadata": {
    "colab": {
      "provenance": [],
      "authorship_tag": "ABX9TyOwCnBwOhfCMU5DzyAnDnd0",
      "include_colab_link": true
    },
    "kernelspec": {
      "name": "python3",
      "display_name": "Python 3"
    },
    "language_info": {
      "name": "python"
    }
  },
  "cells": [
    {
      "cell_type": "markdown",
      "metadata": {
        "id": "view-in-github",
        "colab_type": "text"
      },
      "source": [
        "<a href=\"https://colab.research.google.com/github/priyatanwar018/python-practicals/blob/main/functions_practice_1.ipynb\" target=\"_parent\"><img src=\"https://colab.research.google.com/assets/colab-badge.svg\" alt=\"Open In Colab\"/></a>"
      ]
    },
    {
      "cell_type": "code",
      "execution_count": 1,
      "metadata": {
        "colab": {
          "base_uri": "https://localhost:8080/"
        },
        "id": "tCd9zSn0N-k-",
        "outputId": "7983a36a-24e5-4ab0-e7df-eb66cf26e55a"
      },
      "outputs": [
        {
          "output_type": "stream",
          "name": "stdout",
          "text": [
            "calling the greet() function\n",
            "Hello, World!\n",
            "Done calling the greet() function\n"
          ]
        }
      ],
      "source": [
        "#Write a function greet() that prints \"Hello, World!\" when called\n",
        "\n",
        "def greet():\n",
        "  print(\"Hello, World!\")\n",
        "\n",
        "print(\"calling the greet() function\")\n",
        "greet()\n",
        "print(\"Done calling the greet() function\")"
      ]
    },
    {
      "cell_type": "code",
      "source": [
        "#Create a function add_numbers(a,b), that returns the sum of two numbers\n",
        "\n",
        "def add_numbers(a,b):\n",
        "  sum = a + b\n",
        "  return(f\"Sum of {num1} and {num2} is: {sum}\")\n",
        "\n",
        "num1 = int(input(\"Enter first number: \"))\n",
        "num2 = int(input(\"Enter second number: \"))\n",
        "add_numbers(num1,num2)"
      ],
      "metadata": {
        "colab": {
          "base_uri": "https://localhost:8080/",
          "height": 90
        },
        "id": "bUPwesTqOljw",
        "outputId": "579b3acc-7fd8-4f0d-a475-e54a756ad84c"
      },
      "execution_count": 65,
      "outputs": [
        {
          "name": "stdout",
          "output_type": "stream",
          "text": [
            "Enter first number: 4\n",
            "Enter second number: 6\n"
          ]
        },
        {
          "output_type": "execute_result",
          "data": {
            "text/plain": [
              "'Sum of 4 and 6 is: 10'"
            ],
            "application/vnd.google.colaboratory.intrinsic+json": {
              "type": "string"
            }
          },
          "metadata": {},
          "execution_count": 65
        }
      ]
    },
    {
      "cell_type": "code",
      "source": [
        "#Write a function is_even(num) that checks whether a given number is even and returns True or False\n",
        "\n",
        "def is_even(num):\n",
        "  if num % 2 == 0:\n",
        "    return(f\"{num} is even: True\")\n",
        "  else:\n",
        "    return(f\"{num} is even: False\")\n",
        "\n",
        "num = int(input(\"Enter a number: \"))\n",
        "is_even(num)"
      ],
      "metadata": {
        "colab": {
          "base_uri": "https://localhost:8080/",
          "height": 72
        },
        "id": "DBxLIvL2PjF_",
        "outputId": "503d592d-4dd0-46f4-92eb-1a201af5a019"
      },
      "execution_count": 66,
      "outputs": [
        {
          "name": "stdout",
          "output_type": "stream",
          "text": [
            "Enter a number: 3\n"
          ]
        },
        {
          "output_type": "execute_result",
          "data": {
            "text/plain": [
              "'3 is even: False'"
            ],
            "application/vnd.google.colaboratory.intrinsic+json": {
              "type": "string"
            }
          },
          "metadata": {},
          "execution_count": 66
        }
      ]
    },
    {
      "cell_type": "code",
      "source": [
        "#Define a function square(x) that returns the square of a number\n",
        "\n",
        "def square(x):\n",
        "  sqr = x**2\n",
        "  return(f\"Square of {num} is: {sqr}\")\n",
        "\n",
        "num = int(input(\"Enter a number: \"))\n",
        "square(num)"
      ],
      "metadata": {
        "colab": {
          "base_uri": "https://localhost:8080/",
          "height": 72
        },
        "id": "QC0tlusLQQ83",
        "outputId": "d029393f-8469-4993-fdfc-8637b8e3aa31"
      },
      "execution_count": 67,
      "outputs": [
        {
          "name": "stdout",
          "output_type": "stream",
          "text": [
            "Enter a number: 16\n"
          ]
        },
        {
          "output_type": "execute_result",
          "data": {
            "text/plain": [
              "'Square of 16 is: 256'"
            ],
            "application/vnd.google.colaboratory.intrinsic+json": {
              "type": "string"
            }
          },
          "metadata": {},
          "execution_count": 67
        }
      ]
    },
    {
      "cell_type": "code",
      "source": [
        "#Create a function print_name(name) that takes a string and prints \"Your name is [name]\"\n",
        "\n",
        "def print_name(name):\n",
        "  print(f\"Your name is {name}\")\n",
        "\n",
        "name = input(\"Enter your name: \")\n",
        "print_name(name)"
      ],
      "metadata": {
        "colab": {
          "base_uri": "https://localhost:8080/"
        },
        "id": "f0Edez51RG2R",
        "outputId": "68002c57-9e97-4538-8692-c9713e5843ff"
      },
      "execution_count": 8,
      "outputs": [
        {
          "output_type": "stream",
          "name": "stdout",
          "text": [
            "Enter your name: Priya Tanwar\n",
            "Your name is Priya Tanwar\n"
          ]
        }
      ]
    },
    {
      "cell_type": "code",
      "source": [
        "#Write a function multiply(x,y) that multiplies two numbers and returns the result\n",
        "\n",
        "def multiply(x,y):\n",
        "  return x*y\n",
        "\n",
        "num1 = int(input(\"Enter first number: \"))\n",
        "num2 = int(input(\"Enter second number: \"))\n",
        "print(f\"Product of {num1} and {num2} is: {multiply(num1,num2)}\")"
      ],
      "metadata": {
        "colab": {
          "base_uri": "https://localhost:8080/"
        },
        "id": "EqGx5BQIRr21",
        "outputId": "48fee352-1bf7-4f94-9ea1-00402f8fa100"
      },
      "execution_count": 9,
      "outputs": [
        {
          "output_type": "stream",
          "name": "stdout",
          "text": [
            "Enter first number: 4\n",
            "Enter second number: 6\n",
            "Product of 4 and 6 is: 24\n"
          ]
        }
      ]
    },
    {
      "cell_type": "code",
      "source": [
        "#create a function max_of_two(a,b) that returns the larger of two numbers\n",
        "\n",
        "def max_of_two(a,b):\n",
        "  if a > b:\n",
        "    return a\n",
        "  else:\n",
        "    return b\n",
        "\n",
        "num1 = int(input(\"Enter first number: \"))\n",
        "num2 = int(input(\"Enter second number: \"))\n",
        "print(f\"{max_of_two(num1,num2)} is larger among {num1} and {num2}\")"
      ],
      "metadata": {
        "colab": {
          "base_uri": "https://localhost:8080/"
        },
        "id": "QKmHKwzGSSev",
        "outputId": "142ea8da-064e-478f-f967-be4ddf618ba4"
      },
      "execution_count": 10,
      "outputs": [
        {
          "output_type": "stream",
          "name": "stdout",
          "text": [
            "Enter first number: 437\n",
            "Enter second number: 466\n",
            "466 is larger among 437 and 466\n"
          ]
        }
      ]
    },
    {
      "cell_type": "code",
      "source": [
        "#Write a function factorial(n) that returns the factorial of a number n\n",
        "\n",
        "def factorial(n):\n",
        "  if n < 1:\n",
        "    return(\"Factorial of negative numbers doesn't exist\")\n",
        "  elif n == 0:\n",
        "    return(\"Factorial of 0 is 1\")\n",
        "  else:\n",
        "    factorial = 1\n",
        "    for i in range(1, n+1):\n",
        "      factorial *= i\n",
        "    return(f\"Factorial of {num} is: {factorial}\")\n",
        "\n",
        "num = int(input(\"Enter a number: \"))\n",
        "factorial(num)"
      ],
      "metadata": {
        "colab": {
          "base_uri": "https://localhost:8080/"
        },
        "id": "z1H1yrgBTXHC",
        "outputId": "ac22bacb-5f86-4b46-e5d7-6f809226ea35"
      },
      "execution_count": 12,
      "outputs": [
        {
          "output_type": "stream",
          "name": "stdout",
          "text": [
            "Enter a number: 5\n",
            "Factorial of 5 is: 120\n"
          ]
        }
      ]
    },
    {
      "cell_type": "code",
      "source": [
        "#Define a function count_vowels(S) that counts and returns the number of vowels in a given string\n",
        "\n",
        "def count_vowels(s):\n",
        "  count = 0\n",
        "\n",
        "  for char in s:\n",
        "    if char in \"aeiouAEIOU\":\n",
        "      count += 1\n",
        "  return(f\"Number of vowels in {s} is {count}\")\n",
        "\n",
        "string = input(\"Enter a string: \")\n",
        "count_vowels(string)"
      ],
      "metadata": {
        "colab": {
          "base_uri": "https://localhost:8080/",
          "height": 72
        },
        "id": "N1jZKEewVG88",
        "outputId": "7f3cec5c-0622-41dc-ccc8-116856b07dfb"
      },
      "execution_count": 23,
      "outputs": [
        {
          "name": "stdout",
          "output_type": "stream",
          "text": [
            "Enter a string: hello how are you\n"
          ]
        },
        {
          "output_type": "execute_result",
          "data": {
            "text/plain": [
              "'Number of vowels in hello how are you is 7'"
            ],
            "application/vnd.google.colaboratory.intrinsic+json": {
              "type": "string"
            }
          },
          "metadata": {},
          "execution_count": 23
        }
      ]
    },
    {
      "cell_type": "code",
      "source": [
        "#Define a function reverse_string(s)  that takes a string and returns it reversed\n",
        "\n",
        "def reverse_string(s):\n",
        "  return(f\"Reversed string is: {s[::-1]}\")\n",
        "\n",
        "string = input(\"Enter a string: \")\n",
        "reverse_string(string)\n"
      ],
      "metadata": {
        "colab": {
          "base_uri": "https://localhost:8080/",
          "height": 72
        },
        "id": "IB3an68HWoeW",
        "outputId": "afc44dbc-1b92-4abf-be08-1ad133d2289d"
      },
      "execution_count": 24,
      "outputs": [
        {
          "name": "stdout",
          "output_type": "stream",
          "text": [
            "Enter a string: hello world\n"
          ]
        },
        {
          "output_type": "execute_result",
          "data": {
            "text/plain": [
              "'Reversed string is: dlrow olleh'"
            ],
            "application/vnd.google.colaboratory.intrinsic+json": {
              "type": "string"
            }
          },
          "metadata": {},
          "execution_count": 24
        }
      ]
    },
    {
      "cell_type": "code",
      "source": [
        "#Create a function is_palindrome(word) that checks if a given word is a palindrome(reads the same backward as forward)\n",
        "\n",
        "def is_palindrome(word):\n",
        "  if word == word[::-1]:\n",
        "    return(f\"{word} is a palindrome\")\n",
        "  else:\n",
        "    return(f\"{word} is not a palindrome\")\n",
        "\n",
        "word = input(\"Enter a word: \")\n",
        "is_palindrome(word)"
      ],
      "metadata": {
        "colab": {
          "base_uri": "https://localhost:8080/",
          "height": 72
        },
        "id": "ENXjeBJEaAEH",
        "outputId": "d20f90e0-d90f-4d4a-83b1-130fd555d0f2"
      },
      "execution_count": 27,
      "outputs": [
        {
          "name": "stdout",
          "output_type": "stream",
          "text": [
            "Enter a word: radar\n"
          ]
        },
        {
          "output_type": "execute_result",
          "data": {
            "text/plain": [
              "'radar is a palindrome'"
            ],
            "application/vnd.google.colaboratory.intrinsic+json": {
              "type": "string"
            }
          },
          "metadata": {},
          "execution_count": 27
        }
      ]
    },
    {
      "cell_type": "code",
      "source": [
        "#Write a function fahrenheit_to_celsius(f) that converts a temperatue from fahrenheit to celsius\n",
        "'''c = 5/9 * (f - 32)\n",
        "f = 9/5 * c + 32'''\n",
        "\n",
        "def fahrenheit_to_celsius(f):\n",
        "  c = 5/9 * (f - 32)\n",
        "  return(f\"{f} degrees Fahrenheit is equal to {c:.2f} degrees Celsius\")\n",
        "\n",
        "f = float(input(\"Enter temperature in Fahrenheit: \"))\n",
        "fahrenheit_to_celsius(f)\n"
      ],
      "metadata": {
        "colab": {
          "base_uri": "https://localhost:8080/",
          "height": 72
        },
        "id": "UYDL0qcpbU0b",
        "outputId": "47529694-eb01-4d4f-8f26-f83af7366b4c"
      },
      "execution_count": 30,
      "outputs": [
        {
          "name": "stdout",
          "output_type": "stream",
          "text": [
            "Enter temperature in Fahrenheit: 28\n"
          ]
        },
        {
          "output_type": "execute_result",
          "data": {
            "text/plain": [
              "'28.0 degrees Fahrenheit is equal to -2.22 degrees Celsius'"
            ],
            "application/vnd.google.colaboratory.intrinsic+json": {
              "type": "string"
            }
          },
          "metadata": {},
          "execution_count": 30
        }
      ]
    },
    {
      "cell_type": "code",
      "source": [
        "#Define a function sum_of_list(lst) that returns the sum of all elements in a list\n",
        "\n",
        "def sum_of_list(lst):\n",
        "  sum = 0\n",
        "  for num in lst:\n",
        "    sum += num\n",
        "  return(f\"Sum of all elements in the list is: {sum}\")\n",
        "\n",
        "lst = input(\"Enter a list of numbers: \")\n",
        "lst = list(map(int, lst.split()))\n",
        "sum_of_list(lst)"
      ],
      "metadata": {
        "colab": {
          "base_uri": "https://localhost:8080/",
          "height": 72
        },
        "id": "REckta3Nd71e",
        "outputId": "b25c351b-215d-4ada-97b8-8b9f7e265026"
      },
      "execution_count": 33,
      "outputs": [
        {
          "name": "stdout",
          "output_type": "stream",
          "text": [
            "Enter a list of numbers: 2 3 4 5 76 \n"
          ]
        },
        {
          "output_type": "execute_result",
          "data": {
            "text/plain": [
              "'Sum of all elements in the list is: 90'"
            ],
            "application/vnd.google.colaboratory.intrinsic+json": {
              "type": "string"
            }
          },
          "metadata": {},
          "execution_count": 33
        }
      ]
    },
    {
      "cell_type": "code",
      "source": [
        "#Create a function find_min(lst) that  returns the smallest number in a list\n",
        "\n",
        "def find_min(lst):\n",
        "  min_value = lst[0]\n",
        "  for num in lst:\n",
        "    if num < min_value:\n",
        "      min_value = num\n",
        "\n",
        "  return(f\"Smallest number in the list is: {min_value}\")\n",
        "\n",
        "lst = input(\"Enter a list of numbers: \")\n",
        "lst = list(map(int, lst.split()))\n",
        "find_min(lst)"
      ],
      "metadata": {
        "colab": {
          "base_uri": "https://localhost:8080/",
          "height": 72
        },
        "id": "rDPPyuh-fLOG",
        "outputId": "5e8a3319-0081-4383-afdf-05869cb1ecfc"
      },
      "execution_count": 39,
      "outputs": [
        {
          "name": "stdout",
          "output_type": "stream",
          "text": [
            "Enter a list of numbers: 463 467 7465 353 64645\n"
          ]
        },
        {
          "output_type": "execute_result",
          "data": {
            "text/plain": [
              "'Smallest number in the list is: 353'"
            ],
            "application/vnd.google.colaboratory.intrinsic+json": {
              "type": "string"
            }
          },
          "metadata": {},
          "execution_count": 39
        }
      ]
    },
    {
      "cell_type": "code",
      "source": [
        "#Write a function is_prime(n) that checks whether a given number is a prime number\n",
        "\n",
        "def is_prime(n):\n",
        "  if n < 2:\n",
        "    return(f\"{n} is not a prime number\")\n",
        "  if n == 2:\n",
        "    return(f\"2 is a prime number\")\n",
        "\n",
        "  for i in range(2, n):\n",
        "    if n % i == 0:\n",
        "      return(f\"{n} is not a prime number\")\n",
        "  return(f\"{n} is  a prime number\")\n",
        "\n",
        "num = int(input(\"Enter a number: \"))\n",
        "is_prime(num)"
      ],
      "metadata": {
        "colab": {
          "base_uri": "https://localhost:8080/",
          "height": 72
        },
        "id": "0RswaQ3_hMTn",
        "outputId": "ae7f8619-b863-4c87-cc97-b05f31227713"
      },
      "execution_count": 55,
      "outputs": [
        {
          "name": "stdout",
          "output_type": "stream",
          "text": [
            "Enter a number: 32\n"
          ]
        },
        {
          "output_type": "execute_result",
          "data": {
            "text/plain": [
              "'32 is not a prime number'"
            ],
            "application/vnd.google.colaboratory.intrinsic+json": {
              "type": "string"
            }
          },
          "metadata": {},
          "execution_count": 55
        }
      ]
    },
    {
      "cell_type": "code",
      "source": [
        "#Define a function sum_of_squares(lst) that sum of the squares of numbers in a list\n",
        "\n",
        "def sum_of_squares(lst):\n",
        "  sum = 0\n",
        "  for num in lst:\n",
        "    sum += num**2\n",
        "  return(f\"Sum of the squares of numbers in the list is: {sum}\")\n",
        "\n",
        "lst = input(\"Enter a list of numbers: \")\n",
        "lst = list(map(int, lst.split()))\n",
        "sum_of_squares(lst)"
      ],
      "metadata": {
        "colab": {
          "base_uri": "https://localhost:8080/",
          "height": 72
        },
        "id": "8NndVuHPkY9f",
        "outputId": "f96ac68c-df50-44c4-ff05-2b5ec28779bc"
      },
      "execution_count": 57,
      "outputs": [
        {
          "name": "stdout",
          "output_type": "stream",
          "text": [
            "Enter a list of numbers: 2 3 4 5 \n"
          ]
        },
        {
          "output_type": "execute_result",
          "data": {
            "text/plain": [
              "'Sum of the squares of numbers in the list is: 54'"
            ],
            "application/vnd.google.colaboratory.intrinsic+json": {
              "type": "string"
            }
          },
          "metadata": {},
          "execution_count": 57
        }
      ]
    },
    {
      "cell_type": "code",
      "source": [
        "#Create a function gcd(x,y) that returns the greatest common divisor of two numbers\n",
        "\n",
        "def gcd(x,y):\n",
        "  a = x\n",
        "  b = y\n",
        "  while b!= 0:\n",
        "    a, b = b, a%b\n",
        "  return(f\"GCD of {x} and {y} is: {a}\")\n",
        "\n",
        "num1 = int(input(\"Enter first number: \"))\n",
        "num2 = int(input(\"Enter second number: \"))\n",
        "gcd(num1, num2)\n"
      ],
      "metadata": {
        "colab": {
          "base_uri": "https://localhost:8080/",
          "height": 90
        },
        "id": "ZEqTEz-unhYS",
        "outputId": "da13973f-195a-4d4a-92cd-df9e6d34eae4"
      },
      "execution_count": 60,
      "outputs": [
        {
          "name": "stdout",
          "output_type": "stream",
          "text": [
            "Enter first number: 153\n",
            "Enter second number: 81\n"
          ]
        },
        {
          "output_type": "execute_result",
          "data": {
            "text/plain": [
              "'GCD of 153 and 81 is: 9'"
            ],
            "application/vnd.google.colaboratory.intrinsic+json": {
              "type": "string"
            }
          },
          "metadata": {},
          "execution_count": 60
        }
      ]
    },
    {
      "cell_type": "code",
      "source": [
        "#Write a function count_occurrences(lst, value) that counts how amny times a value occured in a list\n",
        "\n",
        "def count_occurrences(lst, value):\n",
        "  count = 0\n",
        "  for num in lst:\n",
        "    if num == value:\n",
        "      count += 1\n",
        "  return(f\"{value} has occured {count} times in the list\")\n",
        "\n",
        "lst = input(\"Enter a list of numbers: \")\n",
        "lst = list(map(int, lst.split()))\n",
        "value = int(input(\"Enter a value: \"))\n",
        "count_occurrences(lst, value)\n"
      ],
      "metadata": {
        "colab": {
          "base_uri": "https://localhost:8080/",
          "height": 90
        },
        "id": "DgGCCbXzpKrD",
        "outputId": "372324a0-956e-4da3-e4cf-9ec792cb0bf1"
      },
      "execution_count": 61,
      "outputs": [
        {
          "name": "stdout",
          "output_type": "stream",
          "text": [
            "Enter a list of numbers: 4 5 6 7 8 3 4 5 6 4 6 7 3 35\n",
            "Enter a value: 5\n"
          ]
        },
        {
          "output_type": "execute_result",
          "data": {
            "text/plain": [
              "'5 has occured 2 times in the list'"
            ],
            "application/vnd.google.colaboratory.intrinsic+json": {
              "type": "string"
            }
          },
          "metadata": {},
          "execution_count": 61
        }
      ]
    },
    {
      "cell_type": "code",
      "source": [
        "#Define a function capitalize_words(sentence) that capitalizes the first letter of every word in the sentence\n",
        "\n",
        "def capitalize_words(sentence):\n",
        "  for word in sentence:\n",
        "    sentence = sentence.title()\n",
        "  return(f\"Capitalized sentence is: {sentence}\")\n",
        "\n",
        "sentence = input (\"Enter a sentence: \")\n",
        "capitalize_words(sentence)"
      ],
      "metadata": {
        "colab": {
          "base_uri": "https://localhost:8080/",
          "height": 72
        },
        "id": "lN_zn8A1qlOF",
        "outputId": "9d034003-98bb-42d1-af6b-9b942f0ee30c"
      },
      "execution_count": 63,
      "outputs": [
        {
          "name": "stdout",
          "output_type": "stream",
          "text": [
            "Enter a sentence: hello how are you\n"
          ]
        },
        {
          "output_type": "execute_result",
          "data": {
            "text/plain": [
              "'Capitalized sentence is: Hello How Are You'"
            ],
            "application/vnd.google.colaboratory.intrinsic+json": {
              "type": "string"
            }
          },
          "metadata": {},
          "execution_count": 63
        }
      ]
    },
    {
      "cell_type": "code",
      "source": [
        "#Create a function remove_duplicates(lst) that removes duplicate elements from a list and returns the unique elements\n",
        "\n",
        "def remove_duplicates(lst):\n",
        "  unique_lst = []\n",
        "  for num in lst:\n",
        "    if num not in unique_lst:\n",
        "      unique_lst.append(num)\n",
        "  return(f\"Unique elements in the list are: {unique_lst}\")\n",
        "\n",
        "lst = input(\"Enter a list of numbers: \")\n",
        "lst = list(map(int, lst.split()))\n",
        "remove_duplicates(lst)"
      ],
      "metadata": {
        "colab": {
          "base_uri": "https://localhost:8080/",
          "height": 72
        },
        "id": "iyVfSLP0rEXX",
        "outputId": "1e02d42a-4bf3-44c5-dfb4-ecdbee6db352"
      },
      "execution_count": 64,
      "outputs": [
        {
          "name": "stdout",
          "output_type": "stream",
          "text": [
            "Enter a list of numbers: 4 5 6 7 8 3 4 6 78 23 78 4 \n"
          ]
        },
        {
          "output_type": "execute_result",
          "data": {
            "text/plain": [
              "'Unique elements in the list are: [4, 5, 6, 7, 8, 3, 78, 23]'"
            ],
            "application/vnd.google.colaboratory.intrinsic+json": {
              "type": "string"
            }
          },
          "metadata": {},
          "execution_count": 64
        }
      ]
    },
    {
      "cell_type": "code",
      "source": [],
      "metadata": {
        "id": "qpc1TK4ptHNG"
      },
      "execution_count": null,
      "outputs": []
    }
  ]
}