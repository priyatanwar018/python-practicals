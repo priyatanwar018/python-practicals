{
  "nbformat": 4,
  "nbformat_minor": 0,
  "metadata": {
    "colab": {
      "provenance": [],
      "authorship_tag": "ABX9TyM3otAo8s0jn4DZ6zt4LVF4",
      "include_colab_link": true
    },
    "kernelspec": {
      "name": "python3",
      "display_name": "Python 3"
    },
    "language_info": {
      "name": "python"
    }
  },
  "cells": [
    {
      "cell_type": "markdown",
      "metadata": {
        "id": "view-in-github",
        "colab_type": "text"
      },
      "source": [
        "<a href=\"https://colab.research.google.com/github/priyatanwar018/python-practicals/blob/main/session19.ipynb\" target=\"_parent\"><img src=\"https://colab.research.google.com/assets/colab-badge.svg\" alt=\"Open In Colab\"/></a>"
      ]
    },
    {
      "cell_type": "code",
      "execution_count": 13,
      "metadata": {
        "id": "rQp9zNWkYcar"
      },
      "outputs": [],
      "source": [
        "# file handling\n",
        "#read (an existing file) 'r'\n",
        "#write (a new file)   'w'\n",
        "#append (adding content in a new file) 'a'\n",
        "'''various modes in which a file can be opened:\n",
        "r - read\n",
        "w - write\n",
        "a - append\n",
        "r+ - read and write\n",
        "w+ - write and read\n",
        "a+ - append and read\n",
        "b - binary'''\n",
        "#'abc.txt'\n",
        "\n",
        "content = open('abc.txt', 'a')\n",
        "#content.read()\n",
        "content.write('fkjrwfhuie')\n",
        "content.write('ffhreiu')\n",
        "content.close()"
      ]
    },
    {
      "cell_type": "code",
      "source": [
        "with statement\n",
        "\n",
        "with open('filename', 'r/w/a') as file:\n",
        "  file.read()\n",
        "  file.write('sshbdh')\n",
        "  file.write('bdj')\n"
      ],
      "metadata": {
        "id": "T-qBO2_zaeZe"
      },
      "execution_count": 17,
      "outputs": []
    },
    {
      "cell_type": "code",
      "source": [
        "with open('abc.txt','w') as file:\n",
        "  file.write(' hello ')\n",
        "with open('abc.txt','r') as file:\n",
        "  print(file.read())\n",
        "\n"
      ],
      "metadata": {
        "colab": {
          "base_uri": "https://localhost:8080/"
        },
        "id": "jvNn_Vu6d176",
        "outputId": "d7c0f0e0-134c-4d2a-abaa-1edc11ea9564"
      },
      "execution_count": 30,
      "outputs": [
        {
          "output_type": "stream",
          "name": "stdout",
          "text": [
            " hello \n"
          ]
        }
      ]
    },
    {
      "cell_type": "code",
      "source": [
        "with open('abc.txt','a') as file:\n",
        "  file.write(' world ')\n",
        "with open('abc.txt','r') as file:\n",
        "  print(file.read())"
      ],
      "metadata": {
        "colab": {
          "base_uri": "https://localhost:8080/"
        },
        "id": "UQnrjIEyeoU5",
        "outputId": "34c5a7fc-a644-48c8-8e1f-84ea07718e9e"
      },
      "execution_count": 32,
      "outputs": [
        {
          "output_type": "stream",
          "name": "stdout",
          "text": [
            " hello  world \n"
          ]
        }
      ]
    },
    {
      "cell_type": "code",
      "source": [
        "with open('abc.txt', 'r+') as file:\n",
        "  file.write('python')\n",
        "with open('abc.txt','r') as file:\n",
        "  print(file.read())"
      ],
      "metadata": {
        "colab": {
          "base_uri": "https://localhost:8080/"
        },
        "id": "quG1AUpng27s",
        "outputId": "34047c0a-6680-4f5f-93a8-5a09a2d2d837"
      },
      "execution_count": 35,
      "outputs": [
        {
          "output_type": "stream",
          "name": "stdout",
          "text": [
            "python  world \n"
          ]
        }
      ]
    },
    {
      "cell_type": "code",
      "source": [],
      "metadata": {
        "id": "ZUAH6TnrhPMn"
      },
      "execution_count": null,
      "outputs": []
    }
  ]
}