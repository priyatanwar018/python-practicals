{
  "nbformat": 4,
  "nbformat_minor": 0,
  "metadata": {
    "colab": {
      "provenance": [],
      "authorship_tag": "ABX9TyPO/CSO+JQ0/jMZtKXEgKgW",
      "include_colab_link": true
    },
    "kernelspec": {
      "name": "python3",
      "display_name": "Python 3"
    },
    "language_info": {
      "name": "python"
    }
  },
  "cells": [
    {
      "cell_type": "markdown",
      "metadata": {
        "id": "view-in-github",
        "colab_type": "text"
      },
      "source": [
        "<a href=\"https://colab.research.google.com/github/priyatanwar018/python-practicals/blob/main/session6python.ipynb\" target=\"_parent\"><img src=\"https://colab.research.google.com/assets/colab-badge.svg\" alt=\"Open In Colab\"/></a>"
      ]
    },
    {
      "cell_type": "code",
      "execution_count": 9,
      "metadata": {
        "id": "qjHhB43lIJb4",
        "colab": {
          "base_uri": "https://localhost:8080/"
        },
        "outputId": "676fb008-aebc-4de3-df7b-4e53495407ea"
      },
      "outputs": [
        {
          "output_type": "stream",
          "name": "stdout",
          "text": [
            "{'Name': 'Priya', 'LastName': 'Tanwar', 'Age': 20}\n"
          ]
        }
      ],
      "source": [
        "#creating new dictionary using dict constructor\n",
        "my_dict1 = dict(Name = 'Priya',LastName = 'Tanwar',Age = 20)\n",
        "print(my_dict1)\n"
      ]
    },
    {
      "cell_type": "code",
      "source": [
        "#accessing a value using its key\n",
        "print(my_dict1['Name'])"
      ],
      "metadata": {
        "colab": {
          "base_uri": "https://localhost:8080/"
        },
        "id": "6cuPUYJHW5bQ",
        "outputId": "79b9a325-97b6-4176-fd3e-e15e2a9dceec"
      },
      "execution_count": 10,
      "outputs": [
        {
          "output_type": "stream",
          "name": "stdout",
          "text": [
            "Priya\n"
          ]
        }
      ]
    },
    {
      "cell_type": "code",
      "source": [
        "#adding a new key:value pair to the dictionary\n",
        "my_dict1['Pin']=127021"
      ],
      "metadata": {
        "id": "yApU03PkXdUO"
      },
      "execution_count": 11,
      "outputs": []
    },
    {
      "cell_type": "code",
      "source": [
        "#printing the updated dictionary\n",
        "print(my_dict1)"
      ],
      "metadata": {
        "colab": {
          "base_uri": "https://localhost:8080/"
        },
        "id": "LUoLKCJeXmw1",
        "outputId": "f4dc6d91-52fc-4fc6-8b67-85b819ba4395"
      },
      "execution_count": 12,
      "outputs": [
        {
          "output_type": "stream",
          "name": "stdout",
          "text": [
            "{'Name': 'Priya', 'LastName': 'Tanwar', 'Age': 20, 'Pin': 127021}\n"
          ]
        }
      ]
    },
    {
      "cell_type": "code",
      "source": [
        "#extracting all the keys of the dictionary using key()\n",
        "my_dict1.keys()"
      ],
      "metadata": {
        "colab": {
          "base_uri": "https://localhost:8080/"
        },
        "id": "cXPe0CcuXo09",
        "outputId": "01962d77-e5ce-4aa8-f7c9-5f7c47ed4485"
      },
      "execution_count": 13,
      "outputs": [
        {
          "output_type": "execute_result",
          "data": {
            "text/plain": [
              "dict_keys(['Name', 'LastName', 'Age', 'Pin'])"
            ]
          },
          "metadata": {},
          "execution_count": 13
        }
      ]
    },
    {
      "cell_type": "code",
      "source": [
        "#extracting all the values of the dictionary using value()\n",
        "my_dict1.values()"
      ],
      "metadata": {
        "colab": {
          "base_uri": "https://localhost:8080/"
        },
        "id": "TnToiZLSXtnD",
        "outputId": "dc7dabf6-e3fb-4f1f-dd84-df4ab3b6ab88"
      },
      "execution_count": 14,
      "outputs": [
        {
          "output_type": "execute_result",
          "data": {
            "text/plain": [
              "dict_values(['Priya', 'Tanwar', 20, 127021])"
            ]
          },
          "metadata": {},
          "execution_count": 14
        }
      ]
    },
    {
      "cell_type": "code",
      "source": [
        "#extracting all the items(key:value pairs) from the dictionary using items()\n",
        "my_dict1.items()"
      ],
      "metadata": {
        "colab": {
          "base_uri": "https://localhost:8080/"
        },
        "id": "kz2kafIUX2OB",
        "outputId": "98be8918-f4d3-4e55-d18d-849e5d7ec5a5"
      },
      "execution_count": 15,
      "outputs": [
        {
          "output_type": "execute_result",
          "data": {
            "text/plain": [
              "dict_items([('Name', 'Priya'), ('LastName', 'Tanwar'), ('Age', 20), ('Pin', 127021)])"
            ]
          },
          "metadata": {},
          "execution_count": 15
        }
      ]
    },
    {
      "cell_type": "code",
      "source": [
        "#adding multiple key:value pairs in the dictionary using update()\n",
        "my_dict1.update({'State': 'Haryana','dbgh':'jfhk','feiuer':'njre','dbdewi':'njid'})\n",
        "print(my_dict1)"
      ],
      "metadata": {
        "colab": {
          "base_uri": "https://localhost:8080/"
        },
        "id": "x_cJIXT4a2Di",
        "outputId": "e4370f9d-b8fc-47b4-ef4c-2acc4142dbf1"
      },
      "execution_count": 16,
      "outputs": [
        {
          "output_type": "stream",
          "name": "stdout",
          "text": [
            "{'Name': 'Priya', 'LastName': 'Tanwar', 'Age': 20, 'Pin': 127021, 'State': 'Haryana', 'dbgh': 'jfhk', 'feiuer': 'njre', 'dbdewi': 'njid'}\n"
          ]
        }
      ]
    },
    {
      "cell_type": "code",
      "source": [
        "#deleting the key:value pairs of the dictionary using clear()\n",
        "#the dictionary gets empty,it's structure remains\n",
        "my_dict1.clear()"
      ],
      "metadata": {
        "id": "2oCHz3RTcTTj"
      },
      "execution_count": 17,
      "outputs": []
    },
    {
      "cell_type": "code",
      "source": [
        "print(my_dict1)"
      ],
      "metadata": {
        "colab": {
          "base_uri": "https://localhost:8080/"
        },
        "id": "IrtvP-Zacoft",
        "outputId": "cd93ee46-8a5c-4d7e-9895-680f4790f0b5"
      },
      "execution_count": 18,
      "outputs": [
        {
          "output_type": "stream",
          "name": "stdout",
          "text": [
            "{}\n"
          ]
        }
      ]
    },
    {
      "cell_type": "markdown",
      "source": [
        "5 built-in methds of dictionary\n",
        "get()\n",
        "keys()\n",
        "values()\n",
        "items()\n",
        "update()"
      ],
      "metadata": {
        "id": "wNRSf-Gkf2Gm"
      }
    },
    {
      "cell_type": "code",
      "source": [
        "my_dict2 = dict([['mfkf','fnier'],['ndfje','ndskfo'],['nde','mdoif4']])\n",
        "print(my_dict2)"
      ],
      "metadata": {
        "colab": {
          "base_uri": "https://localhost:8080/"
        },
        "id": "IJMcFlYDctPK",
        "outputId": "8a785f44-2ed6-4ff2-fbe4-0d769f0ced49"
      },
      "execution_count": 20,
      "outputs": [
        {
          "output_type": "stream",
          "name": "stdout",
          "text": [
            "{'mfkf': 'fnier', 'ndfje': 'ndskfo', 'nde': 'mdoif4'}\n"
          ]
        }
      ]
    },
    {
      "cell_type": "code",
      "source": [
        "#deleting a key:value pair from the dictionary using del\n",
        "del my_dict2['mfkf']\n",
        "print(my_dict2)"
      ],
      "metadata": {
        "colab": {
          "base_uri": "https://localhost:8080/"
        },
        "id": "ZLUW6pI3gyRW",
        "outputId": "7d8e69d2-2593-4750-ead3-147673cc3787"
      },
      "execution_count": 21,
      "outputs": [
        {
          "output_type": "stream",
          "name": "stdout",
          "text": [
            "{'ndfje': 'ndskfo', 'nde': 'mdoif4'}\n"
          ]
        }
      ]
    },
    {
      "cell_type": "code",
      "source": [
        "#removing an element from the dictionary using pop(), it returns the value associated with the key\n",
        "my_dict2.pop('ndfje')"
      ],
      "metadata": {
        "colab": {
          "base_uri": "https://localhost:8080/",
          "height": 55
        },
        "id": "Q4cU2MeSg76C",
        "outputId": "7dc5e704-f51d-42ef-e716-f4c515b41a86"
      },
      "execution_count": 22,
      "outputs": [
        {
          "output_type": "execute_result",
          "data": {
            "text/plain": [
              "'ndskfo'"
            ],
            "application/vnd.google.colaboratory.intrinsic+json": {
              "type": "string"
            }
          },
          "metadata": {},
          "execution_count": 22
        }
      ]
    },
    {
      "cell_type": "code",
      "source": [
        "print(my_dict2)"
      ],
      "metadata": {
        "colab": {
          "base_uri": "https://localhost:8080/"
        },
        "id": "-R92fme0hWdu",
        "outputId": "1e3c6e23-5df1-4726-d021-3528bdc58bda"
      },
      "execution_count": 23,
      "outputs": [
        {
          "output_type": "stream",
          "name": "stdout",
          "text": [
            "{'nde': 'mdoif4'}\n"
          ]
        }
      ]
    },
    {
      "cell_type": "markdown",
      "source": [
        "Boolean"
      ],
      "metadata": {
        "id": "PsKs3aQWi0CC"
      }
    },
    {
      "cell_type": "code",
      "source": [
        "#boolean datatype have only two values True , False\n",
        "#mainly used in loops and conditional statements\n",
        "is_passed = True\n",
        "can_vote = False\n",
        "can_drive = True\n",
        "have_driving_license = False"
      ],
      "metadata": {
        "id": "fKVFNljGhf3j"
      },
      "execution_count": null,
      "outputs": []
    },
    {
      "cell_type": "markdown",
      "source": [
        "None"
      ],
      "metadata": {
        "id": "qb0IMA9_jfPl"
      }
    },
    {
      "cell_type": "code",
      "source": [
        "#None means there's nothing here\n",
        "\n",
        "my_dict2['ncc']=None\n",
        "print(my_dict2)"
      ],
      "metadata": {
        "colab": {
          "base_uri": "https://localhost:8080/"
        },
        "id": "BJ6AWKjrjd0j",
        "outputId": "b738c1d0-6209-44b7-ccd8-538e2bef43ce"
      },
      "execution_count": 24,
      "outputs": [
        {
          "output_type": "stream",
          "name": "stdout",
          "text": [
            "{'nde': 'mdoif4', 'ncc': None}\n"
          ]
        }
      ]
    },
    {
      "cell_type": "code",
      "source": [],
      "metadata": {
        "id": "YESG3PSWjvOM"
      },
      "execution_count": null,
      "outputs": []
    }
  ]
}