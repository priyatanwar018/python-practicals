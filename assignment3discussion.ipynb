{
  "nbformat": 4,
  "nbformat_minor": 0,
  "metadata": {
    "colab": {
      "provenance": [],
      "authorship_tag": "ABX9TyOzqq0uhHhc8E+I/FU+Yq04",
      "include_colab_link": true
    },
    "kernelspec": {
      "name": "python3",
      "display_name": "Python 3"
    },
    "language_info": {
      "name": "python"
    }
  },
  "cells": [
    {
      "cell_type": "markdown",
      "metadata": {
        "id": "view-in-github",
        "colab_type": "text"
      },
      "source": [
        "<a href=\"https://colab.research.google.com/github/priyatanwar018/python-practicals/blob/main/assignment3discussion.ipynb\" target=\"_parent\"><img src=\"https://colab.research.google.com/assets/colab-badge.svg\" alt=\"Open In Colab\"/></a>"
      ]
    },
    {
      "cell_type": "code",
      "source": [
        "10/3  #output = 3.333\n",
        "10//3   #output = 3\n"
      ],
      "metadata": {
        "colab": {
          "base_uri": "https://localhost:8080/"
        },
        "id": "aBHOEAQoIShh",
        "outputId": "5842a26d-e9cc-4146-a845-33883532366f"
      },
      "execution_count": null,
      "outputs": [
        {
          "output_type": "execute_result",
          "data": {
            "text/plain": [
              "3"
            ]
          },
          "metadata": {},
          "execution_count": 3
        }
      ]
    },
    {
      "cell_type": "code",
      "source": [
        "num1 = 0.6\n",
        "num2 = 0.3\n",
        "are_equal = round(num1,5) == round(num2,5)\n",
        "print(are_equal)"
      ],
      "metadata": {
        "colab": {
          "base_uri": "https://localhost:8080/"
        },
        "id": "UHBPsrxpP4uy",
        "outputId": "06285e5e-c369-4555-96e5-0497952b886b"
      },
      "execution_count": null,
      "outputs": [
        {
          "output_type": "stream",
          "name": "stdout",
          "text": [
            "False\n"
          ]
        }
      ]
    },
    {
      "cell_type": "code",
      "source": [
        "a = True\n",
        "b = False\n",
        "print(a and b)\n",
        "print(a or b)"
      ],
      "metadata": {
        "colab": {
          "base_uri": "https://localhost:8080/"
        },
        "id": "rx_c7YsMQiJy",
        "outputId": "5285bb23-def1-4bb0-f787-a321c227b803"
      },
      "execution_count": null,
      "outputs": [
        {
          "output_type": "stream",
          "name": "stdout",
          "text": [
            "False\n",
            "True\n"
          ]
        }
      ]
    },
    {
      "cell_type": "code",
      "source": [
        "num1 = 5\n",
        "num2 = 7\n",
        "Result = num1 | num2\n",
        "print(Result)"
      ],
      "metadata": {
        "colab": {
          "base_uri": "https://localhost:8080/"
        },
        "id": "HLw23X-RQ7K2",
        "outputId": "19b5b8b2-f24a-4f60-9a2e-591a4663f44f"
      },
      "execution_count": null,
      "outputs": [
        {
          "output_type": "stream",
          "name": "stdout",
          "text": [
            "7\n"
          ]
        }
      ]
    },
    {
      "cell_type": "code",
      "source": [
        "str1 = \"hello\"\n",
        "str2 = \"world\"\n",
        "Result = \"...\".join([str1,str2])\n",
        "print(Result)"
      ],
      "metadata": {
        "colab": {
          "base_uri": "https://localhost:8080/"
        },
        "id": "iupSN8GiRFd1",
        "outputId": "48ce0734-f94d-4718-c144-c93b2f6d3c87"
      },
      "execution_count": null,
      "outputs": [
        {
          "output_type": "stream",
          "name": "stdout",
          "text": [
            "hello...world\n"
          ]
        }
      ]
    },
    {
      "cell_type": "code",
      "source": [
        "d = {'key1':{'key2':'value1','key3':'value2'}}\n",
        "d['key1']['key2']     #syntax = <dictionary name>[<parent key>][<corresponding key>]"
      ],
      "metadata": {
        "colab": {
          "base_uri": "https://localhost:8080/",
          "height": 35
        },
        "id": "Gwvtde0MRnl1",
        "outputId": "c9b9f0fa-47cf-4d87-b106-70aefc082115"
      },
      "execution_count": null,
      "outputs": [
        {
          "output_type": "execute_result",
          "data": {
            "text/plain": [
              "'value1'"
            ],
            "application/vnd.google.colaboratory.intrinsic+json": {
              "type": "string"
            }
          },
          "metadata": {},
          "execution_count": 14
        }
      ]
    },
    {
      "cell_type": "code",
      "source": [
        "d['key1']['key3']"
      ],
      "metadata": {
        "colab": {
          "base_uri": "https://localhost:8080/",
          "height": 35
        },
        "id": "0iHGN13MTsDn",
        "outputId": "329e940a-783f-4294-f46d-0b1ad0b98e53"
      },
      "execution_count": null,
      "outputs": [
        {
          "output_type": "execute_result",
          "data": {
            "text/plain": [
              "'value2'"
            ],
            "application/vnd.google.colaboratory.intrinsic+json": {
              "type": "string"
            }
          },
          "metadata": {},
          "execution_count": 13
        }
      ]
    },
    {
      "cell_type": "code",
      "source": [
        "lst = [1,2,3,4,5,6,7,8,9,10]\n",
        "lst[::2]"
      ],
      "metadata": {
        "colab": {
          "base_uri": "https://localhost:8080/"
        },
        "id": "LCYlAEAIUNO5",
        "outputId": "89e10b2c-4b54-4e7d-a806-0d984851acef"
      },
      "execution_count": null,
      "outputs": [
        {
          "output_type": "execute_result",
          "data": {
            "text/plain": [
              "[1, 3, 5, 7, 9]"
            ]
          },
          "metadata": {},
          "execution_count": 15
        }
      ]
    },
    {
      "cell_type": "code",
      "source": [
        "my_list = [1,2,3,4,5,6]\n",
        "my_list[1:4]\n"
      ],
      "metadata": {
        "id": "-HiUERu7VhNv",
        "colab": {
          "base_uri": "https://localhost:8080/"
        },
        "outputId": "39c16168-5258-458b-d0c8-076243620514"
      },
      "execution_count": null,
      "outputs": [
        {
          "output_type": "execute_result",
          "data": {
            "text/plain": [
              "[2, 3, 4]"
            ]
          },
          "metadata": {},
          "execution_count": 16
        }
      ]
    },
    {
      "cell_type": "code",
      "source": [
        "'apple'>'Apple'"
      ],
      "metadata": {
        "colab": {
          "base_uri": "https://localhost:8080/"
        },
        "id": "xQuf7DtKYsg-",
        "outputId": "c4089771-3519-47e9-e6eb-a354b1662910"
      },
      "execution_count": null,
      "outputs": [
        {
          "output_type": "execute_result",
          "data": {
            "text/plain": [
              "True"
            ]
          },
          "metadata": {},
          "execution_count": 18
        }
      ]
    },
    {
      "cell_type": "code",
      "source": [
        "'suraj'>'chandravanshi'"
      ],
      "metadata": {
        "colab": {
          "base_uri": "https://localhost:8080/"
        },
        "id": "WhvnSINfbAZX",
        "outputId": "96d62c12-60ab-4615-8963-44da9795ae30"
      },
      "execution_count": null,
      "outputs": [
        {
          "output_type": "execute_result",
          "data": {
            "text/plain": [
              "True"
            ]
          },
          "metadata": {},
          "execution_count": 19
        }
      ]
    },
    {
      "cell_type": "code",
      "source": [
        "a = True\n",
        "b = False\n",
        "c = True\n",
        "\n",
        "(a and b)  or (not c)"
      ],
      "metadata": {
        "id": "X6jcbIcZbpZd",
        "colab": {
          "base_uri": "https://localhost:8080/"
        },
        "outputId": "2681e66d-82c9-4501-cfdb-5886ed217370"
      },
      "execution_count": null,
      "outputs": [
        {
          "output_type": "execute_result",
          "data": {
            "text/plain": [
              "False"
            ]
          },
          "metadata": {},
          "execution_count": 20
        }
      ]
    },
    {
      "cell_type": "code",
      "source": [],
      "metadata": {
        "id": "PiGxDuPUdPZl"
      },
      "execution_count": null,
      "outputs": []
    }
  ]
}