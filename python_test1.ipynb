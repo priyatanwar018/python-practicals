{
  "nbformat": 4,
  "nbformat_minor": 0,
  "metadata": {
    "colab": {
      "provenance": [],
      "authorship_tag": "ABX9TyMo77ndgdPimVPBxQZQvLiq",
      "include_colab_link": true
    },
    "kernelspec": {
      "name": "python3",
      "display_name": "Python 3"
    },
    "language_info": {
      "name": "python"
    }
  },
  "cells": [
    {
      "cell_type": "markdown",
      "metadata": {
        "id": "view-in-github",
        "colab_type": "text"
      },
      "source": [
        "<a href=\"https://colab.research.google.com/github/priyatanwar018/python-practicals/blob/main/python_test1.ipynb\" target=\"_parent\"><img src=\"https://colab.research.google.com/assets/colab-badge.svg\" alt=\"Open In Colab\"/></a>"
      ]
    },
    {
      "cell_type": "code",
      "execution_count": 1,
      "metadata": {
        "colab": {
          "base_uri": "https://localhost:8080/"
        },
        "id": "hDDekENrMJd0",
        "outputId": "91763e8c-a701-427b-9bfe-fee7d5e89e9b"
      },
      "outputs": [
        {
          "output_type": "stream",
          "name": "stdout",
          "text": [
            "True\n"
          ]
        }
      ],
      "source": [
        "#python script to compare two numbers\n",
        "\n",
        "a = 10\n",
        "b = 15\n",
        "\n",
        "if a < b:\n",
        "  print(\"True\")\n",
        "else:\n",
        "  print(\"False\")"
      ]
    },
    {
      "cell_type": "code",
      "source": [
        "from re import X\n",
        "#python script to check if number x =12 is greater than 5 and less than 20\n",
        "\n",
        "X = 12\n",
        "\n",
        "if x > 5 and x < 20:\n",
        "  print(x,\"is greater than 5 and less than 20\")\n",
        "else:\n",
        "  print(\"False\")"
      ],
      "metadata": {
        "colab": {
          "base_uri": "https://localhost:8080/"
        },
        "id": "v-ITRK7xMk58",
        "outputId": "d349d97c-b8d1-4ae7-df26-9d10bf21d3e0"
      },
      "execution_count": 5,
      "outputs": [
        {
          "output_type": "stream",
          "name": "stdout",
          "text": [
            "12 is greater than 5 and less than 20\n"
          ]
        }
      ]
    },
    {
      "cell_type": "code",
      "source": [
        "#python script that initializes variable n by 5 and multiply it by 3 using assignment operator and prints the result\n",
        "\n",
        "n = 5\n",
        "n *= 3\n",
        "print(n)"
      ],
      "metadata": {
        "colab": {
          "base_uri": "https://localhost:8080/"
        },
        "id": "7yQ5z9tXNeHe",
        "outputId": "01ff66b0-7657-46a1-9729-3adaccd0c8cd"
      },
      "execution_count": 6,
      "outputs": [
        {
          "output_type": "stream",
          "name": "stdout",
          "text": [
            "15\n"
          ]
        }
      ]
    },
    {
      "cell_type": "code",
      "source": [
        "#python script to calculate the bitwise AND of a = 6 and b = 3\n",
        "\n",
        "a = 6\n",
        "b = 3\n",
        "print(a & b)\n"
      ],
      "metadata": {
        "colab": {
          "base_uri": "https://localhost:8080/"
        },
        "id": "eBSpdVIBO5yV",
        "outputId": "31679e21-8627-4446-9453-fc8673657b4e"
      },
      "execution_count": 7,
      "outputs": [
        {
          "output_type": "stream",
          "name": "stdout",
          "text": [
            "2\n"
          ]
        }
      ]
    },
    {
      "cell_type": "code",
      "source": [
        "#python to check if two variables a = 10 and b = 10 reference to the same object in memory\n",
        "\n",
        "a = 10\n",
        "b = 10\n",
        "if a is b:\n",
        "  print(\"'a' and 'b' reference to the same object in memory\")\n",
        "else:\n",
        "  print(\"'a' and 'b ' do not reference to the same object in memory\")"
      ],
      "metadata": {
        "colab": {
          "base_uri": "https://localhost:8080/"
        },
        "id": "LwpsHJMiPWk1",
        "outputId": "1856851b-bed1-40c0-d87e-d8057e5fa0ca"
      },
      "execution_count": 10,
      "outputs": [
        {
          "output_type": "stream",
          "name": "stdout",
          "text": [
            "'a' and 'b' reference to the same object in memory\n"
          ]
        }
      ]
    },
    {
      "cell_type": "code",
      "source": [
        "#pyhton script to check if the letter 'a' is present in the string 'apple'\n",
        "str = \"apple\"\n",
        "print(\"a\" in \"apple\")"
      ],
      "metadata": {
        "colab": {
          "base_uri": "https://localhost:8080/"
        },
        "id": "SqyLw9rrPtL7",
        "outputId": "86ce3d3d-7bb8-4b1b-edd7-69b7dbb97cf8"
      },
      "execution_count": 12,
      "outputs": [
        {
          "output_type": "stream",
          "name": "stdout",
          "text": [
            "True\n"
          ]
        }
      ]
    },
    {
      "cell_type": "code",
      "source": [
        "#python script to create the list of first five evn numbers and then print the list\n",
        "\n",
        "even_numbers = []\n",
        "for i in range(1,11):\n",
        "  if i % 2 == 0:\n",
        "    even_numbers.append(i)\n",
        "  print(even_numbers)"
      ],
      "metadata": {
        "colab": {
          "base_uri": "https://localhost:8080/"
        },
        "id": "4RgM0In7QsZo",
        "outputId": "f289c052-7d92-45c7-ed27-b292a59c12c3"
      },
      "execution_count": 13,
      "outputs": [
        {
          "output_type": "stream",
          "name": "stdout",
          "text": [
            "[]\n",
            "[2]\n",
            "[2]\n",
            "[2, 4]\n",
            "[2, 4]\n",
            "[2, 4, 6]\n",
            "[2, 4, 6]\n",
            "[2, 4, 6, 8]\n",
            "[2, 4, 6, 8]\n",
            "[2, 4, 6, 8, 10]\n"
          ]
        }
      ]
    },
    {
      "cell_type": "code",
      "source": [
        "#python script to access the third elemnets from the given list and print it\n",
        "\n",
        "fruits = [\"apple\",\"banana\",\"cherry\",\"date\"]\n",
        "fruits[2]"
      ],
      "metadata": {
        "colab": {
          "base_uri": "https://localhost:8080/",
          "height": 55
        },
        "id": "A3x0vHdvRhsV",
        "outputId": "0bb7b44b-6f97-481d-b18e-ed0777bcf376"
      },
      "execution_count": 14,
      "outputs": [
        {
          "output_type": "execute_result",
          "data": {
            "text/plain": [
              "'cherry'"
            ],
            "application/vnd.google.colaboratory.intrinsic+json": {
              "type": "string"
            }
          },
          "metadata": {},
          "execution_count": 14
        }
      ]
    },
    {
      "cell_type": "code",
      "source": [
        "#python script to print the last three elements of given list\n",
        "\n",
        "numbers = [1,2,3,4,5,6,7,8,9]\n",
        "numbers[6::]\n",
        "numbers[-3::]"
      ],
      "metadata": {
        "colab": {
          "base_uri": "https://localhost:8080/"
        },
        "id": "mBRKo5xBSQbk",
        "outputId": "ddd477a2-1210-4ff7-e645-0fb9ba728cbe"
      },
      "execution_count": 17,
      "outputs": [
        {
          "output_type": "execute_result",
          "data": {
            "text/plain": [
              "[7, 8, 9]"
            ]
          },
          "metadata": {},
          "execution_count": 17
        }
      ]
    },
    {
      "cell_type": "code",
      "source": [
        "#python script to concatenate two lists and print the resulting list\n",
        "\n",
        "list1 = [1,2,3]\n",
        "list2 = [4,5,6]\n",
        "resulting_list = list1 + list2\n",
        "resulting_list"
      ],
      "metadata": {
        "colab": {
          "base_uri": "https://localhost:8080/"
        },
        "id": "fGjUSPCQTPxQ",
        "outputId": "d628bcbf-ac14-41d0-de25-c10ea4d028d7"
      },
      "execution_count": 19,
      "outputs": [
        {
          "output_type": "execute_result",
          "data": {
            "text/plain": [
              "[1, 2, 3, 4, 5, 6]"
            ]
          },
          "metadata": {},
          "execution_count": 19
        }
      ]
    },
    {
      "cell_type": "code",
      "source": [
        "#python script to create a list and replicate it three times\n",
        "\n",
        "lst = [0,1,2]\n",
        "lst1 = lst*3\n",
        "lst1\n"
      ],
      "metadata": {
        "colab": {
          "base_uri": "https://localhost:8080/"
        },
        "id": "RaUtq2Q6UMHU",
        "outputId": "731f9706-64c7-4d92-d180-a452e1052311"
      },
      "execution_count": 21,
      "outputs": [
        {
          "output_type": "execute_result",
          "data": {
            "text/plain": [
              "[0, 1, 2, 0, 1, 2, 0, 1, 2]"
            ]
          },
          "metadata": {},
          "execution_count": 21
        }
      ]
    },
    {
      "cell_type": "code",
      "source": [
        "#python script to append a list\n",
        "\n",
        "numbers = [1,2,3,4,5,6]\n",
        "numbers.append(7)\n",
        "numbers"
      ],
      "metadata": {
        "colab": {
          "base_uri": "https://localhost:8080/"
        },
        "id": "Mps28BkUUkOx",
        "outputId": "041a4c7f-e715-4982-857f-6d72d5113a31"
      },
      "execution_count": 22,
      "outputs": [
        {
          "output_type": "execute_result",
          "data": {
            "text/plain": [
              "[1, 2, 3, 4, 5, 6, 7]"
            ]
          },
          "metadata": {},
          "execution_count": 22
        }
      ]
    },
    {
      "cell_type": "code",
      "source": [
        "#python script to remove and print the last element of given list\n",
        "\n",
        "colors = [\"red\",\"green\",\"blue\",\"yellow\"]\n",
        "colors.pop()"
      ],
      "metadata": {
        "colab": {
          "base_uri": "https://localhost:8080/",
          "height": 55
        },
        "id": "UdytXRhOU8fQ",
        "outputId": "c19852f3-b6f4-4e2c-dd61-0b726aff038f"
      },
      "execution_count": 23,
      "outputs": [
        {
          "output_type": "execute_result",
          "data": {
            "text/plain": [
              "'yellow'"
            ],
            "application/vnd.google.colaboratory.intrinsic+json": {
              "type": "string"
            }
          },
          "metadata": {},
          "execution_count": 23
        }
      ]
    },
    {
      "cell_type": "code",
      "source": [
        "#python script the first occurence of 4 from given list and print the updated list\n",
        "\n",
        "numbers = [1,2,3,4,4,5,6]\n",
        "numbers.remove(4)\n",
        "numbers"
      ],
      "metadata": {
        "colab": {
          "base_uri": "https://localhost:8080/"
        },
        "id": "ATKfMf7QVv1h",
        "outputId": "ccff8a6c-831e-4ca3-babc-b19b5efe7954"
      },
      "execution_count": 24,
      "outputs": [
        {
          "output_type": "execute_result",
          "data": {
            "text/plain": [
              "[1, 2, 3, 4, 5, 6]"
            ]
          },
          "metadata": {},
          "execution_count": 24
        }
      ]
    },
    {
      "cell_type": "code",
      "source": [
        "#pyhton script to sort the given list\n",
        "\n",
        "numbers = [5,2,9,1,7]\n",
        "numbers.sort()\n",
        "numbers"
      ],
      "metadata": {
        "colab": {
          "base_uri": "https://localhost:8080/"
        },
        "id": "0N5X8MJ8WIAU",
        "outputId": "e78d6ce9-b07a-4b90-d179-71c0a1801f2b"
      },
      "execution_count": 26,
      "outputs": [
        {
          "output_type": "execute_result",
          "data": {
            "text/plain": [
              "[1, 2, 5, 7, 9]"
            ]
          },
          "metadata": {},
          "execution_count": 26
        }
      ]
    },
    {
      "cell_type": "code",
      "source": [
        "#python script to create a tuple and print it\n",
        "\n",
        "fruits = [\"apple\",\"banana\",\"cherry\"]\n",
        "tuple(fruits)"
      ],
      "metadata": {
        "colab": {
          "base_uri": "https://localhost:8080/"
        },
        "id": "ILQiVGAReynY",
        "outputId": "8e0376e8-b7be-4411-b203-27c70421c0ec"
      },
      "execution_count": 28,
      "outputs": [
        {
          "output_type": "execute_result",
          "data": {
            "text/plain": [
              "('apple', 'banana', 'cherry')"
            ]
          },
          "metadata": {},
          "execution_count": 28
        }
      ]
    },
    {
      "cell_type": "code",
      "source": [
        "#python script to print the second element of given tuple\n",
        "\n",
        "colors = (\"red\",\"green\",\"blue\",\"yellow\")\n",
        "colors[1]"
      ],
      "metadata": {
        "colab": {
          "base_uri": "https://localhost:8080/",
          "height": 55
        },
        "id": "5WL3yx00fSNI",
        "outputId": "23ad193c-d061-46f7-a20b-2a39bd6cf70c"
      },
      "execution_count": 29,
      "outputs": [
        {
          "output_type": "execute_result",
          "data": {
            "text/plain": [
              "'green'"
            ],
            "application/vnd.google.colaboratory.intrinsic+json": {
              "type": "string"
            }
          },
          "metadata": {},
          "execution_count": 29
        }
      ]
    },
    {
      "cell_type": "code",
      "source": [],
      "metadata": {
        "id": "aCFcIQXof0Km"
      },
      "execution_count": null,
      "outputs": []
    }
  ]
}