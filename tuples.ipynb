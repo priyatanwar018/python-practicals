{
  "nbformat": 4,
  "nbformat_minor": 0,
  "metadata": {
    "colab": {
      "provenance": [],
      "authorship_tag": "ABX9TyPZWikj20OU864E6iFqE2WP",
      "include_colab_link": true
    },
    "kernelspec": {
      "name": "python3",
      "display_name": "Python 3"
    },
    "language_info": {
      "name": "python"
    }
  },
  "cells": [
    {
      "cell_type": "markdown",
      "metadata": {
        "id": "view-in-github",
        "colab_type": "text"
      },
      "source": [
        "<a href=\"https://colab.research.google.com/github/priyatanwar018/python-practicals/blob/main/tuples.ipynb\" target=\"_parent\"><img src=\"https://colab.research.google.com/assets/colab-badge.svg\" alt=\"Open In Colab\"/></a>"
      ]
    },
    {
      "cell_type": "code",
      "execution_count": null,
      "metadata": {
        "id": "zi3Vtgr5onuB"
      },
      "outputs": [],
      "source": [
        "# Practice questions on Tuples"
      ]
    },
    {
      "cell_type": "code",
      "source": [
        "# Question 1 Write a Python program to create a tuple with different data types (integers, strings, floats) and print the tuple.\n",
        "\n",
        "my_tuple = (1,2,'a','b',2.5,2.005,'hello')\n",
        "print(my_tuple)"
      ],
      "metadata": {
        "id": "aZhLskk6otvT",
        "colab": {
          "base_uri": "https://localhost:8080/"
        },
        "outputId": "4be6554a-0518-4f0a-bdb4-fe75cc21eb1d"
      },
      "execution_count": 2,
      "outputs": [
        {
          "output_type": "stream",
          "name": "stdout",
          "text": [
            "(1, 2, 'a', 'b', 2.5, 2.005, 'hello')\n"
          ]
        }
      ]
    },
    {
      "cell_type": "code",
      "source": [
        "# Question 2 Write a Python program to access an element from a tuple using its index.\n",
        "\n",
        "my_tuple[3]"
      ],
      "metadata": {
        "colab": {
          "base_uri": "https://localhost:8080/",
          "height": 55
        },
        "id": "t0etjMpUQcls",
        "outputId": "a6a86079-a84e-492d-8cd4-1374ce20c51b"
      },
      "execution_count": 3,
      "outputs": [
        {
          "output_type": "execute_result",
          "data": {
            "text/plain": [
              "'b'"
            ],
            "application/vnd.google.colaboratory.intrinsic+json": {
              "type": "string"
            }
          },
          "metadata": {},
          "execution_count": 3
        }
      ]
    },
    {
      "cell_type": "code",
      "source": [
        "# Question 3 Write a Python program to find the length of a tuple using len().\n",
        "\n",
        "len(my_tuple)"
      ],
      "metadata": {
        "colab": {
          "base_uri": "https://localhost:8080/"
        },
        "id": "gJUHYciWQpuH",
        "outputId": "8de00a80-cda1-43da-b15a-eba1bca32dd4"
      },
      "execution_count": 4,
      "outputs": [
        {
          "output_type": "execute_result",
          "data": {
            "text/plain": [
              "7"
            ]
          },
          "metadata": {},
          "execution_count": 4
        }
      ]
    },
    {
      "cell_type": "code",
      "source": [
        "# Question 4 Write a Python program to concatenate two tuples using the + operator.\n",
        "\n",
        "tuple_1 = (1,2,3)\n",
        "tuple_2 = (4,5,6)\n",
        "concatenated_tuple = tuple_1 + tuple_2\n",
        "print(concatenated_tuple)"
      ],
      "metadata": {
        "colab": {
          "base_uri": "https://localhost:8080/"
        },
        "id": "EpXsqSzYQ0bR",
        "outputId": "6107e29a-0de1-4526-eef9-7c28e7651fa0"
      },
      "execution_count": 5,
      "outputs": [
        {
          "output_type": "stream",
          "name": "stdout",
          "text": [
            "(1, 2, 3, 4, 5, 6)\n"
          ]
        }
      ]
    },
    {
      "cell_type": "code",
      "source": [
        "# Question 5 Write a Python program to slice a tuple and print its first three elements.\n",
        "\n",
        "concatenated_tuple[0:3]"
      ],
      "metadata": {
        "colab": {
          "base_uri": "https://localhost:8080/"
        },
        "id": "wrxoCw_eRI-b",
        "outputId": "5aaef49f-d79d-4b31-cc02-98a59b8ea703"
      },
      "execution_count": 6,
      "outputs": [
        {
          "output_type": "execute_result",
          "data": {
            "text/plain": [
              "(1, 2, 3)"
            ]
          },
          "metadata": {},
          "execution_count": 6
        }
      ]
    },
    {
      "cell_type": "code",
      "source": [
        "# Question 6 Write a Python program to check if a specific element exists in a tuple using the in operator.\n",
        "\n",
        "print(2 in concatenated_tuple)\n",
        "print(7 in concatenated_tuple)"
      ],
      "metadata": {
        "colab": {
          "base_uri": "https://localhost:8080/"
        },
        "id": "TcG54AuMRYhf",
        "outputId": "19d7030b-2c6f-4d63-8d99-595df56d5110"
      },
      "execution_count": 7,
      "outputs": [
        {
          "output_type": "stream",
          "name": "stdout",
          "text": [
            "True\n",
            "False\n"
          ]
        }
      ]
    },
    {
      "cell_type": "code",
      "source": [
        "# Question 7 Write a Python program to count the occurrences of a specific element in a tuple using count().\n",
        "\n",
        "tuple_3 = (1,2,3,4,5,2,2,2,2)\n",
        "tuple_3.count(2)"
      ],
      "metadata": {
        "colab": {
          "base_uri": "https://localhost:8080/"
        },
        "id": "FkTLI6yhRodW",
        "outputId": "2b22e6b8-6374-4ce3-8c99-4bc28cce4acf"
      },
      "execution_count": 8,
      "outputs": [
        {
          "output_type": "execute_result",
          "data": {
            "text/plain": [
              "5"
            ]
          },
          "metadata": {},
          "execution_count": 8
        }
      ]
    },
    {
      "cell_type": "code",
      "source": [
        "# Question 8 Write a Python program to find the index of a specific element in a tuple using index().\n",
        "\n",
        "tuple_3.index(2)"
      ],
      "metadata": {
        "colab": {
          "base_uri": "https://localhost:8080/"
        },
        "id": "zQk_9vbMR3f5",
        "outputId": "089e22dc-e6b8-4410-c9e9-c10c4b69936b"
      },
      "execution_count": 9,
      "outputs": [
        {
          "output_type": "execute_result",
          "data": {
            "text/plain": [
              "1"
            ]
          },
          "metadata": {},
          "execution_count": 9
        }
      ]
    },
    {
      "cell_type": "code",
      "source": [
        "# Question 9 Write a Python program to convert a list into a tuple using tuple().\n",
        "\n",
        "my_list = [1,2,3,4,5]\n",
        "t = tuple(my_list)\n",
        "print(t)"
      ],
      "metadata": {
        "colab": {
          "base_uri": "https://localhost:8080/"
        },
        "id": "xoTfKpakSDBs",
        "outputId": "caddac62-308e-4247-a0bb-58ca2aadbca7"
      },
      "execution_count": 10,
      "outputs": [
        {
          "output_type": "stream",
          "name": "stdout",
          "text": [
            "(1, 2, 3, 4, 5)\n"
          ]
        }
      ]
    },
    {
      "cell_type": "code",
      "source": [
        "# Question 10 Write a Python program to create a tuple with a single element.\n",
        "\n",
        "single_element_tuple = (1,)\n",
        "print(single_element_tuple)"
      ],
      "metadata": {
        "colab": {
          "base_uri": "https://localhost:8080/"
        },
        "id": "JzJPlx0mSQie",
        "outputId": "f5d010b4-3360-433a-f796-d867e9957426"
      },
      "execution_count": 11,
      "outputs": [
        {
          "output_type": "stream",
          "name": "stdout",
          "text": [
            "(1,)\n"
          ]
        }
      ]
    },
    {
      "cell_type": "code",
      "source": [
        "type(single_element_tuple)"
      ],
      "metadata": {
        "colab": {
          "base_uri": "https://localhost:8080/"
        },
        "id": "xFKzsFnzSedI",
        "outputId": "b9907097-449a-47af-ab58-6d0ee1f43eb3"
      },
      "execution_count": 12,
      "outputs": [
        {
          "output_type": "execute_result",
          "data": {
            "text/plain": [
              "tuple"
            ]
          },
          "metadata": {},
          "execution_count": 12
        }
      ]
    },
    {
      "cell_type": "code",
      "source": [
        "# Question 11 Write a Python program to unpack the elements of a tuple into individual variables.\n",
        "\n",
        "tuple_4 = (1,2,3)\n",
        "a,b,c = tuple_4\n",
        "print(a)\n",
        "print(b)\n",
        "print(c)"
      ],
      "metadata": {
        "colab": {
          "base_uri": "https://localhost:8080/"
        },
        "id": "_4ieA1BtSjyS",
        "outputId": "495788d0-13d5-46f5-a33f-37efdb0f72c3"
      },
      "execution_count": 13,
      "outputs": [
        {
          "output_type": "stream",
          "name": "stdout",
          "text": [
            "1\n",
            "2\n",
            "3\n"
          ]
        }
      ]
    },
    {
      "cell_type": "code",
      "source": [
        "# Question 12 Write a Python program to convert a tuple of strings into a single string using join().\n",
        "\n",
        "tuple_5 = ('a','b','c','d')\n",
        "string = ''.join(tuple_5)\n",
        "print(string)"
      ],
      "metadata": {
        "colab": {
          "base_uri": "https://localhost:8080/"
        },
        "id": "oSggZ7szTIJM",
        "outputId": "0f216957-6f82-4c74-8af6-db9a927207fe"
      },
      "execution_count": 14,
      "outputs": [
        {
          "output_type": "stream",
          "name": "stdout",
          "text": [
            "abcd\n"
          ]
        }
      ]
    },
    {
      "cell_type": "code",
      "source": [
        "# Question 13 Write a Python program to create a nested tuple and access elements from the inner tuple.\n",
        "\n",
        "nested_tuple = ((1,2,3),(4,5,6),(7,8,9))\n",
        "nested_tuple[2][2]"
      ],
      "metadata": {
        "colab": {
          "base_uri": "https://localhost:8080/"
        },
        "id": "6d2PapEcTepQ",
        "outputId": "6e6cce58-0358-4a34-b4de-790df1d4c131"
      },
      "execution_count": 15,
      "outputs": [
        {
          "output_type": "execute_result",
          "data": {
            "text/plain": [
              "9"
            ]
          },
          "metadata": {},
          "execution_count": 15
        }
      ]
    },
    {
      "cell_type": "code",
      "source": [
        "# Question 14 Write a Python program to find the maximum and minimum values in a tuple of integers.\n",
        "\n",
        "tuple_6 = (6373,6474,6473,5743,3878)\n",
        "print(max(tuple_6))\n",
        "print(min(tuple_6))"
      ],
      "metadata": {
        "colab": {
          "base_uri": "https://localhost:8080/"
        },
        "id": "Q2pN6GB2Txj4",
        "outputId": "495f6c22-6e2c-4554-ff41-bcc20bb46fa6"
      },
      "execution_count": 16,
      "outputs": [
        {
          "output_type": "stream",
          "name": "stdout",
          "text": [
            "6474\n",
            "3878\n"
          ]
        }
      ]
    },
    {
      "cell_type": "code",
      "source": [
        "# Question 15 Write a Python program to create a tuple and reverse its elements without using slicing\n",
        "\n",
        "reversed_tuple = tuple(reversed(tuple_6))\n",
        "print(reversed_tuple)\n",
        "\n",
        "reversed_tuple = tuple(reversed(nested_tuple))\n",
        "print(reversed_tuple)"
      ],
      "metadata": {
        "colab": {
          "base_uri": "https://localhost:8080/"
        },
        "id": "yYzXNegkUDS5",
        "outputId": "ca26d25a-da7e-4275-e696-bc0e39026a75"
      },
      "execution_count": 17,
      "outputs": [
        {
          "output_type": "stream",
          "name": "stdout",
          "text": [
            "(3878, 5743, 6473, 6474, 6373)\n",
            "((7, 8, 9), (4, 5, 6), (1, 2, 3))\n"
          ]
        }
      ]
    },
    {
      "cell_type": "code",
      "source": [
        "# Question 16 Write a Python program to find the sum of all elements in a tuple of integers.\n",
        "\n",
        "numbers = (1,2,3,4,5,6,7,8,9,10)\n",
        "total = sum(numbers)\n",
        "print(total)"
      ],
      "metadata": {
        "colab": {
          "base_uri": "https://localhost:8080/"
        },
        "id": "MEgkdZ4SUbdF",
        "outputId": "8c8f561e-d57e-42bd-c500-7f4b78d6bd5a"
      },
      "execution_count": 18,
      "outputs": [
        {
          "output_type": "stream",
          "name": "stdout",
          "text": [
            "55\n"
          ]
        }
      ]
    },
    {
      "cell_type": "code",
      "source": [
        "# Question 17 Write a Python program to iterate through a tuple and print each element.\n",
        "\n",
        "for i in numbers:\n",
        "  print(i)"
      ],
      "metadata": {
        "id": "HXagTTymVFFE",
        "colab": {
          "base_uri": "https://localhost:8080/"
        },
        "outputId": "8d2f8e3b-7dfd-42da-c52d-a1194e8be05d"
      },
      "execution_count": 19,
      "outputs": [
        {
          "output_type": "stream",
          "name": "stdout",
          "text": [
            "1\n",
            "2\n",
            "3\n",
            "4\n",
            "5\n",
            "6\n",
            "7\n",
            "8\n",
            "9\n",
            "10\n"
          ]
        }
      ]
    },
    {
      "cell_type": "code",
      "source": [
        "# Question 18 Write a Python program to check if all elements in a tuple are the same.\n",
        "\n",
        "same_elements = (1,1,1,1)\n",
        "\n",
        "first_element = same_elements[0]\n",
        "\n",
        "all_same = True\n",
        "for i in same_elements:\n",
        "  if i != first_element:\n",
        "    all_same = False\n",
        "    break\n",
        "\n",
        "if all_same:\n",
        "  print(\"All elements are same\")\n",
        "else:\n",
        "  print(\"All elements are not same\")\n",
        "\n",
        "\n"
      ],
      "metadata": {
        "colab": {
          "base_uri": "https://localhost:8080/"
        },
        "id": "umA3t7DOXhfY",
        "outputId": "d2cffb4c-9b84-4c0d-9214-28ebf52585a6"
      },
      "execution_count": 26,
      "outputs": [
        {
          "output_type": "stream",
          "name": "stdout",
          "text": [
            "All elements are same\n"
          ]
        }
      ]
    },
    {
      "cell_type": "code",
      "source": [
        "# Question 19 Write a Python program to sort a tuple of integers in ascending order (convert it to a list, then back to a tuple).\n",
        "\n",
        "tuple_of_integers = (64,65,38,36,23,79,45,67)\n",
        "\n",
        "list_of_integers = list(tuple_of_integers)\n",
        "\n",
        "list_of_integers.sort()\n",
        "\n",
        "sorted_tuple = tuple(list_of_integers)\n",
        "\n",
        "print(sorted_tuple)"
      ],
      "metadata": {
        "colab": {
          "base_uri": "https://localhost:8080/"
        },
        "id": "HgHw2IgrXjdx",
        "outputId": "ace5db67-ac66-46f9-ffe9-6afa053d710a"
      },
      "execution_count": 3,
      "outputs": [
        {
          "output_type": "stream",
          "name": "stdout",
          "text": [
            "(23, 36, 38, 45, 64, 65, 67, 79)\n"
          ]
        }
      ]
    },
    {
      "cell_type": "code",
      "source": [
        "# Question 20 Write a Python program to convert a tuple into a string by concatenating its elements.\n",
        "\n",
        "tuple_of_strings = ('h', 'e','l','l','o')\n",
        "\n",
        "string = ''.join(tuple_of_strings)\n",
        "print(string)"
      ],
      "metadata": {
        "colab": {
          "base_uri": "https://localhost:8080/"
        },
        "id": "5pYkI7r7Z1SZ",
        "outputId": "f67e4c10-7b81-4645-9d19-5f712b8809a0"
      },
      "execution_count": 4,
      "outputs": [
        {
          "output_type": "stream",
          "name": "stdout",
          "text": [
            "hello\n"
          ]
        }
      ]
    }
  ]
}