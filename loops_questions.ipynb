{
  "nbformat": 4,
  "nbformat_minor": 0,
  "metadata": {
    "colab": {
      "provenance": [],
      "authorship_tag": "ABX9TyPeCI5XRhwHGUvS2X8Ypk+P",
      "include_colab_link": true
    },
    "kernelspec": {
      "name": "python3",
      "display_name": "Python 3"
    },
    "language_info": {
      "name": "python"
    }
  },
  "cells": [
    {
      "cell_type": "markdown",
      "metadata": {
        "id": "view-in-github",
        "colab_type": "text"
      },
      "source": [
        "<a href=\"https://colab.research.google.com/github/priyatanwar018/python-practicals/blob/main/loops_questions.ipynb\" target=\"_parent\"><img src=\"https://colab.research.google.com/assets/colab-badge.svg\" alt=\"Open In Colab\"/></a>"
      ]
    },
    {
      "cell_type": "code",
      "execution_count": null,
      "metadata": {
        "id": "B4bzI3U0d_r3"
      },
      "outputs": [],
      "source": [
        "# loops questions assignment"
      ]
    },
    {
      "cell_type": "code",
      "source": [
        "#Write a function that uses a loop to find and return the first duplicate number in a list. If there are no duplicates, return None.\n",
        "\n",
        "def find_first_duplicate(numbers):\n",
        "  for i in range(len(numbers)):\n",
        "    for j in range(i +1, len(numbers)):\n",
        "      if numbers[i] == numbers[j]:\n",
        "        return numbers[i]\n",
        "  return None\n",
        "\n",
        "\n",
        "duplicate_number = find_first_duplicate([1,2,3,4,5,6,7,3,4])\n",
        "print(duplicate_number)"
      ],
      "metadata": {
        "colab": {
          "base_uri": "https://localhost:8080/"
        },
        "id": "MbqzhsUFeJN7",
        "outputId": "add2265b-1109-450c-e486-dc210091b69b"
      },
      "execution_count": 1,
      "outputs": [
        {
          "output_type": "stream",
          "name": "stdout",
          "text": [
            "3\n"
          ]
        }
      ]
    },
    {
      "cell_type": "code",
      "source": [
        "#Write a function that uses a loop to find and return the first duplicate number in a list. If there are no duplicates, return None.\n",
        "\n",
        "def find_first_duplicate(numbers):\n",
        "  for i in range(len(numbers)):\n",
        "    for j in range(i +1, len(numbers)):\n",
        "      if numbers[i] == numbers[j]:\n",
        "        return numbers[i]\n",
        "  return None\n",
        "\n",
        "\n",
        "duplicate_number = find_first_duplicate([1,2,3,4,5,6,7,3,4])\n",
        "print(duplicate_number)"
      ],
      "metadata": {
        "colab": {
          "base_uri": "https://localhost:8080/"
        },
        "id": "1TAAfLF5eRQq",
        "outputId": "6dbe273e-bdfb-407b-e9ed-e900796d0c0d"
      },
      "execution_count": 2,
      "outputs": [
        {
          "output_type": "stream",
          "name": "stdout",
          "text": [
            "3\n"
          ]
        }
      ]
    },
    {
      "cell_type": "code",
      "source": [
        "#Write a function that calculates the factorial of a number using a loop (do not use recursion).\n",
        "\n",
        "def factorial(n):\n",
        "  result = 1\n",
        "  for i in range(1, n+1):\n",
        "    result *= i\n",
        "  return result\n",
        "\n",
        "factorial(5)"
      ],
      "metadata": {
        "colab": {
          "base_uri": "https://localhost:8080/"
        },
        "id": "JDuaA9oveaL-",
        "outputId": "3880d292-2dda-4882-e36c-093cc41efb16"
      },
      "execution_count": 3,
      "outputs": [
        {
          "output_type": "execute_result",
          "data": {
            "text/plain": [
              "120"
            ]
          },
          "metadata": {},
          "execution_count": 3
        }
      ]
    },
    {
      "cell_type": "code",
      "source": [
        "#Using a loop, create a program that generates a list of all the unique characters in a string (case-insensitive).\n",
        "\n",
        "string = input(\"Enter a string: \")\n",
        "unique_characters = []\n",
        "\n",
        "for char in string:\n",
        "  if char.lower() not in unique_characters:\n",
        "    unique_characters.append(char.lower())\n",
        "print(unique_characters)"
      ],
      "metadata": {
        "colab": {
          "base_uri": "https://localhost:8080/"
        },
        "id": "nzf4xnEtegnl",
        "outputId": "1649e7f6-8554-4d95-d41b-a7116974b5a8"
      },
      "execution_count": 4,
      "outputs": [
        {
          "output_type": "stream",
          "name": "stdout",
          "text": [
            "Enter a string: Hello How are you?\n",
            "['h', 'e', 'l', 'o', ' ', 'w', 'a', 'r', 'y', 'u', '?']\n"
          ]
        }
      ]
    },
    {
      "cell_type": "code",
      "source": [
        "#Write a nested loop that prints the multiplication table from 1 to 10. Format the output neatly in a grid.\n",
        "\n",
        "for i in range(1,11):\n",
        "  for j in range(1,11):\n",
        "      print(f\"{i} x {j} = {i*j:<4}\", end = \"     \")\n",
        "  print()\n",
        "  i += 1"
      ],
      "metadata": {
        "colab": {
          "base_uri": "https://localhost:8080/"
        },
        "id": "pDyBnl7Oek_J",
        "outputId": "fbd7e033-a4d7-4021-e4f1-429ab37cc3f4"
      },
      "execution_count": 9,
      "outputs": [
        {
          "output_type": "stream",
          "name": "stdout",
          "text": [
            "1 x 1 = 1        1 x 2 = 2        1 x 3 = 3        1 x 4 = 4        1 x 5 = 5        1 x 6 = 6        1 x 7 = 7        1 x 8 = 8        1 x 9 = 9        1 x 10 = 10       \n",
            "2 x 1 = 2        2 x 2 = 4        2 x 3 = 6        2 x 4 = 8        2 x 5 = 10       2 x 6 = 12       2 x 7 = 14       2 x 8 = 16       2 x 9 = 18       2 x 10 = 20       \n",
            "3 x 1 = 3        3 x 2 = 6        3 x 3 = 9        3 x 4 = 12       3 x 5 = 15       3 x 6 = 18       3 x 7 = 21       3 x 8 = 24       3 x 9 = 27       3 x 10 = 30       \n",
            "4 x 1 = 4        4 x 2 = 8        4 x 3 = 12       4 x 4 = 16       4 x 5 = 20       4 x 6 = 24       4 x 7 = 28       4 x 8 = 32       4 x 9 = 36       4 x 10 = 40       \n",
            "5 x 1 = 5        5 x 2 = 10       5 x 3 = 15       5 x 4 = 20       5 x 5 = 25       5 x 6 = 30       5 x 7 = 35       5 x 8 = 40       5 x 9 = 45       5 x 10 = 50       \n",
            "6 x 1 = 6        6 x 2 = 12       6 x 3 = 18       6 x 4 = 24       6 x 5 = 30       6 x 6 = 36       6 x 7 = 42       6 x 8 = 48       6 x 9 = 54       6 x 10 = 60       \n",
            "7 x 1 = 7        7 x 2 = 14       7 x 3 = 21       7 x 4 = 28       7 x 5 = 35       7 x 6 = 42       7 x 7 = 49       7 x 8 = 56       7 x 9 = 63       7 x 10 = 70       \n",
            "8 x 1 = 8        8 x 2 = 16       8 x 3 = 24       8 x 4 = 32       8 x 5 = 40       8 x 6 = 48       8 x 7 = 56       8 x 8 = 64       8 x 9 = 72       8 x 10 = 80       \n",
            "9 x 1 = 9        9 x 2 = 18       9 x 3 = 27       9 x 4 = 36       9 x 5 = 45       9 x 6 = 54       9 x 7 = 63       9 x 8 = 72       9 x 9 = 81       9 x 10 = 90       \n",
            "10 x 1 = 10       10 x 2 = 20       10 x 3 = 30       10 x 4 = 40       10 x 5 = 50       10 x 6 = 60       10 x 7 = 70       10 x 8 = 80       10 x 9 = 90       10 x 10 = 100      \n"
          ]
        }
      ]
    },
    {
      "cell_type": "code",
      "source": [
        "#Create a program that uses a loop to simulate rolling a six-sided die 100 times and prints the fequency of each face.\n",
        "\n",
        "import random\n",
        "count =[0] * 6\n",
        "for i in range(100):\n",
        "  roll = random.randint(1,6)\n",
        "  count[roll - 1] += 1\n",
        "\n",
        "for j in range(6):\n",
        "  print(f\"Face: {j + 1}, Count: {count[j]}\")"
      ],
      "metadata": {
        "colab": {
          "base_uri": "https://localhost:8080/"
        },
        "id": "xf22X3wde6xc",
        "outputId": "2e26b8cd-5390-4b3f-cec6-e56165532093"
      },
      "execution_count": 10,
      "outputs": [
        {
          "output_type": "stream",
          "name": "stdout",
          "text": [
            "Face: 1, Count: 24\n",
            "Face: 2, Count: 19\n",
            "Face: 3, Count: 11\n",
            "Face: 4, Count: 12\n",
            "Face: 5, Count: 15\n",
            "Face: 6, Count: 19\n"
          ]
        }
      ]
    },
    {
      "cell_type": "code",
      "source": [
        "#Using a loop, write a function that takes a list of integers and returns a new list containing only the integers that are perfect squares.\n",
        "\n",
        "def perfect_squares(numbers):\n",
        "  perfect_sqrs = []\n",
        "  for num in numbers:\n",
        "    if num ** 0.5 == int(num ** 0.5):\n",
        "      perfect_sqrs.append(num)\n",
        "  return perfect_sqrs\n",
        "\n",
        "numbers = perfect_squares([1,2,3,4,5,6,7,8,9,10])\n",
        "print(numbers)"
      ],
      "metadata": {
        "colab": {
          "base_uri": "https://localhost:8080/"
        },
        "id": "dOg3c7Y6f0x5",
        "outputId": "72f2e4a5-6621-4ae0-b933-c84438e22ff4"
      },
      "execution_count": 12,
      "outputs": [
        {
          "output_type": "stream",
          "name": "stdout",
          "text": [
            "[1, 4, 9]\n"
          ]
        }
      ]
    },
    {
      "cell_type": "code",
      "source": [
        "#Write a program that takes a list of strings and returns a list of those strings sorted by their length using a loop (without using the built-in sorted() function).\n",
        "\n",
        "strings = input(\"Enter a list of strings: \")\n",
        "strings = strings.split(\",\")\n",
        "\n",
        "for i in range(len(strings)):\n",
        "  for j in range(0,len(strings)-i-1):\n",
        "    if len(strings[j]) > len(strings[j+1]):\n",
        "      strings[j],strings[j+1] = strings[j+1],strings[j]\n",
        "print(strings)"
      ],
      "metadata": {
        "colab": {
          "base_uri": "https://localhost:8080/"
        },
        "id": "UqEwo_a6fbCs",
        "outputId": "aca21791-aedd-4fc1-fe91-725ff86459de"
      },
      "execution_count": 11,
      "outputs": [
        {
          "output_type": "stream",
          "name": "stdout",
          "text": [
            "Enter a list of strings: apple,kiwi,mango,grape,banana\n",
            "['kiwi', 'apple', 'mango', 'grape', 'banana']\n"
          ]
        }
      ]
    },
    {
      "cell_type": "code",
      "source": [
        "#Create a loop that finds and returns the longest word in a given sentence.\n",
        "\n",
        "user_input = input(\"Enter a sentence: \")\n",
        "words = user_input.split()\n",
        "\n",
        "maximum_word = words[0]\n",
        "for word in words:\n",
        "  if len(word) > len(maximum_word):\n",
        "    maximum_word = word\n",
        "\n",
        "print(f\"The longest word in the sentence is {maximum_word}\")"
      ],
      "metadata": {
        "colab": {
          "base_uri": "https://localhost:8080/"
        },
        "id": "C_zVG4BUgJje",
        "outputId": "db5dc7b1-d609-40cf-c3bf-d7d1a8288041"
      },
      "execution_count": 14,
      "outputs": [
        {
          "output_type": "stream",
          "name": "stdout",
          "text": [
            "Enter a sentence: Hello my name is Priya Tanwar\n",
            "The longest word in the sentence is Tanwar\n"
          ]
        }
      ]
    },
    {
      "cell_type": "code",
      "source": [
        "#Write a function that prints all the unique pairs of numbers from a list that add up to a given target sum.\n",
        "\n",
        "def unique_pairs(nums, target):\n",
        "    seen = set()\n",
        "    pairs = set()\n",
        "\n",
        "    for num in nums:\n",
        "        compliment = target - num\n",
        "\n",
        "        if compliment in seen:\n",
        "            pairs.add((min(num, compliment), max(num, compliment)))\n",
        "\n",
        "        seen.add(num)\n",
        "\n",
        "    for pair in pairs:\n",
        "        print(pair)\n",
        "\n",
        "unique_pairs([1, 2, 3, 4, 5, 6, 7, 8, 9, 10], 10)\n"
      ],
      "metadata": {
        "colab": {
          "base_uri": "https://localhost:8080/"
        },
        "id": "JhOC3tJQfh81",
        "outputId": "5cda8911-d024-454b-b140-c8b7ce58ee24"
      },
      "execution_count": 15,
      "outputs": [
        {
          "output_type": "stream",
          "name": "stdout",
          "text": [
            "(3, 7)\n",
            "(4, 6)\n",
            "(1, 9)\n",
            "(2, 8)\n"
          ]
        }
      ]
    },
    {
      "cell_type": "code",
      "source": [
        "#Using a loop, create a program that builds a dictionary from two lists: one with keys and one with values.\n",
        "#Handle cases where the lists are of different lengths.\n",
        "\n",
        "def build_dict(keys, values):\n",
        "    result = {}\n",
        "    length = max(len(keys), len(values))\n",
        "\n",
        "    for i in range(length):\n",
        "        key = keys[i] if i < len(keys) else None\n",
        "        value = values[i] if i < len(values) else None\n",
        "\n",
        "        result[key] = value\n",
        "\n",
        "    return result\n",
        "\n",
        "\n",
        "keys_list = ['a', 'b', 'c', 'd']\n",
        "values_list = [1, 2, 3]\n",
        "\n",
        "dictionary = build_dict(keys_list, values_list)\n",
        "print(dictionary)\n"
      ],
      "metadata": {
        "colab": {
          "base_uri": "https://localhost:8080/"
        },
        "id": "Oc-LUcMfgEfr",
        "outputId": "90540800-a892-4d02-c713-d5d1ec284bf7"
      },
      "execution_count": 17,
      "outputs": [
        {
          "output_type": "stream",
          "name": "stdout",
          "text": [
            "{'a': 1, 'b': 2, 'c': 3, 'd': None}\n"
          ]
        }
      ]
    },
    {
      "cell_type": "code",
      "source": [
        "#Write a loop to rotate a list to the right by k steps, where k is provided by the user.\n",
        "\n",
        "def rotate_list(lst,k):\n",
        "  k = k % len(lst)\n",
        "\n",
        "  return lst[-k:] + lst[:-k]\n",
        "\n",
        "rotate_list([1,2,3,4,5],3)"
      ],
      "metadata": {
        "colab": {
          "base_uri": "https://localhost:8080/"
        },
        "id": "MglFEAzahlH3",
        "outputId": "1e8979ae-55e5-4b6f-e03a-e9b54f480d9b"
      },
      "execution_count": 19,
      "outputs": [
        {
          "output_type": "execute_result",
          "data": {
            "text/plain": [
              "[3, 4, 5, 1, 2]"
            ]
          },
          "metadata": {},
          "execution_count": 19
        }
      ]
    },
    {
      "cell_type": "code",
      "source": [
        "#Create a program that takes a list of integers and prints all the sublists (continuous segments) of that list.\n",
        "\n",
        "def all_sublists(lst):\n",
        "  sublists = []\n",
        "\n",
        "  for start in range(len(lst)):\n",
        "    for end in range(start+1,len(lst)+1):\n",
        "      sublists.append(lst[start:end])\n",
        "  return sublists\n",
        "\n",
        "all_sublists([1,2,3,4,5])"
      ],
      "metadata": {
        "colab": {
          "base_uri": "https://localhost:8080/"
        },
        "id": "pKqv7MFmmx6S",
        "outputId": "06678f1f-4d20-4583-f089-5da861317173"
      },
      "execution_count": 22,
      "outputs": [
        {
          "output_type": "execute_result",
          "data": {
            "text/plain": [
              "[[1],\n",
              " [1, 2],\n",
              " [1, 2, 3],\n",
              " [1, 2, 3, 4],\n",
              " [1, 2, 3, 4, 5],\n",
              " [2],\n",
              " [2, 3],\n",
              " [2, 3, 4],\n",
              " [2, 3, 4, 5],\n",
              " [3],\n",
              " [3, 4],\n",
              " [3, 4, 5],\n",
              " [4],\n",
              " [4, 5],\n",
              " [5]]"
            ]
          },
          "metadata": {},
          "execution_count": 22
        }
      ]
    },
    {
      "cell_type": "code",
      "source": [
        "#Using a loop, write a function that implements the bubble sort algorithm on a list of numbers.\n",
        "\n",
        "def bubble_sort(nums):\n",
        "  n = len(nums)\n",
        "  for i in range(n):\n",
        "    for j in range(0,n-i-1):\n",
        "      if nums[j] > nums[j+1]:\n",
        "        nums[j],nums[j+1] = nums[j+1],nums[j]\n",
        "  return nums\n",
        "\n",
        "sorted_nums = bubble_sort([3,5,1,7,2,6,9,4,8])\n",
        "print(sorted_nums)"
      ],
      "metadata": {
        "colab": {
          "base_uri": "https://localhost:8080/"
        },
        "id": "Rkm76JKZpXvN",
        "outputId": "43e8a361-a6f5-478e-f3e3-c9062f3b112a"
      },
      "execution_count": 25,
      "outputs": [
        {
          "output_type": "stream",
          "name": "stdout",
          "text": [
            "[1, 2, 3, 4, 5, 6, 7, 8, 9]\n"
          ]
        }
      ]
    },
    {
      "cell_type": "code",
      "source": [
        "#Write a program that creates a list of tuples, where each tuple contains a number and its square,for numbers from 1 to n, where n is provided by the user.\n",
        "\n",
        "def create_number_square_tuples(n):\n",
        "    number_square_tuples = [(i, i**2) for i in range(1, n + 1)]\n",
        "    return number_square_tuples\n",
        "\n",
        "create_number_square_tuples(10)"
      ],
      "metadata": {
        "colab": {
          "base_uri": "https://localhost:8080/"
        },
        "id": "RziXKoSxungH",
        "outputId": "ad372ccd-7af1-48e7-bde1-c9448a158a23"
      },
      "execution_count": 26,
      "outputs": [
        {
          "output_type": "execute_result",
          "data": {
            "text/plain": [
              "[(1, 1),\n",
              " (2, 4),\n",
              " (3, 9),\n",
              " (4, 16),\n",
              " (5, 25),\n",
              " (6, 36),\n",
              " (7, 49),\n",
              " (8, 64),\n",
              " (9, 81),\n",
              " (10, 100)]"
            ]
          },
          "metadata": {},
          "execution_count": 26
        }
      ]
    },
    {
      "cell_type": "code",
      "source": [
        "#Create a function that takes a list of numbers and returns a new list with each number replaced by its factorial. Use a loop for this task.\n",
        "\n",
        "def replace_with_factorials(numbers):\n",
        "    factorials = []\n",
        "\n",
        "    for num in numbers:\n",
        "        result = 1\n",
        "        for i in range(1, num + 1):\n",
        "            result *= i\n",
        "        factorials.append(result)\n",
        "\n",
        "    return factorials\n",
        "\n",
        "\n",
        "numbers_list = [1, 2, 3, 4, 5]\n",
        "result = replace_with_factorials(numbers_list)\n",
        "print(result)\n"
      ],
      "metadata": {
        "colab": {
          "base_uri": "https://localhost:8080/"
        },
        "id": "a5IHHjVtu5or",
        "outputId": "3eba3037-ab7f-4b14-a41b-e8a65c6c2936"
      },
      "execution_count": 27,
      "outputs": [
        {
          "output_type": "stream",
          "name": "stdout",
          "text": [
            "[1, 2, 6, 24, 120]\n"
          ]
        }
      ]
    },
    {
      "cell_type": "code",
      "source": [
        "#Using a loop, write a program that finds the intersection of two lists (common elements) without using set operations.\n",
        "\n",
        "def find_intersection(list1, list2):\n",
        "    intersection = []\n",
        "\n",
        "    for item in list1:\n",
        "        if item in list2 and item not in intersection:\n",
        "            intersection.append(item)\n",
        "\n",
        "    return intersection\n",
        "\n",
        "\n",
        "list1 = [1, 2, 3, 4, 5]\n",
        "list2 = [4, 5, 6, 7, 8]\n",
        "result = find_intersection(list1, list2)\n",
        "print(result)\n"
      ],
      "metadata": {
        "colab": {
          "base_uri": "https://localhost:8080/"
        },
        "id": "3KXn50bqvvq9",
        "outputId": "fa9cb512-dcdb-40a4-dfcc-13b2c5fbde64"
      },
      "execution_count": 28,
      "outputs": [
        {
          "output_type": "stream",
          "name": "stdout",
          "text": [
            "[4, 5]\n"
          ]
        }
      ]
    },
    {
      "cell_type": "code",
      "source": [
        "#Write a program that simulates a simple voting system. Use a loop to count votes for multiple candidates and print the winner.\n",
        "\n",
        "def voting_system():\n",
        "    candidates = ['Alice', 'Bob', 'Charlie']\n",
        "    votes = {candidate: 0 for candidate in candidates}\n",
        "\n",
        "    num_voters = int(input(\"Enter the number of voters: \"))\n",
        "\n",
        "    for _ in range(num_voters):\n",
        "        print(\"\\nCandidates: Alice, Bob, Charlie\")\n",
        "        vote = input(\"Cast your vote: \").capitalize()\n",
        "\n",
        "        if vote in votes:\n",
        "            votes[vote] += 1\n",
        "        else:\n",
        "            print(\"Invalid vote! Please choose from the candidates.\")\n",
        "    winner = max(votes, key=votes.get)\n",
        "\n",
        "    print(\"\\nFinal vote count:\")\n",
        "    for candidate, count in votes.items():\n",
        "        print(f\"{candidate}: {count} votes\")\n",
        "\n",
        "    print(f\"\\nThe winner is {winner} with {votes[winner]} votes!\")\n",
        "\n",
        "\n",
        "voting_system()\n"
      ],
      "metadata": {
        "colab": {
          "base_uri": "https://localhost:8080/"
        },
        "id": "ptJ7reFpw8p6",
        "outputId": "d2ec8210-a03e-4ef7-bbc1-55a988a3c96c"
      },
      "execution_count": 30,
      "outputs": [
        {
          "output_type": "stream",
          "name": "stdout",
          "text": [
            "Enter the number of voters: 10\n",
            "\n",
            "Candidates: Alice, Bob, Charlie\n",
            "Cast your vote: Alice\n",
            "\n",
            "Candidates: Alice, Bob, Charlie\n",
            "Cast your vote: Bob\n",
            "\n",
            "Candidates: Alice, Bob, Charlie\n",
            "Cast your vote: Charlie\n",
            "\n",
            "Candidates: Alice, Bob, Charlie\n",
            "Cast your vote: Alice\n",
            "\n",
            "Candidates: Alice, Bob, Charlie\n",
            "Cast your vote: Bob\n",
            "\n",
            "Candidates: Alice, Bob, Charlie\n",
            "Cast your vote: Charlie\n",
            "\n",
            "Candidates: Alice, Bob, Charlie\n",
            "Cast your vote: Alice\n",
            "\n",
            "Candidates: Alice, Bob, Charlie\n",
            "Cast your vote: Alice\n",
            "\n",
            "Candidates: Alice, Bob, Charlie\n",
            "Cast your vote: Bob\n",
            "\n",
            "Candidates: Alice, Bob, Charlie\n",
            "Cast your vote: Bob\n",
            "\n",
            "Final vote count:\n",
            "Alice: 4 votes\n",
            "Bob: 4 votes\n",
            "Charlie: 2 votes\n",
            "\n",
            "The winner is Alice with 4 votes!\n"
          ]
        }
      ]
    },
    {
      "cell_type": "code",
      "source": [
        "#Using a loop, create a program that checks if a given number is a palindrome (reads the same forwards and backwards).\n",
        "\n",
        "num = int(input(\"Enter a number: \"))\n",
        "original_num = num\n",
        "reverse_num = 0\n",
        "\n",
        "while num > 0:\n",
        "    digit = num % 10\n",
        "    reverse_num = reverse_num * 10 + digit\n",
        "    num //= 10\n",
        "\n",
        "if original_num == reverse_num:\n",
        "    print(f\"{original_num} is a palindrome!\")\n",
        "else:\n",
        "    print(f\"{original_num} is not a palindrome.\")\n"
      ],
      "metadata": {
        "colab": {
          "base_uri": "https://localhost:8080/"
        },
        "id": "XsrKZVYXxmaR",
        "outputId": "2b6c9469-f765-407b-b169-e9492e0f3089"
      },
      "execution_count": 31,
      "outputs": [
        {
          "output_type": "stream",
          "name": "stdout",
          "text": [
            "Enter a number: 1121\n",
            "1121 is not a palindrome.\n"
          ]
        }
      ]
    },
    {
      "cell_type": "code",
      "source": [
        "#Write a function that takes a list of strings and returns a single string containing all the words reversed but in the original order\n",
        "#(e.g., [\"hello\",\"world\"] should return \"olleh dlrow\").\n",
        "\n",
        "def reverse_words(words):\n",
        "    result = \"\"\n",
        "    for word in words:\n",
        "        result += word[::-1] + \" \"\n",
        "    return result.strip()\n",
        "\n",
        "\n",
        "words = [\"hello\", \"world\"]\n",
        "reversed_string = reverse_words(words)\n",
        "print(reversed_string)\n",
        ""
      ],
      "metadata": {
        "colab": {
          "base_uri": "https://localhost:8080/"
        },
        "id": "20bn0alwynHV",
        "outputId": "128348aa-aeec-4979-9d26-ede70e5d94a3"
      },
      "execution_count": 33,
      "outputs": [
        {
          "output_type": "stream",
          "name": "stdout",
          "text": [
            "olleh dlrow\n"
          ]
        }
      ]
    }
  ]
}