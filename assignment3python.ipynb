{
  "nbformat": 4,
  "nbformat_minor": 0,
  "metadata": {
    "colab": {
      "provenance": [],
      "authorship_tag": "ABX9TyOUBBFwlNftLyokNtDY5xxb",
      "include_colab_link": true
    },
    "kernelspec": {
      "name": "python3",
      "display_name": "Python 3"
    },
    "language_info": {
      "name": "python"
    }
  },
  "cells": [
    {
      "cell_type": "markdown",
      "metadata": {
        "id": "view-in-github",
        "colab_type": "text"
      },
      "source": [
        "<a href=\"https://colab.research.google.com/github/priyatanwar018/python-practicals/blob/main/assignment3python.ipynb\" target=\"_parent\"><img src=\"https://colab.research.google.com/assets/colab-badge.svg\" alt=\"Open In Colab\"/></a>"
      ]
    },
    {
      "cell_type": "code",
      "execution_count": null,
      "metadata": {
        "colab": {
          "base_uri": "https://localhost:8080/"
        },
        "id": "QwCmGn1nufmK",
        "outputId": "24f7ffe2-5150-47a9-8f27-b3ee947bda3e"
      },
      "outputs": [
        {
          "output_type": "stream",
          "name": "stdout",
          "text": [
            "5.0\n",
            "5\n"
          ]
        }
      ],
      "source": [
        "#perform division on two numbers and use floor division to get the integer result\n",
        "\n",
        "num1 = 10\n",
        "num2 = 2\n",
        "result = num1 / num2\n",
        "print(result)\n",
        "\n",
        "result_in_int = num1//num2\n",
        "print(result_in_int)"
      ]
    },
    {
      "cell_type": "code",
      "source": [
        "#compare two floating point numbers using == to check if they are approximately equal. Consider using round() for comparison\n",
        "\n",
        "x = 15.3\n",
        "y= 15.0\n",
        "rounded_x = round(x)\n",
        "rounded_y = round(y)\n",
        "\n",
        "print(rounded_x)\n",
        "print(rounded_y)\n",
        "\n",
        "rounded_x == rounded_y"
      ],
      "metadata": {
        "colab": {
          "base_uri": "https://localhost:8080/"
        },
        "id": "N-LvJVe4vliX",
        "outputId": "511baa57-299b-47e3-acbb-aaa066514af3"
      },
      "execution_count": null,
      "outputs": [
        {
          "output_type": "stream",
          "name": "stdout",
          "text": [
            "15\n",
            "15\n"
          ]
        },
        {
          "output_type": "execute_result",
          "data": {
            "text/plain": [
              "True"
            ]
          },
          "metadata": {},
          "execution_count": 8
        }
      ]
    },
    {
      "cell_type": "code",
      "source": [
        "#given two boolean variables, use and and or to determine all possible outcomes\n",
        "\n",
        "x = True\n",
        "y = False\n",
        "\n",
        "print(x and y)\n",
        "print(x or y)"
      ],
      "metadata": {
        "colab": {
          "base_uri": "https://localhost:8080/"
        },
        "id": "bNKFlAv8AR_8",
        "outputId": "225b21d7-cc6a-463f-8b65-1077aa7a16c5"
      },
      "execution_count": null,
      "outputs": [
        {
          "output_type": "stream",
          "name": "stdout",
          "text": [
            "False\n",
            "True\n"
          ]
        }
      ]
    },
    {
      "cell_type": "code",
      "source": [
        "#Use the bitwise OR(|) operator to combine two integer values\n",
        "\n",
        "x = 5\n",
        "y = 3\n",
        "result = x | y\n",
        "print(result)"
      ],
      "metadata": {
        "colab": {
          "base_uri": "https://localhost:8080/"
        },
        "id": "uYG4x3q6BLGK",
        "outputId": "7bb82e09-6eea-4e19-973a-5f549b0cd2f9"
      },
      "execution_count": null,
      "outputs": [
        {
          "output_type": "stream",
          "name": "stdout",
          "text": [
            "7\n"
          ]
        }
      ]
    },
    {
      "cell_type": "code",
      "source": [
        "#Conctenate two strings without using the + operator\n",
        "\n",
        "str1 = \"Hello\"\n",
        "str2 = \"World\"\n",
        "\" \".join([str1,str2])\n"
      ],
      "metadata": {
        "colab": {
          "base_uri": "https://localhost:8080/",
          "height": 35
        },
        "id": "Febl85IDBt6Y",
        "outputId": "d8eca842-d01b-435a-cbb7-40f7ddbc5059"
      },
      "execution_count": null,
      "outputs": [
        {
          "output_type": "execute_result",
          "data": {
            "text/plain": [
              "'Hello World'"
            ],
            "application/vnd.google.colaboratory.intrinsic+json": {
              "type": "string"
            }
          },
          "metadata": {},
          "execution_count": 17
        }
      ]
    },
    {
      "cell_type": "code",
      "source": [
        "#Format a string using f - strings to include variables within the string\n",
        "\n",
        "name = \"Alice\"\n",
        "age = 20\n",
        "print(f\"My name is {name} and I am {age} years old\")\n"
      ],
      "metadata": {
        "colab": {
          "base_uri": "https://localhost:8080/"
        },
        "id": "bDhWmuloDw1K",
        "outputId": "11627fca-7e2b-4aba-aa12-ba82a0cae8ea"
      },
      "execution_count": null,
      "outputs": [
        {
          "output_type": "stream",
          "name": "stdout",
          "text": [
            "My name is Alice and I am 20 years old\n"
          ]
        }
      ]
    },
    {
      "cell_type": "code",
      "source": [
        "#slice a string to extract the first three characters\n",
        "\n",
        "str1 = \"Hello\"\n",
        "str1[:3]"
      ],
      "metadata": {
        "colab": {
          "base_uri": "https://localhost:8080/",
          "height": 35
        },
        "id": "2KEOjr9RE391",
        "outputId": "00539f82-0698-4581-baee-b087a82e0525"
      },
      "execution_count": null,
      "outputs": [
        {
          "output_type": "execute_result",
          "data": {
            "text/plain": [
              "'Hel'"
            ],
            "application/vnd.google.colaboratory.intrinsic+json": {
              "type": "string"
            }
          },
          "metadata": {},
          "execution_count": 19
        }
      ]
    },
    {
      "cell_type": "code",
      "source": [
        "#Convert a string like \"123\" into an integer using int()\n",
        "\n",
        "str1 = \"1234\"\n",
        "str2 = int(str1)\n",
        "\n",
        "print(str2)\n",
        "print(type(str2))\n"
      ],
      "metadata": {
        "colab": {
          "base_uri": "https://localhost:8080/"
        },
        "id": "tu9r0QH2FM-u",
        "outputId": "1d0696e5-a98b-4e9d-c8af-a56654f69248"
      },
      "execution_count": null,
      "outputs": [
        {
          "output_type": "stream",
          "name": "stdout",
          "text": [
            "1234\n",
            "<class 'int'>\n"
          ]
        }
      ]
    },
    {
      "cell_type": "code",
      "source": [
        "#access the value of a key from a nested dictionary\n",
        "\n",
        "dict1 = {\"alphabets\":{\"a\":\"apple\",\"b\":\"ball\"},\"numbers\":{\"one\":1,\"two\":2}}\n",
        "print(dict1[\"alphabets\"])\n",
        "print(dict1[\"numbers\"])"
      ],
      "metadata": {
        "colab": {
          "base_uri": "https://localhost:8080/"
        },
        "id": "1bfERDKOFloh",
        "outputId": "6fd44126-4b67-4283-b327-6bec7a4ea8e9"
      },
      "execution_count": null,
      "outputs": [
        {
          "output_type": "stream",
          "name": "stdout",
          "text": [
            "{'a': 'apple', 'b': 'ball'}\n",
            "{'one': 1, 'two': 2}\n"
          ]
        }
      ]
    },
    {
      "cell_type": "code",
      "source": [
        "#access the last element of a list using negative indexing\n",
        "\n",
        "lst = [1,2,3,4,5,6]\n",
        "lst[-1]"
      ],
      "metadata": {
        "colab": {
          "base_uri": "https://localhost:8080/"
        },
        "id": "0hN_AIauGeOy",
        "outputId": "15aad378-69f8-41ec-a2b7-34508111ade1"
      },
      "execution_count": null,
      "outputs": [
        {
          "output_type": "execute_result",
          "data": {
            "text/plain": [
              "6"
            ]
          },
          "metadata": {},
          "execution_count": 27
        }
      ]
    },
    {
      "cell_type": "code",
      "source": [
        "#slice a list to get every second element from start to the end\n",
        "\n",
        "lst = [1,2,3,4,5,6]\n",
        "lst[::2]"
      ],
      "metadata": {
        "colab": {
          "base_uri": "https://localhost:8080/"
        },
        "id": "KF5qFjZmG5nO",
        "outputId": "b041447b-09ca-4105-bcf8-35c69429971a"
      },
      "execution_count": null,
      "outputs": [
        {
          "output_type": "execute_result",
          "data": {
            "text/plain": [
              "[1, 3, 5]"
            ]
          },
          "metadata": {},
          "execution_count": 28
        }
      ]
    },
    {
      "cell_type": "code",
      "source": [
        "#concatenate two lists using the + operator\n",
        "\n",
        "lst1 = [1,3,4]\n",
        "lst2 = [5,6,7]\n",
        "lst1 + lst2"
      ],
      "metadata": {
        "colab": {
          "base_uri": "https://localhost:8080/"
        },
        "id": "xiJkdSoRHLhE",
        "outputId": "bf0bcd45-b1f6-4c8a-c911-e6427cc1e07d"
      },
      "execution_count": null,
      "outputs": [
        {
          "output_type": "execute_result",
          "data": {
            "text/plain": [
              "[1, 3, 4, 5, 6, 7]"
            ]
          },
          "metadata": {},
          "execution_count": 29
        }
      ]
    },
    {
      "cell_type": "code",
      "source": [
        "#replicate the elements of list 3 times using the * operator\n",
        "\n",
        "lst1 = [1,3,4]\n",
        "lst1 * 3"
      ],
      "metadata": {
        "colab": {
          "base_uri": "https://localhost:8080/"
        },
        "id": "sChAm_LYHhvT",
        "outputId": "423c97d1-288b-4a47-a504-8b34f729eb03"
      },
      "execution_count": null,
      "outputs": [
        {
          "output_type": "execute_result",
          "data": {
            "text/plain": [
              "[1, 3, 4, 1, 3, 4, 1, 3, 4]"
            ]
          },
          "metadata": {},
          "execution_count": 30
        }
      ]
    },
    {
      "cell_type": "code",
      "source": [
        "#check if an element exists in the list using in operator\n",
        "\n",
        "lst1 = [1,3,4]\n",
        "print(2 in lst1)\n",
        "print(3 in lst1)"
      ],
      "metadata": {
        "colab": {
          "base_uri": "https://localhost:8080/"
        },
        "id": "rt_YpCLbH52m",
        "outputId": "dea94e35-59ad-412c-bb38-b07ef50f1618"
      },
      "execution_count": null,
      "outputs": [
        {
          "output_type": "stream",
          "name": "stdout",
          "text": [
            "False\n",
            "True\n"
          ]
        }
      ]
    },
    {
      "cell_type": "code",
      "source": [
        "#sort a list in ascending order using the sorted()\n",
        "\n",
        "lst = [1,48,4,38,84,748,75]\n",
        "sorted(lst, reverse = False)"
      ],
      "metadata": {
        "colab": {
          "base_uri": "https://localhost:8080/"
        },
        "id": "6cYNpMHaIP1I",
        "outputId": "e2fd7d66-78a6-4d8f-f873-af5e8d087593"
      },
      "execution_count": null,
      "outputs": [
        {
          "output_type": "execute_result",
          "data": {
            "text/plain": [
              "[1, 4, 38, 48, 75, 84, 748]"
            ]
          },
          "metadata": {},
          "execution_count": 32
        }
      ]
    },
    {
      "cell_type": "code",
      "source": [
        "#Retrieve the index of the first occurrence of a value in a list using the index method\n",
        "\n",
        "list1 = ['a','b','c','d','b']\n",
        "list1.index('b')"
      ],
      "metadata": {
        "colab": {
          "base_uri": "https://localhost:8080/"
        },
        "id": "OHgYay1_QTkm",
        "outputId": "81fb8001-941e-4369-f765-ff1bdc492f62"
      },
      "execution_count": null,
      "outputs": [
        {
          "output_type": "execute_result",
          "data": {
            "text/plain": [
              "1"
            ]
          },
          "metadata": {},
          "execution_count": 33
        }
      ]
    },
    {
      "cell_type": "code",
      "source": [
        "#Access a sublist by slicing from the second element to the fourth element(inclusive)\n",
        "\n",
        "lst = [1,23,45,7,6,5,4,32,4]\n",
        "lst[1:5]"
      ],
      "metadata": {
        "colab": {
          "base_uri": "https://localhost:8080/"
        },
        "id": "QY-QD7Qs-Opd",
        "outputId": "4bd6d411-80ca-4bee-e980-39faefff930a"
      },
      "execution_count": null,
      "outputs": [
        {
          "output_type": "execute_result",
          "data": {
            "text/plain": [
              "[23, 45, 7, 6]"
            ]
          },
          "metadata": {},
          "execution_count": 35
        }
      ]
    },
    {
      "cell_type": "code",
      "source": [
        "#determine the number of elements in a list using the len() function\n",
        "\n",
        "lst = [1,23,45,7,6,5,4,32,4]\n",
        "len(lst)"
      ],
      "metadata": {
        "colab": {
          "base_uri": "https://localhost:8080/"
        },
        "id": "Fh7P2PCI-sed",
        "outputId": "b28bc032-308a-481b-bc97-d18bc3dedbef"
      },
      "execution_count": null,
      "outputs": [
        {
          "output_type": "execute_result",
          "data": {
            "text/plain": [
              "9"
            ]
          },
          "metadata": {},
          "execution_count": 36
        }
      ]
    },
    {
      "cell_type": "code",
      "source": [
        "#combine multiple lists into a single list using list unpacking\n",
        "\n",
        "lst1 = [1,2,3]\n",
        "lst2 = [4,5,6]\n",
        "lst3 = [7,8,9]\n",
        "\n",
        "combined_list = [*lst1,*lst2,*lst3]\n",
        "print(combined_list)"
      ],
      "metadata": {
        "colab": {
          "base_uri": "https://localhost:8080/"
        },
        "id": "2Xy5OFb8_EIs",
        "outputId": "14023b44-86ca-4b12-ceb1-11066f51f3bf"
      },
      "execution_count": null,
      "outputs": [
        {
          "output_type": "stream",
          "name": "stdout",
          "text": [
            "[1, 2, 3, 4, 5, 6, 7, 8, 9]\n"
          ]
        }
      ]
    },
    {
      "cell_type": "code",
      "source": [
        "#create a tuple from a list using tuple()\n",
        "\n",
        "lst = [1,2,3,4,5]\n",
        "t = tuple(lst)\n",
        "print(t)"
      ],
      "metadata": {
        "colab": {
          "base_uri": "https://localhost:8080/"
        },
        "id": "h6pj2SGvAojt",
        "outputId": "822d0c77-fa5f-40a7-f718-46082982bcd7"
      },
      "execution_count": null,
      "outputs": [
        {
          "output_type": "stream",
          "name": "stdout",
          "text": [
            "(1, 2, 3, 4, 5)\n"
          ]
        }
      ]
    },
    {
      "cell_type": "code",
      "source": [
        "#access the third element in a tuple\n",
        "\n",
        "t = (1,2,3,4,5)\n",
        "t[2]"
      ],
      "metadata": {
        "colab": {
          "base_uri": "https://localhost:8080/"
        },
        "id": "icLhFiFGBZPq",
        "outputId": "e2831c98-6797-4d88-e1f6-a16c84bad8b1"
      },
      "execution_count": null,
      "outputs": [
        {
          "output_type": "execute_result",
          "data": {
            "text/plain": [
              "3"
            ]
          },
          "metadata": {},
          "execution_count": 40
        }
      ]
    },
    {
      "cell_type": "code",
      "source": [
        "#Replicate a tuple multiple times using * operator\n",
        "\n",
        "t = (1,2,3,4,5)\n",
        "t * 3"
      ],
      "metadata": {
        "colab": {
          "base_uri": "https://localhost:8080/"
        },
        "id": "DzaoHm4BBt_a",
        "outputId": "7063a87c-5317-4ec2-8828-90cc915138a0"
      },
      "execution_count": null,
      "outputs": [
        {
          "output_type": "execute_result",
          "data": {
            "text/plain": [
              "(1, 2, 3, 4, 5, 1, 2, 3, 4, 5, 1, 2, 3, 4, 5)"
            ]
          },
          "metadata": {},
          "execution_count": 41
        }
      ]
    },
    {
      "cell_type": "code",
      "source": [
        "#check if a value is present in tuple using in operator\n",
        "\n",
        "t = (1,2,3,4,5)\n",
        "print(2 in t)\n",
        "print(6 in t)"
      ],
      "metadata": {
        "colab": {
          "base_uri": "https://localhost:8080/"
        },
        "id": "o-TFLs1PCCv4",
        "outputId": "d0574cab-0e44-44ae-9ece-d4cf53d9326e"
      },
      "execution_count": null,
      "outputs": [
        {
          "output_type": "stream",
          "name": "stdout",
          "text": [
            "True\n",
            "False\n"
          ]
        }
      ]
    },
    {
      "cell_type": "code",
      "source": [
        "#Retrieve all keys from a dictionary using the keys() method\n",
        "\n",
        "dict1 = {'a': 1, 'b': 2, 'c': 3, 'd': 4}\n",
        "dict1.keys()"
      ],
      "metadata": {
        "colab": {
          "base_uri": "https://localhost:8080/"
        },
        "id": "nokgNFBDCZes",
        "outputId": "d42bf662-eed2-4f26-b7ad-14cd2faa2b96"
      },
      "execution_count": null,
      "outputs": [
        {
          "output_type": "execute_result",
          "data": {
            "text/plain": [
              "dict_keys(['a', 'b', 'c', 'd'])"
            ]
          },
          "metadata": {},
          "execution_count": 43
        }
      ]
    },
    {
      "cell_type": "code",
      "source": [
        "#retrieve all the values from dictionary using the values() method\n",
        "\n",
        "dict1 = {'a': 1, 'b': 2, 'c': 3, 'd': 4}\n",
        "dict1.values()\n"
      ],
      "metadata": {
        "colab": {
          "base_uri": "https://localhost:8080/"
        },
        "id": "m3KWoblNCzr5",
        "outputId": "1e3a9188-38dc-4e91-b443-5984e814c9c0"
      },
      "execution_count": null,
      "outputs": [
        {
          "output_type": "execute_result",
          "data": {
            "text/plain": [
              "dict_values([1, 2, 3, 4])"
            ]
          },
          "metadata": {},
          "execution_count": 45
        }
      ]
    },
    {
      "cell_type": "code",
      "source": [
        "#update the value of a key in a dictionary using the assignment\n",
        "\n",
        "dict1 = {'a': 1, 'b': 2, 'c': 3, 'd': 4}\n",
        "dict1['a'] = 10\n",
        "print(dict1)"
      ],
      "metadata": {
        "colab": {
          "base_uri": "https://localhost:8080/"
        },
        "id": "MSvpL-qVDIUS",
        "outputId": "7e666846-2e84-483a-f75f-de5978d405a5"
      },
      "execution_count": null,
      "outputs": [
        {
          "output_type": "stream",
          "name": "stdout",
          "text": [
            "{'a': 10, 'b': 2, 'c': 3, 'd': 4}\n"
          ]
        }
      ]
    },
    {
      "cell_type": "code",
      "source": [
        "#subtract two numbers and then raise the result to the power of three using the ** operator\n",
        "\n",
        "x = 10\n",
        "y = 5\n",
        "z = x - y\n",
        "print(z)\n",
        "print(z**3)"
      ],
      "metadata": {
        "colab": {
          "base_uri": "https://localhost:8080/"
        },
        "id": "_jOMzIEDDjJt",
        "outputId": "0cc80610-9b86-41cf-dc5c-25f0fe2cb831"
      },
      "execution_count": null,
      "outputs": [
        {
          "output_type": "stream",
          "name": "stdout",
          "text": [
            "5\n",
            "125\n"
          ]
        }
      ]
    },
    {
      "cell_type": "code",
      "source": [
        "#given two strings, check if one string is greater than the other using the > operator\n",
        "\n",
        "str1 = \"hello\"\n",
        "str2 = \"Hey\"\n",
        "str1 > str2"
      ],
      "metadata": {
        "colab": {
          "base_uri": "https://localhost:8080/"
        },
        "id": "jOInCpHQD_OH",
        "outputId": "ab5e096a-42da-4e3d-8b10-ee8e74d26d0d"
      },
      "execution_count": null,
      "outputs": [
        {
          "output_type": "execute_result",
          "data": {
            "text/plain": [
              "True"
            ]
          },
          "metadata": {},
          "execution_count": 48
        }
      ]
    },
    {
      "cell_type": "code",
      "source": [
        "#combine three conditions using and, or, and not to evaluate whether a specific combination of boolean is true\n",
        "\n",
        "x = True\n",
        "y = False\n",
        "\n",
        "print(x and y)\n",
        "print(x or y)\n",
        "print(not x)\n",
        "print(not y)"
      ],
      "metadata": {
        "colab": {
          "base_uri": "https://localhost:8080/"
        },
        "id": "G_4Y97nrEb8l",
        "outputId": "36787158-1bd4-4807-f394-355f07c74503"
      },
      "execution_count": null,
      "outputs": [
        {
          "output_type": "stream",
          "name": "stdout",
          "text": [
            "False\n",
            "True\n",
            "False\n",
            "True\n"
          ]
        }
      ]
    },
    {
      "cell_type": "code",
      "source": [
        "#create a dictionary and use all the built in functions\n",
        "\n",
        "dict1 = {'a': 1, 'b': 2, 'c': 3, 'd': 4}\n",
        "dict2 = {'e': 5, 'f': 6}\n",
        "\n",
        "print(len(dict1))\n",
        "print(len(dict2))\n",
        "\n",
        "print(dict1.get('e',['invalid key']))\n",
        "\n",
        "print(dict1.keys())\n",
        "\n",
        "print(dict1.values())\n",
        "\n",
        "print(dict1.items())\n",
        "\n",
        "print(dict1.update(dict2))\n",
        "print(dict1)\n",
        "\n",
        "print(dict1.pop('a'))\n",
        "print(dict1)\n",
        "\n",
        "print(dict1.clear())\n",
        "print(dict1)\n"
      ],
      "metadata": {
        "colab": {
          "base_uri": "https://localhost:8080/"
        },
        "id": "Rk9sMtBaFDZr",
        "outputId": "b768cb90-0bb7-437b-d399-927956449f61"
      },
      "execution_count": null,
      "outputs": [
        {
          "output_type": "stream",
          "name": "stdout",
          "text": [
            "4\n",
            "2\n",
            "['invalid key']\n",
            "dict_keys(['a', 'b', 'c', 'd'])\n",
            "dict_values([1, 2, 3, 4])\n",
            "dict_items([('a', 1), ('b', 2), ('c', 3), ('d', 4)])\n",
            "None\n",
            "{'a': 1, 'b': 2, 'c': 3, 'd': 4, 'e': 5, 'f': 6}\n",
            "1\n",
            "{'b': 2, 'c': 3, 'd': 4, 'e': 5, 'f': 6}\n",
            "None\n",
            "{}\n"
          ]
        }
      ]
    },
    {
      "cell_type": "code",
      "source": [],
      "metadata": {
        "id": "wiZDBgl9Hi32"
      },
      "execution_count": null,
      "outputs": []
    }
  ]
}