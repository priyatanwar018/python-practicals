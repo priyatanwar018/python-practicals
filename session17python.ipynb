{
  "nbformat": 4,
  "nbformat_minor": 0,
  "metadata": {
    "colab": {
      "provenance": [],
      "authorship_tag": "ABX9TyNNk4LsQVWgO1cXePhlyqzU",
      "include_colab_link": true
    },
    "kernelspec": {
      "name": "python3",
      "display_name": "Python 3"
    },
    "language_info": {
      "name": "python"
    }
  },
  "cells": [
    {
      "cell_type": "markdown",
      "metadata": {
        "id": "view-in-github",
        "colab_type": "text"
      },
      "source": [
        "<a href=\"https://colab.research.google.com/github/priyatanwar018/python-practicals/blob/main/session17python.ipynb\" target=\"_parent\"><img src=\"https://colab.research.google.com/assets/colab-badge.svg\" alt=\"Open In Colab\"/></a>"
      ]
    },
    {
      "cell_type": "code",
      "source": [
        "class Animal:\n",
        "  def __init__(self,name,species):\n",
        "    self.name = name\n",
        "    self.species = species\n",
        "\n",
        "  def print_info(self):\n",
        "    print(f\"Name: {name}, Species: {species}\")\n",
        "\n",
        "\n",
        "class Dog(Animal):\n",
        "  def __init__(self,name,species,breed):\n",
        "    super().__init__(name,species)\n",
        "    self.breed = breed\n",
        "\n",
        "  def sound(self):\n",
        "    return \"Woof\"\n",
        "\n",
        "my_pet1 = Dog(name = \"Daisy\", species = \"Dog\", breed = \"Labrador\")\n"
      ],
      "metadata": {
        "id": "JDwsOZ3PScw4"
      },
      "execution_count": 5,
      "outputs": []
    },
    {
      "cell_type": "code",
      "source": [
        "print(my_pet1.name)\n",
        "print(my_pet1.species)\n",
        "print(my_pet1.breed)\n",
        "print(my_pet1.sound())"
      ],
      "metadata": {
        "colab": {
          "base_uri": "https://localhost:8080/"
        },
        "id": "bz3EZq3TY4Z9",
        "outputId": "6c4e63a5-c415-4273-e02d-1716c566926c"
      },
      "execution_count": 6,
      "outputs": [
        {
          "output_type": "stream",
          "name": "stdout",
          "text": [
            "Daisy\n",
            "Dog\n",
            "Labrador\n",
            "Woof\n"
          ]
        }
      ]
    },
    {
      "cell_type": "code",
      "source": [
        "#encapsulation\n",
        "#class methods or attributes will be limited to class\n",
        "#private attributes and methods\n",
        "\n",
        "class Person:\n",
        "  def __init__(self,name,age):\n",
        "    self.__name = name\n",
        "    self.__age = age\n",
        "\n",
        "#getter\n",
        "  def get_name(self):\n",
        "    return self.__name\n",
        "\n",
        "  #setter\n",
        "  def set_name(self,name):\n",
        "    self.__name = name\n",
        "\n",
        "  def get_age(self):\n",
        "    return self.__age\n",
        "\n",
        "  def set_age(self,age):\n",
        "    self.__age = age"
      ],
      "metadata": {
        "id": "TBslQiFSai_A"
      },
      "execution_count": 8,
      "outputs": []
    },
    {
      "cell_type": "code",
      "source": [
        "obj = Person(\"John\", 25)\n",
        "#getter\n",
        "print(obj.get_name())\n",
        "print(obj.get_age())"
      ],
      "metadata": {
        "colab": {
          "base_uri": "https://localhost:8080/"
        },
        "id": "iBGP1b7GbSrC",
        "outputId": "b7a5beb2-baae-4cb7-839b-2e78417df207"
      },
      "execution_count": 9,
      "outputs": [
        {
          "output_type": "stream",
          "name": "stdout",
          "text": [
            "John\n",
            "25\n"
          ]
        }
      ]
    },
    {
      "cell_type": "code",
      "source": [
        "#setter\n",
        "print(obj.set_name(\"Jane\"))\n",
        "print(obj.set_age(30))"
      ],
      "metadata": {
        "colab": {
          "base_uri": "https://localhost:8080/"
        },
        "id": "NUWZZCZWdWSZ",
        "outputId": "b3474b8e-4c1d-43b4-ccf4-deb4110aeef0"
      },
      "execution_count": 10,
      "outputs": [
        {
          "output_type": "stream",
          "name": "stdout",
          "text": [
            "None\n",
            "None\n"
          ]
        }
      ]
    },
    {
      "cell_type": "code",
      "source": [
        "print(obj.get_name())\n",
        "print(obj.get_age())"
      ],
      "metadata": {
        "colab": {
          "base_uri": "https://localhost:8080/"
        },
        "id": "JNpC_C1OdmQt",
        "outputId": "228871bb-f3a6-4e9e-b59a-678d7bb4d5ac"
      },
      "execution_count": 11,
      "outputs": [
        {
          "output_type": "stream",
          "name": "stdout",
          "text": [
            "Jane\n",
            "30\n"
          ]
        }
      ]
    },
    {
      "cell_type": "code",
      "source": [
        "class Rectangle:\n",
        "  def __init__(self,length,width):\n",
        "    self.__length = length\n",
        "    self.__width = width\n",
        "\n",
        "#getter\n",
        "  def get_length(self):\n",
        "    return self.__length\n",
        "\n",
        "  def get_width(self):\n",
        "    return self.__width\n",
        "\n",
        "  #setter\n",
        "  def set_length(self,length):\n",
        "    self.__length = length\n",
        "\n",
        "  def set_width(self,width):\n",
        "    self.__width = width"
      ],
      "metadata": {
        "id": "050YyDlddu3B"
      },
      "execution_count": 14,
      "outputs": []
    },
    {
      "cell_type": "code",
      "source": [
        "rectangle1 = Rectangle(5,10)\n",
        "print(rectangle1.get_length())\n",
        "print(rectangle1.get_width())"
      ],
      "metadata": {
        "colab": {
          "base_uri": "https://localhost:8080/"
        },
        "id": "B8J2LZ1ohgz-",
        "outputId": "d6be891c-b2a9-4a47-fa4c-f557ccaf641d"
      },
      "execution_count": 15,
      "outputs": [
        {
          "output_type": "stream",
          "name": "stdout",
          "text": [
            "5\n",
            "10\n"
          ]
        }
      ]
    },
    {
      "cell_type": "code",
      "source": [
        "rectangle1.set_length(10)\n",
        "rectangle1.set_width(20)"
      ],
      "metadata": {
        "id": "u-fbbgbFh4Fb"
      },
      "execution_count": 17,
      "outputs": []
    },
    {
      "cell_type": "code",
      "source": [
        "print(rectangle1.get_length())\n",
        "print(rectangle1.get_width())"
      ],
      "metadata": {
        "colab": {
          "base_uri": "https://localhost:8080/"
        },
        "id": "k-kMfkIsiC6Q",
        "outputId": "a0f9c551-0f9a-4116-bb7c-e039d0bf177e"
      },
      "execution_count": 18,
      "outputs": [
        {
          "output_type": "stream",
          "name": "stdout",
          "text": [
            "10\n",
            "20\n"
          ]
        }
      ]
    },
    {
      "cell_type": "code",
      "source": [
        "#polymorphism\n",
        "#super class\n",
        "#base classes\n",
        "#different classes can now share the same method(superclass)\n",
        "\n",
        "\n",
        "class Shape:\n",
        "  def area(self):\n",
        "    raise NOtImplementedError(\"Subclass must implement this method\")\n",
        "\n",
        "#Sub class 1\n",
        "class Circle(Shape):\n",
        "  def __init__(self,radius):\n",
        "    self.radius = radius\n",
        "\n",
        "  def area(self):\n",
        "    return 3.14 * (self.radius ** 2)\n",
        "\n",
        "#Sub class 2\n",
        "class Square(Shape):\n",
        "  def __init__(self,length):\n",
        "    self.length = length\n",
        "\n",
        "  def area(self):\n",
        "    return (self.length ** 2)"
      ],
      "metadata": {
        "id": "GkOVbyxdiNc2"
      },
      "execution_count": 34,
      "outputs": []
    },
    {
      "cell_type": "code",
      "source": [
        "def print_area(shape):\n",
        "  print(\"Area: \", shape.area())"
      ],
      "metadata": {
        "id": "h80KZnoClWzj"
      },
      "execution_count": 22,
      "outputs": []
    },
    {
      "cell_type": "code",
      "source": [
        "circle = Circle(5)\n",
        "print_area(circle)"
      ],
      "metadata": {
        "colab": {
          "base_uri": "https://localhost:8080/"
        },
        "id": "tGmoihwEmrWE",
        "outputId": "a5ff84ec-fa35-4967-a820-d4b3183f5534"
      },
      "execution_count": 28,
      "outputs": [
        {
          "output_type": "stream",
          "name": "stdout",
          "text": [
            "Area:  78.5\n"
          ]
        }
      ]
    },
    {
      "cell_type": "code",
      "source": [
        "square = Square(10)\n",
        "print_area(square)"
      ],
      "metadata": {
        "colab": {
          "base_uri": "https://localhost:8080/"
        },
        "id": "TsqSRPCcmzyM",
        "outputId": "20776e0e-972f-4689-a008-cf252efdcad0"
      },
      "execution_count": 35,
      "outputs": [
        {
          "output_type": "stream",
          "name": "stdout",
          "text": [
            "Area:  100\n"
          ]
        }
      ]
    },
    {
      "cell_type": "code",
      "source": [],
      "metadata": {
        "id": "6Tb22MEum8Dk"
      },
      "execution_count": null,
      "outputs": []
    }
  ]
}