{
  "nbformat": 4,
  "nbformat_minor": 0,
  "metadata": {
    "colab": {
      "provenance": [],
      "authorship_tag": "ABX9TyPi8/nMLsfKLWw/PSa8MNke",
      "include_colab_link": true
    },
    "kernelspec": {
      "name": "python3",
      "display_name": "Python 3"
    },
    "language_info": {
      "name": "python"
    }
  },
  "cells": [
    {
      "cell_type": "markdown",
      "metadata": {
        "id": "view-in-github",
        "colab_type": "text"
      },
      "source": [
        "<a href=\"https://colab.research.google.com/github/priyatanwar018/python-practicals/blob/main/Class%26Object_assignment.ipynb\" target=\"_parent\"><img src=\"https://colab.research.google.com/assets/colab-badge.svg\" alt=\"Open In Colab\"/></a>"
      ]
    },
    {
      "cell_type": "code",
      "execution_count": 1,
      "metadata": {
        "id": "31S3nuBVhz5i"
      },
      "outputs": [],
      "source": [
        "#Create a class Car with attributes make, model, and year. Implement a method that prints the car's description.\n",
        "\n",
        "class Car:\n",
        "  def __init__(self,make,model,year):\n",
        "    self.make = make\n",
        "    self.model = model\n",
        "    self.year = year\n",
        "\n",
        "  def get_description(self):\n",
        "    description = (f\"{self.make},{self.model}, {self.year}\")\n",
        "    print(description)"
      ]
    },
    {
      "cell_type": "code",
      "source": [
        "my_car = Car(\"Toyota\",\"Camry\",2023)\n"
      ],
      "metadata": {
        "colab": {
          "base_uri": "https://localhost:8080/"
        },
        "id": "-jDpBxjfi5hn",
        "outputId": "23fae32c-61ba-46e2-ca40-7344b9225523"
      },
      "execution_count": 3,
      "outputs": [
        {
          "output_type": "stream",
          "name": "stdout",
          "text": [
            "Toyota,Camry, 2023\n"
          ]
        }
      ]
    },
    {
      "cell_type": "code",
      "source": [
        "get_description = my_car.get_description()"
      ],
      "metadata": {
        "colab": {
          "base_uri": "https://localhost:8080/"
        },
        "id": "irOYT9QEjVfm",
        "outputId": "3eb4a2a7-8e81-40ad-9640-395c46084c53"
      },
      "execution_count": 4,
      "outputs": [
        {
          "output_type": "stream",
          "name": "stdout",
          "text": [
            "Toyota,Camry, 2023\n"
          ]
        }
      ]
    },
    {
      "cell_type": "code",
      "source": [
        "#Define a class Rectangle with attributes width and height. Add methods to calculate and return the area and perimeter of the rectangle.\n",
        "\n",
        "class Rectangle:\n",
        "  def __init__(self,width,height):\n",
        "    self.width = width\n",
        "    self.height = height\n",
        "\n",
        "  def get_area(self):\n",
        "    area = self.width * self.height\n",
        "    return area\n",
        "\n",
        "  def get_perimeter(self):\n",
        "    perimeter = 2 * (self.width + self.height)\n",
        "    return perimeter"
      ],
      "metadata": {
        "id": "qfFpXf92jZLx"
      },
      "execution_count": 6,
      "outputs": []
    },
    {
      "cell_type": "code",
      "source": [
        "rec1 = Rectangle(5,10)\n",
        "print(rec1.get_area())\n",
        "print(rec1.get_perimeter())"
      ],
      "metadata": {
        "colab": {
          "base_uri": "https://localhost:8080/"
        },
        "id": "VaPqvtW0j7a5",
        "outputId": "9f577605-f836-40db-cb1c-5097440f6dfa"
      },
      "execution_count": 9,
      "outputs": [
        {
          "output_type": "stream",
          "name": "stdout",
          "text": [
            "50\n",
            "30\n"
          ]
        }
      ]
    },
    {
      "cell_type": "code",
      "source": [
        "#Create a class Person with attributes name and age. Add a method celebrate_birthday that increases the age by 1.\n",
        "\n",
        "class Person:\n",
        "  def __init__(self,name,age):\n",
        "    self.name = name\n",
        "    self.age = age\n",
        "\n",
        "  def celebrate_birthday(self):\n",
        "    self.age += 1\n",
        "    print(f\"Happy Birthday {self.name}! You are now {self.age} years old.\")"
      ],
      "metadata": {
        "id": "3ju68S4jkgB9"
      },
      "execution_count": 11,
      "outputs": []
    },
    {
      "cell_type": "code",
      "source": [
        "person1 = Person(\"John\", 30)"
      ],
      "metadata": {
        "id": "rrUCOZ0QlBBD"
      },
      "execution_count": 13,
      "outputs": []
    },
    {
      "cell_type": "code",
      "source": [
        "person1.celebrate_birthday()"
      ],
      "metadata": {
        "colab": {
          "base_uri": "https://localhost:8080/"
        },
        "id": "74qPaqWYli6N",
        "outputId": "ce4e6c44-74f6-46f5-cb33-fa17b5de169c"
      },
      "execution_count": 14,
      "outputs": [
        {
          "output_type": "stream",
          "name": "stdout",
          "text": [
            "Happy Birthday John! You are now 31 years old.\n"
          ]
        }
      ]
    },
    {
      "cell_type": "code",
      "source": [
        "#Implement a class BankAccount with methods to deposit, withdraw, and check the balance. Ensure that the balance cannot go below zero.\n",
        "\n",
        "class BankAccount:\n",
        "  def __init__(self,balance):\n",
        "    self.balance = balance\n",
        "\n",
        "  def deposit(self,amount):\n",
        "    self.balance += amount\n",
        "    print(f\"Deposited: Rs{amount}, New Balance: Rs{self.balance}\")\n",
        "\n",
        "  def withdraw(self,amount):\n",
        "    if amount <= self.balance:\n",
        "      self.balance -= amount\n",
        "      print(f\"Withdrew: Rs{amount}, New Balance: Rs{self.balance}\")\n",
        "\n",
        "    else:\n",
        "      print(\"Insufficient Balance\")\n",
        "\n",
        "  def check_balance(self):\n",
        "      print(f\"Current Balance: Rs{self.balance}\")"
      ],
      "metadata": {
        "id": "UafwVr8elqzO"
      },
      "execution_count": 22,
      "outputs": []
    },
    {
      "cell_type": "code",
      "source": [
        "account1 = BankAccount(1500)"
      ],
      "metadata": {
        "id": "LaqrudBGm_Yb"
      },
      "execution_count": 23,
      "outputs": []
    },
    {
      "cell_type": "code",
      "source": [
        "account1.deposit(1000)\n",
        "account1.withdraw(500)\n",
        "account1.check_balance()"
      ],
      "metadata": {
        "colab": {
          "base_uri": "https://localhost:8080/"
        },
        "id": "gFfNgC9jnIhh",
        "outputId": "26f1ce7c-dedb-4272-941a-f0454e72c1a7"
      },
      "execution_count": 24,
      "outputs": [
        {
          "output_type": "stream",
          "name": "stdout",
          "text": [
            "Deposited: Rs1000, New Balance: Rs2500\n",
            "Withdrew: Rs500, New Balance: Rs2000\n",
            "Current Balance: Rs2000\n"
          ]
        }
      ]
    },
    {
      "cell_type": "code",
      "source": [
        "#Define a class Circle with an attribute radius. Add a method to calculate the circumference and area of the circle.\n",
        "\n",
        "class Circle:\n",
        "  def __init__(self,radius):\n",
        "    self.radius = radius\n",
        "\n",
        "  def get_circumference(self):\n",
        "    circumference = 2 * 3.14 * self.radius\n",
        "    return (\"{:.2f}\".format(circumference))\n",
        "\n",
        "  def get_area(self):\n",
        "    area = 3.14 * (self.radius ** 2)\n",
        "    return area"
      ],
      "metadata": {
        "id": "MvKWGnornXf5"
      },
      "execution_count": 33,
      "outputs": []
    },
    {
      "cell_type": "code",
      "source": [
        "circle = Circle(5)"
      ],
      "metadata": {
        "id": "hJ8oNdQ2ocSj"
      },
      "execution_count": 34,
      "outputs": []
    },
    {
      "cell_type": "code",
      "source": [
        "print(circle.get_circumference())\n",
        "print(circle.get_area())"
      ],
      "metadata": {
        "colab": {
          "base_uri": "https://localhost:8080/"
        },
        "id": "d7BnmItkogJe",
        "outputId": "00a7c376-c743-4bdd-9d6a-84ca7d184adf"
      },
      "execution_count": 35,
      "outputs": [
        {
          "output_type": "stream",
          "name": "stdout",
          "text": [
            "31.40\n",
            "78.5\n"
          ]
        }
      ]
    },
    {
      "cell_type": "code",
      "source": [
        "#Create a class Animal with a method make_sound. Derive two subclasses, Dog and Cat, each with a specific sound implemented.\n",
        "\n",
        "class Animal:\n",
        "  def __init__(self,sound):\n",
        "    self.sound = sound\n",
        "\n",
        "  def make_sound(self):\n",
        "    print(self.sound)\n",
        "    return\n",
        "\n",
        "\n",
        "class Dog(Animal):\n",
        "  def __init__(self):\n",
        "    super().__init__(\"Bark\")\n",
        "\n",
        "\n",
        "\n",
        "\n",
        "class Cat(Animal):\n",
        "  def __init__(self):\n",
        "    super().__init__(\"Meow\")\n",
        "\n",
        "\n"
      ],
      "metadata": {
        "id": "1sA8rrw2olvY"
      },
      "execution_count": 39,
      "outputs": []
    },
    {
      "cell_type": "code",
      "source": [
        "dog = Dog()\n",
        "dog.make_sound()"
      ],
      "metadata": {
        "colab": {
          "base_uri": "https://localhost:8080/"
        },
        "id": "wf5qz4_drD5x",
        "outputId": "bee56d7c-a5fd-43f1-9b78-286b284e2a2d"
      },
      "execution_count": 40,
      "outputs": [
        {
          "output_type": "stream",
          "name": "stdout",
          "text": [
            "Bark\n"
          ]
        }
      ]
    },
    {
      "cell_type": "code",
      "source": [
        "cat = Cat()\n",
        "cat.make_sound()"
      ],
      "metadata": {
        "colab": {
          "base_uri": "https://localhost:8080/"
        },
        "id": "3I5EevuJruGy",
        "outputId": "edb384e7-10ca-4038-c30d-71a06a6fb3f8"
      },
      "execution_count": 41,
      "outputs": [
        {
          "output_type": "stream",
          "name": "stdout",
          "text": [
            "Meow\n"
          ]
        }
      ]
    },
    {
      "cell_type": "code",
      "source": [
        "#Design a class Student with attributes name and grades. Implement methods to add a grade and compute the average grade.\n",
        "\n",
        "class Student:\n",
        "  def __init__(self,name,grades):\n",
        "    self.name = name\n",
        "    self.grades = grades\n",
        "\n",
        "  def add_grade(self,grade):\n",
        "    self.grades.append(grade)\n",
        "    return self.grades\n",
        "\n",
        "  def compute_average(self):\n",
        "    total = sum(self.grades)\n",
        "    average = total/len(self.grades)\n",
        "    return \"{:.2f}\".format(average)"
      ],
      "metadata": {
        "id": "Eam5iw38sBgW"
      },
      "execution_count": 51,
      "outputs": []
    },
    {
      "cell_type": "code",
      "source": [
        "student = Student(\"Jay\",[80,90,75])"
      ],
      "metadata": {
        "id": "OwL13TXys1Iu"
      },
      "execution_count": 52,
      "outputs": []
    },
    {
      "cell_type": "code",
      "source": [
        "print(student.compute_average())\n",
        "print(student.add_grade(85))\n",
        "print(student.compute_average())"
      ],
      "metadata": {
        "colab": {
          "base_uri": "https://localhost:8080/"
        },
        "id": "SQvto1Rks-iD",
        "outputId": "dbbbc29e-794f-4e99-ee9e-02538b375a0e"
      },
      "execution_count": 53,
      "outputs": [
        {
          "output_type": "stream",
          "name": "stdout",
          "text": [
            "81.67\n",
            "[80, 90, 75, 85]\n",
            "82.50\n"
          ]
        }
      ]
    },
    {
      "cell_type": "code",
      "source": [
        "#Write a class Book with attributes title, author, and pages. Implement a method to display the book’s details.\n",
        "\n",
        "class Book:\n",
        "  def __init__(self,title,author,pages):\n",
        "    self.title = title\n",
        "    self.author = author\n",
        "    self.pages = pages\n",
        "\n",
        "  def display_details(self):\n",
        "    print(f\"Title: {self.title}\")\n",
        "    print(f\"Author: {self.author}\")\n",
        "    print(f\"Pages: {self.pages}\")"
      ],
      "metadata": {
        "id": "qSvXOduptQXK"
      },
      "execution_count": 54,
      "outputs": []
    },
    {
      "cell_type": "code",
      "source": [
        "book = Book(\"The Alchemist\",\"Paulo Coelho\",200)"
      ],
      "metadata": {
        "id": "Upq2n8K4uo-9"
      },
      "execution_count": 55,
      "outputs": []
    },
    {
      "cell_type": "code",
      "source": [
        "book.display_details()"
      ],
      "metadata": {
        "colab": {
          "base_uri": "https://localhost:8080/"
        },
        "id": "GBqOR_RTuve5",
        "outputId": "f8263b29-945a-4db6-a162-16ee2a983ccc"
      },
      "execution_count": 56,
      "outputs": [
        {
          "output_type": "stream",
          "name": "stdout",
          "text": [
            "Title: The Alchemist\n",
            "Author: Paulo Coelho\n",
            "Pages: 200\n"
          ]
        }
      ]
    },
    {
      "cell_type": "code",
      "source": [
        "#Define a class Employee with attributes name, salary, and position. Implement a method to give a raise based on a percentage.\n",
        "\n",
        "class Employee:\n",
        "  def __init__(self,name,salary,position):\n",
        "    self.name = name\n",
        "    self.salary = salary\n",
        "    self.position = position\n",
        "\n",
        "  def give_raise(self,percentage):\n",
        "    self.salary = self.salary * (1 + percentage/100)\n",
        "    return f\"New Salary: Rs{self.salary}\""
      ],
      "metadata": {
        "id": "yZa-gQOXuzeg"
      },
      "execution_count": 57,
      "outputs": []
    },
    {
      "cell_type": "code",
      "source": [
        "employee = Employee(\"John\",50000,\"Manager\")"
      ],
      "metadata": {
        "id": "QHR74dBDvnWO"
      },
      "execution_count": 58,
      "outputs": []
    },
    {
      "cell_type": "code",
      "source": [
        "employee.give_raise(10)"
      ],
      "metadata": {
        "colab": {
          "base_uri": "https://localhost:8080/",
          "height": 55
        },
        "id": "WFokcU9jvsTc",
        "outputId": "483754ec-88a8-4219-838a-6aeca7ee13ae"
      },
      "execution_count": 62,
      "outputs": [
        {
          "output_type": "execute_result",
          "data": {
            "text/plain": [
              "'New Salary: Rs58905.00000000001'"
            ],
            "application/vnd.google.colaboratory.intrinsic+json": {
              "type": "string"
            }
          },
          "metadata": {},
          "execution_count": 62
        }
      ]
    },
    {
      "cell_type": "code",
      "source": [
        "#Create a class Shape with a method area that is meant to be overridden by subclasses. Derive Triangle and Square classes and implement area in each.\n",
        "\n",
        "class Shape:\n",
        "  def __init__(self,side):\n",
        "    self.side = side\n",
        "\n",
        "  def area(self):\n",
        "    raise NotIplementedError(\"subclasses must implement this method\")\n",
        "\n",
        "class Triangle(Shape):\n",
        "  def __init__(self,base,height):\n",
        "    super().__init__(self)\n",
        "    self.base = base\n",
        "    self.height = height\n",
        "\n",
        "  def area(self):\n",
        "      area = 0.5 * self.base * self.height\n",
        "      return area\n",
        "\n",
        "class Square(Shape):\n",
        "  def __init__(self,side):\n",
        "    super().__init__(self)\n",
        "    self.side = side\n",
        "\n",
        "  def area(self):\n",
        "    area = self.side ** 2\n",
        "    return area\n"
      ],
      "metadata": {
        "id": "b7bwfxZgvzTl"
      },
      "execution_count": 74,
      "outputs": []
    },
    {
      "cell_type": "code",
      "source": [
        "triangle = Triangle(5,10)\n",
        "print(triangle.area())"
      ],
      "metadata": {
        "colab": {
          "base_uri": "https://localhost:8080/"
        },
        "id": "WQyZEd0bwgwm",
        "outputId": "090d9dfc-674d-48e0-b8af-081d93f8e34b"
      },
      "execution_count": 75,
      "outputs": [
        {
          "output_type": "stream",
          "name": "stdout",
          "text": [
            "25.0\n"
          ]
        }
      ]
    },
    {
      "cell_type": "code",
      "source": [
        "square = Square(5)\n",
        "print(square.area())"
      ],
      "metadata": {
        "colab": {
          "base_uri": "https://localhost:8080/"
        },
        "id": "8RmDhQh3yVP4",
        "outputId": "26d90222-488d-416b-ff59-2838fb9b98b4"
      },
      "execution_count": 76,
      "outputs": [
        {
          "output_type": "stream",
          "name": "stdout",
          "text": [
            "25\n"
          ]
        }
      ]
    },
    {
      "cell_type": "code",
      "source": [
        "from re import T\n",
        "#Implement a class Movie with attributes title, director, and rating. Add a method to update the rating.\n",
        "\n",
        "class Movie:\n",
        "  def __init__(self,title,director,rating):\n",
        "    self.title = title\n",
        "    self.director = director\n",
        "    self.rating = rating\n",
        "\n",
        "  def update_rating(self,new_rating):\n",
        "    self.rating = new_rating\n",
        "    print(f\"Title: {self.title}\")\n",
        "    print(f\"Director: {self.director}\")\n",
        "    print(f\"Rating: {self.rating}\")\n",
        "    return"
      ],
      "metadata": {
        "id": "QHyrsLSzy_yi"
      },
      "execution_count": 83,
      "outputs": []
    },
    {
      "cell_type": "code",
      "source": [
        "movie = Movie(\"The Matrix\",\"The Wachowskis\",4.5)"
      ],
      "metadata": {
        "id": "a_ipoX8MznJC"
      },
      "execution_count": 84,
      "outputs": []
    },
    {
      "cell_type": "code",
      "source": [
        "movie.update_rating(5)"
      ],
      "metadata": {
        "colab": {
          "base_uri": "https://localhost:8080/"
        },
        "id": "mV6TKuOZzreQ",
        "outputId": "a4079931-deba-4029-b07c-8a6ac6bade91"
      },
      "execution_count": 85,
      "outputs": [
        {
          "output_type": "stream",
          "name": "stdout",
          "text": [
            "Title: The Matrix\n",
            "Director: The Wachowskis\n",
            "Rating: 5\n"
          ]
        }
      ]
    },
    {
      "cell_type": "code",
      "source": [
        "#Define a class Stack that implements a simple stack with push and pop methods. Ensure that pop doesn’t throw an error if the stack is empty.\n",
        "\n",
        "class Stack:\n",
        "  def __init__(self,*items):\n",
        "    self.items = list(items)\n",
        "\n",
        "  def push(self,item):\n",
        "    self.items.append(item)\n",
        "    return\n",
        "\n",
        "  def pop(self):\n",
        "    if len(self.items) == 0:\n",
        "      print(\"Stack is empty\")\n",
        "      return\n",
        "    else:\n",
        "      self.items.pop()\n",
        "      return"
      ],
      "metadata": {
        "id": "wfL2EZ4EzvUI"
      },
      "execution_count": 19,
      "outputs": []
    },
    {
      "cell_type": "code",
      "source": [
        "stack = Stack()"
      ],
      "metadata": {
        "id": "1i31STL4jOZc"
      },
      "execution_count": 20,
      "outputs": []
    },
    {
      "cell_type": "code",
      "source": [
        "stack.push(1)\n",
        "stack.push(2)\n",
        "stack.push(3)\n"
      ],
      "metadata": {
        "id": "TKdQ9WcYjhk6"
      },
      "execution_count": 21,
      "outputs": []
    },
    {
      "cell_type": "code",
      "source": [
        "print(stack.items)"
      ],
      "metadata": {
        "colab": {
          "base_uri": "https://localhost:8080/"
        },
        "id": "hH6E1lS6kQI1",
        "outputId": "50ec4c0a-e546-460c-bc53-d33ec8727fbe"
      },
      "execution_count": 23,
      "outputs": [
        {
          "output_type": "stream",
          "name": "stdout",
          "text": [
            "[1, 2, 3]\n"
          ]
        }
      ]
    },
    {
      "cell_type": "code",
      "source": [
        "stack.pop()\n",
        "print(stack.items)"
      ],
      "metadata": {
        "colab": {
          "base_uri": "https://localhost:8080/"
        },
        "id": "g3OmwD6YkXwg",
        "outputId": "1444f539-a5ec-4ea9-c3dd-d9ea784e25b3"
      },
      "execution_count": 24,
      "outputs": [
        {
          "output_type": "stream",
          "name": "stdout",
          "text": [
            "[1, 2]\n"
          ]
        }
      ]
    },
    {
      "cell_type": "code",
      "source": [
        "stack.pop()\n",
        "print(stack.items)"
      ],
      "metadata": {
        "colab": {
          "base_uri": "https://localhost:8080/"
        },
        "id": "PA70UGMhk6ax",
        "outputId": "979c7991-3e41-421b-926f-637a49f7406e"
      },
      "execution_count": 25,
      "outputs": [
        {
          "output_type": "stream",
          "name": "stdout",
          "text": [
            "[1]\n"
          ]
        }
      ]
    },
    {
      "cell_type": "code",
      "source": [
        "stack.pop()"
      ],
      "metadata": {
        "colab": {
          "base_uri": "https://localhost:8080/"
        },
        "id": "OZlXtgA5k_JX",
        "outputId": "9ee67c8d-76ce-4373-d260-030f4c95779e"
      },
      "execution_count": 27,
      "outputs": [
        {
          "output_type": "stream",
          "name": "stdout",
          "text": [
            "Stack is empty\n"
          ]
        }
      ]
    },
    {
      "cell_type": "code",
      "source": [
        "stack.pop()\n",
        "print(stack.items)"
      ],
      "metadata": {
        "colab": {
          "base_uri": "https://localhost:8080/"
        },
        "id": "peaCq_jLlC-n",
        "outputId": "861d2c5e-e133-4072-bb10-ce97f1fe8fe8"
      },
      "execution_count": 28,
      "outputs": [
        {
          "output_type": "stream",
          "name": "stdout",
          "text": [
            "Stack is empty\n",
            "[]\n"
          ]
        }
      ]
    },
    {
      "cell_type": "code",
      "source": [
        "#Create a class Library with a method to add books and a method to search for a book by title.\n",
        "\n",
        "class Library:\n",
        "  def __init__(self):\n",
        "    self.books = []\n",
        "\n",
        "  def add_books(self,title):\n",
        "    self.books.append(title)\n",
        "\n",
        "  def search_book(self,title):\n",
        "    for book in self.books:\n",
        "      if book == title:\n",
        "       print(\"Book Found!\")\n",
        "       return book\n",
        "    else:\n",
        "      print(\"Book Not Found\")\n",
        "      return None"
      ],
      "metadata": {
        "id": "tN4rFDQIlNN8"
      },
      "execution_count": 50,
      "outputs": []
    },
    {
      "cell_type": "code",
      "source": [
        "Book = Library()"
      ],
      "metadata": {
        "id": "97HJRxk9qC7U"
      },
      "execution_count": 53,
      "outputs": []
    },
    {
      "cell_type": "code",
      "source": [
        "Book.add_books(\"The Alchemist\")\n",
        "Book.add_books(\"The Da Vinci Code\")\n",
        "Book.add_books(\"The Hunger Games\")\n",
        "print(Book.books)"
      ],
      "metadata": {
        "colab": {
          "base_uri": "https://localhost:8080/"
        },
        "id": "z3OHcr5cnYJW",
        "outputId": "446c6279-7bc6-4904-81fb-6ab7b4a88ea4"
      },
      "execution_count": 54,
      "outputs": [
        {
          "output_type": "stream",
          "name": "stdout",
          "text": [
            "['The Alchemist', 'The Da Vinci Code', 'The Hunger Games']\n"
          ]
        }
      ]
    },
    {
      "cell_type": "code",
      "source": [
        "Book.search_book(\"The Da Vinci Code\")"
      ],
      "metadata": {
        "colab": {
          "base_uri": "https://localhost:8080/",
          "height": 72
        },
        "id": "7LnVRTyOqOl6",
        "outputId": "c422f8cb-bfdd-43a5-ee0a-eac613d2101d"
      },
      "execution_count": 55,
      "outputs": [
        {
          "output_type": "stream",
          "name": "stdout",
          "text": [
            "Book Found!\n"
          ]
        },
        {
          "output_type": "execute_result",
          "data": {
            "text/plain": [
              "'The Da Vinci Code'"
            ],
            "application/vnd.google.colaboratory.intrinsic+json": {
              "type": "string"
            }
          },
          "metadata": {},
          "execution_count": 55
        }
      ]
    },
    {
      "cell_type": "code",
      "source": [
        "#Write a class Contact with attributes name, phone, and email. Implement methods to update contact details.\n",
        "\n",
        "class Contact:\n",
        "  def __init__(self,name,phone,email):\n",
        "    self.name = name\n",
        "    self.phone = phone\n",
        "    self.email = email\n",
        "\n",
        "  def update_details(self,new_phone,new_email):\n",
        "    self.phone = new_phone\n",
        "    self.email = new_email\n",
        "    print(f\"Name: {self.name}\")\n",
        "    print(f\"Phone: {self.phone}\")\n",
        "    print(f\"Email: {self.email}\")\n",
        ""
      ],
      "metadata": {
        "id": "zgzGnM19qWME"
      },
      "execution_count": 56,
      "outputs": []
    },
    {
      "cell_type": "code",
      "source": [
        "person = Contact(\"ABC\", 1234567890, \"abc.mnet@gmail.com\")"
      ],
      "metadata": {
        "id": "gH9q1Ah1rdGM"
      },
      "execution_count": 58,
      "outputs": []
    },
    {
      "cell_type": "code",
      "source": [
        "person.update_details(9876543210,\"xyz.mnet@gmail.com\")"
      ],
      "metadata": {
        "colab": {
          "base_uri": "https://localhost:8080/"
        },
        "id": "mSBH3ccXr1_z",
        "outputId": "cb2ad736-79e0-48b5-8b33-607cacdb3107"
      },
      "execution_count": 61,
      "outputs": [
        {
          "output_type": "stream",
          "name": "stdout",
          "text": [
            "Name: ABC\n",
            "Phone: 9876543210\n",
            "Email: xyz.mnet@gmail.com\n"
          ]
        }
      ]
    },
    {
      "cell_type": "code",
      "source": [],
      "metadata": {
        "id": "UIynhC8CsQKe"
      },
      "execution_count": null,
      "outputs": []
    }
  ]
}