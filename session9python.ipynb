{
  "nbformat": 4,
  "nbformat_minor": 0,
  "metadata": {
    "colab": {
      "provenance": [],
      "authorship_tag": "ABX9TyObB9ZHWymUpU4IVdfjg6DO",
      "include_colab_link": true
    },
    "kernelspec": {
      "name": "python3",
      "display_name": "Python 3"
    },
    "language_info": {
      "name": "python"
    }
  },
  "cells": [
    {
      "cell_type": "markdown",
      "metadata": {
        "id": "view-in-github",
        "colab_type": "text"
      },
      "source": [
        "<a href=\"https://colab.research.google.com/github/priyatanwar018/python-practicals/blob/main/session9python.ipynb\" target=\"_parent\"><img src=\"https://colab.research.google.com/assets/colab-badge.svg\" alt=\"Open In Colab\"/></a>"
      ]
    },
    {
      "cell_type": "code",
      "execution_count": null,
      "metadata": {
        "id": "GqDo_H_esn5z"
      },
      "outputs": [],
      "source": [
        "#while loop\n",
        "'''syntax\n",
        "while (<condition>):\n",
        "  operation to be performed\n",
        "'''"
      ]
    },
    {
      "cell_type": "code",
      "source": [
        "i = 0\n",
        "while i<5:\n",
        "  print(i)\n",
        "  i+=1"
      ],
      "metadata": {
        "colab": {
          "base_uri": "https://localhost:8080/"
        },
        "id": "xVMCCXmgtCQP",
        "outputId": "0dfc9557-c42f-4cdd-f9ce-d683378405af"
      },
      "execution_count": 1,
      "outputs": [
        {
          "output_type": "stream",
          "name": "stdout",
          "text": [
            "0\n",
            "1\n",
            "2\n",
            "3\n",
            "4\n"
          ]
        }
      ]
    },
    {
      "cell_type": "code",
      "source": [
        "y = 5\n",
        "while y>=0:\n",
        "  print(y)\n",
        "  y-=1"
      ],
      "metadata": {
        "colab": {
          "base_uri": "https://localhost:8080/"
        },
        "id": "iY_UftpStKLc",
        "outputId": "7e673a8f-893e-430d-f4f7-aa0c4a839300"
      },
      "execution_count": 4,
      "outputs": [
        {
          "output_type": "stream",
          "name": "stdout",
          "text": [
            "5\n",
            "4\n",
            "3\n",
            "2\n",
            "1\n",
            "0\n"
          ]
        }
      ]
    },
    {
      "cell_type": "code",
      "source": [
        "lst1 = [1,2,3,4,5]\n",
        "length = len(lst1)\n",
        "while length>0:\n",
        "  print(lst1[length-1])\n",
        "  length-=1"
      ],
      "metadata": {
        "colab": {
          "base_uri": "https://localhost:8080/"
        },
        "id": "VXCQN7IftbTI",
        "outputId": "b7d19fe3-7eda-4305-a635-f136face5bea"
      },
      "execution_count": 6,
      "outputs": [
        {
          "output_type": "stream",
          "name": "stdout",
          "text": [
            "5\n",
            "4\n",
            "3\n",
            "2\n",
            "1\n",
            "5\n",
            "4\n",
            "3\n",
            "2\n",
            "1\n"
          ]
        }
      ]
    },
    {
      "cell_type": "code",
      "source": [
        "num = 0\n",
        "while num<=20:\n",
        "  if num%2 == 0:\n",
        "    print(num)\n",
        "  num+=1"
      ],
      "metadata": {
        "colab": {
          "base_uri": "https://localhost:8080/"
        },
        "id": "4Ijwkzsst-YY",
        "outputId": "fa1a36e9-637a-426c-d033-b35aed172e10"
      },
      "execution_count": 9,
      "outputs": [
        {
          "output_type": "stream",
          "name": "stdout",
          "text": [
            "0\n",
            "2\n",
            "4\n",
            "6\n",
            "8\n",
            "10\n",
            "12\n",
            "14\n",
            "16\n",
            "18\n",
            "20\n"
          ]
        }
      ]
    },
    {
      "cell_type": "code",
      "source": [
        "'''if (<condition>):\n",
        "code to be executed\n",
        "elif(<condition>):\n",
        "code to be executed\n",
        "else:\n",
        "code to be executed'''"
      ],
      "metadata": {
        "id": "-w13luwqu9th"
      },
      "execution_count": null,
      "outputs": []
    },
    {
      "cell_type": "code",
      "source": [
        "#user input\n",
        "a = int(input(\"enter number 1: \"))\n",
        "b = int(input(\"enter number 2: \"))\n",
        "sum = a + b\n",
        "print(sum)\n"
      ],
      "metadata": {
        "colab": {
          "base_uri": "https://localhost:8080/"
        },
        "id": "xpvzsHACxBWB",
        "outputId": "827fea6a-ae6d-486a-a128-a666beee173b"
      },
      "execution_count": 11,
      "outputs": [
        {
          "output_type": "stream",
          "name": "stdout",
          "text": [
            "enter number 1: 4\n",
            "enter number 2: 6\n",
            "10\n"
          ]
        }
      ]
    },
    {
      "cell_type": "code",
      "source": [
        " #program to print sum of natural numbers from 1 to 10\n",
        " sum = 0\n",
        " for n in range(1,8):\n",
        "  print(f\"Sum is: {sum}\")\n",
        "  sum+=n"
      ],
      "metadata": {
        "colab": {
          "base_uri": "https://localhost:8080/"
        },
        "id": "vUDex-z2xlRm",
        "outputId": "de18eb48-36b1-4913-fd22-d4c5e0cef497"
      },
      "execution_count": 17,
      "outputs": [
        {
          "output_type": "stream",
          "name": "stdout",
          "text": [
            "Sum is: 0\n",
            "Sum is: 1\n",
            "Sum is: 3\n",
            "Sum is: 6\n",
            "Sum is: 10\n",
            "Sum is: 15\n",
            "Sum is: 21\n"
          ]
        }
      ]
    },
    {
      "cell_type": "code",
      "source": [
        "\n",
        "#program to input a number and check if it's a prime number or not\n",
        "num = int(input(\"enter a number: \"))\n",
        "limit = int(num/2)+1\n",
        "for i in range(2,limit):\n",
        "  rem = num%i\n",
        "  if rem == 0:\n",
        "    print(f\"{num} is not a prime number\")\n",
        "    break\n",
        "  else:\n",
        "    print(f\"{num} is a prime number\")"
      ],
      "metadata": {
        "colab": {
          "base_uri": "https://localhost:8080/"
        },
        "id": "g3ts_Pi00UeN",
        "outputId": "02cc401c-72f9-4785-9a08-468b013df1c1"
      },
      "execution_count": 18,
      "outputs": [
        {
          "output_type": "stream",
          "name": "stdout",
          "text": [
            "enter a number: 23\n",
            "23 is a prime number\n",
            "23 is a prime number\n",
            "23 is a prime number\n",
            "23 is a prime number\n",
            "23 is a prime number\n",
            "23 is a prime number\n",
            "23 is a prime number\n",
            "23 is a prime number\n",
            "23 is a prime number\n",
            "23 is a prime number\n"
          ]
        }
      ]
    },
    {
      "cell_type": "code",
      "source": [],
      "metadata": {
        "id": "H8c-P93-2MqM"
      },
      "execution_count": null,
      "outputs": []
    }
  ]
}